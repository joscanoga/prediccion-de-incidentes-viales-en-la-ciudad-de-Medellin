{
 "cells": [
  {
   "cell_type": "markdown",
   "id": "e31f22a6",
   "metadata": {},
   "source": [
    "\n",
    "# prediccion de incidentes viales en la ciudad de Medellin"
   ]
  },
  {
   "cell_type": "markdown",
   "id": "6ebed440",
   "metadata": {},
   "source": [
    "## importacion librerias necesarias"
   ]
  },
  {
   "cell_type": "code",
   "execution_count": 1,
   "id": "9a0ff55a",
   "metadata": {},
   "outputs": [],
   "source": [
    "import pandas as pd\n",
    "import re"
   ]
  },
  {
   "cell_type": "markdown",
   "id": "0fd8d3cc",
   "metadata": {},
   "source": [
    "## lectura y exploracion de los datos"
   ]
  },
  {
   "cell_type": "code",
   "execution_count": 2,
   "id": "d3bdd6c7",
   "metadata": {},
   "outputs": [
    {
     "name": "stdout",
     "output_type": "stream",
     "text": [
      "    AÑO  CBML CLASE_ACCIDENTE      DIRECCION       DIRECCION ENCASILLADA  \\\n",
      "0  2015  1013  Caida Ocupante    CR 46 CL 43    CR  046   043  000 00000   \n",
      "1  2015  1020          Choque  CR 43 A CL 29  CR  043 A   029  000 00000   \n",
      "2  2015  0205            Otro    CR 46 CL 37    CR  046   037  000 00000   \n",
      "3  2015  0101       Atropello   CR 34 CL 112    CR  034   112  000 00000   \n",
      "4  2015  1504          Choque    CR 50 CL 14    CR  050   014  000 00000   \n",
      "\n",
      "         DISEÑO  EXPEDIENTE      FECHA_ACCIDENTE          FECHA_ACCIDENTES  \\\n",
      "0  Tramo de via  A000259731  21/10/2015 05:58:00  2015-10-21T10:58:00.000Z   \n",
      "1  Tramo de via  A000261725  05/11/2015 03:00:00  2015-11-05T08:00:00.000Z   \n",
      "2  Tramo de via  A000259739  21/10/2015 07:40:00  2015-10-21T12:40:00.000Z   \n",
      "3  Tramo de via  A000259752  21/10/2015 12:00:00  2015-10-21T17:00:00.000Z   \n",
      "4  Tramo de via  A000259949  03/11/2015 06:16:00  2015-11-03T11:16:00.000Z   \n",
      "\n",
      "  GRAVEDAD_ACCIDENTE  MES NRO_RADICADO NUMCOMUNA                     BARRIO  \\\n",
      "0        Con heridos   10      1508668        10               Barrio Colón   \n",
      "1         Solo daños   11      1510621        10                  San Diego   \n",
      "2        Con heridos   10      1508691        02                 La Francia   \n",
      "3        Con heridos   10      1508694        01  Santo Domingo Savio No. 1   \n",
      "4         Solo daños   11      1510634        15                   Santa Fé   \n",
      "\n",
      "          COMUNA                         LOCATION          X           Y  \n",
      "0  La Candelaria  [-75.5688011014, 6.24312304123]  834949.69  1182357.34  \n",
      "1  La Candelaria  [-75.5693883283, 6.22870030622]  834880.17  1180762.02  \n",
      "2     Santa Cruz  [-75.5503911403, 6.29869502502]  837004.94  1188499.17  \n",
      "3        Popular  [-75.5442195069, 6.30019383306]  837688.53  1188663.05  \n",
      "4       Guayabal   [-75.578180998, 6.21699243701]  833903.11  1179469.60  \n"
     ]
    },
    {
     "name": "stderr",
     "output_type": "stream",
     "text": [
      "C:\\Users\\johan\\anaconda3\\envs\\tensorflow_gpu\\lib\\site-packages\\IPython\\core\\interactiveshell.py:3552: DtypeWarning: Columns (0,11) have mixed types.Specify dtype option on import or set low_memory=False.\n",
      "  exec(code_obj, self.user_global_ns, self.user_ns)\n"
     ]
    }
   ],
   "source": [
    "#lectura dataframe saltando las filas malas\n",
    "df=pd.read_csv(\"incidentes_viales.csv\",on_bad_lines='skip',index_col=False,sep=\";\",encoding=\"UTF-8\")\n",
    "print(df.head())"
   ]
  },
  {
   "cell_type": "code",
   "execution_count": 3,
   "id": "e174dd0b",
   "metadata": {},
   "outputs": [
    {
     "name": "stdout",
     "output_type": "stream",
     "text": [
      "Index(['AÑO', 'CBML', 'CLASE_ACCIDENTE', 'DIRECCION', 'DIRECCION ENCASILLADA',\n",
      "       'DISEÑO', 'EXPEDIENTE', 'FECHA_ACCIDENTE', 'FECHA_ACCIDENTES',\n",
      "       'GRAVEDAD_ACCIDENTE', 'MES', 'NRO_RADICADO', 'NUMCOMUNA', 'BARRIO',\n",
      "       'COMUNA', 'LOCATION', 'X', 'Y'],\n",
      "      dtype='object')\n",
      "numero de columnas iniciales  18\n",
      "numero de filas iniciales  270765\n"
     ]
    }
   ],
   "source": [
    "#revisamos las columnas\n",
    "print(df.columns)\n",
    "print(\"numero de columnas iniciales \",len(df.columns))\n",
    "print(\"numero de filas iniciales \",df.shape[0])\n"
   ]
  },
  {
   "cell_type": "markdown",
   "id": "97b29654",
   "metadata": {},
   "source": [
    "## limpieza de datos"
   ]
  },
  {
   "cell_type": "code",
   "execution_count": 4,
   "id": "9dd5ad6b",
   "metadata": {},
   "outputs": [
    {
     "name": "stdout",
     "output_type": "stream",
     "text": [
      "250686\n"
     ]
    }
   ],
   "source": [
    "#eliminacion de datos con nulos\n",
    "df.dropna(inplace=True)\n",
    "#eliminar datos duplicados\n",
    "df.drop_duplicates(inplace=True)\n",
    "print(df.shape[0])"
   ]
  },
  {
   "cell_type": "code",
   "execution_count": 5,
   "id": "0c4dbcbc",
   "metadata": {},
   "outputs": [
    {
     "name": "stdout",
     "output_type": "stream",
     "text": [
      "['2015' '2014' '2016' '2017' '2018' '2019' '2020']\n"
     ]
    }
   ],
   "source": [
    "#AÑO-Año de ocurrencia del incidente\n",
    "df[\"AÑO\"]=df[\"AÑO\"].apply(lambda x : re.findall(r\"[0-9]{4}\",str(x))[0])\n",
    "print(df[\"AÑO\"].unique())"
   ]
  },
  {
   "cell_type": "code",
   "execution_count": 6,
   "id": "90e158ff",
   "metadata": {},
   "outputs": [
    {
     "name": "stdout",
     "output_type": "stream",
     "text": [
      "521\n"
     ]
    }
   ],
   "source": [
    "#CBML-Codigo catastral que corresponde al codigo comuna, barrio, manzana, lote catastral de un predio.\n",
    "print(len(df[\"CBML\"].unique()))"
   ]
  },
  {
   "cell_type": "code",
   "execution_count": 7,
   "id": "07fc0e9b",
   "metadata": {},
   "outputs": [
    {
     "name": "stdout",
     "output_type": "stream",
     "text": [
      "['caida ocupante' 'choque' 'otro' 'atropello' 'volcamiento' 'incendio']\n"
     ]
    }
   ],
   "source": [
    "#CLASE_ACCIDENTE-Clasificación del IPAT sobre la clase de accidente de transito: choque, atropello, volcamiento,\n",
    "#caida de ocupante, incendio, u otro (que no corresponde a las anteriores 5 clasificaciones, p. ej: sumersión)\n",
    "df[\"CLASE_ACCIDENTE\"]=df[\"CLASE_ACCIDENTE\"].apply(lambda x : str(x).replace(\"Caída de Ocupante\",\"Caida Ocupante\").lower())\n",
    "print((df[\"CLASE_ACCIDENTE\"].unique()))"
   ]
  },
  {
   "cell_type": "code",
   "execution_count": 8,
   "id": "3340b229",
   "metadata": {},
   "outputs": [
    {
     "name": "stdout",
     "output_type": "stream",
     "text": [
      "25557         CR 48 CL 89\n",
      "75926       CL 50 CR 56 B\n",
      "131868        CL 35 CR 32\n",
      "251491       CR 124 CL 55\n",
      "112577        CL 48 CR 80\n",
      "258404        CR 28 CL 69\n",
      "144031        CL 47 CR 43\n",
      "179491        CR 61 CL 57\n",
      "152461        CL 98 CR 73\n",
      "92543     DG 74 B CL 32 B\n",
      "Name: DIRECCION, dtype: object\n"
     ]
    }
   ],
   "source": [
    "#DIRECCION-Dirección donde ocurrió el incidente\n",
    "##aparentemente se encuentra ya formateada\n",
    "print((df[\"DIRECCION\"].sample(10)))"
   ]
  },
  {
   "cell_type": "code",
   "execution_count": 9,
   "id": "03b23aa3",
   "metadata": {},
   "outputs": [
    {
     "name": "stdout",
     "output_type": "stream",
     "text": [
      "232429      CL  029   045  000 00000\n",
      "93779       CL  037   046  000 00000\n",
      "138997      CR  055   049  000 00000\n",
      "181238      CR  050   008  000 00000\n",
      "58896       CR  036   043  000 00000\n",
      "237942      CL  072   040  000 00000\n",
      "14616       CR  065   094  000 00000\n",
      "99031       CR  049   010  000 00000\n",
      "41138     CR  065 D   043  000 00000\n",
      "263314      CR  074   048  000 00000\n",
      "Name: DIRECCION ENCASILLADA, dtype: object\n"
     ]
    }
   ],
   "source": [
    "#DIRECCION ENCASILLADA-\tDirección encasillada que entrega el geocodificador\n",
    "##aparentemente se encuentra ya formateada\n",
    "##variable con poca informacion util dada la variable anterior--escoger una de las 2\n",
    "print((df[\"DIRECCION ENCASILLADA\"].sample(10)))"
   ]
  },
  {
   "cell_type": "code",
   "execution_count": 10,
   "id": "7ce8f619",
   "metadata": {},
   "outputs": [
    {
     "name": "stdout",
     "output_type": "stream",
     "text": [
      "['tramo de via' 'interseccion' 'glorieta' 'lote o predio' 'paso a nivel'\n",
      " 'puente' 'paso elevado' 'ciclo ruta' 'paso inferior' 'via peatonal'\n",
      " 'pontón' 'tunel']\n"
     ]
    }
   ],
   "source": [
    "#DISENO-Sitio de la vía donde ocurrió el accidente: Cicloruta, Glorieta, Interseccion, Lote o Predio, Paso a Nivel, Paso Elevado,\n",
    "#Paso Inferior, Pontón, Puente, Tramo de via, Tunel, Via peatonal\n",
    "df[\"DISEÑO\"]=df[\"DISEÑO\"].apply(lambda x : str(x).replace(\"Pont\\\\xF3n\",\"Pontón\").lower())\n",
    "print((df[\"DISEÑO\"].unique()))"
   ]
  },
  {
   "cell_type": "code",
   "execution_count": 11,
   "id": "819129be",
   "metadata": {},
   "outputs": [
    {
     "name": "stdout",
     "output_type": "stream",
     "text": [
      "102758    A000109845\n",
      "79681     A000183550\n",
      "219165    A000374115\n",
      "269677    A001160997\n",
      "50083     A000184194\n",
      "267241    A001153525\n",
      "165196    A001001560\n",
      "33503     A000997860\n",
      "22227     A000843188\n",
      "231587    A000311862\n",
      "Name: EXPEDIENTE, dtype: object\n"
     ]
    }
   ],
   "source": [
    "#EXPEDIENTE\n",
    "#Consecutivo que asigna UNE, según el orden de llegada de los expedientes para su diligenciamiento\n",
    "##variable  aprarentemente con poco valor\n",
    "print((df[\"EXPEDIENTE\"].sample(10)))"
   ]
  },
  {
   "cell_type": "code",
   "execution_count": 12,
   "id": "c391cd5b",
   "metadata": {},
   "outputs": [
    {
     "name": "stdout",
     "output_type": "stream",
     "text": [
      "243082   2016-07-12 15:40:00\n",
      "196784   2017-09-06 08:30:00\n",
      "169947   2019-10-06 00:30:00\n",
      "226835   2016-12-06 15:15:00\n",
      "78152    2015-04-13 23:30:00\n",
      "233376   2016-04-08 10:00:00\n",
      "170305   2019-10-13 12:20:00\n",
      "264162   2019-12-28 23:30:00\n",
      "2672     2015-05-01 05:15:00\n",
      "123506   2015-10-29 10:00:00\n",
      "Name: FECHA_ACCIDENTE, dtype: datetime64[ns]\n"
     ]
    }
   ],
   "source": [
    "#FECHA_ACCIDENTE\n",
    "#Fecha del accidente, proviene del IPAT - Informe Policial de accidente de Tránsito\n",
    "df[\"FECHA_ACCIDENTE\"] = pd.to_datetime(df[\"FECHA_ACCIDENTE\"],dayfirst=True)\n",
    "print((df[\"FECHA_ACCIDENTE\"].sample(10)))"
   ]
  },
  {
   "cell_type": "code",
   "execution_count": 13,
   "id": "24aaea57",
   "metadata": {},
   "outputs": [
    {
     "name": "stdout",
     "output_type": "stream",
     "text": [
      "0    2015-10-21T10:58:00.000Z\n",
      "1    2015-11-05T08:00:00.000Z\n",
      "2    2015-10-21T12:40:00.000Z\n",
      "3    2015-10-21T17:00:00.000Z\n",
      "4    2015-11-03T11:16:00.000Z\n",
      "5    2015-11-05T09:30:00.000Z\n",
      "6    2015-10-18T09:40:00.000Z\n",
      "7    2015-11-04T09:46:00.000Z\n",
      "8    2015-10-21T12:00:00.000Z\n",
      "9    2015-11-05T12:00:00.000Z\n",
      "Name: FECHA_ACCIDENTES, dtype: object\n"
     ]
    }
   ],
   "source": [
    "#FECHA_ACCIDENTES\n",
    "#Fecha de los accidente (formato YYYY-MM-DD hh:mi:ss), proviene del IPAT - Informe Policial de accidentes de Tránsito\n",
    "##veriable redundante con la anterior\n",
    "print((df[\"FECHA_ACCIDENTES\"].head(10)))"
   ]
  },
  {
   "cell_type": "code",
   "execution_count": 14,
   "id": "3f0c26b6",
   "metadata": {},
   "outputs": [
    {
     "name": "stdout",
     "output_type": "stream",
     "text": [
      "['con heridos' 'solo daños' 'con muertos']\n"
     ]
    }
   ],
   "source": [
    "#GRAVEDAD_ACCIDENTE\n",
    "#Clasificación del IPAT - Informe Policial de Accidentes de Tránsito, sobre la gravedad del accidente, corresponde al resultado \n",
    "#más grave presentado en el accidente. Daños materiales \"Sólo daños\", accidente con heridos \"Herido\", accidente con muertos \n",
    "#\"Muerto\". No indica cantidad\n",
    "df[\"GRAVEDAD_ACCIDENTE\"]=df[\"GRAVEDAD_ACCIDENTE\"].apply(lambda x : str(x).replace(\"Solo da\\\\xF1os\",\"Solo daños\").lower())\n",
    "print((df[\"GRAVEDAD_ACCIDENTE\"].unique()))"
   ]
  },
  {
   "cell_type": "code",
   "execution_count": 15,
   "id": "b9e23da5",
   "metadata": {},
   "outputs": [
    {
     "name": "stdout",
     "output_type": "stream",
     "text": [
      "[10 11 12  9  4  3  5  6  7  8  1  2]\n"
     ]
    }
   ],
   "source": [
    "#MES\n",
    "#Mes de ocurrencia del incidente vial\n",
    "print((df[\"MES\"].unique()))"
   ]
  },
  {
   "cell_type": "code",
   "execution_count": 16,
   "id": "9b295969",
   "metadata": {},
   "outputs": [
    {
     "name": "stdout",
     "output_type": "stream",
     "text": [
      "0    1508668\n",
      "1    1510621\n",
      "2    1508691\n",
      "3    1508694\n",
      "4    1510634\n",
      "Name: NRO_RADICADO, dtype: object\n"
     ]
    }
   ],
   "source": [
    "#NRO_RADICADO\n",
    "#Consecutivo que asigna UNE, según el orden de llegada de los expedientes para su diligenciamiento\n",
    "#no tiene mucho valor aparentemente para nuestros fines\n",
    "print((df[\"NRO_RADICADO\"].head()))"
   ]
  },
  {
   "cell_type": "code",
   "execution_count": 17,
   "id": "1f702a6c",
   "metadata": {},
   "outputs": [
    {
     "name": "stdout",
     "output_type": "stream",
     "text": [
      "['10' '02' '01' '15' '14' '11' '07' '06' '04' '09' '05' '80' '13' '08'\n",
      " '16' '03' '12' '70' '60' '90' 'In' 'SN' '0' '50' 'AU' '5' '7' '9' '4' '3'\n",
      " '1' '2' '8' '6' 'Sin Inf']\n"
     ]
    }
   ],
   "source": [
    "#NUMCOMUNA\n",
    "#Numero de la comununa en la que ocurrio incidente vial\n",
    "print(df[\"NUMCOMUNA\"].unique())"
   ]
  },
  {
   "cell_type": "code",
   "execution_count": 18,
   "id": "56a0d5c8",
   "metadata": {},
   "outputs": [
    {
     "name": "stdout",
     "output_type": "stream",
     "text": [
      "489\n",
      "['barrio colon' 'san diego' 'la francia' 'santo domingo savio no. 1'\n",
      " 'santa fe' 'la florida' 'los conquistadores' 'la alpujarra' 'villa nueva'\n",
      " 'facultad de minas u. nacional' 'la esperanza' 'perpetuo socorro'\n",
      " 'campo valdes no. 1' 'miraflores' 'oleoducto' 'terminal de transporte'\n",
      " 'gerona' 'u.d. atanasio girardot' 'alejandro echavarria'\n",
      " 'cabecera san antonio de prado' 'manila' 'los balsos no.2' 'moravia'\n",
      " 'tenche' 'universidad nacional' 'los colores' 'caribe'\n",
      " 'juan xxiii la quiebra' 'belalcazar' 'santa cruz' 'sucre' 'la candelaria'\n",
      " 'el estadio' 'suramericana' 'la gloria' 'centro administrativo'\n",
      " 'las estancias' 'aures no. 2' 'los angeles' 'castilla' 'la salle'\n",
      " 'la america' 'picacho' 'bosques de san pablo' 'la aguacatala'\n",
      " 'playon de los comuneros' 'estacion villa' 'la colina' 'popular'\n",
      " 'villa del socorro' 'cucaracho' 'santa maria de los angeles'\n",
      " 'el chagualo' 'la mansion' 'san benito' 'la castellana' 'jesus nazareno'\n",
      " 'loreto' 'asomadera no. 1' 'el salvador' 'cristo rey' 'moscu no. 2'\n",
      " 'la mota' 'villa hermosa' 'cordoba' 'campo amor' 'naranjal' 'san isidro'\n",
      " 'boyaca' 'belen' 'miranda' 'las palmas' 'patio bonito' 'el castillo'\n",
      " 'guayabal' 'girardot' 'campo valdes no. 2' 'doce de octubre no.1'\n",
      " 'el raizal' 'rosales' 'san martin de porres' 'berlin' 'kennedy'\n",
      " 'el rincon' 'carlos e. restrepo' 'moscu no. 1' 'altavista sector central'\n",
      " 'san javier no.1' 'bolivariana' 'prado' 'boston' 'veinte de julio'\n",
      " 'alfonso lopez' 'hector abad gomez' 'parque juan pablo ii' 'lorena'\n",
      " 'los alpes' 'parque norte' 'la ladera' 'trinidad' 'castropol' 'laureles'\n",
      " 'la piñuela' 'aranjuez' 'robledo' 'buenos aires' 'san german'\n",
      " 'bombona no. 1' 'area de expansion pajarito' 'santander' 'simon bolivar'\n",
      " 'corazon de jesus' 'francisco antonio zea' 'cuarta brigada' 'los mangos'\n",
      " 'versalles no. 2' 'calle nueva' 'fatima' 'asomadera no. 2' 'guayaquil'\n",
      " 'villa carlota' 'la pilarica' 'los balsos no.1' 'la esperanza no. 2'\n",
      " 'san pedro' 'manrique oriental' 'cerro nutibara'\n",
      " 'nueva villa de la iguana' 'sevilla' 'manrique central no. 1'\n",
      " 'tricentenario' 'el progreso' 'campo alegre' 'el pomar' 'florida nueva'\n",
      " 'barrio caicedo' 'barrio colombia' 'cabecera urbana san cristobal'\n",
      " 'los cerros el vergel' 'astorga' 'santa monica' 'la isla' 'san bernardo'\n",
      " 'altamira' 'san javier no.2' 'la floresta' 'aures no.1' 'cataluña'\n",
      " 'antonio nariño' 'lopez de mesa' 'granizal' 'las lomas no.1'\n",
      " 'los alcazares' 'el velodromo' 'nueva villa de aburra' 'villa flora'\n",
      " 'las acacias' 'llanaditas' 'florencia' 'las esmeraldas' 'los pinos'\n",
      " 'el danubio' 'las granjas' 'el diamante' 'lalinde' 'el diamante no. 2'\n",
      " 'ferrini' 'santa ines' 'palermo' 'la cruz' 'olaya herrera' 'belencito'\n",
      " 'los naranjos' 'altavista' 'manrique central no. 2'\n",
      " 'universidad de antioquia' 'pedregal' 'las brisas' 'el salado' 'toscana'\n",
      " 'calasanz' 'el tesoro' 'brasilia' 'bermejal-los alamos' 'el poblado'\n",
      " 'villa guadalupe' 'la frontera' 'enciso' 'villatina' 'aguas frias'\n",
      " 'monteclaro' 'maria cano carambolas' 'cementerio universal'\n",
      " 'campo valdes no.2' 'metropolitano' 'versalles no. 1' 'la libertad'\n",
      " 'la rosa' 'san miguel' 'inst' 'suburbano mirador del poblado' 'granada'\n",
      " 'alejandria' 'loma de los bernal' 'doce de octubre no.2' 'la hondonada'\n",
      " 'santa margarita' 'san joaquin' 'tejelo' 'san lucas' 'miravalle'\n",
      " 'altos del poblado' 'manrique central no.2' 'el corazon'\n",
      " 'bello horizonte' 'la palma' 'barrio de jesus' 'diego echavarria'\n",
      " 'el pinal' 'las playas' 'sin nombre' 'la oculta' 'la pradera'\n",
      " 'el triunfo' 'las violetas' 'mirador del doce' 'san pablo'\n",
      " 'las lomas no.2' 'santa lucia' 'suburbano pedregal alto'\n",
      " 'asomadera no. 3' 'bombona no.1' 'betania'\n",
      " 'facultad veterinaria y zootecnia u.de.a.' '0' 'andalucia' 'villa niza'\n",
      " 'carpinelo' 'el progreso no.2' 'santa teresita' 'suburbano altavista'\n",
      " 'suburbano la loma' 'b. cerro  el volador' 'aldea pablo vi'\n",
      " 'bombona no. 2' 'barrio cristobal' 'la loma oriental' 'villa liliam'\n",
      " 'villa turbay' 'calasanz parte alta' 'el nogal-los almendros' 'u.p.b.'\n",
      " 'oriente' 'santa rosa de lima' 'santo domingo savio no. 2' 'la milagrosa'\n",
      " 'blanquizal' 'plaza de ferias' 'area de expansion san antonio de prado'\n",
      " 'buga patio bonito' 'pajarito' 'hospital san vicente de paul'\n",
      " 'fuente clara' 'jardin botanico' 'la verde' 'el pesebre' 'el compromiso'\n",
      " 'el rodeo' 'nuevos conquistadores' 'suburbano travesias' 'palenque'\n",
      " 'trece de noviembre' 'san antonio' 'manrique central no.1'\n",
      " 'juan pablo ii' 'area de expansion altos de calasanz' 'las mercedes'\n",
      " 'el socorro' 'pedregal bajo' 'eduardo santos' 'pedregal alto' 'picachito'\n",
      " 'la avanzada' 'suburbano palmitas' 'ocho de marzo' 'las independencias'\n",
      " 'pablo vi' 'area de expansion altavista' 'suburbano el plan'\n",
      " 'versalles no.1' 'piedras blancas' 'el picacho' 'san jose la cima no. 1'\n",
      " '6001' 'auc1' 'suburbano el tesoro' 'la loma de los bernal' 'la sierra'\n",
      " 'suburbano el llano' 'santo domingo savio no.1' 'volcana guayabal'\n",
      " 'el corazon el morro' '7001' 'san jose la cima no.2' 'yolombo'\n",
      " 'aures no.2' 'barrios de jesus' 'batallon girardot'\n",
      " 'palmitas sector central' 'area de expansion belen rincon' 'el vergel'\n",
      " 'suburbano palma patio' 'san jose de la montaña' 'suburb el plan'\n",
      " 'asomadera no.1' 'piedras blancas represa' 'la loma' 'potrerito'\n",
      " 'moscu no.2' 'suburbano la cuchilla' '1018' '1507' '1504' '1408' '1011'\n",
      " '1419' '1503' '0907' 'sin inf' '1422' '1020' '0408' '1510'\n",
      " 'santa elena sector central' '1114' '0205' '1423' '0402' '0103' '0717'\n",
      " '0505' '1019' '1001' '0509' '0301' '1101' '0303' '0409' '0811' '0712'\n",
      " '1603' '1003' '0307' '1204' '0208' '0809' '0306' '0906' '1007' '0413'\n",
      " 'suburbano aguas frias' '1103' '1108' '1511' '0109' '1206' '0914' '0711'\n",
      " 'san jose del manzanillo' '1613' '0813' '0514' '1611' '1306' '0819'\n",
      " '7002' 'suburbano la palma-el patio' '1012' 'versalles no.2' 'media luna'\n",
      " 'piedras blancas - matasano' 'suburbano potrerito' 'villa lilliam' '9004'\n",
      " 'el plan' 'el uvito' '9086' 'el llano se' 'yarumalito' '0312' '1102'\n",
      " '1202' '0302' '1105' '1205' 'el astillero' '0310' '0309' '1211' '0803'\n",
      " '0105' '0606' '0716' '1605' '0211' '5002' 'suburbano piedra gorda' '0912'\n",
      " 'travesias' 'moscu no.1' 'auc2' '0903' '1004' '1015' '1620' '1612' '1008'\n",
      " '0815' '0304' '0202' 'boqueron']\n"
     ]
    }
   ],
   "source": [
    "#BARRIO\n",
    "print(len(df[\"BARRIO\"].unique()))\n",
    "#Barrio de ocurrencia del incidente vial\n",
    "#ó por o\n",
    "df[\"BARRIO\"]=df[\"BARRIO\"].apply(lambda x : str(x).lower().replace(\"\\\\xf3\",\"o\").replace(\"ó\",\"o\"))\n",
    "#é por e \n",
    "df[\"BARRIO\"]=df[\"BARRIO\"].apply(lambda x : str(x).replace(\"\\\\xe9\",\"e\").replace(\"é\",\"e\"))\n",
    "#á por a \n",
    "df[\"BARRIO\"]=df[\"BARRIO\"].apply(lambda x : str(x).replace(\"\\\\xc1\",\"a\").replace(\"\\\\xe1\",\"a\").replace(\"á\",\"a\"))\n",
    "#ñ\n",
    "df[\"BARRIO\"]=df[\"BARRIO\"].apply(lambda x : str(x).replace(\"\\\\xf1\",\"ñ\"))\n",
    "#\\\\xed í por i\n",
    "df[\"BARRIO\"]=df[\"BARRIO\"].apply(lambda x : str(x).replace(\"\\\\xed\",\"i\").replace(\"í\",\"i\"))\n",
    "#\\\\xfa ú por u\n",
    "df[\"BARRIO\"]=df[\"BARRIO\"].apply(lambda x : str(x).replace(\"\\\\xfa\",\"u\").replace(\"ú\",\"u\"))\n",
    "print((df[\"BARRIO\"].unique()))"
   ]
  },
  {
   "cell_type": "code",
   "execution_count": 19,
   "id": "eb1b0bc4",
   "metadata": {},
   "outputs": [
    {
     "name": "stdout",
     "output_type": "stream",
     "text": [
      "['la candelaria' 'santa cruz' 'popular' 'guayabal' 'el poblado'\n",
      " 'laureles estadio' 'robledo' 'doce de octubre' 'aranjuez' 'buenos aires'\n",
      " 'castilla' 'corregimiento de san antonio de prado' 'san javier'\n",
      " 'villa hermosa' 'belen' 'manrique' 'la america'\n",
      " 'corregimiento de altavista' 'corregimiento de san cristobal'\n",
      " 'corregimiento de santa elena' 'in' 'sn'\n",
      " 'corregimiento de san sebastian de palmitas' '0' 'au']\n"
     ]
    }
   ],
   "source": [
    "#COMUNA\n",
    "#Denominación con la cual se identifica cada Comuna o Corregimiento. 01:Popular 02:Santa Cruz 03:Manrique 04:Aranjuez 05:Castilla 06:Doce de Octubre 07:Robledo 08:Villa Hermosa 09:Buenos Aires 10:La Candelaria 11:Laureles - Estadio 12:La América 13:San Javier 14:El Poblado 15:Guayabal 16:Belén 50:San Sebastián de Palmitas 60:San Cristobal 70:Altavista 80:San Antonio de Prado 90:Santa Elena 99:Toda la Ciudad\n",
    "##variable redundante\n",
    "#ó por o\n",
    "df[\"COMUNA\"]=df[\"COMUNA\"].apply(lambda x : str(x).lower().replace(\"\\\\xf3\",\"o\").replace(\"ó\",\"o\"))\n",
    "#á por a \n",
    "df[\"COMUNA\"]=df[\"COMUNA\"].apply(lambda x : str(x).replace(\"\\\\xc1\",\"a\").replace(\"\\\\xe1\",\"a\").replace(\"á\",\"a\"))\n",
    "#é por e \n",
    "df[\"COMUNA\"]=df[\"COMUNA\"].apply(lambda x : str(x).replace(\"\\\\xe9\",\"e\").replace(\"é\",\"e\"))\n",
    "print((df[\"COMUNA\"].unique()))"
   ]
  },
  {
   "cell_type": "code",
   "execution_count": 20,
   "id": "435e3572",
   "metadata": {},
   "outputs": [
    {
     "name": "stdout",
     "output_type": "stream",
     "text": [
      "0    [-75.5688011014, 6.24312304123]\n",
      "1    [-75.5693883283, 6.22870030622]\n",
      "2    [-75.5503911403, 6.29869502502]\n",
      "3    [-75.5442195069, 6.30019383306]\n",
      "4     [-75.578180998, 6.21699243701]\n",
      "5      [-75.561118009, 6.2047775959]\n",
      "6    [-75.5810144962, 6.24576066323]\n",
      "7    [-75.5752597216, 6.24685341912]\n",
      "8    [-75.5624178534, 6.25341454089]\n",
      "9    [-75.5931430393, 6.27330476643]\n",
      "Name: LOCATION, dtype: object\n"
     ]
    }
   ],
   "source": [
    "#LOCATION\n",
    "#Fuente de información con la cual se realizó la geocodificación\n",
    "print((df[\"LOCATION\"].head(10)))"
   ]
  },
  {
   "cell_type": "code",
   "execution_count": 21,
   "id": "42181bd5",
   "metadata": {},
   "outputs": [
    {
     "name": "stdout",
     "output_type": "stream",
     "text": [
      "0    834949.69\n",
      "1    834880.17\n",
      "2    837004.94\n",
      "3    837688.53\n",
      "4    833903.11\n",
      "5    835788.30\n",
      "6    833598.49\n",
      "7    834235.89\n",
      "8    835659.53\n",
      "9    832264.64\n",
      "Name: X, dtype: float64\n"
     ]
    }
   ],
   "source": [
    "#X\n",
    "#Coordenada X en metros del accidente, en sistema de coordenadas MAGNA Medellin Local\n",
    "print(df[\"X\"].head(10))"
   ]
  },
  {
   "cell_type": "code",
   "execution_count": 22,
   "id": "d6db175a",
   "metadata": {},
   "outputs": [
    {
     "name": "stdout",
     "output_type": "stream",
     "text": [
      "0    1182357.34\n",
      "1    1180762.02\n",
      "2    1188499.17\n",
      "3    1188663.05\n",
      "4    1179469.60\n",
      "5    1178113.02\n",
      "6    1182652.97\n",
      "7    1182772.04\n",
      "8    1183493.83\n",
      "9    1185703.90\n",
      "Name: Y, dtype: float64\n"
     ]
    }
   ],
   "source": [
    "#Y\n",
    "#Coordenada Y en metros del accidente, en sistema de coordenadas MAGNA Medellin Local\n",
    "print(df[\"Y\"].head(10))"
   ]
  },
  {
   "cell_type": "code",
   "execution_count": 23,
   "id": "510e71f0",
   "metadata": {},
   "outputs": [],
   "source": [
    "#Eliminar duplicados\n",
    "df.drop_duplicates(inplace=True)\n",
    "#borrar columnas con datos redudantes o poco aportantes\n",
    "df.drop(labels=[\"DIRECCION ENCASILLADA\",\"EXPEDIENTE\",\"FECHA_ACCIDENTES\",\"NRO_RADICADO\",\"COMUNA\"],axis=1,inplace=True)"
   ]
  },
  {
   "cell_type": "code",
   "execution_count": 25,
   "id": "0daf8130",
   "metadata": {},
   "outputs": [],
   "source": [
    "df.to_csv(\"datosLimpios.csv\")\n"
   ]
  },
  {
   "cell_type": "code",
   "execution_count": null,
   "id": "42aadff4",
   "metadata": {},
   "outputs": [],
   "source": []
  }
 ],
 "metadata": {
  "kernelspec": {
   "display_name": "Python 3 (ipykernel)",
   "language": "python",
   "name": "python3"
  },
  "language_info": {
   "codemirror_mode": {
    "name": "ipython",
    "version": 3
   },
   "file_extension": ".py",
   "mimetype": "text/x-python",
   "name": "python",
   "nbconvert_exporter": "python",
   "pygments_lexer": "ipython3",
   "version": "3.7.13"
  }
 },
 "nbformat": 4,
 "nbformat_minor": 5
}
