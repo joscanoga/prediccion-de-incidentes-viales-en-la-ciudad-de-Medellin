{
 "cells": [
  {
   "cell_type": "markdown",
   "id": "e31f22a6",
   "metadata": {},
   "source": [
    "\n",
    "# prediccion de incidentes viales en la ciudad de Medellin"
   ]
  },
  {
   "cell_type": "markdown",
   "id": "6ebed440",
   "metadata": {},
   "source": [
    "## importacion librerias necesarias"
   ]
  },
  {
   "cell_type": "code",
   "execution_count": 1,
   "id": "9a0ff55a",
   "metadata": {},
   "outputs": [],
   "source": [
    "import pandas as pd\n",
    "import re\n",
    "import matplotlib.pyplot as plt\n",
    "import seaborn as sns\n",
    "import numpy as np\n",
    "import tensorflow as tf\n",
    "\n",
    "from tensorflow import keras\n",
    "from tensorflow.keras import layers\n"
   ]
  },
  {
   "cell_type": "markdown",
   "id": "0fd8d3cc",
   "metadata": {},
   "source": [
    "## lectura y exploracion de los datos"
   ]
  },
  {
   "cell_type": "code",
   "execution_count": 2,
   "id": "d3bdd6c7",
   "metadata": {},
   "outputs": [
    {
     "name": "stdout",
     "output_type": "stream",
     "text": [
      "    AÑO  CBML CLASE_ACCIDENTE      DIRECCION       DIRECCION ENCASILLADA  \\\n",
      "0  2015  1013  Caida Ocupante    CR 46 CL 43    CR  046   043  000 00000   \n",
      "1  2015  1020          Choque  CR 43 A CL 29  CR  043 A   029  000 00000   \n",
      "2  2015  0205            Otro    CR 46 CL 37    CR  046   037  000 00000   \n",
      "3  2015  0101       Atropello   CR 34 CL 112    CR  034   112  000 00000   \n",
      "4  2015  1504          Choque    CR 50 CL 14    CR  050   014  000 00000   \n",
      "\n",
      "         DISEÑO  EXPEDIENTE      FECHA_ACCIDENTE          FECHA_ACCIDENTES  \\\n",
      "0  Tramo de via  A000259731  21/10/2015 05:58:00  2015-10-21T10:58:00.000Z   \n",
      "1  Tramo de via  A000261725  05/11/2015 03:00:00  2015-11-05T08:00:00.000Z   \n",
      "2  Tramo de via  A000259739  21/10/2015 07:40:00  2015-10-21T12:40:00.000Z   \n",
      "3  Tramo de via  A000259752  21/10/2015 12:00:00  2015-10-21T17:00:00.000Z   \n",
      "4  Tramo de via  A000259949  03/11/2015 06:16:00  2015-11-03T11:16:00.000Z   \n",
      "\n",
      "  GRAVEDAD_ACCIDENTE  MES NRO_RADICADO NUMCOMUNA                     BARRIO  \\\n",
      "0        Con heridos   10      1508668        10               Barrio Colón   \n",
      "1         Solo daños   11      1510621        10                  San Diego   \n",
      "2        Con heridos   10      1508691        02                 La Francia   \n",
      "3        Con heridos   10      1508694        01  Santo Domingo Savio No. 1   \n",
      "4         Solo daños   11      1510634        15                   Santa Fé   \n",
      "\n",
      "          COMUNA                         LOCATION          X           Y  \n",
      "0  La Candelaria  [-75.5688011014, 6.24312304123]  834949.69  1182357.34  \n",
      "1  La Candelaria  [-75.5693883283, 6.22870030622]  834880.17  1180762.02  \n",
      "2     Santa Cruz  [-75.5503911403, 6.29869502502]  837004.94  1188499.17  \n",
      "3        Popular  [-75.5442195069, 6.30019383306]  837688.53  1188663.05  \n",
      "4       Guayabal   [-75.578180998, 6.21699243701]  833903.11  1179469.60  \n"
     ]
    },
    {
     "name": "stderr",
     "output_type": "stream",
     "text": [
      "C:\\Users\\johan\\anaconda3\\envs\\tensorflow_gpu\\lib\\site-packages\\IPython\\core\\interactiveshell.py:3552: DtypeWarning: Columns (0,11) have mixed types.Specify dtype option on import or set low_memory=False.\n",
      "  exec(code_obj, self.user_global_ns, self.user_ns)\n"
     ]
    }
   ],
   "source": [
    "#lectura dataframe saltando las filas malas\n",
    "df=pd.read_csv(\"incidentes_viales.csv\",on_bad_lines='skip',index_col=False,sep=\";\",encoding=\"UTF-8\")\n",
    "print(df.head())"
   ]
  },
  {
   "cell_type": "code",
   "execution_count": 3,
   "id": "e174dd0b",
   "metadata": {},
   "outputs": [
    {
     "name": "stdout",
     "output_type": "stream",
     "text": [
      "Index(['AÑO', 'CBML', 'CLASE_ACCIDENTE', 'DIRECCION', 'DIRECCION ENCASILLADA',\n",
      "       'DISEÑO', 'EXPEDIENTE', 'FECHA_ACCIDENTE', 'FECHA_ACCIDENTES',\n",
      "       'GRAVEDAD_ACCIDENTE', 'MES', 'NRO_RADICADO', 'NUMCOMUNA', 'BARRIO',\n",
      "       'COMUNA', 'LOCATION', 'X', 'Y'],\n",
      "      dtype='object')\n",
      "numero de columnas iniciales  18\n",
      "numero de filas iniciales  270765\n"
     ]
    }
   ],
   "source": [
    "#revisamos las columnas\n",
    "print(df.columns)\n",
    "print(\"numero de columnas iniciales \",len(df.columns))\n",
    "print(\"numero de filas iniciales \",df.shape[0])\n"
   ]
  },
  {
   "cell_type": "markdown",
   "id": "97b29654",
   "metadata": {},
   "source": [
    "## limpieza de datos"
   ]
  },
  {
   "cell_type": "code",
   "execution_count": 4,
   "id": "9dd5ad6b",
   "metadata": {},
   "outputs": [
    {
     "name": "stdout",
     "output_type": "stream",
     "text": [
      "250686\n"
     ]
    }
   ],
   "source": [
    "#eliminacion de datos con nulos\n",
    "df.dropna(inplace=True)\n",
    "#eliminar datos duplicados\n",
    "df.drop_duplicates(inplace=True)\n",
    "print(df.shape[0])"
   ]
  },
  {
   "cell_type": "code",
   "execution_count": 5,
   "id": "0c4dbcbc",
   "metadata": {},
   "outputs": [
    {
     "name": "stdout",
     "output_type": "stream",
     "text": [
      "['2015' '2014' '2016' '2017' '2018' '2019' '2020']\n"
     ]
    }
   ],
   "source": [
    "#AÑO-Año de ocurrencia del incidente\n",
    "df[\"AÑO\"]=df[\"AÑO\"].apply(lambda x : re.findall(r\"[0-9]{4}\",str(x))[0])\n",
    "print(df[\"AÑO\"].unique())"
   ]
  },
  {
   "cell_type": "code",
   "execution_count": 6,
   "id": "90e158ff",
   "metadata": {},
   "outputs": [
    {
     "name": "stdout",
     "output_type": "stream",
     "text": [
      "521\n"
     ]
    }
   ],
   "source": [
    "#CBML-Codigo catastral que corresponde al codigo comuna, barrio, manzana, lote catastral de un predio.\n",
    "print(len(df[\"CBML\"].unique()))"
   ]
  },
  {
   "cell_type": "code",
   "execution_count": 7,
   "id": "07fc0e9b",
   "metadata": {},
   "outputs": [
    {
     "name": "stdout",
     "output_type": "stream",
     "text": [
      "['caida ocupante' 'choque' 'otro' 'atropello' 'volcamiento' 'incendio']\n"
     ]
    }
   ],
   "source": [
    "#CLASE_ACCIDENTE-Clasificación del IPAT sobre la clase de accidente de transito: choque, atropello, volcamiento,\n",
    "#caida de ocupante, incendio, u otro (que no corresponde a las anteriores 5 clasificaciones, p. ej: sumersión)\n",
    "df[\"CLASE_ACCIDENTE\"]=df[\"CLASE_ACCIDENTE\"].apply(lambda x : str(x).replace(\"Caída de Ocupante\",\"Caida Ocupante\").lower())\n",
    "print((df[\"CLASE_ACCIDENTE\"].unique()))"
   ]
  },
  {
   "cell_type": "code",
   "execution_count": 8,
   "id": "3340b229",
   "metadata": {},
   "outputs": [
    {
     "name": "stdout",
     "output_type": "stream",
     "text": [
      "175502    CR 49 A CL 8 A\n",
      "51782        CR 50 CL 30\n",
      "19195        CR 51 CL 69\n",
      "167749       CR 57 CL 53\n",
      "122584     CR 43 A CL 39\n",
      "147617        CL 55 CR 6\n",
      "85715        CR 63 CL 50\n",
      "23630      CR 64 C CL 95\n",
      "61556        CL 44 CR 80\n",
      "173440       CR 62 CL 45\n",
      "Name: DIRECCION, dtype: object\n"
     ]
    }
   ],
   "source": [
    "#DIRECCION-Dirección donde ocurrió el incidente\n",
    "##aparentemente se encuentra ya formateada\n",
    "print((df[\"DIRECCION\"].sample(10)))"
   ]
  },
  {
   "cell_type": "code",
   "execution_count": 9,
   "id": "03b23aa3",
   "metadata": {},
   "outputs": [
    {
     "name": "stdout",
     "output_type": "stream",
     "text": [
      "266549      CL  044   046  000 00000\n",
      "251837    CL  053   052 A  000 00000\n",
      "145442      CR  036   091  000 00000\n",
      "87714      CR  051  S 003  000 00000\n",
      "197541    CR  076   030 A  000 00000\n",
      "214150      CL  044   064  000 00000\n",
      "87385     CR  080   034 B  000 00000\n",
      "124370      CL  049   028  000 00000\n",
      "239373      CR  078   065  000 00000\n",
      "121694    CR  088   081 A  000 00000\n",
      "Name: DIRECCION ENCASILLADA, dtype: object\n"
     ]
    }
   ],
   "source": [
    "#DIRECCION ENCASILLADA-\tDirección encasillada que entrega el geocodificador\n",
    "##aparentemente se encuentra ya formateada\n",
    "##variable con poca informacion util dada la variable anterior--escoger una de las 2\n",
    "print((df[\"DIRECCION ENCASILLADA\"].sample(10)))"
   ]
  },
  {
   "cell_type": "code",
   "execution_count": 10,
   "id": "7ce8f619",
   "metadata": {},
   "outputs": [
    {
     "name": "stdout",
     "output_type": "stream",
     "text": [
      "['tramo de via' 'interseccion' 'glorieta' 'lote o predio' 'paso a nivel'\n",
      " 'puente' 'paso elevado' 'ciclo ruta' 'paso inferior' 'via peatonal'\n",
      " 'pontón' 'tunel']\n"
     ]
    }
   ],
   "source": [
    "#DISENO-Sitio de la vía donde ocurrió el accidente: Cicloruta, Glorieta, Interseccion, Lote o Predio, Paso a Nivel, Paso Elevado,\n",
    "#Paso Inferior, Pontón, Puente, Tramo de via, Tunel, Via peatonal\n",
    "df[\"DISEÑO\"]=df[\"DISEÑO\"].apply(lambda x : str(x).replace(\"Pont\\\\xF3n\",\"Pontón\").lower())\n",
    "print((df[\"DISEÑO\"].unique()))"
   ]
  },
  {
   "cell_type": "code",
   "execution_count": 11,
   "id": "819129be",
   "metadata": {},
   "outputs": [
    {
     "name": "stdout",
     "output_type": "stream",
     "text": [
      "259114    A001063327\n",
      "128138    A000313695\n",
      "26106     A000775952\n",
      "155868    A000770450\n",
      "243624    A000662502\n",
      "31445     A000932898\n",
      "205216    A000667566\n",
      "222671    A000480565\n",
      "59174     A000118290\n",
      "27413     A000840102\n",
      "Name: EXPEDIENTE, dtype: object\n"
     ]
    }
   ],
   "source": [
    "#EXPEDIENTE\n",
    "#Consecutivo que asigna UNE, según el orden de llegada de los expedientes para su diligenciamiento\n",
    "##variable  aprarentemente con poco valor\n",
    "print((df[\"EXPEDIENTE\"].sample(10)))"
   ]
  },
  {
   "cell_type": "code",
   "execution_count": 12,
   "id": "c391cd5b",
   "metadata": {},
   "outputs": [
    {
     "name": "stdout",
     "output_type": "stream",
     "text": [
      "18632    2018-09-19 12:30:00\n",
      "157203   2018-10-15 09:27:00\n",
      "108421   2014-12-18 18:40:00\n",
      "15876    2018-01-10 06:30:00\n",
      "1210     2014-11-04 11:00:00\n",
      "171592   2019-11-10 10:20:00\n",
      "205202   2015-05-21 02:15:00\n",
      "118032   2016-05-18 09:10:00\n",
      "5270     2017-03-15 12:50:00\n",
      "134313   2018-07-26 17:00:00\n",
      "Name: FECHA_ACCIDENTE, dtype: datetime64[ns]\n"
     ]
    }
   ],
   "source": [
    "#FECHA_ACCIDENTE\n",
    "#Fecha del accidente, proviene del IPAT - Informe Policial de accidente de Tránsito\n",
    "df[\"FECHA_ACCIDENTE\"] = pd.to_datetime(df[\"FECHA_ACCIDENTE\"],dayfirst=True)\n",
    "print((df[\"FECHA_ACCIDENTE\"].sample(10)))"
   ]
  },
  {
   "cell_type": "code",
   "execution_count": 13,
   "id": "24aaea57",
   "metadata": {},
   "outputs": [
    {
     "name": "stdout",
     "output_type": "stream",
     "text": [
      "0    2015-10-21T10:58:00.000Z\n",
      "1    2015-11-05T08:00:00.000Z\n",
      "2    2015-10-21T12:40:00.000Z\n",
      "3    2015-10-21T17:00:00.000Z\n",
      "4    2015-11-03T11:16:00.000Z\n",
      "5    2015-11-05T09:30:00.000Z\n",
      "6    2015-10-18T09:40:00.000Z\n",
      "7    2015-11-04T09:46:00.000Z\n",
      "8    2015-10-21T12:00:00.000Z\n",
      "9    2015-11-05T12:00:00.000Z\n",
      "Name: FECHA_ACCIDENTES, dtype: object\n"
     ]
    }
   ],
   "source": [
    "#FECHA_ACCIDENTES\n",
    "#Fecha de los accidente (formato YYYY-MM-DD hh:mi:ss), proviene del IPAT - Informe Policial de accidentes de Tránsito\n",
    "##veriable redundante con la anterior\n",
    "print((df[\"FECHA_ACCIDENTES\"].head(10)))"
   ]
  },
  {
   "cell_type": "code",
   "execution_count": 14,
   "id": "3f0c26b6",
   "metadata": {},
   "outputs": [
    {
     "name": "stdout",
     "output_type": "stream",
     "text": [
      "['con heridos' 'solo daños' 'con muertos']\n"
     ]
    }
   ],
   "source": [
    "#GRAVEDAD_ACCIDENTE\n",
    "#Clasificación del IPAT - Informe Policial de Accidentes de Tránsito, sobre la gravedad del accidente, corresponde al resultado \n",
    "#más grave presentado en el accidente. Daños materiales \"Sólo daños\", accidente con heridos \"Herido\", accidente con muertos \n",
    "#\"Muerto\". No indica cantidad\n",
    "df[\"GRAVEDAD_ACCIDENTE\"]=df[\"GRAVEDAD_ACCIDENTE\"].apply(lambda x : str(x).replace(\"Solo da\\\\xF1os\",\"Solo daños\").lower())\n",
    "print((df[\"GRAVEDAD_ACCIDENTE\"].unique()))"
   ]
  },
  {
   "cell_type": "code",
   "execution_count": 15,
   "id": "b9e23da5",
   "metadata": {},
   "outputs": [
    {
     "name": "stdout",
     "output_type": "stream",
     "text": [
      "[10 11 12  9  4  3  5  6  7  8  1  2]\n"
     ]
    }
   ],
   "source": [
    "#MES\n",
    "#Mes de ocurrencia del incidente vial\n",
    "print((df[\"MES\"].unique()))"
   ]
  },
  {
   "cell_type": "code",
   "execution_count": 16,
   "id": "9b295969",
   "metadata": {},
   "outputs": [
    {
     "name": "stdout",
     "output_type": "stream",
     "text": [
      "0    1508668\n",
      "1    1510621\n",
      "2    1508691\n",
      "3    1508694\n",
      "4    1510634\n",
      "Name: NRO_RADICADO, dtype: object\n"
     ]
    }
   ],
   "source": [
    "#NRO_RADICADO\n",
    "#Consecutivo que asigna UNE, según el orden de llegada de los expedientes para su diligenciamiento\n",
    "#no tiene mucho valor aparentemente para nuestros fines\n",
    "print((df[\"NRO_RADICADO\"].head()))"
   ]
  },
  {
   "cell_type": "code",
   "execution_count": 17,
   "id": "1f702a6c",
   "metadata": {},
   "outputs": [
    {
     "name": "stdout",
     "output_type": "stream",
     "text": [
      "['1', '10', '11', '12', '13', '14', '15', '16', '2', '3', '4', '5', '6', '7', '8', '9']\n"
     ]
    }
   ],
   "source": [
    "#NUMCOMUNA\n",
    "#Numero de la comununa en la que ocurrio incidente vial\n",
    "#se eliminan las filas con valores que no corespondan con \n",
    "df=df[df[\"NUMCOMUNA\"]!=\"AU\"]\n",
    "df=df[df[\"NUMCOMUNA\"]!=\"Sin Inf\"]\n",
    "df=df[df[\"NUMCOMUNA\"]!=\"In\"]\n",
    "df=df[df[\"NUMCOMUNA\"]!=\"SN\"]\n",
    "df=df[df[\"NUMCOMUNA\"]!=\"0\"]\n",
    "#asuminos que las comunas 60,70,80,90 son las comunas 6,7,8,9 respectivamente\n",
    "df[\"NUMCOMUNA\"]=df[\"NUMCOMUNA\"].apply(lambda x : (int(x)))\n",
    "df[\"NUMCOMUNA\"]=df[\"NUMCOMUNA\"].apply(lambda x : x/10 if x >20 else x)\n",
    "df[\"NUMCOMUNA\"]=df[\"NUMCOMUNA\"].apply(lambda x : str(int(x)))\n",
    "print(sorted(df[\"NUMCOMUNA\"].unique()))"
   ]
  },
  {
   "cell_type": "code",
   "execution_count": 18,
   "id": "56a0d5c8",
   "metadata": {},
   "outputs": [
    {
     "name": "stdout",
     "output_type": "stream",
     "text": [
      "488\n",
      "['barrio colon' 'san diego' 'la francia' 'santo domingo savio no. 1'\n",
      " 'santa fe' 'la florida' 'los conquistadores' 'la alpujarra' 'villa nueva'\n",
      " 'facultad de minas u. nacional' 'la esperanza' 'perpetuo socorro'\n",
      " 'campo valdes no. 1' 'miraflores' 'oleoducto' 'terminal de transporte'\n",
      " 'gerona' 'u.d. atanasio girardot' 'alejandro echavarria'\n",
      " 'cabecera san antonio de prado' 'manila' 'los balsos no.2' 'moravia'\n",
      " 'tenche' 'universidad nacional' 'los colores' 'caribe'\n",
      " 'juan xxiii la quiebra' 'belalcazar' 'santa cruz' 'sucre' 'la candelaria'\n",
      " 'el estadio' 'suramericana' 'la gloria' 'centro administrativo'\n",
      " 'las estancias' 'aures no. 2' 'los angeles' 'castilla' 'la salle'\n",
      " 'la america' 'picacho' 'bosques de san pablo' 'la aguacatala'\n",
      " 'playon de los comuneros' 'estacion villa' 'la colina' 'popular'\n",
      " 'villa del socorro' 'cucaracho' 'santa maria de los angeles'\n",
      " 'el chagualo' 'la mansion' 'san benito' 'la castellana' 'jesus nazareno'\n",
      " 'loreto' 'asomadera no. 1' 'el salvador' 'cristo rey' 'moscu no. 2'\n",
      " 'la mota' 'villa hermosa' 'cordoba' 'campo amor' 'naranjal' 'san isidro'\n",
      " 'boyaca' 'belen' 'miranda' 'las palmas' 'patio bonito' 'el castillo'\n",
      " 'guayabal' 'girardot' 'campo valdes no. 2' 'doce de octubre no.1'\n",
      " 'el raizal' 'rosales' 'san martin de porres' 'berlin' 'kennedy'\n",
      " 'el rincon' 'carlos e. restrepo' 'moscu no. 1' 'altavista sector central'\n",
      " 'san javier no.1' 'bolivariana' 'prado' 'boston' 'veinte de julio'\n",
      " 'alfonso lopez' 'hector abad gomez' 'parque juan pablo ii' 'lorena'\n",
      " 'los alpes' 'parque norte' 'la ladera' 'trinidad' 'castropol' 'laureles'\n",
      " 'la piñuela' 'aranjuez' 'robledo' 'buenos aires' 'san german'\n",
      " 'bombona no. 1' 'area de expansion pajarito' 'santander' 'simon bolivar'\n",
      " 'corazon de jesus' 'francisco antonio zea' 'cuarta brigada' 'los mangos'\n",
      " 'versalles no. 2' 'calle nueva' 'fatima' 'asomadera no. 2' 'guayaquil'\n",
      " 'villa carlota' 'la pilarica' 'los balsos no.1' 'la esperanza no. 2'\n",
      " 'san pedro' 'manrique oriental' 'cerro nutibara'\n",
      " 'nueva villa de la iguana' 'sevilla' 'manrique central no. 1'\n",
      " 'tricentenario' 'el progreso' 'campo alegre' 'el pomar' 'florida nueva'\n",
      " 'barrio caicedo' 'barrio colombia' 'cabecera urbana san cristobal'\n",
      " 'los cerros el vergel' 'astorga' 'santa monica' 'la isla' 'san bernardo'\n",
      " 'altamira' 'san javier no.2' 'la floresta' 'aures no.1' 'cataluña'\n",
      " 'antonio nariño' 'lopez de mesa' 'granizal' 'las lomas no.1'\n",
      " 'los alcazares' 'el velodromo' 'nueva villa de aburra' 'villa flora'\n",
      " 'las acacias' 'llanaditas' 'florencia' 'las esmeraldas' 'los pinos'\n",
      " 'el danubio' 'las granjas' 'el diamante' 'lalinde' 'el diamante no. 2'\n",
      " 'ferrini' 'santa ines' 'palermo' 'la cruz' 'olaya herrera' 'belencito'\n",
      " 'los naranjos' 'altavista' 'manrique central no. 2'\n",
      " 'universidad de antioquia' 'pedregal' 'las brisas' 'el salado' 'toscana'\n",
      " 'calasanz' 'el tesoro' 'brasilia' 'bermejal-los alamos' 'el poblado'\n",
      " 'villa guadalupe' 'la frontera' 'enciso' 'villatina' 'aguas frias'\n",
      " 'monteclaro' 'maria cano carambolas' 'cementerio universal'\n",
      " 'campo valdes no.2' 'metropolitano' 'versalles no. 1' 'la libertad'\n",
      " 'la rosa' 'san miguel' 'suburbano mirador del poblado' 'granada'\n",
      " 'alejandria' 'loma de los bernal' 'doce de octubre no.2' 'la hondonada'\n",
      " 'santa margarita' 'san joaquin' 'tejelo' 'san lucas' 'miravalle'\n",
      " 'altos del poblado' 'manrique central no.2' 'el corazon'\n",
      " 'bello horizonte' 'la palma' 'barrio de jesus' 'diego echavarria'\n",
      " 'el pinal' 'las playas' 'la oculta' 'la pradera' 'el triunfo'\n",
      " 'las violetas' 'mirador del doce' 'san pablo' 'las lomas no.2'\n",
      " 'santa lucia' 'suburbano pedregal alto' 'asomadera no. 3' 'bombona no.1'\n",
      " 'betania' 'facultad veterinaria y zootecnia u.de.a.' 'andalucia'\n",
      " 'villa niza' 'carpinelo' 'el progreso no.2' 'santa teresita'\n",
      " 'suburbano altavista' 'suburbano la loma' 'b. cerro  el volador'\n",
      " 'aldea pablo vi' 'bombona no. 2' 'barrio cristobal' 'la loma oriental'\n",
      " 'villa liliam' 'villa turbay' 'calasanz parte alta'\n",
      " 'el nogal-los almendros' 'u.p.b.' 'oriente' 'santa rosa de lima'\n",
      " 'santo domingo savio no. 2' 'la milagrosa' 'blanquizal' 'plaza de ferias'\n",
      " 'area de expansion san antonio de prado' 'buga patio bonito' 'pajarito'\n",
      " 'hospital san vicente de paul' 'fuente clara' 'jardin botanico'\n",
      " 'la verde' 'el pesebre' 'el compromiso' 'el rodeo'\n",
      " 'nuevos conquistadores' 'suburbano travesias' 'palenque'\n",
      " 'trece de noviembre' 'san antonio' 'manrique central no.1'\n",
      " 'juan pablo ii' 'area de expansion altos de calasanz' 'las mercedes'\n",
      " 'el socorro' 'pedregal bajo' 'eduardo santos' 'pedregal alto' 'picachito'\n",
      " 'la avanzada' 'inst' 'suburbano palmitas' 'ocho de marzo'\n",
      " 'las independencias' 'pablo vi' 'area de expansion altavista'\n",
      " 'suburbano el plan' 'versalles no.1' 'piedras blancas' 'el picacho'\n",
      " 'san jose la cima no. 1' '6001' 'suburbano el tesoro'\n",
      " 'la loma de los bernal' 'la sierra' 'suburbano el llano'\n",
      " 'santo domingo savio no.1' 'volcana guayabal' 'el corazon el morro'\n",
      " '7001' 'san jose la cima no.2' 'yolombo' 'aures no.2' 'barrios de jesus'\n",
      " 'batallon girardot' 'palmitas sector central' '0'\n",
      " 'area de expansion belen rincon' 'el vergel' 'suburbano palma patio'\n",
      " 'san jose de la montaña' 'suburb el plan' 'asomadera no.1'\n",
      " 'piedras blancas represa' 'la loma' 'potrerito' 'moscu no.2'\n",
      " 'suburbano la cuchilla' '1018' '1507' '1504' '1408' '1011' '1419' '1503'\n",
      " '0907' 'sin inf' '1422' '1020' '0408' '1510' 'santa elena sector central'\n",
      " '1114' '0205' '1423' '0402' '0103' '0717' '0505' '1019' '1001' '0509'\n",
      " '0301' '1101' '0303' '0409' '0811' '0712' '1603' '1003' '0307' '1204'\n",
      " '0208' '0809' '0306' '0906' '1007' '0413' 'suburbano aguas frias' '1103'\n",
      " '1108' '1511' '0109' '1206' '0914' '0711' 'san jose del manzanillo'\n",
      " '1613' '0813' '0514' '1611' '1306' '0819' '7002'\n",
      " 'suburbano la palma-el patio' '1012' 'versalles no.2' 'media luna'\n",
      " 'piedras blancas - matasano' 'suburbano potrerito' 'villa lilliam' 'auc1'\n",
      " '9004' 'el plan' 'el uvito' '9086' 'el llano se' 'yarumalito' '0312'\n",
      " '1102' '1202' '0302' '1105' '1205' 'el astillero' '0310' '0309' '1211'\n",
      " '0803' '0105' '0606' '0716' '1605' '0211' '5002' 'suburbano piedra gorda'\n",
      " '0912' 'sin nombre' 'travesias' 'moscu no.1' '0903' '1004' '1015' '1620'\n",
      " '1612' '1008' '0815' '0304' '0202' 'boqueron']\n"
     ]
    }
   ],
   "source": [
    "#BARRIO\n",
    "print(len(df[\"BARRIO\"].unique()))\n",
    "#Barrio de ocurrencia del incidente vial\n",
    "#ó por o\n",
    "df[\"BARRIO\"]=df[\"BARRIO\"].apply(lambda x : str(x).lower().replace(\"\\\\xf3\",\"o\").replace(\"ó\",\"o\"))\n",
    "#é por e \n",
    "df[\"BARRIO\"]=df[\"BARRIO\"].apply(lambda x : str(x).replace(\"\\\\xe9\",\"e\").replace(\"é\",\"e\"))\n",
    "#á por a \n",
    "df[\"BARRIO\"]=df[\"BARRIO\"].apply(lambda x : str(x).replace(\"\\\\xc1\",\"a\").replace(\"\\\\xe1\",\"a\").replace(\"á\",\"a\"))\n",
    "#ñ\n",
    "df[\"BARRIO\"]=df[\"BARRIO\"].apply(lambda x : str(x).replace(\"\\\\xf1\",\"ñ\"))\n",
    "#\\\\xed í por i\n",
    "df[\"BARRIO\"]=df[\"BARRIO\"].apply(lambda x : str(x).replace(\"\\\\xed\",\"i\").replace(\"í\",\"i\"))\n",
    "#\\\\xfa ú por u\n",
    "df[\"BARRIO\"]=df[\"BARRIO\"].apply(lambda x : str(x).replace(\"\\\\xfa\",\"u\").replace(\"ú\",\"u\"))\n",
    "print((df[\"BARRIO\"].unique()))"
   ]
  },
  {
   "cell_type": "code",
   "execution_count": 19,
   "id": "eb1b0bc4",
   "metadata": {},
   "outputs": [
    {
     "name": "stdout",
     "output_type": "stream",
     "text": [
      "['la candelaria' 'santa cruz' 'popular' 'guayabal' 'el poblado'\n",
      " 'laureles estadio' 'robledo' 'doce de octubre' 'aranjuez' 'buenos aires'\n",
      " 'castilla' 'corregimiento de san antonio de prado' 'san javier'\n",
      " 'villa hermosa' 'belen' 'manrique' 'la america'\n",
      " 'corregimiento de altavista' 'corregimiento de san cristobal'\n",
      " 'corregimiento de santa elena' 'in'\n",
      " 'corregimiento de san sebastian de palmitas' 'au']\n"
     ]
    }
   ],
   "source": [
    "#COMUNA\n",
    "#Denominación con la cual se identifica cada Comuna o Corregimiento. 01:Popular 02:Santa Cruz 03:Manrique 04:Aranjuez 05:Castilla 06:Doce de Octubre 07:Robledo 08:Villa Hermosa 09:Buenos Aires 10:La Candelaria 11:Laureles - Estadio 12:La América 13:San Javier 14:El Poblado 15:Guayabal 16:Belén 50:San Sebastián de Palmitas 60:San Cristobal 70:Altavista 80:San Antonio de Prado 90:Santa Elena 99:Toda la Ciudad\n",
    "##variable redundante\n",
    "#ó por o\n",
    "df[\"COMUNA\"]=df[\"COMUNA\"].apply(lambda x : str(x).lower().replace(\"\\\\xf3\",\"o\").replace(\"ó\",\"o\"))\n",
    "#á por a \n",
    "df[\"COMUNA\"]=df[\"COMUNA\"].apply(lambda x : str(x).replace(\"\\\\xc1\",\"a\").replace(\"\\\\xe1\",\"a\").replace(\"á\",\"a\"))\n",
    "#é por e \n",
    "df[\"COMUNA\"]=df[\"COMUNA\"].apply(lambda x : str(x).replace(\"\\\\xe9\",\"e\").replace(\"é\",\"e\"))\n",
    "print((df[\"COMUNA\"].unique()))"
   ]
  },
  {
   "cell_type": "code",
   "execution_count": 20,
   "id": "435e3572",
   "metadata": {},
   "outputs": [
    {
     "name": "stdout",
     "output_type": "stream",
     "text": [
      "0    [-75.5688011014, 6.24312304123]\n",
      "1    [-75.5693883283, 6.22870030622]\n",
      "2    [-75.5503911403, 6.29869502502]\n",
      "3    [-75.5442195069, 6.30019383306]\n",
      "4     [-75.578180998, 6.21699243701]\n",
      "5      [-75.561118009, 6.2047775959]\n",
      "6    [-75.5810144962, 6.24576066323]\n",
      "7    [-75.5752597216, 6.24685341912]\n",
      "8    [-75.5624178534, 6.25341454089]\n",
      "9    [-75.5931430393, 6.27330476643]\n",
      "Name: LOCATION, dtype: object\n"
     ]
    }
   ],
   "source": [
    "#LOCATION\n",
    "#Fuente de información con la cual se realizó la geocodificación\n",
    "print((df[\"LOCATION\"].head(10)))"
   ]
  },
  {
   "cell_type": "code",
   "execution_count": 21,
   "id": "42181bd5",
   "metadata": {},
   "outputs": [
    {
     "name": "stdout",
     "output_type": "stream",
     "text": [
      "0    834949.69\n",
      "1    834880.17\n",
      "2    837004.94\n",
      "3    837688.53\n",
      "4    833903.11\n",
      "5    835788.30\n",
      "6    833598.49\n",
      "7    834235.89\n",
      "8    835659.53\n",
      "9    832264.64\n",
      "Name: X, dtype: float64\n"
     ]
    }
   ],
   "source": [
    "#X\n",
    "#Coordenada X en metros del accidente, en sistema de coordenadas MAGNA Medellin Local\n",
    "print(df[\"X\"].head(10))"
   ]
  },
  {
   "cell_type": "code",
   "execution_count": 22,
   "id": "d6db175a",
   "metadata": {},
   "outputs": [
    {
     "name": "stdout",
     "output_type": "stream",
     "text": [
      "0    1182357.34\n",
      "1    1180762.02\n",
      "2    1188499.17\n",
      "3    1188663.05\n",
      "4    1179469.60\n",
      "5    1178113.02\n",
      "6    1182652.97\n",
      "7    1182772.04\n",
      "8    1183493.83\n",
      "9    1185703.90\n",
      "Name: Y, dtype: float64\n"
     ]
    }
   ],
   "source": [
    "#Y\n",
    "#Coordenada Y en metros del accidente, en sistema de coordenadas MAGNA Medellin Local\n",
    "print(df[\"Y\"].head(10))"
   ]
  },
  {
   "cell_type": "code",
   "execution_count": 23,
   "id": "510e71f0",
   "metadata": {},
   "outputs": [],
   "source": [
    "#Eliminar duplicados\n",
    "df.drop_duplicates(inplace=True)\n",
    "#borrar columnas con datos redudantes o poco aportantes\n",
    "df.drop(labels=[\"DIRECCION ENCASILLADA\",\"EXPEDIENTE\",\"FECHA_ACCIDENTES\",\"NRO_RADICADO\",\"COMUNA\"],axis=1,inplace=True)"
   ]
  },
  {
   "cell_type": "code",
   "execution_count": 24,
   "id": "0daf8130",
   "metadata": {},
   "outputs": [
    {
     "data": {
      "text/html": [
       "<div>\n",
       "<style scoped>\n",
       "    .dataframe tbody tr th:only-of-type {\n",
       "        vertical-align: middle;\n",
       "    }\n",
       "\n",
       "    .dataframe tbody tr th {\n",
       "        vertical-align: top;\n",
       "    }\n",
       "\n",
       "    .dataframe thead th {\n",
       "        text-align: right;\n",
       "    }\n",
       "</style>\n",
       "<table border=\"1\" class=\"dataframe\">\n",
       "  <thead>\n",
       "    <tr style=\"text-align: right;\">\n",
       "      <th></th>\n",
       "      <th>AÑO</th>\n",
       "      <th>CBML</th>\n",
       "      <th>CLASE_ACCIDENTE</th>\n",
       "      <th>DIRECCION</th>\n",
       "      <th>DISEÑO</th>\n",
       "      <th>FECHA_ACCIDENTE</th>\n",
       "      <th>GRAVEDAD_ACCIDENTE</th>\n",
       "      <th>MES</th>\n",
       "      <th>NUMCOMUNA</th>\n",
       "      <th>BARRIO</th>\n",
       "      <th>LOCATION</th>\n",
       "      <th>X</th>\n",
       "      <th>Y</th>\n",
       "    </tr>\n",
       "  </thead>\n",
       "  <tbody>\n",
       "    <tr>\n",
       "      <th>0</th>\n",
       "      <td>2015</td>\n",
       "      <td>1013</td>\n",
       "      <td>caida ocupante</td>\n",
       "      <td>CR 46 CL 43</td>\n",
       "      <td>tramo de via</td>\n",
       "      <td>2015-10-21 05:58:00</td>\n",
       "      <td>con heridos</td>\n",
       "      <td>10</td>\n",
       "      <td>10</td>\n",
       "      <td>barrio colon</td>\n",
       "      <td>[-75.5688011014, 6.24312304123]</td>\n",
       "      <td>834949.69</td>\n",
       "      <td>1182357.34</td>\n",
       "    </tr>\n",
       "    <tr>\n",
       "      <th>1</th>\n",
       "      <td>2015</td>\n",
       "      <td>1020</td>\n",
       "      <td>choque</td>\n",
       "      <td>CR 43 A CL 29</td>\n",
       "      <td>tramo de via</td>\n",
       "      <td>2015-11-05 03:00:00</td>\n",
       "      <td>solo daños</td>\n",
       "      <td>11</td>\n",
       "      <td>10</td>\n",
       "      <td>san diego</td>\n",
       "      <td>[-75.5693883283, 6.22870030622]</td>\n",
       "      <td>834880.17</td>\n",
       "      <td>1180762.02</td>\n",
       "    </tr>\n",
       "    <tr>\n",
       "      <th>2</th>\n",
       "      <td>2015</td>\n",
       "      <td>0205</td>\n",
       "      <td>otro</td>\n",
       "      <td>CR 46 CL 37</td>\n",
       "      <td>tramo de via</td>\n",
       "      <td>2015-10-21 07:40:00</td>\n",
       "      <td>con heridos</td>\n",
       "      <td>10</td>\n",
       "      <td>2</td>\n",
       "      <td>la francia</td>\n",
       "      <td>[-75.5503911403, 6.29869502502]</td>\n",
       "      <td>837004.94</td>\n",
       "      <td>1188499.17</td>\n",
       "    </tr>\n",
       "    <tr>\n",
       "      <th>3</th>\n",
       "      <td>2015</td>\n",
       "      <td>0101</td>\n",
       "      <td>atropello</td>\n",
       "      <td>CR 34 CL 112</td>\n",
       "      <td>tramo de via</td>\n",
       "      <td>2015-10-21 12:00:00</td>\n",
       "      <td>con heridos</td>\n",
       "      <td>10</td>\n",
       "      <td>1</td>\n",
       "      <td>santo domingo savio no. 1</td>\n",
       "      <td>[-75.5442195069, 6.30019383306]</td>\n",
       "      <td>837688.53</td>\n",
       "      <td>1188663.05</td>\n",
       "    </tr>\n",
       "    <tr>\n",
       "      <th>4</th>\n",
       "      <td>2015</td>\n",
       "      <td>1504</td>\n",
       "      <td>choque</td>\n",
       "      <td>CR 50 CL 14</td>\n",
       "      <td>tramo de via</td>\n",
       "      <td>2015-11-03 06:16:00</td>\n",
       "      <td>solo daños</td>\n",
       "      <td>11</td>\n",
       "      <td>15</td>\n",
       "      <td>santa fe</td>\n",
       "      <td>[-75.578180998, 6.21699243701]</td>\n",
       "      <td>833903.11</td>\n",
       "      <td>1179469.60</td>\n",
       "    </tr>\n",
       "    <tr>\n",
       "      <th>...</th>\n",
       "      <td>...</td>\n",
       "      <td>...</td>\n",
       "      <td>...</td>\n",
       "      <td>...</td>\n",
       "      <td>...</td>\n",
       "      <td>...</td>\n",
       "      <td>...</td>\n",
       "      <td>...</td>\n",
       "      <td>...</td>\n",
       "      <td>...</td>\n",
       "      <td>...</td>\n",
       "      <td>...</td>\n",
       "      <td>...</td>\n",
       "    </tr>\n",
       "    <tr>\n",
       "      <th>270760</th>\n",
       "      <td>2020</td>\n",
       "      <td>1004</td>\n",
       "      <td>caida ocupante</td>\n",
       "      <td>CR 62 CL 59</td>\n",
       "      <td>tramo de via</td>\n",
       "      <td>2020-08-31 18:50:00</td>\n",
       "      <td>con heridos</td>\n",
       "      <td>8</td>\n",
       "      <td>10</td>\n",
       "      <td>el chagualo</td>\n",
       "      <td>[-75.5731343044, 6.26063534822]</td>\n",
       "      <td>834475.51</td>\n",
       "      <td>1184295.99</td>\n",
       "    </tr>\n",
       "    <tr>\n",
       "      <th>270761</th>\n",
       "      <td>2020</td>\n",
       "      <td>1115</td>\n",
       "      <td>otro</td>\n",
       "      <td>CL 50 CR 74</td>\n",
       "      <td>tramo de via</td>\n",
       "      <td>2020-08-31 18:50:00</td>\n",
       "      <td>con heridos</td>\n",
       "      <td>8</td>\n",
       "      <td>11</td>\n",
       "      <td>cuarta brigada</td>\n",
       "      <td>[-75.5902062951, 6.26040455473]</td>\n",
       "      <td>832585.61</td>\n",
       "      <td>1184275.87</td>\n",
       "    </tr>\n",
       "    <tr>\n",
       "      <th>270762</th>\n",
       "      <td>2020</td>\n",
       "      <td>515</td>\n",
       "      <td>choque</td>\n",
       "      <td>CL 80 CR 65</td>\n",
       "      <td>tramo de via</td>\n",
       "      <td>2020-08-31 19:05:00</td>\n",
       "      <td>solo daños</td>\n",
       "      <td>8</td>\n",
       "      <td>5</td>\n",
       "      <td>cementerio universal</td>\n",
       "      <td>[-75.5735398111, 6.27625838886]</td>\n",
       "      <td>834435.55</td>\n",
       "      <td>1186024.41</td>\n",
       "    </tr>\n",
       "    <tr>\n",
       "      <th>270763</th>\n",
       "      <td>2020</td>\n",
       "      <td>207</td>\n",
       "      <td>atropello</td>\n",
       "      <td>CL 104 CR 45</td>\n",
       "      <td>tramo de via</td>\n",
       "      <td>2020-08-31 19:30:00</td>\n",
       "      <td>con heridos</td>\n",
       "      <td>8</td>\n",
       "      <td>2</td>\n",
       "      <td>villa del socorro</td>\n",
       "      <td>[-75.5515085985, 6.29359892373]</td>\n",
       "      <td>836879.66</td>\n",
       "      <td>1187935.77</td>\n",
       "    </tr>\n",
       "    <tr>\n",
       "      <th>270764</th>\n",
       "      <td>2020</td>\n",
       "      <td>303</td>\n",
       "      <td>atropello</td>\n",
       "      <td>CR 44 CL 79</td>\n",
       "      <td>lote o predio</td>\n",
       "      <td>2020-08-31 21:45:00</td>\n",
       "      <td>con heridos</td>\n",
       "      <td>8</td>\n",
       "      <td>3</td>\n",
       "      <td>campo valdes no. 2</td>\n",
       "      <td>[-75.5533856947, 6.2717784831]</td>\n",
       "      <td>836665.08</td>\n",
       "      <td>1185522.50</td>\n",
       "    </tr>\n",
       "  </tbody>\n",
       "</table>\n",
       "<p>249552 rows × 13 columns</p>\n",
       "</div>"
      ],
      "text/plain": [
       "         AÑO  CBML CLASE_ACCIDENTE      DIRECCION         DISEÑO  \\\n",
       "0       2015  1013  caida ocupante    CR 46 CL 43   tramo de via   \n",
       "1       2015  1020          choque  CR 43 A CL 29   tramo de via   \n",
       "2       2015  0205            otro    CR 46 CL 37   tramo de via   \n",
       "3       2015  0101       atropello   CR 34 CL 112   tramo de via   \n",
       "4       2015  1504          choque    CR 50 CL 14   tramo de via   \n",
       "...      ...   ...             ...            ...            ...   \n",
       "270760  2020  1004  caida ocupante    CR 62 CL 59   tramo de via   \n",
       "270761  2020  1115            otro    CL 50 CR 74   tramo de via   \n",
       "270762  2020   515          choque    CL 80 CR 65   tramo de via   \n",
       "270763  2020   207       atropello   CL 104 CR 45   tramo de via   \n",
       "270764  2020   303       atropello    CR 44 CL 79  lote o predio   \n",
       "\n",
       "           FECHA_ACCIDENTE GRAVEDAD_ACCIDENTE  MES NUMCOMUNA  \\\n",
       "0      2015-10-21 05:58:00        con heridos   10        10   \n",
       "1      2015-11-05 03:00:00         solo daños   11        10   \n",
       "2      2015-10-21 07:40:00        con heridos   10         2   \n",
       "3      2015-10-21 12:00:00        con heridos   10         1   \n",
       "4      2015-11-03 06:16:00         solo daños   11        15   \n",
       "...                    ...                ...  ...       ...   \n",
       "270760 2020-08-31 18:50:00        con heridos    8        10   \n",
       "270761 2020-08-31 18:50:00        con heridos    8        11   \n",
       "270762 2020-08-31 19:05:00         solo daños    8         5   \n",
       "270763 2020-08-31 19:30:00        con heridos    8         2   \n",
       "270764 2020-08-31 21:45:00        con heridos    8         3   \n",
       "\n",
       "                           BARRIO                         LOCATION          X  \\\n",
       "0                    barrio colon  [-75.5688011014, 6.24312304123]  834949.69   \n",
       "1                       san diego  [-75.5693883283, 6.22870030622]  834880.17   \n",
       "2                      la francia  [-75.5503911403, 6.29869502502]  837004.94   \n",
       "3       santo domingo savio no. 1  [-75.5442195069, 6.30019383306]  837688.53   \n",
       "4                        santa fe   [-75.578180998, 6.21699243701]  833903.11   \n",
       "...                           ...                              ...        ...   \n",
       "270760                el chagualo  [-75.5731343044, 6.26063534822]  834475.51   \n",
       "270761             cuarta brigada  [-75.5902062951, 6.26040455473]  832585.61   \n",
       "270762       cementerio universal  [-75.5735398111, 6.27625838886]  834435.55   \n",
       "270763          villa del socorro  [-75.5515085985, 6.29359892373]  836879.66   \n",
       "270764         campo valdes no. 2   [-75.5533856947, 6.2717784831]  836665.08   \n",
       "\n",
       "                 Y  \n",
       "0       1182357.34  \n",
       "1       1180762.02  \n",
       "2       1188499.17  \n",
       "3       1188663.05  \n",
       "4       1179469.60  \n",
       "...            ...  \n",
       "270760  1184295.99  \n",
       "270761  1184275.87  \n",
       "270762  1186024.41  \n",
       "270763  1187935.77  \n",
       "270764  1185522.50  \n",
       "\n",
       "[249552 rows x 13 columns]"
      ]
     },
     "execution_count": 24,
     "metadata": {},
     "output_type": "execute_result"
    }
   ],
   "source": [
    "df.to_csv(\"datosLimpios.csv\")\n",
    "#guardamos los datos en una nueva varible\n",
    "data=df.copy()\n",
    "df"
   ]
  },
  {
   "cell_type": "code",
   "execution_count": 25,
   "id": "833e965e",
   "metadata": {},
   "outputs": [],
   "source": [
    "#df=pd.read_csv(\"datosLimpios.csv\")"
   ]
  },
  {
   "cell_type": "markdown",
   "id": "b59eac73",
   "metadata": {},
   "source": [
    "## 1 - Entrenamiento de un modelo predictivo\n",
    "Se deberá construir un modelo que permita predecir la accidentalidad por tipo de accidente a nivel semanal, mensual y diario. Para esto se deberán considerar fechas especiales."
   ]
  },
  {
   "cell_type": "code",
   "execution_count": 192,
   "id": "806f34aa",
   "metadata": {},
   "outputs": [
    {
     "data": {
      "text/html": [
       "<div>\n",
       "<style scoped>\n",
       "    .dataframe tbody tr th:only-of-type {\n",
       "        vertical-align: middle;\n",
       "    }\n",
       "\n",
       "    .dataframe tbody tr th {\n",
       "        vertical-align: top;\n",
       "    }\n",
       "\n",
       "    .dataframe thead th {\n",
       "        text-align: right;\n",
       "    }\n",
       "</style>\n",
       "<table border=\"1\" class=\"dataframe\">\n",
       "  <thead>\n",
       "    <tr style=\"text-align: right;\">\n",
       "      <th></th>\n",
       "      <th>DIA</th>\n",
       "      <th>CLASE_ACCIDENTE</th>\n",
       "      <th>CANTIDAD</th>\n",
       "      <th>NUMCOMUNA</th>\n",
       "    </tr>\n",
       "  </thead>\n",
       "  <tbody>\n",
       "    <tr>\n",
       "      <th>0</th>\n",
       "      <td>2014-07-04</td>\n",
       "      <td>choque</td>\n",
       "      <td>8</td>\n",
       "      <td>10</td>\n",
       "    </tr>\n",
       "    <tr>\n",
       "      <th>1</th>\n",
       "      <td>2014-07-04</td>\n",
       "      <td>choque</td>\n",
       "      <td>4</td>\n",
       "      <td>11</td>\n",
       "    </tr>\n",
       "    <tr>\n",
       "      <th>2</th>\n",
       "      <td>2014-07-04</td>\n",
       "      <td>choque</td>\n",
       "      <td>1</td>\n",
       "      <td>12</td>\n",
       "    </tr>\n",
       "    <tr>\n",
       "      <th>3</th>\n",
       "      <td>2014-07-04</td>\n",
       "      <td>choque</td>\n",
       "      <td>2</td>\n",
       "      <td>14</td>\n",
       "    </tr>\n",
       "    <tr>\n",
       "      <th>4</th>\n",
       "      <td>2014-07-04</td>\n",
       "      <td>choque</td>\n",
       "      <td>2</td>\n",
       "      <td>15</td>\n",
       "    </tr>\n",
       "    <tr>\n",
       "      <th>...</th>\n",
       "      <td>...</td>\n",
       "      <td>...</td>\n",
       "      <td>...</td>\n",
       "      <td>...</td>\n",
       "    </tr>\n",
       "    <tr>\n",
       "      <th>85313</th>\n",
       "      <td>2020-08-31</td>\n",
       "      <td>volcamiento</td>\n",
       "      <td>2</td>\n",
       "      <td>14</td>\n",
       "    </tr>\n",
       "    <tr>\n",
       "      <th>85314</th>\n",
       "      <td>2020-08-31</td>\n",
       "      <td>volcamiento</td>\n",
       "      <td>1</td>\n",
       "      <td>15</td>\n",
       "    </tr>\n",
       "    <tr>\n",
       "      <th>85315</th>\n",
       "      <td>2020-08-31</td>\n",
       "      <td>volcamiento</td>\n",
       "      <td>1</td>\n",
       "      <td>16</td>\n",
       "    </tr>\n",
       "    <tr>\n",
       "      <th>85316</th>\n",
       "      <td>2020-08-31</td>\n",
       "      <td>volcamiento</td>\n",
       "      <td>1</td>\n",
       "      <td>2</td>\n",
       "    </tr>\n",
       "    <tr>\n",
       "      <th>85317</th>\n",
       "      <td>2020-08-31</td>\n",
       "      <td>volcamiento</td>\n",
       "      <td>1</td>\n",
       "      <td>9</td>\n",
       "    </tr>\n",
       "  </tbody>\n",
       "</table>\n",
       "<p>85318 rows × 4 columns</p>\n",
       "</div>"
      ],
      "text/plain": [
       "              DIA CLASE_ACCIDENTE  CANTIDAD NUMCOMUNA\n",
       "0      2014-07-04          choque         8        10\n",
       "1      2014-07-04          choque         4        11\n",
       "2      2014-07-04          choque         1        12\n",
       "3      2014-07-04          choque         2        14\n",
       "4      2014-07-04          choque         2        15\n",
       "...           ...             ...       ...       ...\n",
       "85313  2020-08-31     volcamiento         2        14\n",
       "85314  2020-08-31     volcamiento         1        15\n",
       "85315  2020-08-31     volcamiento         1        16\n",
       "85316  2020-08-31     volcamiento         1         2\n",
       "85317  2020-08-31     volcamiento         1         9\n",
       "\n",
       "[85318 rows x 4 columns]"
      ]
     },
     "execution_count": 192,
     "metadata": {},
     "output_type": "execute_result"
    }
   ],
   "source": [
    "df=data\n",
    "df[\"DIA\"]=df[\"FECHA_ACCIDENTE\"].apply(lambda x: x.date())\n",
    "df=df.groupby([\"DIA\",\"CLASE_ACCIDENTE\",\"NUMCOMUNA\"]).count()\n",
    "df.reset_index(inplace=True)\n",
    "df[\"CANTIDAD\"]=df[\"AÑO\"]\n",
    "df=df[[\"DIA\",\"CLASE_ACCIDENTE\",\"CANTIDAD\",\"NUMCOMUNA\"]]\n",
    "df"
   ]
  },
  {
   "cell_type": "code",
   "execution_count": 193,
   "id": "322565f8",
   "metadata": {},
   "outputs": [
    {
     "data": {
      "text/html": [
       "<div>\n",
       "<style scoped>\n",
       "    .dataframe tbody tr th:only-of-type {\n",
       "        vertical-align: middle;\n",
       "    }\n",
       "\n",
       "    .dataframe tbody tr th {\n",
       "        vertical-align: top;\n",
       "    }\n",
       "\n",
       "    .dataframe thead th {\n",
       "        text-align: right;\n",
       "    }\n",
       "</style>\n",
       "<table border=\"1\" class=\"dataframe\">\n",
       "  <thead>\n",
       "    <tr style=\"text-align: right;\">\n",
       "      <th></th>\n",
       "      <th>DIA</th>\n",
       "      <th>CLASE_ACCIDENTE</th>\n",
       "      <th>CANTIDAD</th>\n",
       "      <th>NUMCOMUNA</th>\n",
       "      <th>DIA_FESTIVO</th>\n",
       "      <th>AÑO</th>\n",
       "      <th>DIA_DE_LA_SEMANA</th>\n",
       "      <th>MES</th>\n",
       "      <th>DIA_DEL_MES</th>\n",
       "    </tr>\n",
       "  </thead>\n",
       "  <tbody>\n",
       "    <tr>\n",
       "      <th>0</th>\n",
       "      <td>2014-07-04</td>\n",
       "      <td>choque</td>\n",
       "      <td>8</td>\n",
       "      <td>10</td>\n",
       "      <td>0</td>\n",
       "      <td>2014</td>\n",
       "      <td>4</td>\n",
       "      <td>7</td>\n",
       "      <td>4</td>\n",
       "    </tr>\n",
       "    <tr>\n",
       "      <th>1</th>\n",
       "      <td>2014-07-04</td>\n",
       "      <td>choque</td>\n",
       "      <td>4</td>\n",
       "      <td>11</td>\n",
       "      <td>0</td>\n",
       "      <td>2014</td>\n",
       "      <td>4</td>\n",
       "      <td>7</td>\n",
       "      <td>4</td>\n",
       "    </tr>\n",
       "    <tr>\n",
       "      <th>2</th>\n",
       "      <td>2014-07-04</td>\n",
       "      <td>choque</td>\n",
       "      <td>1</td>\n",
       "      <td>12</td>\n",
       "      <td>0</td>\n",
       "      <td>2014</td>\n",
       "      <td>4</td>\n",
       "      <td>7</td>\n",
       "      <td>4</td>\n",
       "    </tr>\n",
       "    <tr>\n",
       "      <th>3</th>\n",
       "      <td>2014-07-04</td>\n",
       "      <td>choque</td>\n",
       "      <td>2</td>\n",
       "      <td>14</td>\n",
       "      <td>0</td>\n",
       "      <td>2014</td>\n",
       "      <td>4</td>\n",
       "      <td>7</td>\n",
       "      <td>4</td>\n",
       "    </tr>\n",
       "    <tr>\n",
       "      <th>4</th>\n",
       "      <td>2014-07-04</td>\n",
       "      <td>choque</td>\n",
       "      <td>2</td>\n",
       "      <td>15</td>\n",
       "      <td>0</td>\n",
       "      <td>2014</td>\n",
       "      <td>4</td>\n",
       "      <td>7</td>\n",
       "      <td>4</td>\n",
       "    </tr>\n",
       "    <tr>\n",
       "      <th>5</th>\n",
       "      <td>2014-07-04</td>\n",
       "      <td>choque</td>\n",
       "      <td>2</td>\n",
       "      <td>16</td>\n",
       "      <td>0</td>\n",
       "      <td>2014</td>\n",
       "      <td>4</td>\n",
       "      <td>7</td>\n",
       "      <td>4</td>\n",
       "    </tr>\n",
       "    <tr>\n",
       "      <th>6</th>\n",
       "      <td>2014-07-04</td>\n",
       "      <td>choque</td>\n",
       "      <td>3</td>\n",
       "      <td>7</td>\n",
       "      <td>0</td>\n",
       "      <td>2014</td>\n",
       "      <td>4</td>\n",
       "      <td>7</td>\n",
       "      <td>4</td>\n",
       "    </tr>\n",
       "    <tr>\n",
       "      <th>7</th>\n",
       "      <td>2014-07-05</td>\n",
       "      <td>atropello</td>\n",
       "      <td>2</td>\n",
       "      <td>1</td>\n",
       "      <td>0</td>\n",
       "      <td>2014</td>\n",
       "      <td>5</td>\n",
       "      <td>7</td>\n",
       "      <td>5</td>\n",
       "    </tr>\n",
       "    <tr>\n",
       "      <th>8</th>\n",
       "      <td>2014-07-05</td>\n",
       "      <td>atropello</td>\n",
       "      <td>3</td>\n",
       "      <td>10</td>\n",
       "      <td>0</td>\n",
       "      <td>2014</td>\n",
       "      <td>5</td>\n",
       "      <td>7</td>\n",
       "      <td>5</td>\n",
       "    </tr>\n",
       "    <tr>\n",
       "      <th>9</th>\n",
       "      <td>2014-07-05</td>\n",
       "      <td>atropello</td>\n",
       "      <td>2</td>\n",
       "      <td>12</td>\n",
       "      <td>0</td>\n",
       "      <td>2014</td>\n",
       "      <td>5</td>\n",
       "      <td>7</td>\n",
       "      <td>5</td>\n",
       "    </tr>\n",
       "  </tbody>\n",
       "</table>\n",
       "</div>"
      ],
      "text/plain": [
       "          DIA CLASE_ACCIDENTE  CANTIDAD NUMCOMUNA  DIA_FESTIVO   AÑO  \\\n",
       "0  2014-07-04          choque         8        10            0  2014   \n",
       "1  2014-07-04          choque         4        11            0  2014   \n",
       "2  2014-07-04          choque         1        12            0  2014   \n",
       "3  2014-07-04          choque         2        14            0  2014   \n",
       "4  2014-07-04          choque         2        15            0  2014   \n",
       "5  2014-07-04          choque         2        16            0  2014   \n",
       "6  2014-07-04          choque         3         7            0  2014   \n",
       "7  2014-07-05       atropello         2         1            0  2014   \n",
       "8  2014-07-05       atropello         3        10            0  2014   \n",
       "9  2014-07-05       atropello         2        12            0  2014   \n",
       "\n",
       "  DIA_DE_LA_SEMANA MES DIA_DEL_MES  \n",
       "0                4   7           4  \n",
       "1                4   7           4  \n",
       "2                4   7           4  \n",
       "3                4   7           4  \n",
       "4                4   7           4  \n",
       "5                4   7           4  \n",
       "6                4   7           4  \n",
       "7                5   7           5  \n",
       "8                5   7           5  \n",
       "9                5   7           5  "
      ]
     },
     "execution_count": 193,
     "metadata": {},
     "output_type": "execute_result"
    }
   ],
   "source": [
    "import holidays_co as co\n",
    "from datetime import timedelta\n",
    "#dia_festivo 1 si 0 no\n",
    "df[\"dia_festivo\".upper()]=df[\"DIA\"].apply(lambda x : int(co.is_holiday_date(x)))\n",
    "#sigiente_dia_festivo\n",
    "#df[\"sigiente_dia_festivo\".upper()]=df[\"DIA\"].apply(lambda x : int(co.is_holiday_date(x+timedelta(days=1))))\n",
    "#anterior_dia_festivo\n",
    "#df[\"anterior_dia_festivo\".upper()]=df[\"DIA\"].apply(lambda x : int(co.is_holiday_date(x-timedelta(days=1))))\n",
    "df[\"AÑO\"]=df[\"DIA\"].apply(lambda x : pd.Timestamp(x).year)\n",
    "df[\"dia_de_la_semana\".upper()]=df[\"dia\".upper()].apply(lambda x : str(pd.Timestamp(x).day_of_week))\n",
    "min=df[\"DIA\"].min()\n",
    "#df[\"dia_total\".upper()]=df[\"dia\".upper()].apply(lambda x : (x-min).days+1)\n",
    "df[\"MES\"]=df[\"DIA\"].apply(lambda x : str(pd.Timestamp(x).month))\n",
    "df[\"dia_del_mes\".upper()]=df[\"dia\".upper()].apply(lambda x :str( pd.Timestamp(x).day))\n",
    "\n",
    "dfaux=df.copy()\n",
    "df.head(10)"
   ]
  },
  {
   "cell_type": "markdown",
   "id": "aa3ea682",
   "metadata": {},
   "source": [
    "Sea X el con junto de parametros "
   ]
  },
  {
   "cell_type": "markdown",
   "id": "c7c46d3a",
   "metadata": {},
   "source": [
    "### Entrenamiento y validación\n",
    "Los modelos predictivos se deberán construir con los datos de los años 2014, 2015, 2016, 2018. Se usan los accidentes del año 2019 y 2020 (¡alerta!) para validar los modelos.\n",
    "Se deberá analizar el comportamiento del modelo predictivo en los años 2021 y 2022 y explicar las posibles desviaciones."
   ]
  },
  {
   "cell_type": "code",
   "execution_count": 194,
   "id": "e6e7f997",
   "metadata": {},
   "outputs": [
    {
     "name": "stdout",
     "output_type": "stream",
     "text": [
      "['1', '10', '11', '12', '13', '14', '15', '16', '2', '3', '4', '5', '6', '7', '8', '9']\n",
      "['1', '10', '11', '12', '13', '14', '15', '16', '2', '3', '4', '5', '6', '7', '8', '9']\n"
     ]
    }
   ],
   "source": [
    "dfaux=df.copy()\n",
    "#dfaux=pd.concat([dfaux,pd.get_dummies(dfaux.pop(\"NUMCOMUNA\"),drop_first=True)], axis=1)\n",
    "train=dfaux[(dfaux[\"AÑO\"]) <2019].drop([\"DIA\"],axis=1).drop([\"AÑO\"],axis=1)\n",
    "test=dfaux.drop(train.index).drop([\"DIA\"],axis=1).drop([\"AÑO\"],axis=1)\n",
    "X_train=train.copy()\n",
    "Y_train=X_train.pop(\"CANTIDAD\")\n",
    "X_test=test.copy()\n",
    "Y_test=X_test.pop(\"CANTIDAD\")\n",
    "print(sorted(X_train.NUMCOMUNA.unique()))\n",
    "print(sorted(X_test.NUMCOMUNA.unique()))"
   ]
  },
  {
   "cell_type": "code",
   "execution_count": 228,
   "id": "a031d7cd",
   "metadata": {},
   "outputs": [
    {
     "data": {
      "text/plain": [
       "0    8\n",
       "1    4\n",
       "2    1\n",
       "3    2\n",
       "4    2\n",
       "Name: CANTIDAD, dtype: int64"
      ]
     },
     "execution_count": 228,
     "metadata": {},
     "output_type": "execute_result"
    }
   ],
   "source": [
    "Y_train.head()"
   ]
  },
  {
   "cell_type": "code",
   "execution_count": 207,
   "id": "118a97a5",
   "metadata": {},
   "outputs": [],
   "source": [
    "from sklearn.compose import make_column_selector\n",
    "    # Importe make_column_transformer\n",
    "from sklearn.compose import make_column_transformer\n",
    "    # Importe SelectKBest\n",
    "from sklearn.feature_selection import SelectKBest\n",
    "    # Importe f_regression\n",
    "from sklearn.feature_selection import f_regression\n",
    "    # Importe LinearRegression\n",
    "from sklearn.linear_model import LinearRegression\n",
    "    # Importe GridSearchCV\n",
    "from sklearn.model_selection import GridSearchCV\n",
    "    # Importe Pipeline\n",
    "from sklearn.pipeline import Pipeline\n",
    "    # Importe OneHotEncoder\n",
    "from sklearn.preprocessing import OneHotEncoder\n",
    "\n",
    "\n",
    "pipeline = Pipeline(\n",
    "        steps=[\n",
    "            # Paso 1: Construya un column_transformer que aplica OneHotEncoder a las\n",
    "            # variables categóricas, y no aplica ninguna transformación al resto de\n",
    "            # las variables.\n",
    "            (\n",
    "                \"column_transfomer\",\n",
    "                make_column_transformer(\n",
    "                    (\n",
    "                        OneHotEncoder(),\n",
    "                        make_column_selector(dtype_include=object),\n",
    "                    ),\n",
    "                    remainder='passthrough',\n",
    "                ),\n",
    "            ),\n",
    "            # Paso 2: Construya un selector de características que seleccione las K\n",
    "            # características más importantes. Utilice la función f_regression.\n",
    "            (\n",
    "                \"selectKBest\",\n",
    "                SelectKBest(score_func=f_regression),\n",
    "            ),\n",
    "            # Paso 3: Construya un modelo de regresión lineal.\n",
    "            (\n",
    "                \"linearRegression\",\n",
    "                LinearRegression(),\n",
    "            ),\n",
    "        ],\n",
    "    )"
   ]
  },
  {
   "cell_type": "code",
   "execution_count": 208,
   "id": "4da0dabe",
   "metadata": {},
   "outputs": [],
   "source": [
    " param_grid = {\n",
    "        \"selectKBest__k\": (1, 73),\n",
    "    }"
   ]
  },
  {
   "cell_type": "code",
   "execution_count": 219,
   "id": "3a7be2c7",
   "metadata": {},
   "outputs": [],
   "source": [
    "gridSearchCV = GridSearchCV(\n",
    "        estimator=pipeline,\n",
    "        param_grid=param_grid,\n",
    "        cv=5,\n",
    "        scoring=\"neg_mean_squared_error\",\n",
    "        refit=True,\n",
    "        return_train_score=True,\n",
    "    )"
   ]
  },
  {
   "cell_type": "code",
   "execution_count": 220,
   "id": "d40c70ac",
   "metadata": {},
   "outputs": [
    {
     "data": {
      "text/plain": [
       "GridSearchCV(cv=5,\n",
       "             estimator=Pipeline(steps=[('column_transfomer',\n",
       "                                        ColumnTransformer(remainder='passthrough',\n",
       "                                                          transformers=[('onehotencoder',\n",
       "                                                                         OneHotEncoder(),\n",
       "                                                                         <sklearn.compose._column_transformer.make_column_selector object at 0x0000027CDAD917C8>)])),\n",
       "                                       ('selectKBest',\n",
       "                                        SelectKBest(score_func=<function f_regression at 0x0000027CC5F78F78>)),\n",
       "                                       ('linearRegression',\n",
       "                                        LinearRegression())]),\n",
       "             param_grid={'selectKBest__k': (1, 73)}, return_train_score=True,\n",
       "             scoring='neg_mean_squared_error')"
      ]
     },
     "execution_count": 220,
     "metadata": {},
     "output_type": "execute_result"
    }
   ],
   "source": [
    "gridSearchCV.fit(X_train, Y_train.values.ravel())"
   ]
  },
  {
   "cell_type": "code",
   "execution_count": 221,
   "id": "bf85d5a3",
   "metadata": {},
   "outputs": [],
   "source": [
    "from sklearn.metrics import mean_squared_error\n",
    "from sklearn.metrics import r2_score\n",
    "# Evalúe el modelo con los conjuntos de entrenamiento y prueba.\n",
    "Y_train_pred = gridSearchCV.predict(X_train)\n",
    "Y_test_pred = gridSearchCV.predict(X_test)\n",
    "\n",
    "    # Compute el error cuadratico medio de entrenamiento y prueba. Redondee los\n",
    "    # valores a dos decimales.\n",
    "\n",
    "mse_train = r2_score(\n",
    "        Y_train,\n",
    "        Y_train_pred,\n",
    "    ).round(2)\n",
    "\n",
    "mse_test = r2_score(\n",
    "        Y_test,\n",
    "        Y_test_pred,\n",
    "    ).round(2)"
   ]
  },
  {
   "cell_type": "code",
   "execution_count": 222,
   "id": "5ea959ab",
   "metadata": {},
   "outputs": [
    {
     "name": "stdout",
     "output_type": "stream",
     "text": [
      "0.39 0.45\n"
     ]
    }
   ],
   "source": [
    "print(mse_test,mse_train)"
   ]
  },
  {
   "cell_type": "code",
   "execution_count": 223,
   "id": "af2c35bf",
   "metadata": {},
   "outputs": [
    {
     "data": {
      "text/plain": [
       "{'selectKBest__k': 73}"
      ]
     },
     "execution_count": 223,
     "metadata": {},
     "output_type": "execute_result"
    }
   ],
   "source": [
    "gridSearchCV.best_params_"
   ]
  },
  {
   "cell_type": "code",
   "execution_count": 224,
   "id": "19120a29",
   "metadata": {},
   "outputs": [],
   "source": [
    "from sklearn.metrics import mean_absolute_percentage_error,median_absolute_error\n",
    "mape_train = median_absolute_error(\n",
    "        Y_train,\n",
    "        Y_train_pred,\n",
    "    ).round(2)\n",
    "\n",
    "mape_test = median_absolute_error(\n",
    "        Y_test,\n",
    "        Y_test_pred,\n",
    "    ).round(2)"
   ]
  },
  {
   "cell_type": "code",
   "execution_count": 225,
   "id": "583d8366",
   "metadata": {},
   "outputs": [
    {
     "name": "stdout",
     "output_type": "stream",
     "text": [
      "1.4 1.43\n"
     ]
    }
   ],
   "source": [
    "print(mape_train,mape_test)"
   ]
  },
  {
   "cell_type": "code",
   "execution_count": 229,
   "id": "ca8a5da6",
   "metadata": {},
   "outputs": [],
   "source": [
    "resultTest=pd.DataFrame()\n",
    "resultTest[\"esperado\"]=Y_train\n",
    "resultTest[\"predicho\"]=Y_train_pred"
   ]
  },
  {
   "cell_type": "code",
   "execution_count": 230,
   "id": "a90b71d7",
   "metadata": {},
   "outputs": [
    {
     "data": {
      "text/html": [
       "<div>\n",
       "<style scoped>\n",
       "    .dataframe tbody tr th:only-of-type {\n",
       "        vertical-align: middle;\n",
       "    }\n",
       "\n",
       "    .dataframe tbody tr th {\n",
       "        vertical-align: top;\n",
       "    }\n",
       "\n",
       "    .dataframe thead th {\n",
       "        text-align: right;\n",
       "    }\n",
       "</style>\n",
       "<table border=\"1\" class=\"dataframe\">\n",
       "  <thead>\n",
       "    <tr style=\"text-align: right;\">\n",
       "      <th></th>\n",
       "      <th>esperado</th>\n",
       "      <th>predicho</th>\n",
       "    </tr>\n",
       "  </thead>\n",
       "  <tbody>\n",
       "    <tr>\n",
       "      <th>0</th>\n",
       "      <td>8</td>\n",
       "      <td>9.814226</td>\n",
       "    </tr>\n",
       "    <tr>\n",
       "      <th>1</th>\n",
       "      <td>4</td>\n",
       "      <td>7.423564</td>\n",
       "    </tr>\n",
       "    <tr>\n",
       "      <th>2</th>\n",
       "      <td>1</td>\n",
       "      <td>4.522833</td>\n",
       "    </tr>\n",
       "    <tr>\n",
       "      <th>3</th>\n",
       "      <td>2</td>\n",
       "      <td>7.159012</td>\n",
       "    </tr>\n",
       "    <tr>\n",
       "      <th>4</th>\n",
       "      <td>2</td>\n",
       "      <td>6.316984</td>\n",
       "    </tr>\n",
       "  </tbody>\n",
       "</table>\n",
       "</div>"
      ],
      "text/plain": [
       "   esperado  predicho\n",
       "0         8  9.814226\n",
       "1         4  7.423564\n",
       "2         1  4.522833\n",
       "3         2  7.159012\n",
       "4         2  6.316984"
      ]
     },
     "execution_count": 230,
     "metadata": {},
     "output_type": "execute_result"
    }
   ],
   "source": [
    "resultTest.head()"
   ]
  },
  {
   "cell_type": "code",
   "execution_count": null,
   "id": "edfb51ff",
   "metadata": {},
   "outputs": [],
   "source": []
  }
 ],
 "metadata": {
  "kernelspec": {
   "display_name": "Python 3 (ipykernel)",
   "language": "python",
   "name": "python3"
  },
  "language_info": {
   "codemirror_mode": {
    "name": "ipython",
    "version": 3
   },
   "file_extension": ".py",
   "mimetype": "text/x-python",
   "name": "python",
   "nbconvert_exporter": "python",
   "pygments_lexer": "ipython3",
   "version": "3.7.13"
  }
 },
 "nbformat": 4,
 "nbformat_minor": 5
}
