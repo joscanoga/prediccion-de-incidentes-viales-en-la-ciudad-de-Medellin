{
 "cells": [
  {
   "cell_type": "markdown",
   "id": "e31f22a6",
   "metadata": {},
   "source": [
    "\n",
    "# prediccion de incidentes viales en la ciudad de Medellin"
   ]
  },
  {
   "cell_type": "markdown",
   "id": "6ebed440",
   "metadata": {},
   "source": [
    "## importacion librerias necesarias"
   ]
  },
  {
   "cell_type": "code",
   "execution_count": 1,
   "id": "9a0ff55a",
   "metadata": {},
   "outputs": [],
   "source": [
    "import pandas as pd\n",
    "import re\n",
    "import matplotlib.pyplot as plt\n",
    "import seaborn as sns\n",
    "import numpy as np\n",
    "import tensorflow as tf\n",
    "\n",
    "from tensorflow import keras\n",
    "from tensorflow.keras import layers\n"
   ]
  },
  {
   "cell_type": "markdown",
   "id": "0fd8d3cc",
   "metadata": {},
   "source": [
    "## lectura y exploracion de los datos"
   ]
  },
  {
   "cell_type": "code",
   "execution_count": 2,
   "id": "d3bdd6c7",
   "metadata": {},
   "outputs": [
    {
     "name": "stdout",
     "output_type": "stream",
     "text": [
      "    AÑO  CBML CLASE_ACCIDENTE      DIRECCION       DIRECCION ENCASILLADA  \\\n",
      "0  2015  1013  Caida Ocupante    CR 46 CL 43    CR  046   043  000 00000   \n",
      "1  2015  1020          Choque  CR 43 A CL 29  CR  043 A   029  000 00000   \n",
      "2  2015  0205            Otro    CR 46 CL 37    CR  046   037  000 00000   \n",
      "3  2015  0101       Atropello   CR 34 CL 112    CR  034   112  000 00000   \n",
      "4  2015  1504          Choque    CR 50 CL 14    CR  050   014  000 00000   \n",
      "\n",
      "         DISEÑO  EXPEDIENTE      FECHA_ACCIDENTE          FECHA_ACCIDENTES  \\\n",
      "0  Tramo de via  A000259731  21/10/2015 05:58:00  2015-10-21T10:58:00.000Z   \n",
      "1  Tramo de via  A000261725  05/11/2015 03:00:00  2015-11-05T08:00:00.000Z   \n",
      "2  Tramo de via  A000259739  21/10/2015 07:40:00  2015-10-21T12:40:00.000Z   \n",
      "3  Tramo de via  A000259752  21/10/2015 12:00:00  2015-10-21T17:00:00.000Z   \n",
      "4  Tramo de via  A000259949  03/11/2015 06:16:00  2015-11-03T11:16:00.000Z   \n",
      "\n",
      "  GRAVEDAD_ACCIDENTE  MES NRO_RADICADO NUMCOMUNA                     BARRIO  \\\n",
      "0        Con heridos   10      1508668        10               Barrio Colón   \n",
      "1         Solo daños   11      1510621        10                  San Diego   \n",
      "2        Con heridos   10      1508691        02                 La Francia   \n",
      "3        Con heridos   10      1508694        01  Santo Domingo Savio No. 1   \n",
      "4         Solo daños   11      1510634        15                   Santa Fé   \n",
      "\n",
      "          COMUNA                         LOCATION          X           Y  \n",
      "0  La Candelaria  [-75.5688011014, 6.24312304123]  834949.69  1182357.34  \n",
      "1  La Candelaria  [-75.5693883283, 6.22870030622]  834880.17  1180762.02  \n",
      "2     Santa Cruz  [-75.5503911403, 6.29869502502]  837004.94  1188499.17  \n",
      "3        Popular  [-75.5442195069, 6.30019383306]  837688.53  1188663.05  \n",
      "4       Guayabal   [-75.578180998, 6.21699243701]  833903.11  1179469.60  \n"
     ]
    },
    {
     "name": "stderr",
     "output_type": "stream",
     "text": [
      "C:\\Users\\johan\\anaconda3\\envs\\tensorflow_gpu\\lib\\site-packages\\IPython\\core\\interactiveshell.py:3552: DtypeWarning: Columns (0,11) have mixed types.Specify dtype option on import or set low_memory=False.\n",
      "  exec(code_obj, self.user_global_ns, self.user_ns)\n"
     ]
    }
   ],
   "source": [
    "#lectura dataframe saltando las filas malas\n",
    "df=pd.read_csv(\"incidentes_viales.csv\",on_bad_lines='skip',index_col=False,sep=\";\",encoding=\"UTF-8\")\n",
    "print(df.head())"
   ]
  },
  {
   "cell_type": "code",
   "execution_count": 3,
   "id": "e174dd0b",
   "metadata": {},
   "outputs": [
    {
     "name": "stdout",
     "output_type": "stream",
     "text": [
      "Index(['AÑO', 'CBML', 'CLASE_ACCIDENTE', 'DIRECCION', 'DIRECCION ENCASILLADA',\n",
      "       'DISEÑO', 'EXPEDIENTE', 'FECHA_ACCIDENTE', 'FECHA_ACCIDENTES',\n",
      "       'GRAVEDAD_ACCIDENTE', 'MES', 'NRO_RADICADO', 'NUMCOMUNA', 'BARRIO',\n",
      "       'COMUNA', 'LOCATION', 'X', 'Y'],\n",
      "      dtype='object')\n",
      "numero de columnas iniciales  18\n",
      "numero de filas iniciales  270765\n"
     ]
    }
   ],
   "source": [
    "#revisamos las columnas\n",
    "print(df.columns)\n",
    "print(\"numero de columnas iniciales \",len(df.columns))\n",
    "print(\"numero de filas iniciales \",df.shape[0])\n"
   ]
  },
  {
   "cell_type": "markdown",
   "id": "97b29654",
   "metadata": {},
   "source": [
    "## limpieza de datos"
   ]
  },
  {
   "cell_type": "code",
   "execution_count": 4,
   "id": "9dd5ad6b",
   "metadata": {},
   "outputs": [
    {
     "name": "stdout",
     "output_type": "stream",
     "text": [
      "250686\n"
     ]
    }
   ],
   "source": [
    "#eliminacion de datos con nulos\n",
    "df.dropna(inplace=True)\n",
    "#eliminar datos duplicados\n",
    "df.drop_duplicates(inplace=True)\n",
    "print(df.shape[0])"
   ]
  },
  {
   "cell_type": "code",
   "execution_count": 5,
   "id": "0c4dbcbc",
   "metadata": {},
   "outputs": [
    {
     "name": "stdout",
     "output_type": "stream",
     "text": [
      "['2015' '2014' '2016' '2017' '2018' '2019' '2020']\n"
     ]
    }
   ],
   "source": [
    "#AÑO-Año de ocurrencia del incidente\n",
    "df[\"AÑO\"]=df[\"AÑO\"].apply(lambda x : re.findall(r\"[0-9]{4}\",str(x))[0])\n",
    "print(df[\"AÑO\"].unique())"
   ]
  },
  {
   "cell_type": "code",
   "execution_count": 6,
   "id": "90e158ff",
   "metadata": {},
   "outputs": [
    {
     "name": "stdout",
     "output_type": "stream",
     "text": [
      "521\n"
     ]
    }
   ],
   "source": [
    "#CBML-Codigo catastral que corresponde al codigo comuna, barrio, manzana, lote catastral de un predio.\n",
    "print(len(df[\"CBML\"].unique()))"
   ]
  },
  {
   "cell_type": "code",
   "execution_count": 7,
   "id": "07fc0e9b",
   "metadata": {},
   "outputs": [
    {
     "name": "stdout",
     "output_type": "stream",
     "text": [
      "['caida ocupante' 'choque' 'otro' 'atropello' 'volcamiento' 'incendio']\n"
     ]
    }
   ],
   "source": [
    "#CLASE_ACCIDENTE-Clasificación del IPAT sobre la clase de accidente de transito: choque, atropello, volcamiento,\n",
    "#caida de ocupante, incendio, u otro (que no corresponde a las anteriores 5 clasificaciones, p. ej: sumersión)\n",
    "df[\"CLASE_ACCIDENTE\"]=df[\"CLASE_ACCIDENTE\"].apply(lambda x : str(x).replace(\"Caída de Ocupante\",\"Caida Ocupante\").lower())\n",
    "print((df[\"CLASE_ACCIDENTE\"].unique()))"
   ]
  },
  {
   "cell_type": "code",
   "execution_count": 8,
   "id": "3340b229",
   "metadata": {},
   "outputs": [
    {
     "name": "stdout",
     "output_type": "stream",
     "text": [
      "243483        CL 48 CR 92\n",
      "219633        CR 39 CL 48\n",
      "253358        CR 41 CL 57\n",
      "81348     CR 42 B CL 33 A\n",
      "152064        CR 36 CL 90\n",
      "40088          CR 29 CL 5\n",
      "48315         CL 46 CR 30\n",
      "31343        CR 102 CL 69\n",
      "54546         CR 64 CL 78\n",
      "71482     CL 48 B CR 99 A\n",
      "Name: DIRECCION, dtype: object\n"
     ]
    }
   ],
   "source": [
    "#DIRECCION-Dirección donde ocurrió el incidente\n",
    "##aparentemente se encuentra ya formateada\n",
    "print((df[\"DIRECCION\"].sample(10)))"
   ]
  },
  {
   "cell_type": "code",
   "execution_count": 9,
   "id": "03b23aa3",
   "metadata": {},
   "outputs": [
    {
     "name": "stdout",
     "output_type": "stream",
     "text": [
      "165246      CL  091   052  000 00000\n",
      "264187      CR  074   093  000 00000\n",
      "121716      CR  045   037  000 00000\n",
      "170516    CR  047 B   098  000 00000\n",
      "58535       CR  063   048  000 00000\n",
      "111208      CR  049   028  000 00000\n",
      "152648      CR  052   090  000 00000\n",
      "186394      CL  048   071  000 00000\n",
      "129259      CR  080   052  000 00000\n",
      "424         CR  091   044  000 00000\n",
      "Name: DIRECCION ENCASILLADA, dtype: object\n"
     ]
    }
   ],
   "source": [
    "#DIRECCION ENCASILLADA-\tDirección encasillada que entrega el geocodificador\n",
    "##aparentemente se encuentra ya formateada\n",
    "##variable con poca informacion util dada la variable anterior--escoger una de las 2\n",
    "print((df[\"DIRECCION ENCASILLADA\"].sample(10)))"
   ]
  },
  {
   "cell_type": "code",
   "execution_count": 10,
   "id": "7ce8f619",
   "metadata": {},
   "outputs": [
    {
     "name": "stdout",
     "output_type": "stream",
     "text": [
      "['tramo de via' 'interseccion' 'glorieta' 'lote o predio' 'paso a nivel'\n",
      " 'puente' 'paso elevado' 'ciclo ruta' 'paso inferior' 'via peatonal'\n",
      " 'pontón' 'tunel']\n"
     ]
    }
   ],
   "source": [
    "#DISENO-Sitio de la vía donde ocurrió el accidente: Cicloruta, Glorieta, Interseccion, Lote o Predio, Paso a Nivel, Paso Elevado,\n",
    "#Paso Inferior, Pontón, Puente, Tramo de via, Tunel, Via peatonal\n",
    "df[\"DISEÑO\"]=df[\"DISEÑO\"].apply(lambda x : str(x).replace(\"Pont\\\\xF3n\",\"Pontón\").lower())\n",
    "print((df[\"DISEÑO\"].unique()))"
   ]
  },
  {
   "cell_type": "code",
   "execution_count": 11,
   "id": "819129be",
   "metadata": {},
   "outputs": [
    {
     "name": "stdout",
     "output_type": "stream",
     "text": [
      "76230     A000308055\n",
      "128767    A000591757\n",
      "35707     A001004507\n",
      "36684     A001007853\n",
      "124020    A000490062\n",
      "49601     A000675266\n",
      "199937    A000775621\n",
      "92420     A000173780\n",
      "90048     A000670555\n",
      "202754    A000114063\n",
      "Name: EXPEDIENTE, dtype: object\n"
     ]
    }
   ],
   "source": [
    "#EXPEDIENTE\n",
    "#Consecutivo que asigna UNE, según el orden de llegada de los expedientes para su diligenciamiento\n",
    "##variable  aprarentemente con poco valor\n",
    "print((df[\"EXPEDIENTE\"].sample(10)))"
   ]
  },
  {
   "cell_type": "code",
   "execution_count": 12,
   "id": "c391cd5b",
   "metadata": {},
   "outputs": [
    {
     "name": "stdout",
     "output_type": "stream",
     "text": [
      "581      2015-11-25 06:15:00\n",
      "106488   2014-10-10 00:35:00\n",
      "250300   2019-02-05 16:45:00\n",
      "221663   2016-08-09 09:00:00\n",
      "58052    2014-09-16 18:00:00\n",
      "37916    2019-09-05 19:30:00\n",
      "173562   2019-12-23 14:00:00\n",
      "253733   2019-05-08 07:30:00\n",
      "126748   2017-03-04 15:20:00\n",
      "75109    2015-01-16 15:50:00\n",
      "Name: FECHA_ACCIDENTE, dtype: datetime64[ns]\n"
     ]
    }
   ],
   "source": [
    "#FECHA_ACCIDENTE\n",
    "#Fecha del accidente, proviene del IPAT - Informe Policial de accidente de Tránsito\n",
    "df[\"FECHA_ACCIDENTE\"] = pd.to_datetime(df[\"FECHA_ACCIDENTE\"],dayfirst=True)\n",
    "print((df[\"FECHA_ACCIDENTE\"].sample(10)))"
   ]
  },
  {
   "cell_type": "code",
   "execution_count": 13,
   "id": "24aaea57",
   "metadata": {},
   "outputs": [
    {
     "name": "stdout",
     "output_type": "stream",
     "text": [
      "0    2015-10-21T10:58:00.000Z\n",
      "1    2015-11-05T08:00:00.000Z\n",
      "2    2015-10-21T12:40:00.000Z\n",
      "3    2015-10-21T17:00:00.000Z\n",
      "4    2015-11-03T11:16:00.000Z\n",
      "5    2015-11-05T09:30:00.000Z\n",
      "6    2015-10-18T09:40:00.000Z\n",
      "7    2015-11-04T09:46:00.000Z\n",
      "8    2015-10-21T12:00:00.000Z\n",
      "9    2015-11-05T12:00:00.000Z\n",
      "Name: FECHA_ACCIDENTES, dtype: object\n"
     ]
    }
   ],
   "source": [
    "#FECHA_ACCIDENTES\n",
    "#Fecha de los accidente (formato YYYY-MM-DD hh:mi:ss), proviene del IPAT - Informe Policial de accidentes de Tránsito\n",
    "##veriable redundante con la anterior\n",
    "print((df[\"FECHA_ACCIDENTES\"].head(10)))"
   ]
  },
  {
   "cell_type": "code",
   "execution_count": 14,
   "id": "3f0c26b6",
   "metadata": {},
   "outputs": [
    {
     "name": "stdout",
     "output_type": "stream",
     "text": [
      "['con heridos' 'solo daños' 'con muertos']\n"
     ]
    }
   ],
   "source": [
    "#GRAVEDAD_ACCIDENTE\n",
    "#Clasificación del IPAT - Informe Policial de Accidentes de Tránsito, sobre la gravedad del accidente, corresponde al resultado \n",
    "#más grave presentado en el accidente. Daños materiales \"Sólo daños\", accidente con heridos \"Herido\", accidente con muertos \n",
    "#\"Muerto\". No indica cantidad\n",
    "df[\"GRAVEDAD_ACCIDENTE\"]=df[\"GRAVEDAD_ACCIDENTE\"].apply(lambda x : str(x).replace(\"Solo da\\\\xF1os\",\"Solo daños\").lower())\n",
    "print((df[\"GRAVEDAD_ACCIDENTE\"].unique()))"
   ]
  },
  {
   "cell_type": "code",
   "execution_count": 15,
   "id": "b9e23da5",
   "metadata": {},
   "outputs": [
    {
     "name": "stdout",
     "output_type": "stream",
     "text": [
      "[10 11 12  9  4  3  5  6  7  8  1  2]\n"
     ]
    }
   ],
   "source": [
    "#MES\n",
    "#Mes de ocurrencia del incidente vial\n",
    "print((df[\"MES\"].unique()))"
   ]
  },
  {
   "cell_type": "code",
   "execution_count": 16,
   "id": "9b295969",
   "metadata": {},
   "outputs": [
    {
     "name": "stdout",
     "output_type": "stream",
     "text": [
      "0    1508668\n",
      "1    1510621\n",
      "2    1508691\n",
      "3    1508694\n",
      "4    1510634\n",
      "Name: NRO_RADICADO, dtype: object\n"
     ]
    }
   ],
   "source": [
    "#NRO_RADICADO\n",
    "#Consecutivo que asigna UNE, según el orden de llegada de los expedientes para su diligenciamiento\n",
    "#no tiene mucho valor aparentemente para nuestros fines\n",
    "print((df[\"NRO_RADICADO\"].head()))"
   ]
  },
  {
   "cell_type": "code",
   "execution_count": 17,
   "id": "1f702a6c",
   "metadata": {},
   "outputs": [
    {
     "name": "stdout",
     "output_type": "stream",
     "text": [
      "['1', '10', '11', '12', '13', '14', '15', '16', '2', '3', '4', '5', '6', '7', '8', '9']\n"
     ]
    }
   ],
   "source": [
    "#NUMCOMUNA\n",
    "#Numero de la comununa en la que ocurrio incidente vial\n",
    "#se eliminan las filas con valores que no corespondan con \n",
    "df=df[df[\"NUMCOMUNA\"]!=\"AU\"]\n",
    "df=df[df[\"NUMCOMUNA\"]!=\"Sin Inf\"]\n",
    "df=df[df[\"NUMCOMUNA\"]!=\"In\"]\n",
    "df=df[df[\"NUMCOMUNA\"]!=\"SN\"]\n",
    "df=df[df[\"NUMCOMUNA\"]!=\"0\"]\n",
    "#asuminos que las comunas 60,70,80,90 son las comunas 6,7,8,9 respectivamente\n",
    "df[\"NUMCOMUNA\"]=df[\"NUMCOMUNA\"].apply(lambda x : (int(x)))\n",
    "df[\"NUMCOMUNA\"]=df[\"NUMCOMUNA\"].apply(lambda x : x/10 if x >20 else x)\n",
    "df[\"NUMCOMUNA\"]=df[\"NUMCOMUNA\"].apply(lambda x : str(int(x)))\n",
    "print(sorted(df[\"NUMCOMUNA\"].unique()))"
   ]
  },
  {
   "cell_type": "code",
   "execution_count": 18,
   "id": "56a0d5c8",
   "metadata": {},
   "outputs": [
    {
     "name": "stdout",
     "output_type": "stream",
     "text": [
      "488\n",
      "['barrio colon' 'san diego' 'la francia' 'santo domingo savio no. 1'\n",
      " 'santa fe' 'la florida' 'los conquistadores' 'la alpujarra' 'villa nueva'\n",
      " 'facultad de minas u. nacional' 'la esperanza' 'perpetuo socorro'\n",
      " 'campo valdes no. 1' 'miraflores' 'oleoducto' 'terminal de transporte'\n",
      " 'gerona' 'u.d. atanasio girardot' 'alejandro echavarria'\n",
      " 'cabecera san antonio de prado' 'manila' 'los balsos no.2' 'moravia'\n",
      " 'tenche' 'universidad nacional' 'los colores' 'caribe'\n",
      " 'juan xxiii la quiebra' 'belalcazar' 'santa cruz' 'sucre' 'la candelaria'\n",
      " 'el estadio' 'suramericana' 'la gloria' 'centro administrativo'\n",
      " 'las estancias' 'aures no. 2' 'los angeles' 'castilla' 'la salle'\n",
      " 'la america' 'picacho' 'bosques de san pablo' 'la aguacatala'\n",
      " 'playon de los comuneros' 'estacion villa' 'la colina' 'popular'\n",
      " 'villa del socorro' 'cucaracho' 'santa maria de los angeles'\n",
      " 'el chagualo' 'la mansion' 'san benito' 'la castellana' 'jesus nazareno'\n",
      " 'loreto' 'asomadera no. 1' 'el salvador' 'cristo rey' 'moscu no. 2'\n",
      " 'la mota' 'villa hermosa' 'cordoba' 'campo amor' 'naranjal' 'san isidro'\n",
      " 'boyaca' 'belen' 'miranda' 'las palmas' 'patio bonito' 'el castillo'\n",
      " 'guayabal' 'girardot' 'campo valdes no. 2' 'doce de octubre no.1'\n",
      " 'el raizal' 'rosales' 'san martin de porres' 'berlin' 'kennedy'\n",
      " 'el rincon' 'carlos e. restrepo' 'moscu no. 1' 'altavista sector central'\n",
      " 'san javier no.1' 'bolivariana' 'prado' 'boston' 'veinte de julio'\n",
      " 'alfonso lopez' 'hector abad gomez' 'parque juan pablo ii' 'lorena'\n",
      " 'los alpes' 'parque norte' 'la ladera' 'trinidad' 'castropol' 'laureles'\n",
      " 'la piñuela' 'aranjuez' 'robledo' 'buenos aires' 'san german'\n",
      " 'bombona no. 1' 'area de expansion pajarito' 'santander' 'simon bolivar'\n",
      " 'corazon de jesus' 'francisco antonio zea' 'cuarta brigada' 'los mangos'\n",
      " 'versalles no. 2' 'calle nueva' 'fatima' 'asomadera no. 2' 'guayaquil'\n",
      " 'villa carlota' 'la pilarica' 'los balsos no.1' 'la esperanza no. 2'\n",
      " 'san pedro' 'manrique oriental' 'cerro nutibara'\n",
      " 'nueva villa de la iguana' 'sevilla' 'manrique central no. 1'\n",
      " 'tricentenario' 'el progreso' 'campo alegre' 'el pomar' 'florida nueva'\n",
      " 'barrio caicedo' 'barrio colombia' 'cabecera urbana san cristobal'\n",
      " 'los cerros el vergel' 'astorga' 'santa monica' 'la isla' 'san bernardo'\n",
      " 'altamira' 'san javier no.2' 'la floresta' 'aures no.1' 'cataluña'\n",
      " 'antonio nariño' 'lopez de mesa' 'granizal' 'las lomas no.1'\n",
      " 'los alcazares' 'el velodromo' 'nueva villa de aburra' 'villa flora'\n",
      " 'las acacias' 'llanaditas' 'florencia' 'las esmeraldas' 'los pinos'\n",
      " 'el danubio' 'las granjas' 'el diamante' 'lalinde' 'el diamante no. 2'\n",
      " 'ferrini' 'santa ines' 'palermo' 'la cruz' 'olaya herrera' 'belencito'\n",
      " 'los naranjos' 'altavista' 'manrique central no. 2'\n",
      " 'universidad de antioquia' 'pedregal' 'las brisas' 'el salado' 'toscana'\n",
      " 'calasanz' 'el tesoro' 'brasilia' 'bermejal-los alamos' 'el poblado'\n",
      " 'villa guadalupe' 'la frontera' 'enciso' 'villatina' 'aguas frias'\n",
      " 'monteclaro' 'maria cano carambolas' 'cementerio universal'\n",
      " 'campo valdes no.2' 'metropolitano' 'versalles no. 1' 'la libertad'\n",
      " 'la rosa' 'san miguel' 'suburbano mirador del poblado' 'granada'\n",
      " 'alejandria' 'loma de los bernal' 'doce de octubre no.2' 'la hondonada'\n",
      " 'santa margarita' 'san joaquin' 'tejelo' 'san lucas' 'miravalle'\n",
      " 'altos del poblado' 'manrique central no.2' 'el corazon'\n",
      " 'bello horizonte' 'la palma' 'barrio de jesus' 'diego echavarria'\n",
      " 'el pinal' 'las playas' 'la oculta' 'la pradera' 'el triunfo'\n",
      " 'las violetas' 'mirador del doce' 'san pablo' 'las lomas no.2'\n",
      " 'santa lucia' 'suburbano pedregal alto' 'asomadera no. 3' 'bombona no.1'\n",
      " 'betania' 'facultad veterinaria y zootecnia u.de.a.' 'andalucia'\n",
      " 'villa niza' 'carpinelo' 'el progreso no.2' 'santa teresita'\n",
      " 'suburbano altavista' 'suburbano la loma' 'b. cerro  el volador'\n",
      " 'aldea pablo vi' 'bombona no. 2' 'barrio cristobal' 'la loma oriental'\n",
      " 'villa liliam' 'villa turbay' 'calasanz parte alta'\n",
      " 'el nogal-los almendros' 'u.p.b.' 'oriente' 'santa rosa de lima'\n",
      " 'santo domingo savio no. 2' 'la milagrosa' 'blanquizal' 'plaza de ferias'\n",
      " 'area de expansion san antonio de prado' 'buga patio bonito' 'pajarito'\n",
      " 'hospital san vicente de paul' 'fuente clara' 'jardin botanico'\n",
      " 'la verde' 'el pesebre' 'el compromiso' 'el rodeo'\n",
      " 'nuevos conquistadores' 'suburbano travesias' 'palenque'\n",
      " 'trece de noviembre' 'san antonio' 'manrique central no.1'\n",
      " 'juan pablo ii' 'area de expansion altos de calasanz' 'las mercedes'\n",
      " 'el socorro' 'pedregal bajo' 'eduardo santos' 'pedregal alto' 'picachito'\n",
      " 'la avanzada' 'inst' 'suburbano palmitas' 'ocho de marzo'\n",
      " 'las independencias' 'pablo vi' 'area de expansion altavista'\n",
      " 'suburbano el plan' 'versalles no.1' 'piedras blancas' 'el picacho'\n",
      " 'san jose la cima no. 1' '6001' 'suburbano el tesoro'\n",
      " 'la loma de los bernal' 'la sierra' 'suburbano el llano'\n",
      " 'santo domingo savio no.1' 'volcana guayabal' 'el corazon el morro'\n",
      " '7001' 'san jose la cima no.2' 'yolombo' 'aures no.2' 'barrios de jesus'\n",
      " 'batallon girardot' 'palmitas sector central' '0'\n",
      " 'area de expansion belen rincon' 'el vergel' 'suburbano palma patio'\n",
      " 'san jose de la montaña' 'suburb el plan' 'asomadera no.1'\n",
      " 'piedras blancas represa' 'la loma' 'potrerito' 'moscu no.2'\n",
      " 'suburbano la cuchilla' '1018' '1507' '1504' '1408' '1011' '1419' '1503'\n",
      " '0907' 'sin inf' '1422' '1020' '0408' '1510' 'santa elena sector central'\n",
      " '1114' '0205' '1423' '0402' '0103' '0717' '0505' '1019' '1001' '0509'\n",
      " '0301' '1101' '0303' '0409' '0811' '0712' '1603' '1003' '0307' '1204'\n",
      " '0208' '0809' '0306' '0906' '1007' '0413' 'suburbano aguas frias' '1103'\n",
      " '1108' '1511' '0109' '1206' '0914' '0711' 'san jose del manzanillo'\n",
      " '1613' '0813' '0514' '1611' '1306' '0819' '7002'\n",
      " 'suburbano la palma-el patio' '1012' 'versalles no.2' 'media luna'\n",
      " 'piedras blancas - matasano' 'suburbano potrerito' 'villa lilliam' 'auc1'\n",
      " '9004' 'el plan' 'el uvito' '9086' 'el llano se' 'yarumalito' '0312'\n",
      " '1102' '1202' '0302' '1105' '1205' 'el astillero' '0310' '0309' '1211'\n",
      " '0803' '0105' '0606' '0716' '1605' '0211' '5002' 'suburbano piedra gorda'\n",
      " '0912' 'sin nombre' 'travesias' 'moscu no.1' '0903' '1004' '1015' '1620'\n",
      " '1612' '1008' '0815' '0304' '0202' 'boqueron']\n"
     ]
    }
   ],
   "source": [
    "#BARRIO\n",
    "print(len(df[\"BARRIO\"].unique()))\n",
    "#Barrio de ocurrencia del incidente vial\n",
    "#ó por o\n",
    "df[\"BARRIO\"]=df[\"BARRIO\"].apply(lambda x : str(x).lower().replace(\"\\\\xf3\",\"o\").replace(\"ó\",\"o\"))\n",
    "#é por e \n",
    "df[\"BARRIO\"]=df[\"BARRIO\"].apply(lambda x : str(x).replace(\"\\\\xe9\",\"e\").replace(\"é\",\"e\"))\n",
    "#á por a \n",
    "df[\"BARRIO\"]=df[\"BARRIO\"].apply(lambda x : str(x).replace(\"\\\\xc1\",\"a\").replace(\"\\\\xe1\",\"a\").replace(\"á\",\"a\"))\n",
    "#ñ\n",
    "df[\"BARRIO\"]=df[\"BARRIO\"].apply(lambda x : str(x).replace(\"\\\\xf1\",\"ñ\"))\n",
    "#\\\\xed í por i\n",
    "df[\"BARRIO\"]=df[\"BARRIO\"].apply(lambda x : str(x).replace(\"\\\\xed\",\"i\").replace(\"í\",\"i\"))\n",
    "#\\\\xfa ú por u\n",
    "df[\"BARRIO\"]=df[\"BARRIO\"].apply(lambda x : str(x).replace(\"\\\\xfa\",\"u\").replace(\"ú\",\"u\"))\n",
    "print((df[\"BARRIO\"].unique()))"
   ]
  },
  {
   "cell_type": "code",
   "execution_count": 19,
   "id": "eb1b0bc4",
   "metadata": {},
   "outputs": [
    {
     "name": "stdout",
     "output_type": "stream",
     "text": [
      "['la candelaria' 'santa cruz' 'popular' 'guayabal' 'el poblado'\n",
      " 'laureles estadio' 'robledo' 'doce de octubre' 'aranjuez' 'buenos aires'\n",
      " 'castilla' 'corregimiento de san antonio de prado' 'san javier'\n",
      " 'villa hermosa' 'belen' 'manrique' 'la america'\n",
      " 'corregimiento de altavista' 'corregimiento de san cristobal'\n",
      " 'corregimiento de santa elena' 'in'\n",
      " 'corregimiento de san sebastian de palmitas' 'au']\n"
     ]
    }
   ],
   "source": [
    "#COMUNA\n",
    "#Denominación con la cual se identifica cada Comuna o Corregimiento. 01:Popular 02:Santa Cruz 03:Manrique 04:Aranjuez 05:Castilla 06:Doce de Octubre 07:Robledo 08:Villa Hermosa 09:Buenos Aires 10:La Candelaria 11:Laureles - Estadio 12:La América 13:San Javier 14:El Poblado 15:Guayabal 16:Belén 50:San Sebastián de Palmitas 60:San Cristobal 70:Altavista 80:San Antonio de Prado 90:Santa Elena 99:Toda la Ciudad\n",
    "##variable redundante\n",
    "#ó por o\n",
    "df[\"COMUNA\"]=df[\"COMUNA\"].apply(lambda x : str(x).lower().replace(\"\\\\xf3\",\"o\").replace(\"ó\",\"o\"))\n",
    "#á por a \n",
    "df[\"COMUNA\"]=df[\"COMUNA\"].apply(lambda x : str(x).replace(\"\\\\xc1\",\"a\").replace(\"\\\\xe1\",\"a\").replace(\"á\",\"a\"))\n",
    "#é por e \n",
    "df[\"COMUNA\"]=df[\"COMUNA\"].apply(lambda x : str(x).replace(\"\\\\xe9\",\"e\").replace(\"é\",\"e\"))\n",
    "print((df[\"COMUNA\"].unique()))"
   ]
  },
  {
   "cell_type": "code",
   "execution_count": 20,
   "id": "435e3572",
   "metadata": {},
   "outputs": [
    {
     "name": "stdout",
     "output_type": "stream",
     "text": [
      "0    [-75.5688011014, 6.24312304123]\n",
      "1    [-75.5693883283, 6.22870030622]\n",
      "2    [-75.5503911403, 6.29869502502]\n",
      "3    [-75.5442195069, 6.30019383306]\n",
      "4     [-75.578180998, 6.21699243701]\n",
      "5      [-75.561118009, 6.2047775959]\n",
      "6    [-75.5810144962, 6.24576066323]\n",
      "7    [-75.5752597216, 6.24685341912]\n",
      "8    [-75.5624178534, 6.25341454089]\n",
      "9    [-75.5931430393, 6.27330476643]\n",
      "Name: LOCATION, dtype: object\n"
     ]
    }
   ],
   "source": [
    "#LOCATION\n",
    "#Fuente de información con la cual se realizó la geocodificación\n",
    "print((df[\"LOCATION\"].head(10)))"
   ]
  },
  {
   "cell_type": "code",
   "execution_count": 21,
   "id": "42181bd5",
   "metadata": {},
   "outputs": [
    {
     "name": "stdout",
     "output_type": "stream",
     "text": [
      "0    834949.69\n",
      "1    834880.17\n",
      "2    837004.94\n",
      "3    837688.53\n",
      "4    833903.11\n",
      "5    835788.30\n",
      "6    833598.49\n",
      "7    834235.89\n",
      "8    835659.53\n",
      "9    832264.64\n",
      "Name: X, dtype: float64\n"
     ]
    }
   ],
   "source": [
    "#X\n",
    "#Coordenada X en metros del accidente, en sistema de coordenadas MAGNA Medellin Local\n",
    "print(df[\"X\"].head(10))"
   ]
  },
  {
   "cell_type": "code",
   "execution_count": 22,
   "id": "d6db175a",
   "metadata": {},
   "outputs": [
    {
     "name": "stdout",
     "output_type": "stream",
     "text": [
      "0    1182357.34\n",
      "1    1180762.02\n",
      "2    1188499.17\n",
      "3    1188663.05\n",
      "4    1179469.60\n",
      "5    1178113.02\n",
      "6    1182652.97\n",
      "7    1182772.04\n",
      "8    1183493.83\n",
      "9    1185703.90\n",
      "Name: Y, dtype: float64\n"
     ]
    }
   ],
   "source": [
    "#Y\n",
    "#Coordenada Y en metros del accidente, en sistema de coordenadas MAGNA Medellin Local\n",
    "print(df[\"Y\"].head(10))"
   ]
  },
  {
   "cell_type": "code",
   "execution_count": 23,
   "id": "510e71f0",
   "metadata": {},
   "outputs": [],
   "source": [
    "#Eliminar duplicados\n",
    "df.drop_duplicates(inplace=True)\n",
    "#borrar columnas con datos redudantes o poco aportantes\n",
    "df.drop(labels=[\"DIRECCION ENCASILLADA\",\"EXPEDIENTE\",\"FECHA_ACCIDENTES\",\"NRO_RADICADO\",\"COMUNA\"],axis=1,inplace=True)"
   ]
  },
  {
   "cell_type": "code",
   "execution_count": 24,
   "id": "0daf8130",
   "metadata": {},
   "outputs": [
    {
     "data": {
      "text/html": [
       "<div>\n",
       "<style scoped>\n",
       "    .dataframe tbody tr th:only-of-type {\n",
       "        vertical-align: middle;\n",
       "    }\n",
       "\n",
       "    .dataframe tbody tr th {\n",
       "        vertical-align: top;\n",
       "    }\n",
       "\n",
       "    .dataframe thead th {\n",
       "        text-align: right;\n",
       "    }\n",
       "</style>\n",
       "<table border=\"1\" class=\"dataframe\">\n",
       "  <thead>\n",
       "    <tr style=\"text-align: right;\">\n",
       "      <th></th>\n",
       "      <th>AÑO</th>\n",
       "      <th>CBML</th>\n",
       "      <th>CLASE_ACCIDENTE</th>\n",
       "      <th>DIRECCION</th>\n",
       "      <th>DISEÑO</th>\n",
       "      <th>FECHA_ACCIDENTE</th>\n",
       "      <th>GRAVEDAD_ACCIDENTE</th>\n",
       "      <th>MES</th>\n",
       "      <th>NUMCOMUNA</th>\n",
       "      <th>BARRIO</th>\n",
       "      <th>LOCATION</th>\n",
       "      <th>X</th>\n",
       "      <th>Y</th>\n",
       "    </tr>\n",
       "  </thead>\n",
       "  <tbody>\n",
       "    <tr>\n",
       "      <th>0</th>\n",
       "      <td>2015</td>\n",
       "      <td>1013</td>\n",
       "      <td>caida ocupante</td>\n",
       "      <td>CR 46 CL 43</td>\n",
       "      <td>tramo de via</td>\n",
       "      <td>2015-10-21 05:58:00</td>\n",
       "      <td>con heridos</td>\n",
       "      <td>10</td>\n",
       "      <td>10</td>\n",
       "      <td>barrio colon</td>\n",
       "      <td>[-75.5688011014, 6.24312304123]</td>\n",
       "      <td>834949.69</td>\n",
       "      <td>1182357.34</td>\n",
       "    </tr>\n",
       "    <tr>\n",
       "      <th>1</th>\n",
       "      <td>2015</td>\n",
       "      <td>1020</td>\n",
       "      <td>choque</td>\n",
       "      <td>CR 43 A CL 29</td>\n",
       "      <td>tramo de via</td>\n",
       "      <td>2015-11-05 03:00:00</td>\n",
       "      <td>solo daños</td>\n",
       "      <td>11</td>\n",
       "      <td>10</td>\n",
       "      <td>san diego</td>\n",
       "      <td>[-75.5693883283, 6.22870030622]</td>\n",
       "      <td>834880.17</td>\n",
       "      <td>1180762.02</td>\n",
       "    </tr>\n",
       "    <tr>\n",
       "      <th>2</th>\n",
       "      <td>2015</td>\n",
       "      <td>0205</td>\n",
       "      <td>otro</td>\n",
       "      <td>CR 46 CL 37</td>\n",
       "      <td>tramo de via</td>\n",
       "      <td>2015-10-21 07:40:00</td>\n",
       "      <td>con heridos</td>\n",
       "      <td>10</td>\n",
       "      <td>2</td>\n",
       "      <td>la francia</td>\n",
       "      <td>[-75.5503911403, 6.29869502502]</td>\n",
       "      <td>837004.94</td>\n",
       "      <td>1188499.17</td>\n",
       "    </tr>\n",
       "    <tr>\n",
       "      <th>3</th>\n",
       "      <td>2015</td>\n",
       "      <td>0101</td>\n",
       "      <td>atropello</td>\n",
       "      <td>CR 34 CL 112</td>\n",
       "      <td>tramo de via</td>\n",
       "      <td>2015-10-21 12:00:00</td>\n",
       "      <td>con heridos</td>\n",
       "      <td>10</td>\n",
       "      <td>1</td>\n",
       "      <td>santo domingo savio no. 1</td>\n",
       "      <td>[-75.5442195069, 6.30019383306]</td>\n",
       "      <td>837688.53</td>\n",
       "      <td>1188663.05</td>\n",
       "    </tr>\n",
       "    <tr>\n",
       "      <th>4</th>\n",
       "      <td>2015</td>\n",
       "      <td>1504</td>\n",
       "      <td>choque</td>\n",
       "      <td>CR 50 CL 14</td>\n",
       "      <td>tramo de via</td>\n",
       "      <td>2015-11-03 06:16:00</td>\n",
       "      <td>solo daños</td>\n",
       "      <td>11</td>\n",
       "      <td>15</td>\n",
       "      <td>santa fe</td>\n",
       "      <td>[-75.578180998, 6.21699243701]</td>\n",
       "      <td>833903.11</td>\n",
       "      <td>1179469.60</td>\n",
       "    </tr>\n",
       "    <tr>\n",
       "      <th>...</th>\n",
       "      <td>...</td>\n",
       "      <td>...</td>\n",
       "      <td>...</td>\n",
       "      <td>...</td>\n",
       "      <td>...</td>\n",
       "      <td>...</td>\n",
       "      <td>...</td>\n",
       "      <td>...</td>\n",
       "      <td>...</td>\n",
       "      <td>...</td>\n",
       "      <td>...</td>\n",
       "      <td>...</td>\n",
       "      <td>...</td>\n",
       "    </tr>\n",
       "    <tr>\n",
       "      <th>270760</th>\n",
       "      <td>2020</td>\n",
       "      <td>1004</td>\n",
       "      <td>caida ocupante</td>\n",
       "      <td>CR 62 CL 59</td>\n",
       "      <td>tramo de via</td>\n",
       "      <td>2020-08-31 18:50:00</td>\n",
       "      <td>con heridos</td>\n",
       "      <td>8</td>\n",
       "      <td>10</td>\n",
       "      <td>el chagualo</td>\n",
       "      <td>[-75.5731343044, 6.26063534822]</td>\n",
       "      <td>834475.51</td>\n",
       "      <td>1184295.99</td>\n",
       "    </tr>\n",
       "    <tr>\n",
       "      <th>270761</th>\n",
       "      <td>2020</td>\n",
       "      <td>1115</td>\n",
       "      <td>otro</td>\n",
       "      <td>CL 50 CR 74</td>\n",
       "      <td>tramo de via</td>\n",
       "      <td>2020-08-31 18:50:00</td>\n",
       "      <td>con heridos</td>\n",
       "      <td>8</td>\n",
       "      <td>11</td>\n",
       "      <td>cuarta brigada</td>\n",
       "      <td>[-75.5902062951, 6.26040455473]</td>\n",
       "      <td>832585.61</td>\n",
       "      <td>1184275.87</td>\n",
       "    </tr>\n",
       "    <tr>\n",
       "      <th>270762</th>\n",
       "      <td>2020</td>\n",
       "      <td>515</td>\n",
       "      <td>choque</td>\n",
       "      <td>CL 80 CR 65</td>\n",
       "      <td>tramo de via</td>\n",
       "      <td>2020-08-31 19:05:00</td>\n",
       "      <td>solo daños</td>\n",
       "      <td>8</td>\n",
       "      <td>5</td>\n",
       "      <td>cementerio universal</td>\n",
       "      <td>[-75.5735398111, 6.27625838886]</td>\n",
       "      <td>834435.55</td>\n",
       "      <td>1186024.41</td>\n",
       "    </tr>\n",
       "    <tr>\n",
       "      <th>270763</th>\n",
       "      <td>2020</td>\n",
       "      <td>207</td>\n",
       "      <td>atropello</td>\n",
       "      <td>CL 104 CR 45</td>\n",
       "      <td>tramo de via</td>\n",
       "      <td>2020-08-31 19:30:00</td>\n",
       "      <td>con heridos</td>\n",
       "      <td>8</td>\n",
       "      <td>2</td>\n",
       "      <td>villa del socorro</td>\n",
       "      <td>[-75.5515085985, 6.29359892373]</td>\n",
       "      <td>836879.66</td>\n",
       "      <td>1187935.77</td>\n",
       "    </tr>\n",
       "    <tr>\n",
       "      <th>270764</th>\n",
       "      <td>2020</td>\n",
       "      <td>303</td>\n",
       "      <td>atropello</td>\n",
       "      <td>CR 44 CL 79</td>\n",
       "      <td>lote o predio</td>\n",
       "      <td>2020-08-31 21:45:00</td>\n",
       "      <td>con heridos</td>\n",
       "      <td>8</td>\n",
       "      <td>3</td>\n",
       "      <td>campo valdes no. 2</td>\n",
       "      <td>[-75.5533856947, 6.2717784831]</td>\n",
       "      <td>836665.08</td>\n",
       "      <td>1185522.50</td>\n",
       "    </tr>\n",
       "  </tbody>\n",
       "</table>\n",
       "<p>249552 rows × 13 columns</p>\n",
       "</div>"
      ],
      "text/plain": [
       "         AÑO  CBML CLASE_ACCIDENTE      DIRECCION         DISEÑO  \\\n",
       "0       2015  1013  caida ocupante    CR 46 CL 43   tramo de via   \n",
       "1       2015  1020          choque  CR 43 A CL 29   tramo de via   \n",
       "2       2015  0205            otro    CR 46 CL 37   tramo de via   \n",
       "3       2015  0101       atropello   CR 34 CL 112   tramo de via   \n",
       "4       2015  1504          choque    CR 50 CL 14   tramo de via   \n",
       "...      ...   ...             ...            ...            ...   \n",
       "270760  2020  1004  caida ocupante    CR 62 CL 59   tramo de via   \n",
       "270761  2020  1115            otro    CL 50 CR 74   tramo de via   \n",
       "270762  2020   515          choque    CL 80 CR 65   tramo de via   \n",
       "270763  2020   207       atropello   CL 104 CR 45   tramo de via   \n",
       "270764  2020   303       atropello    CR 44 CL 79  lote o predio   \n",
       "\n",
       "           FECHA_ACCIDENTE GRAVEDAD_ACCIDENTE  MES NUMCOMUNA  \\\n",
       "0      2015-10-21 05:58:00        con heridos   10        10   \n",
       "1      2015-11-05 03:00:00         solo daños   11        10   \n",
       "2      2015-10-21 07:40:00        con heridos   10         2   \n",
       "3      2015-10-21 12:00:00        con heridos   10         1   \n",
       "4      2015-11-03 06:16:00         solo daños   11        15   \n",
       "...                    ...                ...  ...       ...   \n",
       "270760 2020-08-31 18:50:00        con heridos    8        10   \n",
       "270761 2020-08-31 18:50:00        con heridos    8        11   \n",
       "270762 2020-08-31 19:05:00         solo daños    8         5   \n",
       "270763 2020-08-31 19:30:00        con heridos    8         2   \n",
       "270764 2020-08-31 21:45:00        con heridos    8         3   \n",
       "\n",
       "                           BARRIO                         LOCATION          X  \\\n",
       "0                    barrio colon  [-75.5688011014, 6.24312304123]  834949.69   \n",
       "1                       san diego  [-75.5693883283, 6.22870030622]  834880.17   \n",
       "2                      la francia  [-75.5503911403, 6.29869502502]  837004.94   \n",
       "3       santo domingo savio no. 1  [-75.5442195069, 6.30019383306]  837688.53   \n",
       "4                        santa fe   [-75.578180998, 6.21699243701]  833903.11   \n",
       "...                           ...                              ...        ...   \n",
       "270760                el chagualo  [-75.5731343044, 6.26063534822]  834475.51   \n",
       "270761             cuarta brigada  [-75.5902062951, 6.26040455473]  832585.61   \n",
       "270762       cementerio universal  [-75.5735398111, 6.27625838886]  834435.55   \n",
       "270763          villa del socorro  [-75.5515085985, 6.29359892373]  836879.66   \n",
       "270764         campo valdes no. 2   [-75.5533856947, 6.2717784831]  836665.08   \n",
       "\n",
       "                 Y  \n",
       "0       1182357.34  \n",
       "1       1180762.02  \n",
       "2       1188499.17  \n",
       "3       1188663.05  \n",
       "4       1179469.60  \n",
       "...            ...  \n",
       "270760  1184295.99  \n",
       "270761  1184275.87  \n",
       "270762  1186024.41  \n",
       "270763  1187935.77  \n",
       "270764  1185522.50  \n",
       "\n",
       "[249552 rows x 13 columns]"
      ]
     },
     "execution_count": 24,
     "metadata": {},
     "output_type": "execute_result"
    }
   ],
   "source": [
    "df.to_csv(\"datosLimpios.csv\")\n",
    "#guardamos los datos en una nueva varible\n",
    "data=df.copy()\n",
    "df"
   ]
  },
  {
   "cell_type": "code",
   "execution_count": 25,
   "id": "833e965e",
   "metadata": {},
   "outputs": [],
   "source": [
    "#df=pd.read_csv(\"datosLimpios.csv\")"
   ]
  },
  {
   "cell_type": "markdown",
   "id": "b59eac73",
   "metadata": {},
   "source": [
    "## 1 - Entrenamiento de un modelo predictivo\n",
    "Se deberá construir un modelo que permita predecir la accidentalidad por tipo de accidente a nivel semanal, mensual y diario. Para esto se deberán considerar fechas especiales."
   ]
  },
  {
   "cell_type": "markdown",
   "id": "1f9d3e47",
   "metadata": {},
   "source": [
    "vamos a suponer que para los dias que no hay registro de algun tipo de accidente, el numero de accidentes de este tipo para este dia es 0"
   ]
  },
  {
   "cell_type": "code",
   "execution_count": 26,
   "id": "dfb7c9da",
   "metadata": {},
   "outputs": [
    {
     "data": {
      "text/html": [
       "<div>\n",
       "<style scoped>\n",
       "    .dataframe tbody tr th:only-of-type {\n",
       "        vertical-align: middle;\n",
       "    }\n",
       "\n",
       "    .dataframe tbody tr th {\n",
       "        vertical-align: top;\n",
       "    }\n",
       "\n",
       "    .dataframe thead th {\n",
       "        text-align: right;\n",
       "    }\n",
       "</style>\n",
       "<table border=\"1\" class=\"dataframe\">\n",
       "  <thead>\n",
       "    <tr style=\"text-align: right;\">\n",
       "      <th></th>\n",
       "      <th>DIA</th>\n",
       "      <th>CLASE_ACCIDENTE</th>\n",
       "      <th>NUMCOMUNA</th>\n",
       "    </tr>\n",
       "  </thead>\n",
       "  <tbody>\n",
       "    <tr>\n",
       "      <th>0</th>\n",
       "      <td>2014-07-04</td>\n",
       "      <td>caida ocupante</td>\n",
       "      <td>10</td>\n",
       "    </tr>\n",
       "    <tr>\n",
       "      <th>1</th>\n",
       "      <td>2014-07-04</td>\n",
       "      <td>caida ocupante</td>\n",
       "      <td>2</td>\n",
       "    </tr>\n",
       "    <tr>\n",
       "      <th>2</th>\n",
       "      <td>2014-07-04</td>\n",
       "      <td>caida ocupante</td>\n",
       "      <td>1</td>\n",
       "    </tr>\n",
       "    <tr>\n",
       "      <th>3</th>\n",
       "      <td>2014-07-04</td>\n",
       "      <td>caida ocupante</td>\n",
       "      <td>15</td>\n",
       "    </tr>\n",
       "    <tr>\n",
       "      <th>4</th>\n",
       "      <td>2014-07-04</td>\n",
       "      <td>caida ocupante</td>\n",
       "      <td>14</td>\n",
       "    </tr>\n",
       "    <tr>\n",
       "      <th>...</th>\n",
       "      <td>...</td>\n",
       "      <td>...</td>\n",
       "      <td>...</td>\n",
       "    </tr>\n",
       "    <tr>\n",
       "      <th>216091</th>\n",
       "      <td>2020-08-31</td>\n",
       "      <td>incendio</td>\n",
       "      <td>8</td>\n",
       "    </tr>\n",
       "    <tr>\n",
       "      <th>216092</th>\n",
       "      <td>2020-08-31</td>\n",
       "      <td>incendio</td>\n",
       "      <td>13</td>\n",
       "    </tr>\n",
       "    <tr>\n",
       "      <th>216093</th>\n",
       "      <td>2020-08-31</td>\n",
       "      <td>incendio</td>\n",
       "      <td>16</td>\n",
       "    </tr>\n",
       "    <tr>\n",
       "      <th>216094</th>\n",
       "      <td>2020-08-31</td>\n",
       "      <td>incendio</td>\n",
       "      <td>3</td>\n",
       "    </tr>\n",
       "    <tr>\n",
       "      <th>216095</th>\n",
       "      <td>2020-08-31</td>\n",
       "      <td>incendio</td>\n",
       "      <td>12</td>\n",
       "    </tr>\n",
       "  </tbody>\n",
       "</table>\n",
       "<p>216096 rows × 3 columns</p>\n",
       "</div>"
      ],
      "text/plain": [
       "               DIA CLASE_ACCIDENTE NUMCOMUNA\n",
       "0       2014-07-04  caida ocupante        10\n",
       "1       2014-07-04  caida ocupante         2\n",
       "2       2014-07-04  caida ocupante         1\n",
       "3       2014-07-04  caida ocupante        15\n",
       "4       2014-07-04  caida ocupante        14\n",
       "...            ...             ...       ...\n",
       "216091  2020-08-31        incendio         8\n",
       "216092  2020-08-31        incendio        13\n",
       "216093  2020-08-31        incendio        16\n",
       "216094  2020-08-31        incendio         3\n",
       "216095  2020-08-31        incendio        12\n",
       "\n",
       "[216096 rows x 3 columns]"
      ]
     },
     "execution_count": 26,
     "metadata": {},
     "output_type": "execute_result"
    }
   ],
   "source": [
    "#creamos un dataframe con todos las posibles combinaciones de dia, en tre el rango de fechas,\n",
    "from datetime import datetime, timedelta\n",
    "inicio = datetime(2014,7,4)\n",
    "fin    = datetime(2020,8,31)\n",
    "\n",
    "df_aux = pd.DataFrame([inicio + timedelta(days=d) for d in range((fin - inicio).days + 1)],columns=[\"DIA\"])\n",
    "df_aux[\"DIA\"]=df_aux[\"DIA\"].apply(lambda x : str(x)[:10])\n",
    "df_aux[\"key\"]=1\n",
    "clase_accidente=pd.DataFrame(df.CLASE_ACCIDENTE.unique(),columns=[\"CLASE_ACCIDENTE\"])\n",
    "clase_accidente[\"key\"]=1\n",
    "df_aux=pd.merge(df_aux, clase_accidente, on ='key')\n",
    "numcomuna=pd.DataFrame(df.NUMCOMUNA.unique(),columns=[\"NUMCOMUNA\"])\n",
    "numcomuna[\"key\"]=1\n",
    "df_aux=pd.merge(df_aux, numcomuna, on ='key').drop([\"key\"],axis=1)\n",
    "df_aux"
   ]
  },
  {
   "cell_type": "code",
   "execution_count": 27,
   "id": "806f34aa",
   "metadata": {},
   "outputs": [
    {
     "data": {
      "text/html": [
       "<div>\n",
       "<style scoped>\n",
       "    .dataframe tbody tr th:only-of-type {\n",
       "        vertical-align: middle;\n",
       "    }\n",
       "\n",
       "    .dataframe tbody tr th {\n",
       "        vertical-align: top;\n",
       "    }\n",
       "\n",
       "    .dataframe thead th {\n",
       "        text-align: right;\n",
       "    }\n",
       "</style>\n",
       "<table border=\"1\" class=\"dataframe\">\n",
       "  <thead>\n",
       "    <tr style=\"text-align: right;\">\n",
       "      <th></th>\n",
       "      <th>DIA</th>\n",
       "      <th>CLASE_ACCIDENTE</th>\n",
       "      <th>CANTIDAD</th>\n",
       "      <th>NUMCOMUNA</th>\n",
       "    </tr>\n",
       "  </thead>\n",
       "  <tbody>\n",
       "    <tr>\n",
       "      <th>0</th>\n",
       "      <td>2014-07-04</td>\n",
       "      <td>choque</td>\n",
       "      <td>8</td>\n",
       "      <td>10</td>\n",
       "    </tr>\n",
       "    <tr>\n",
       "      <th>1</th>\n",
       "      <td>2014-07-04</td>\n",
       "      <td>choque</td>\n",
       "      <td>4</td>\n",
       "      <td>11</td>\n",
       "    </tr>\n",
       "    <tr>\n",
       "      <th>2</th>\n",
       "      <td>2014-07-04</td>\n",
       "      <td>choque</td>\n",
       "      <td>1</td>\n",
       "      <td>12</td>\n",
       "    </tr>\n",
       "    <tr>\n",
       "      <th>3</th>\n",
       "      <td>2014-07-04</td>\n",
       "      <td>choque</td>\n",
       "      <td>2</td>\n",
       "      <td>14</td>\n",
       "    </tr>\n",
       "    <tr>\n",
       "      <th>4</th>\n",
       "      <td>2014-07-04</td>\n",
       "      <td>choque</td>\n",
       "      <td>2</td>\n",
       "      <td>15</td>\n",
       "    </tr>\n",
       "    <tr>\n",
       "      <th>...</th>\n",
       "      <td>...</td>\n",
       "      <td>...</td>\n",
       "      <td>...</td>\n",
       "      <td>...</td>\n",
       "    </tr>\n",
       "    <tr>\n",
       "      <th>85313</th>\n",
       "      <td>2020-08-31</td>\n",
       "      <td>volcamiento</td>\n",
       "      <td>2</td>\n",
       "      <td>14</td>\n",
       "    </tr>\n",
       "    <tr>\n",
       "      <th>85314</th>\n",
       "      <td>2020-08-31</td>\n",
       "      <td>volcamiento</td>\n",
       "      <td>1</td>\n",
       "      <td>15</td>\n",
       "    </tr>\n",
       "    <tr>\n",
       "      <th>85315</th>\n",
       "      <td>2020-08-31</td>\n",
       "      <td>volcamiento</td>\n",
       "      <td>1</td>\n",
       "      <td>16</td>\n",
       "    </tr>\n",
       "    <tr>\n",
       "      <th>85316</th>\n",
       "      <td>2020-08-31</td>\n",
       "      <td>volcamiento</td>\n",
       "      <td>1</td>\n",
       "      <td>2</td>\n",
       "    </tr>\n",
       "    <tr>\n",
       "      <th>85317</th>\n",
       "      <td>2020-08-31</td>\n",
       "      <td>volcamiento</td>\n",
       "      <td>1</td>\n",
       "      <td>9</td>\n",
       "    </tr>\n",
       "  </tbody>\n",
       "</table>\n",
       "<p>85318 rows × 4 columns</p>\n",
       "</div>"
      ],
      "text/plain": [
       "              DIA CLASE_ACCIDENTE  CANTIDAD NUMCOMUNA\n",
       "0      2014-07-04          choque         8        10\n",
       "1      2014-07-04          choque         4        11\n",
       "2      2014-07-04          choque         1        12\n",
       "3      2014-07-04          choque         2        14\n",
       "4      2014-07-04          choque         2        15\n",
       "...           ...             ...       ...       ...\n",
       "85313  2020-08-31     volcamiento         2        14\n",
       "85314  2020-08-31     volcamiento         1        15\n",
       "85315  2020-08-31     volcamiento         1        16\n",
       "85316  2020-08-31     volcamiento         1         2\n",
       "85317  2020-08-31     volcamiento         1         9\n",
       "\n",
       "[85318 rows x 4 columns]"
      ]
     },
     "execution_count": 27,
     "metadata": {},
     "output_type": "execute_result"
    }
   ],
   "source": [
    "df=data\n",
    "df[\"DIA\"]=df[\"FECHA_ACCIDENTE\"].apply(lambda x: str(x.date()))\n",
    "#agrupamos los datos por dia clase de accidente  y comuna\n",
    "df=df.groupby([\"DIA\",\"CLASE_ACCIDENTE\",\"NUMCOMUNA\"]).count()\n",
    "df.reset_index(inplace=True)\n",
    "df[\"CANTIDAD\"]=df[\"AÑO\"]\n",
    "#obtenemos los datos de nuestro interes\n",
    "df=df[[\"DIA\",\"CLASE_ACCIDENTE\",\"CANTIDAD\",\"NUMCOMUNA\"]]\n",
    "df"
   ]
  },
  {
   "cell_type": "code",
   "execution_count": 28,
   "id": "6ee52d1a",
   "metadata": {},
   "outputs": [
    {
     "data": {
      "text/html": [
       "<div>\n",
       "<style scoped>\n",
       "    .dataframe tbody tr th:only-of-type {\n",
       "        vertical-align: middle;\n",
       "    }\n",
       "\n",
       "    .dataframe tbody tr th {\n",
       "        vertical-align: top;\n",
       "    }\n",
       "\n",
       "    .dataframe thead th {\n",
       "        text-align: right;\n",
       "    }\n",
       "</style>\n",
       "<table border=\"1\" class=\"dataframe\">\n",
       "  <thead>\n",
       "    <tr style=\"text-align: right;\">\n",
       "      <th></th>\n",
       "      <th>DIA</th>\n",
       "      <th>CLASE_ACCIDENTE</th>\n",
       "      <th>NUMCOMUNA</th>\n",
       "      <th>CANTIDAD</th>\n",
       "    </tr>\n",
       "  </thead>\n",
       "  <tbody>\n",
       "    <tr>\n",
       "      <th>0</th>\n",
       "      <td>2014-07-04</td>\n",
       "      <td>caida ocupante</td>\n",
       "      <td>10</td>\n",
       "      <td>0.0</td>\n",
       "    </tr>\n",
       "    <tr>\n",
       "      <th>1</th>\n",
       "      <td>2014-07-04</td>\n",
       "      <td>caida ocupante</td>\n",
       "      <td>2</td>\n",
       "      <td>0.0</td>\n",
       "    </tr>\n",
       "    <tr>\n",
       "      <th>2</th>\n",
       "      <td>2014-07-04</td>\n",
       "      <td>caida ocupante</td>\n",
       "      <td>1</td>\n",
       "      <td>0.0</td>\n",
       "    </tr>\n",
       "    <tr>\n",
       "      <th>3</th>\n",
       "      <td>2014-07-04</td>\n",
       "      <td>caida ocupante</td>\n",
       "      <td>15</td>\n",
       "      <td>0.0</td>\n",
       "    </tr>\n",
       "    <tr>\n",
       "      <th>4</th>\n",
       "      <td>2014-07-04</td>\n",
       "      <td>caida ocupante</td>\n",
       "      <td>14</td>\n",
       "      <td>0.0</td>\n",
       "    </tr>\n",
       "    <tr>\n",
       "      <th>...</th>\n",
       "      <td>...</td>\n",
       "      <td>...</td>\n",
       "      <td>...</td>\n",
       "      <td>...</td>\n",
       "    </tr>\n",
       "    <tr>\n",
       "      <th>216091</th>\n",
       "      <td>2020-08-31</td>\n",
       "      <td>incendio</td>\n",
       "      <td>8</td>\n",
       "      <td>0.0</td>\n",
       "    </tr>\n",
       "    <tr>\n",
       "      <th>216092</th>\n",
       "      <td>2020-08-31</td>\n",
       "      <td>incendio</td>\n",
       "      <td>13</td>\n",
       "      <td>0.0</td>\n",
       "    </tr>\n",
       "    <tr>\n",
       "      <th>216093</th>\n",
       "      <td>2020-08-31</td>\n",
       "      <td>incendio</td>\n",
       "      <td>16</td>\n",
       "      <td>0.0</td>\n",
       "    </tr>\n",
       "    <tr>\n",
       "      <th>216094</th>\n",
       "      <td>2020-08-31</td>\n",
       "      <td>incendio</td>\n",
       "      <td>3</td>\n",
       "      <td>0.0</td>\n",
       "    </tr>\n",
       "    <tr>\n",
       "      <th>216095</th>\n",
       "      <td>2020-08-31</td>\n",
       "      <td>incendio</td>\n",
       "      <td>12</td>\n",
       "      <td>0.0</td>\n",
       "    </tr>\n",
       "  </tbody>\n",
       "</table>\n",
       "<p>216096 rows × 4 columns</p>\n",
       "</div>"
      ],
      "text/plain": [
       "               DIA CLASE_ACCIDENTE NUMCOMUNA  CANTIDAD\n",
       "0       2014-07-04  caida ocupante        10       0.0\n",
       "1       2014-07-04  caida ocupante         2       0.0\n",
       "2       2014-07-04  caida ocupante         1       0.0\n",
       "3       2014-07-04  caida ocupante        15       0.0\n",
       "4       2014-07-04  caida ocupante        14       0.0\n",
       "...            ...             ...       ...       ...\n",
       "216091  2020-08-31        incendio         8       0.0\n",
       "216092  2020-08-31        incendio        13       0.0\n",
       "216093  2020-08-31        incendio        16       0.0\n",
       "216094  2020-08-31        incendio         3       0.0\n",
       "216095  2020-08-31        incendio        12       0.0\n",
       "\n",
       "[216096 rows x 4 columns]"
      ]
     },
     "execution_count": 28,
     "metadata": {},
     "output_type": "execute_result"
    }
   ],
   "source": [
    "df=pd.merge(df_aux, df, on =[\"DIA\",\"CLASE_ACCIDENTE\",\"NUMCOMUNA\"],how='left')\n",
    "df[\"CANTIDAD\"]=df[\"CANTIDAD\"].fillna(0)\n",
    "df"
   ]
  },
  {
   "cell_type": "code",
   "execution_count": 29,
   "id": "322565f8",
   "metadata": {},
   "outputs": [
    {
     "data": {
      "text/html": [
       "<div>\n",
       "<style scoped>\n",
       "    .dataframe tbody tr th:only-of-type {\n",
       "        vertical-align: middle;\n",
       "    }\n",
       "\n",
       "    .dataframe tbody tr th {\n",
       "        vertical-align: top;\n",
       "    }\n",
       "\n",
       "    .dataframe thead th {\n",
       "        text-align: right;\n",
       "    }\n",
       "</style>\n",
       "<table border=\"1\" class=\"dataframe\">\n",
       "  <thead>\n",
       "    <tr style=\"text-align: right;\">\n",
       "      <th></th>\n",
       "      <th>DIA</th>\n",
       "      <th>CLASE_ACCIDENTE</th>\n",
       "      <th>NUMCOMUNA</th>\n",
       "      <th>CANTIDAD</th>\n",
       "      <th>DIA_FESTIVO</th>\n",
       "      <th>AÑO</th>\n",
       "      <th>t</th>\n",
       "      <th>DIA_DE_LA_SEMANA</th>\n",
       "      <th>MES</th>\n",
       "      <th>DIA_DEL_MES</th>\n",
       "    </tr>\n",
       "  </thead>\n",
       "  <tbody>\n",
       "    <tr>\n",
       "      <th>170254</th>\n",
       "      <td>2019-05-12</td>\n",
       "      <td>otro</td>\n",
       "      <td>3</td>\n",
       "      <td>0.0</td>\n",
       "      <td>False</td>\n",
       "      <td>5</td>\n",
       "      <td>58</td>\n",
       "      <td>6</td>\n",
       "      <td>5</td>\n",
       "      <td>12</td>\n",
       "    </tr>\n",
       "    <tr>\n",
       "      <th>70570</th>\n",
       "      <td>2016-07-08</td>\n",
       "      <td>caida ocupante</td>\n",
       "      <td>5</td>\n",
       "      <td>0.0</td>\n",
       "      <td>False</td>\n",
       "      <td>2</td>\n",
       "      <td>24</td>\n",
       "      <td>4</td>\n",
       "      <td>7</td>\n",
       "      <td>8</td>\n",
       "    </tr>\n",
       "    <tr>\n",
       "      <th>33775</th>\n",
       "      <td>2015-06-20</td>\n",
       "      <td>volcamiento</td>\n",
       "      <td>12</td>\n",
       "      <td>0.0</td>\n",
       "      <td>False</td>\n",
       "      <td>1</td>\n",
       "      <td>11</td>\n",
       "      <td>5</td>\n",
       "      <td>6</td>\n",
       "      <td>20</td>\n",
       "    </tr>\n",
       "    <tr>\n",
       "      <th>84366</th>\n",
       "      <td>2016-11-28</td>\n",
       "      <td>volcamiento</td>\n",
       "      <td>3</td>\n",
       "      <td>0.0</td>\n",
       "      <td>False</td>\n",
       "      <td>2</td>\n",
       "      <td>28</td>\n",
       "      <td>0</td>\n",
       "      <td>11</td>\n",
       "      <td>28</td>\n",
       "    </tr>\n",
       "    <tr>\n",
       "      <th>61013</th>\n",
       "      <td>2016-03-30</td>\n",
       "      <td>atropello</td>\n",
       "      <td>11</td>\n",
       "      <td>0.0</td>\n",
       "      <td>False</td>\n",
       "      <td>2</td>\n",
       "      <td>20</td>\n",
       "      <td>2</td>\n",
       "      <td>3</td>\n",
       "      <td>30</td>\n",
       "    </tr>\n",
       "    <tr>\n",
       "      <th>51635</th>\n",
       "      <td>2015-12-23</td>\n",
       "      <td>incendio</td>\n",
       "      <td>15</td>\n",
       "      <td>0.0</td>\n",
       "      <td>False</td>\n",
       "      <td>1</td>\n",
       "      <td>17</td>\n",
       "      <td>2</td>\n",
       "      <td>12</td>\n",
       "      <td>23</td>\n",
       "    </tr>\n",
       "    <tr>\n",
       "      <th>127400</th>\n",
       "      <td>2018-02-20</td>\n",
       "      <td>caida ocupante</td>\n",
       "      <td>4</td>\n",
       "      <td>0.0</td>\n",
       "      <td>False</td>\n",
       "      <td>4</td>\n",
       "      <td>43</td>\n",
       "      <td>1</td>\n",
       "      <td>2</td>\n",
       "      <td>20</td>\n",
       "    </tr>\n",
       "    <tr>\n",
       "      <th>65834</th>\n",
       "      <td>2016-05-19</td>\n",
       "      <td>volcamiento</td>\n",
       "      <td>5</td>\n",
       "      <td>0.0</td>\n",
       "      <td>False</td>\n",
       "      <td>2</td>\n",
       "      <td>22</td>\n",
       "      <td>3</td>\n",
       "      <td>5</td>\n",
       "      <td>19</td>\n",
       "    </tr>\n",
       "    <tr>\n",
       "      <th>205047</th>\n",
       "      <td>2020-05-08</td>\n",
       "      <td>incendio</td>\n",
       "      <td>6</td>\n",
       "      <td>0.0</td>\n",
       "      <td>False</td>\n",
       "      <td>6</td>\n",
       "      <td>70</td>\n",
       "      <td>4</td>\n",
       "      <td>5</td>\n",
       "      <td>8</td>\n",
       "    </tr>\n",
       "    <tr>\n",
       "      <th>168182</th>\n",
       "      <td>2019-04-20</td>\n",
       "      <td>incendio</td>\n",
       "      <td>7</td>\n",
       "      <td>0.0</td>\n",
       "      <td>False</td>\n",
       "      <td>5</td>\n",
       "      <td>57</td>\n",
       "      <td>5</td>\n",
       "      <td>4</td>\n",
       "      <td>20</td>\n",
       "    </tr>\n",
       "  </tbody>\n",
       "</table>\n",
       "</div>"
      ],
      "text/plain": [
       "               DIA CLASE_ACCIDENTE NUMCOMUNA  CANTIDAD DIA_FESTIVO  AÑO   t  \\\n",
       "170254  2019-05-12            otro         3       0.0       False    5  58   \n",
       "70570   2016-07-08  caida ocupante         5       0.0       False    2  24   \n",
       "33775   2015-06-20     volcamiento        12       0.0       False    1  11   \n",
       "84366   2016-11-28     volcamiento         3       0.0       False    2  28   \n",
       "61013   2016-03-30       atropello        11       0.0       False    2  20   \n",
       "51635   2015-12-23        incendio        15       0.0       False    1  17   \n",
       "127400  2018-02-20  caida ocupante         4       0.0       False    4  43   \n",
       "65834   2016-05-19     volcamiento         5       0.0       False    2  22   \n",
       "205047  2020-05-08        incendio         6       0.0       False    6  70   \n",
       "168182  2019-04-20        incendio         7       0.0       False    5  57   \n",
       "\n",
       "       DIA_DE_LA_SEMANA MES DIA_DEL_MES  \n",
       "170254                6   5          12  \n",
       "70570                 4   7           8  \n",
       "33775                 5   6          20  \n",
       "84366                 0  11          28  \n",
       "61013                 2   3          30  \n",
       "51635                 2  12          23  \n",
       "127400                1   2          20  \n",
       "65834                 3   5          19  \n",
       "205047                4   5           8  \n",
       "168182                5   4          20  "
      ]
     },
     "execution_count": 29,
     "metadata": {},
     "output_type": "execute_result"
    }
   ],
   "source": [
    "import holidays_co as co\n",
    "from datetime import timedelta\n",
    "#hacemos una limpieza final  con el fin de obtener unos datos mejores para ser pocesados por la red neuronal\n",
    "#dia_festivo 1 si 0 no\n",
    "df[\"dia_festivo\".upper()]=df[\"DIA\"].apply(lambda x : str(co.is_holiday_date(datetime.strptime(x,'%Y-%m-%d'))))\n",
    "#año del accidente\n",
    "df[\"AÑO\"]=df[\"DIA\"].apply(lambda x : pd.Timestamp(x).year-2014)\n",
    "#tiempo en meses desde el primer data conocido \n",
    "df[\"t\"]=df[\"DIA\"].apply(lambda x : (pd.Timestamp(x).year-2014)*12+pd.Timestamp(x).month-7)\n",
    "#dia de la semana en numero\n",
    "df[\"dia_de_la_semana\".upper()]=df[\"dia\".upper()].apply(lambda x : str(pd.Timestamp(x).day_of_week))\n",
    "#mes de ocurencia\n",
    "df[\"MES\"]=df[\"DIA\"].apply(lambda x : str(pd.Timestamp(x).month))\n",
    "#dia que ocurrio el accidente en el mes\n",
    "df[\"dia_del_mes\".upper()]=df[\"dia\".upper()].apply(lambda x :str( pd.Timestamp(x).day))\n",
    "\n",
    "dfaux=df.copy()\n",
    "df.sample(10)"
   ]
  },
  {
   "cell_type": "markdown",
   "id": "aa3ea682",
   "metadata": {},
   "source": [
    "Sea X el con junto de parametros "
   ]
  },
  {
   "cell_type": "markdown",
   "id": "c7c46d3a",
   "metadata": {},
   "source": [
    "### Entrenamiento y validación\n",
    "Los modelos predictivos se deberán construir con los datos de los años 2014, 2015, 2016,2017, 2018. Se usan los accidentes del año 2019 y 2020 (¡alerta!) para validar los modelos.\n",
    "Se deberá analizar el comportamiento del modelo predictivo en los años 2021 y 2022 y explicar las posibles desviaciones."
   ]
  },
  {
   "cell_type": "code",
   "execution_count": 30,
   "id": "e6e7f997",
   "metadata": {},
   "outputs": [],
   "source": [
    "dfaux=df.copy()\n",
    "#separacion de datos de entranamiento y validacion\n",
    "train=dfaux[(dfaux[\"AÑO\"]) <5].drop([\"DIA\"],axis=1).drop([\"AÑO\"],axis=1)\n",
    "test=dfaux.drop(train.index).drop([\"DIA\"],axis=1).drop([\"AÑO\"],axis=1)\n",
    "X_train=train.copy()\n",
    "Y_train=X_train.pop(\"CANTIDAD\")\n",
    "X_test=test.copy()\n",
    "Y_test=X_test.pop(\"CANTIDAD\")\n"
   ]
  },
  {
   "cell_type": "code",
   "execution_count": 31,
   "id": "053cb6f7",
   "metadata": {},
   "outputs": [],
   "source": [
    "#aplicar onehotencode a las variables categoricas\n",
    "X_train=pd.get_dummies(X_train,drop_first=True)\n",
    "X_test=pd.get_dummies(X_test,drop_first=True)\n"
   ]
  },
  {
   "cell_type": "code",
   "execution_count": 32,
   "id": "118a97a5",
   "metadata": {},
   "outputs": [],
   "source": [
    "\n",
    "normed_train_data = (X_train)\n",
    "normed_test_data = (Y_test)"
   ]
  },
  {
   "cell_type": "code",
   "execution_count": 36,
   "id": "4da0dabe",
   "metadata": {},
   "outputs": [],
   "source": [
    "#funcion que construye el modelo\n",
    "#3 capas ocultas de 128 neronas cada una\n",
    "#2 dropout par evitar el averfiting de 0.2 entre las caps ocultas\n",
    "def build_model():\n",
    "    model = keras.Sequential([\n",
    "    layers.Dense(128, activation='relu', input_shape=[len(X_train.keys())]),\n",
    "    layers.Dropout(0.2),\n",
    "    layers.Dense(128, activation='relu'),\n",
    "    layers.Dropout(0.2),\n",
    "    layers.Dense(128, activation='relu'),\n",
    "    layers.Dense(1)\n",
    "    ])\n",
    "    optimizer = tf.keras.optimizers.RMSprop(0.001)\n",
    "    optimizer2 = tf.keras.optimizers.Adam(learning_rate=0.001)\n",
    "    model.compile(loss='mae',\n",
    "                optimizer=optimizer2,\n",
    "                metrics=['mae', 'mse',\"mean_absolute_percentage_error\"])\n",
    "    return model"
   ]
  },
  {
   "cell_type": "code",
   "execution_count": 37,
   "id": "3a7be2c7",
   "metadata": {},
   "outputs": [
    {
     "name": "stdout",
     "output_type": "stream",
     "text": [
      "Model: \"sequential_1\"\n",
      "_________________________________________________________________\n",
      " Layer (type)                Output Shape              Param #   \n",
      "=================================================================\n",
      " dense_4 (Dense)             (None, 128)               8960      \n",
      "                                                                 \n",
      " dropout_2 (Dropout)         (None, 128)               0         \n",
      "                                                                 \n",
      " dense_5 (Dense)             (None, 128)               16512     \n",
      "                                                                 \n",
      " dropout_3 (Dropout)         (None, 128)               0         \n",
      "                                                                 \n",
      " dense_6 (Dense)             (None, 128)               16512     \n",
      "                                                                 \n",
      " dense_7 (Dense)             (None, 1)                 129       \n",
      "                                                                 \n",
      "=================================================================\n",
      "Total params: 42,113\n",
      "Trainable params: 42,113\n",
      "Non-trainable params: 0\n",
      "_________________________________________________________________\n"
     ]
    }
   ],
   "source": [
    "model = build_model()\n",
    "model.summary()"
   ]
  },
  {
   "cell_type": "markdown",
   "id": "46fda758",
   "metadata": {},
   "source": [
    "se entrena el modelo 2 veces cada una con 250 epocas"
   ]
  },
  {
   "cell_type": "code",
   "execution_count": null,
   "id": "bd296328",
   "metadata": {},
   "outputs": [
    {
     "name": "stdout",
     "output_type": "stream",
     "text": [
      "Epoch 1/500\n",
      "4926/4926 [==============================] - 15s 3ms/step - loss: 0.7825 - mae: 0.7825 - mse: 3.0035 - mean_absolute_percentage_error: 90476064.0000 - val_loss: 0.7223 - val_mae: 0.7223 - val_mse: 2.6704 - val_mean_absolute_percentage_error: 41383972.0000\n",
      "Epoch 2/500\n",
      "4926/4926 [==============================] - 15s 3ms/step - loss: 0.6875 - mae: 0.6875 - mse: 1.9761 - mean_absolute_percentage_error: 83529328.0000 - val_loss: 0.6861 - val_mae: 0.6861 - val_mse: 2.2439 - val_mean_absolute_percentage_error: 83619000.0000\n",
      "Epoch 3/500\n",
      "4926/4926 [==============================] - 15s 3ms/step - loss: 0.6706 - mae: 0.6706 - mse: 1.8635 - mean_absolute_percentage_error: 90377720.0000 - val_loss: 0.7173 - val_mae: 0.7173 - val_mse: 2.2346 - val_mean_absolute_percentage_error: 141214032.0000\n",
      "Epoch 4/500\n",
      "4926/4926 [==============================] - 15s 3ms/step - loss: 0.6618 - mae: 0.6618 - mse: 1.8202 - mean_absolute_percentage_error: 86933744.0000 - val_loss: 0.6554 - val_mae: 0.6554 - val_mse: 1.9619 - val_mean_absolute_percentage_error: 57853820.0000\n",
      "Epoch 5/500\n",
      "4926/4926 [==============================] - 15s 3ms/step - loss: 0.6541 - mae: 0.6541 - mse: 1.7610 - mean_absolute_percentage_error: 87531592.0000 - val_loss: 0.6576 - val_mae: 0.6576 - val_mse: 1.9703 - val_mean_absolute_percentage_error: 100044400.0000\n",
      "Epoch 6/500\n",
      "4926/4926 [==============================] - 16s 3ms/step - loss: 0.6490 - mae: 0.6490 - mse: 1.7140 - mean_absolute_percentage_error: 91906776.0000 - val_loss: 0.6608 - val_mae: 0.6608 - val_mse: 1.9879 - val_mean_absolute_percentage_error: 88172232.0000\n",
      "Epoch 7/500\n",
      "4926/4926 [==============================] - 16s 3ms/step - loss: 0.6469 - mae: 0.6469 - mse: 1.7221 - mean_absolute_percentage_error: 86040104.0000 - val_loss: 0.6619 - val_mae: 0.6619 - val_mse: 2.0432 - val_mean_absolute_percentage_error: 54778116.0000\n",
      "Epoch 8/500\n",
      "4926/4926 [==============================] - 15s 3ms/step - loss: 0.6468 - mae: 0.6468 - mse: 1.7088 - mean_absolute_percentage_error: 89814488.0000 - val_loss: 0.6649 - val_mae: 0.6649 - val_mse: 2.0126 - val_mean_absolute_percentage_error: 89992360.0000\n",
      "Epoch 9/500\n",
      "4926/4926 [==============================] - 15s 3ms/step - loss: 0.6419 - mae: 0.6419 - mse: 1.6929 - mean_absolute_percentage_error: 86497080.0000 - val_loss: 0.6572 - val_mae: 0.6572 - val_mse: 1.9692 - val_mean_absolute_percentage_error: 93750656.0000\n",
      "Epoch 10/500\n",
      "4926/4926 [==============================] - 15s 3ms/step - loss: 0.6418 - mae: 0.6418 - mse: 1.6635 - mean_absolute_percentage_error: 88191680.0000 - val_loss: 0.7020 - val_mae: 0.7020 - val_mse: 2.5429 - val_mean_absolute_percentage_error: 38548080.0000\n",
      "Epoch 11/500\n",
      "4926/4926 [==============================] - 16s 3ms/step - loss: 0.6376 - mae: 0.6376 - mse: 1.6513 - mean_absolute_percentage_error: 86505184.0000 - val_loss: 0.6587 - val_mae: 0.6587 - val_mse: 1.9922 - val_mean_absolute_percentage_error: 79338816.0000\n",
      "Epoch 12/500\n",
      "4926/4926 [==============================] - 15s 3ms/step - loss: 0.6366 - mae: 0.6366 - mse: 1.6351 - mean_absolute_percentage_error: 86298216.0000 - val_loss: 0.6591 - val_mae: 0.6591 - val_mse: 1.9428 - val_mean_absolute_percentage_error: 109368224.0000\n",
      "Epoch 13/500\n",
      "4926/4926 [==============================] - 15s 3ms/step - loss: 0.6345 - mae: 0.6345 - mse: 1.6330 - mean_absolute_percentage_error: 85274168.0000 - val_loss: 0.6847 - val_mae: 0.6847 - val_mse: 2.0272 - val_mean_absolute_percentage_error: 168713008.0000\n",
      "Epoch 14/500\n",
      "4926/4926 [==============================] - 15s 3ms/step - loss: 0.6347 - mae: 0.6347 - mse: 1.6269 - mean_absolute_percentage_error: 93210952.0000 - val_loss: 0.6740 - val_mae: 0.6740 - val_mse: 2.1977 - val_mean_absolute_percentage_error: 100581872.0000\n",
      "Epoch 15/500\n",
      "4926/4926 [==============================] - 16s 3ms/step - loss: 0.6314 - mae: 0.6314 - mse: 1.6089 - mean_absolute_percentage_error: 88352912.0000 - val_loss: 0.6652 - val_mae: 0.6652 - val_mse: 2.0316 - val_mean_absolute_percentage_error: 108524232.0000\n",
      "Epoch 16/500\n",
      "4926/4926 [==============================] - 15s 3ms/step - loss: 0.6318 - mae: 0.6318 - mse: 1.6135 - mean_absolute_percentage_error: 86470544.0000 - val_loss: 0.6865 - val_mae: 0.6865 - val_mse: 2.0332 - val_mean_absolute_percentage_error: 172747728.0000\n",
      "Epoch 17/500\n",
      "4926/4926 [==============================] - 16s 3ms/step - loss: 0.6332 - mae: 0.6332 - mse: 1.6273 - mean_absolute_percentage_error: 86695120.0000 - val_loss: 0.6783 - val_mae: 0.6783 - val_mse: 2.2559 - val_mean_absolute_percentage_error: 79407168.0000\n",
      "Epoch 18/500\n",
      "4926/4926 [==============================] - 17s 3ms/step - loss: 0.6290 - mae: 0.6290 - mse: 1.6004 - mean_absolute_percentage_error: 90935248.0000 - val_loss: 0.6603 - val_mae: 0.6603 - val_mse: 1.9550 - val_mean_absolute_percentage_error: 117821888.0000\n",
      "Epoch 19/500\n",
      "4926/4926 [==============================] - 16s 3ms/step - loss: 0.6307 - mae: 0.6307 - mse: 1.6125 - mean_absolute_percentage_error: 87696832.0000 - val_loss: 0.7424 - val_mae: 0.7424 - val_mse: 3.2584 - val_mean_absolute_percentage_error: 58267980.0000\n",
      "Epoch 20/500\n",
      "4926/4926 [==============================] - 16s 3ms/step - loss: 0.6305 - mae: 0.6305 - mse: 1.6126 - mean_absolute_percentage_error: 88193816.0000 - val_loss: 0.6689 - val_mae: 0.6689 - val_mse: 2.1387 - val_mean_absolute_percentage_error: 81507560.0000\n",
      "Epoch 21/500\n",
      "4926/4926 [==============================] - 16s 3ms/step - loss: 0.6283 - mae: 0.6283 - mse: 1.5879 - mean_absolute_percentage_error: 89382248.0000 - val_loss: 0.6730 - val_mae: 0.6730 - val_mse: 2.2211 - val_mean_absolute_percentage_error: 84853744.0000\n",
      "Epoch 22/500\n",
      "4926/4926 [==============================] - 15s 3ms/step - loss: 0.6292 - mae: 0.6292 - mse: 1.6037 - mean_absolute_percentage_error: 87456632.0000 - val_loss: 0.6583 - val_mae: 0.6583 - val_mse: 1.9867 - val_mean_absolute_percentage_error: 93116496.0000\n",
      "Epoch 23/500\n",
      "4926/4926 [==============================] - 15s 3ms/step - loss: 0.6274 - mae: 0.6274 - mse: 1.5954 - mean_absolute_percentage_error: 86255728.0000 - val_loss: 0.6806 - val_mae: 0.6806 - val_mse: 2.0627 - val_mean_absolute_percentage_error: 129119464.0000\n",
      "Epoch 24/500\n",
      "4926/4926 [==============================] - 14s 3ms/step - loss: 0.6270 - mae: 0.6270 - mse: 1.5871 - mean_absolute_percentage_error: 89217104.0000 - val_loss: 0.6650 - val_mae: 0.6650 - val_mse: 1.9638 - val_mean_absolute_percentage_error: 124915496.0000\n",
      "Epoch 25/500\n",
      "4926/4926 [==============================] - 14s 3ms/step - loss: 0.6267 - mae: 0.6267 - mse: 1.5748 - mean_absolute_percentage_error: 91590408.0000 - val_loss: 0.6798 - val_mae: 0.6798 - val_mse: 2.0677 - val_mean_absolute_percentage_error: 132271664.0000\n",
      "Epoch 26/500\n",
      "4926/4926 [==============================] - 15s 3ms/step - loss: 0.6257 - mae: 0.6257 - mse: 1.5801 - mean_absolute_percentage_error: 94406960.0000 - val_loss: 0.7095 - val_mae: 0.7095 - val_mse: 2.6891 - val_mean_absolute_percentage_error: 47518556.0000\n",
      "Epoch 27/500\n",
      "4926/4926 [==============================] - 15s 3ms/step - loss: 0.6261 - mae: 0.6261 - mse: 1.5802 - mean_absolute_percentage_error: 88589968.0000 - val_loss: 0.6602 - val_mae: 0.6602 - val_mse: 1.9963 - val_mean_absolute_percentage_error: 89510984.0000\n",
      "Epoch 28/500\n",
      "4926/4926 [==============================] - 15s 3ms/step - loss: 0.6245 - mae: 0.6245 - mse: 1.5680 - mean_absolute_percentage_error: 91796656.0000 - val_loss: 0.6570 - val_mae: 0.6570 - val_mse: 2.0284 - val_mean_absolute_percentage_error: 65284564.0000\n",
      "Epoch 29/500\n",
      "4926/4926 [==============================] - 15s 3ms/step - loss: 0.6264 - mae: 0.6264 - mse: 1.5794 - mean_absolute_percentage_error: 89422288.0000 - val_loss: 0.6788 - val_mae: 0.6788 - val_mse: 2.0565 - val_mean_absolute_percentage_error: 140304848.0000\n",
      "Epoch 30/500\n",
      "4926/4926 [==============================] - 17s 3ms/step - loss: 0.6242 - mae: 0.6242 - mse: 1.5739 - mean_absolute_percentage_error: 89425848.0000 - val_loss: 0.6607 - val_mae: 0.6607 - val_mse: 2.0686 - val_mean_absolute_percentage_error: 62748892.0000\n",
      "Epoch 31/500\n"
     ]
    },
    {
     "name": "stdout",
     "output_type": "stream",
     "text": [
      "4926/4926 [==============================] - 16s 3ms/step - loss: 0.6235 - mae: 0.6235 - mse: 1.5690 - mean_absolute_percentage_error: 88133232.0000 - val_loss: 0.6685 - val_mae: 0.6685 - val_mse: 1.9491 - val_mean_absolute_percentage_error: 140420064.0000\n",
      "Epoch 32/500\n",
      "4926/4926 [==============================] - 17s 3ms/step - loss: 0.6253 - mae: 0.6253 - mse: 1.5725 - mean_absolute_percentage_error: 90577864.0000 - val_loss: 0.6608 - val_mae: 0.6608 - val_mse: 1.9749 - val_mean_absolute_percentage_error: 95431592.0000\n",
      "Epoch 33/500\n",
      "4926/4926 [==============================] - 15s 3ms/step - loss: 0.6247 - mae: 0.6247 - mse: 1.5649 - mean_absolute_percentage_error: 86837584.0000 - val_loss: 0.6900 - val_mae: 0.6900 - val_mse: 2.0279 - val_mean_absolute_percentage_error: 182769552.0000\n",
      "Epoch 34/500\n",
      "4926/4926 [==============================] - 15s 3ms/step - loss: 0.6237 - mae: 0.6237 - mse: 1.5586 - mean_absolute_percentage_error: 93525008.0000 - val_loss: 0.6878 - val_mae: 0.6878 - val_mse: 2.0440 - val_mean_absolute_percentage_error: 139874448.0000\n",
      "Epoch 35/500\n",
      "4926/4926 [==============================] - 15s 3ms/step - loss: 0.6236 - mae: 0.6236 - mse: 1.5591 - mean_absolute_percentage_error: 90735992.0000 - val_loss: 0.6707 - val_mae: 0.6707 - val_mse: 2.0497 - val_mean_absolute_percentage_error: 130253296.0000\n",
      "Epoch 36/500\n",
      "4926/4926 [==============================] - 15s 3ms/step - loss: 0.6224 - mae: 0.6224 - mse: 1.5470 - mean_absolute_percentage_error: 96744224.0000 - val_loss: 0.6818 - val_mae: 0.6818 - val_mse: 2.0264 - val_mean_absolute_percentage_error: 154397728.0000\n",
      "Epoch 37/500\n",
      "4926/4926 [==============================] - 15s 3ms/step - loss: 0.6204 - mae: 0.6204 - mse: 1.5261 - mean_absolute_percentage_error: 93072072.0000 - val_loss: 0.6659 - val_mae: 0.6659 - val_mse: 2.0634 - val_mean_absolute_percentage_error: 108766096.0000\n",
      "Epoch 38/500\n",
      "4926/4926 [==============================] - 15s 3ms/step - loss: 0.6190 - mae: 0.6190 - mse: 1.5289 - mean_absolute_percentage_error: 90519128.0000 - val_loss: 0.6614 - val_mae: 0.6614 - val_mse: 2.0006 - val_mean_absolute_percentage_error: 102051352.0000\n",
      "Epoch 39/500\n",
      "4926/4926 [==============================] - 15s 3ms/step - loss: 0.6206 - mae: 0.6206 - mse: 1.5427 - mean_absolute_percentage_error: 88764736.0000 - val_loss: 0.6574 - val_mae: 0.6574 - val_mse: 1.9248 - val_mean_absolute_percentage_error: 115164936.0000\n",
      "Epoch 40/500\n",
      "4926/4926 [==============================] - 16s 3ms/step - loss: 0.6208 - mae: 0.6208 - mse: 1.5524 - mean_absolute_percentage_error: 86438960.0000 - val_loss: 0.6663 - val_mae: 0.6663 - val_mse: 1.9517 - val_mean_absolute_percentage_error: 130425704.0000\n",
      "Epoch 41/500\n",
      "4926/4926 [==============================] - 15s 3ms/step - loss: 0.6206 - mae: 0.6206 - mse: 1.5540 - mean_absolute_percentage_error: 86099272.0000 - val_loss: 0.6617 - val_mae: 0.6617 - val_mse: 2.0463 - val_mean_absolute_percentage_error: 95070376.0000\n",
      "Epoch 42/500\n",
      "4926/4926 [==============================] - 15s 3ms/step - loss: 0.6191 - mae: 0.6191 - mse: 1.5413 - mean_absolute_percentage_error: 86092584.0000 - val_loss: 0.6593 - val_mae: 0.6593 - val_mse: 2.0245 - val_mean_absolute_percentage_error: 69421952.0000\n",
      "Epoch 43/500\n",
      "4926/4926 [==============================] - 15s 3ms/step - loss: 0.6185 - mae: 0.6185 - mse: 1.5477 - mean_absolute_percentage_error: 82919424.0000 - val_loss: 0.6736 - val_mae: 0.6736 - val_mse: 2.0086 - val_mean_absolute_percentage_error: 149757280.0000\n",
      "Epoch 44/500\n",
      "4926/4926 [==============================] - 16s 3ms/step - loss: 0.6170 - mae: 0.6170 - mse: 1.5235 - mean_absolute_percentage_error: 90149856.0000 - val_loss: 0.6873 - val_mae: 0.6873 - val_mse: 2.3475 - val_mean_absolute_percentage_error: 87498464.0000\n",
      "Epoch 45/500\n",
      "4926/4926 [==============================] - 16s 3ms/step - loss: 0.6179 - mae: 0.6179 - mse: 1.5260 - mean_absolute_percentage_error: 89198632.0000 - val_loss: 0.6589 - val_mae: 0.6589 - val_mse: 2.0114 - val_mean_absolute_percentage_error: 66797968.0000\n",
      "Epoch 46/500\n",
      "4922/4926 [============================>.] - ETA: 0s - loss: 0.6169 - mae: 0.6169 - mse: 1.5186 - mean_absolute_percentage_error: 88163008.0000"
     ]
    }
   ],
   "source": [
    "class PrintDot(keras.callbacks.Callback):\n",
    "  def on_epoch_end(self, epoch, logs):\n",
    "    if epoch % 50 == 0: print(\"\\n\",\"epoca\",epoch,logs)\n",
    "    print('.', end='')\n",
    "\n",
    "EPOCHS = 500\n",
    "\n",
    "history = model.fit(\n",
    "  normed_train_data, Y_train,\n",
    "  epochs=EPOCHS, validation_data=(X_test,Y_test))"
   ]
  },
  {
   "cell_type": "code",
   "execution_count": null,
   "id": "ffb3ea72",
   "metadata": {},
   "outputs": [],
   "source": [
    "hist = pd.DataFrame(history.history)\n",
    "hist['epoch'] = history.epoch\n",
    "hist.tail()\n",
    "hist.sort_values(by=['mean_absolute_percentage_error', 'val_mean_absolute_percentage_error']).head()"
   ]
  },
  {
   "cell_type": "markdown",
   "id": "b55229c4",
   "metadata": {},
   "source": [
    "# evaluacion del modelo"
   ]
  },
  {
   "cell_type": "code",
   "execution_count": null,
   "id": "bf85d5a3",
   "metadata": {},
   "outputs": [],
   "source": [
    "from sklearn.metrics import mean_squared_error\n",
    "from sklearn.metrics import r2_score\n",
    "# Evalúe el modelo con los conjuntos de entrenamiento y prueba.\n",
    "Y_train_pred = model.predict(X_train)\n",
    "Y_test_pred = model.predict(X_test)\n",
    "\n",
    "    # Compute el error cuadratico medio de entrenamiento y prueba. Redondee los\n",
    "    # valores a dos decimales.\n",
    "\n",
    "r2_score_train = r2_score(\n",
    "        Y_train,\n",
    "        Y_train_pred,\n",
    "    ).round(2)\n",
    "\n",
    "r2_score_test = r2_score(\n",
    "        Y_test,\n",
    "        Y_test_pred,\n",
    "    ).round(2)"
   ]
  },
  {
   "cell_type": "code",
   "execution_count": null,
   "id": "5ea959ab",
   "metadata": {},
   "outputs": [],
   "source": [
    "print(\"r2 score\")\n",
    "print(\"entrenamiento: \",r2_score_train,\"validacion: \",r2_score_test)"
   ]
  },
  {
   "cell_type": "code",
   "execution_count": null,
   "id": "af2c35bf",
   "metadata": {},
   "outputs": [],
   "source": [
    "def plot_history(history):\n",
    "  hist = pd.DataFrame(history.history)\n",
    "  hist['epoch'] = history.epoch\n",
    "\n",
    "  plt.figure()\n",
    "  plt.xlabel('Epoch')\n",
    "  plt.ylabel('Mean Abs Error [MPG]')\n",
    "  plt.plot(hist['epoch'], hist['mae'],\n",
    "           label='Train Error')\n",
    "  plt.plot(hist['epoch'], hist['val_mae'],\n",
    "           label = 'Val Error')\n",
    "  #plt.ylim([0,5])\n",
    "  plt.legend()\n",
    "\n",
    "  plt.figure()\n",
    "  plt.xlabel('Epoch')\n",
    "  plt.ylabel('Mean Square Error [$MPG^2$]')\n",
    "  plt.plot(hist['epoch'], hist['mse'],\n",
    "           label='Train Error')\n",
    "  plt.plot(hist['epoch'], hist['val_mse'],\n",
    "           label = 'Val Error')\n",
    "  #plt.ylim([0,20])\n",
    "  plt.legend()\n",
    "  plt.figure()\n",
    "  plt.xlabel('Epoch')\n",
    "  plt.ylabel('mean_absolute_percentage_error')\n",
    "  plt.plot(hist['epoch'], hist['mean_absolute_percentage_error'],\n",
    "           label='Train Error')\n",
    "  plt.plot(hist['epoch'], hist['val_mean_absolute_percentage_error'],\n",
    "           label = 'Val Error')\n",
    "  #plt.ylim([0,20])\n",
    "  plt.legend()\n",
    "  plt.show()\n",
    "\n",
    "\n",
    "plot_history(history)"
   ]
  },
  {
   "cell_type": "code",
   "execution_count": null,
   "id": "19120a29",
   "metadata": {},
   "outputs": [],
   "source": [
    "from sklearn.metrics import mean_absolute_percentage_error,median_absolute_error\n",
    "mae_train = median_absolute_error(\n",
    "        Y_train,\n",
    "        Y_train_pred,\n",
    "    ).round(2)\n",
    "\n",
    "mae_test = median_absolute_error(\n",
    "        Y_test,\n",
    "        Y_test_pred,\n",
    "    ).round(2)"
   ]
  },
  {
   "cell_type": "code",
   "execution_count": null,
   "id": "a5710f29",
   "metadata": {},
   "outputs": [],
   "source": [
    "print(\"median absolute error\")\n",
    "print(\"entrenamiento:\",mae_train,\"validacion:\",mae_test)"
   ]
  },
  {
   "cell_type": "code",
   "execution_count": null,
   "id": "1ad0c2f1",
   "metadata": {},
   "outputs": [],
   "source": [
    "from sklearn.metrics import mean_absolute_percentage_error,median_absolute_error\n",
    "mape_train = mean_absolute_percentage_error(\n",
    "        Y_train,\n",
    "        Y_train_pred,\n",
    "    ).round(2)\n",
    "\n",
    "mape_test = mean_absolute_percentage_error(\n",
    "        Y_test,\n",
    "        Y_test_pred,\n",
    "    ).round(2)"
   ]
  },
  {
   "cell_type": "code",
   "execution_count": null,
   "id": "583d8366",
   "metadata": {},
   "outputs": [],
   "source": [
    "print(\"mean absolute percentage error\")\n",
    "print(\"entrenamiento:\",mape_train,\"validacion:\",mape_test)"
   ]
  },
  {
   "cell_type": "code",
   "execution_count": null,
   "id": "ca8a5da6",
   "metadata": {},
   "outputs": [],
   "source": [
    "resultTest=pd.DataFrame()\n",
    "resultTest[\"esperado\"]=Y_train\n",
    "resultTest[\"predicho\"]=Y_train_pred"
   ]
  },
  {
   "cell_type": "code",
   "execution_count": null,
   "id": "a90b71d7",
   "metadata": {},
   "outputs": [],
   "source": [
    "resultTest.sample(10)"
   ]
  },
  {
   "cell_type": "code",
   "execution_count": null,
   "id": "f28ac62f",
   "metadata": {},
   "outputs": [],
   "source": [
    "from tensorflow.keras.models import load_model\n",
    "\n",
    "#model.save('modelo-V3_1.h5')\n",
    "#model=load_model('modelo-V3_1.h5')"
   ]
  },
  {
   "cell_type": "markdown",
   "id": "9a168b6f",
   "metadata": {},
   "source": [
    "# prediccion final "
   ]
  },
  {
   "cell_type": "markdown",
   "id": "521a937a",
   "metadata": {},
   "source": [
    "creamos una dataframe nuevo para predecir las posibles accidentes en medellin y sus comunas en los años 2021 y 2022"
   ]
  },
  {
   "cell_type": "code",
   "execution_count": null,
   "id": "2a6f02c8",
   "metadata": {},
   "outputs": [],
   "source": [
    "test.columns\n",
    "#84"
   ]
  },
  {
   "cell_type": "code",
   "execution_count": null,
   "id": "dfa4395d",
   "metadata": {},
   "outputs": [],
   "source": [
    "from datetime import datetime, timedelta\n",
    "inicio = datetime(2021,1,1)\n",
    "fin    = datetime(2022,12,31)\n",
    "\n",
    "X_test_final = pd.DataFrame([inicio + timedelta(days=d) for d in range((fin - inicio).days + 1)],columns=[\"DIA\"])\n",
    "X_test_final"
   ]
  },
  {
   "cell_type": "code",
   "execution_count": null,
   "id": "b381f69e",
   "metadata": {},
   "outputs": [],
   "source": [
    "X_test_final[\"key\"]=1\n",
    "clase_accidente=pd.DataFrame(train.CLASE_ACCIDENTE.unique(),columns=[\"CLASE_ACCIDENTE\"])\n",
    "clase_accidente[\"key\"]=1\n",
    "X_test_final=pd.merge(X_test_final, clase_accidente, on ='key')\n",
    "X_test_final.head(10)"
   ]
  },
  {
   "cell_type": "code",
   "execution_count": null,
   "id": "b8998317",
   "metadata": {},
   "outputs": [],
   "source": [
    "numcomuna=pd.DataFrame(train.NUMCOMUNA.unique(),columns=[\"NUMCOMUNA\"])\n",
    "numcomuna[\"key\"]=1\n",
    "X_test_final=pd.merge(X_test_final, numcomuna, on ='key').drop([\"key\"],axis=1)\n",
    "X_test_final.head(10)"
   ]
  },
  {
   "cell_type": "code",
   "execution_count": null,
   "id": "8cd24852",
   "metadata": {},
   "outputs": [],
   "source": [
    "#dia_festivo 1 si 0 no\n",
    "X_test_final[\"dia_festivo\".upper()]=X_test_final[\"DIA\"].apply(lambda x : str(co.is_holiday_date(x)))\n",
    "#tiempo en meses desde el primer data conocido \n",
    "X_test_final[\"t\"]=X_test_final[\"DIA\"].apply(lambda x : (pd.Timestamp(x).year-2014)*12+pd.Timestamp(x).month-7)\n",
    "#dia de la semana en numero\n",
    "X_test_final[\"dia_de_la_semana\".upper()]=X_test_final[\"dia\".upper()].apply(lambda x : str(pd.Timestamp(x).day_of_week))\n",
    "#mes de ocurencia\n",
    "X_test_final[\"MES\"]=X_test_final[\"DIA\"].apply(lambda x : str(pd.Timestamp(x).month))\n",
    "#dia que ocurrio el accidente en el mes\n",
    "X_test_final[\"dia_del_mes\".upper()]=X_test_final[\"dia\".upper()].apply(lambda x :str( pd.Timestamp(x).day))\n",
    "X_test_final.drop([\"DIA\"],axis=1,inplace=True)\n",
    "X_test_final"
   ]
  },
  {
   "cell_type": "markdown",
   "id": "85bf571c",
   "metadata": {},
   "source": [
    "aplicamos onehot encode al nuevo dataframe"
   ]
  },
  {
   "cell_type": "code",
   "execution_count": null,
   "id": "939f3e05",
   "metadata": {},
   "outputs": [],
   "source": [
    "X_test_final=pd.get_dummies(X_test_final,drop_first=True)\n",
    "X_test_final.columns"
   ]
  },
  {
   "cell_type": "code",
   "execution_count": null,
   "id": "9c800d7b",
   "metadata": {},
   "outputs": [],
   "source": [
    "prediccion_final=pd.DataFrame(model.predict(X_test_final))\n",
    "prediccion_final"
   ]
  },
  {
   "cell_type": "markdown",
   "id": "8b00f315",
   "metadata": {},
   "source": [
    "# analisis de los resultados"
   ]
  },
  {
   "cell_type": "code",
   "execution_count": null,
   "id": "e576e852",
   "metadata": {},
   "outputs": [],
   "source": [
    "datos=pd.concat([X_train[:],X_test[:],X_test_final], ignore_index=True)\n",
    "\n",
    "datos.shape"
   ]
  },
  {
   "cell_type": "code",
   "execution_count": null,
   "id": "8d476300",
   "metadata": {},
   "outputs": [],
   "source": [
    "resultados=pd.concat([pd.DataFrame(Y_train_pred),pd.DataFrame(Y_test_pred),prediccion_final], ignore_index=True)\n",
    "resultados.shape"
   ]
  },
  {
   "cell_type": "code",
   "execution_count": null,
   "id": "deb1d866",
   "metadata": {},
   "outputs": [],
   "source": [
    "print(len(X_train)+len(X_test),len(X_test_final))\n",
    "print(len(pd.DataFrame(Y_train_pred)),len(pd.DataFrame(Y_test_pred)),len(prediccion_final))"
   ]
  },
  {
   "cell_type": "code",
   "execution_count": null,
   "id": "44412d75",
   "metadata": {},
   "outputs": [],
   "source": [
    "print(X_train.shape,X_test.shape,X_test_final.shape)"
   ]
  },
  {
   "cell_type": "code",
   "execution_count": null,
   "id": "49091eb8",
   "metadata": {},
   "outputs": [],
   "source": []
  }
 ],
 "metadata": {
  "kernelspec": {
   "display_name": "Python 3 (ipykernel)",
   "language": "python",
   "name": "python3"
  },
  "language_info": {
   "codemirror_mode": {
    "name": "ipython",
    "version": 3
   },
   "file_extension": ".py",
   "mimetype": "text/x-python",
   "name": "python",
   "nbconvert_exporter": "python",
   "pygments_lexer": "ipython3",
   "version": "3.7.13"
  }
 },
 "nbformat": 4,
 "nbformat_minor": 5
}
