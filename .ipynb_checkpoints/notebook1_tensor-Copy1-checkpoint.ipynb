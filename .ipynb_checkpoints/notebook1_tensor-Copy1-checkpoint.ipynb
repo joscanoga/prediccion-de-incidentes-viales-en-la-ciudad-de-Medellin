{
 "cells": [
  {
   "cell_type": "markdown",
   "id": "e31f22a6",
   "metadata": {},
   "source": [
    "\n",
    "# prediccion de incidentes viales en la ciudad de Medellin"
   ]
  },
  {
   "cell_type": "markdown",
   "id": "6ebed440",
   "metadata": {},
   "source": [
    "## importacion librerias necesarias"
   ]
  },
  {
   "cell_type": "code",
   "execution_count": 1,
   "id": "9a0ff55a",
   "metadata": {},
   "outputs": [],
   "source": [
    "import pandas as pd\n",
    "import re\n",
    "import matplotlib.pyplot as plt\n",
    "import seaborn as sns\n",
    "import numpy as np\n",
    "import tensorflow as tf\n",
    "\n",
    "from tensorflow import keras\n",
    "from tensorflow.keras import layers\n"
   ]
  },
  {
   "cell_type": "markdown",
   "id": "0fd8d3cc",
   "metadata": {},
   "source": [
    "## lectura y exploracion de los datos"
   ]
  },
  {
   "cell_type": "code",
   "execution_count": 2,
   "id": "d3bdd6c7",
   "metadata": {},
   "outputs": [
    {
     "name": "stdout",
     "output_type": "stream",
     "text": [
      "    AÑO  CBML CLASE_ACCIDENTE      DIRECCION       DIRECCION ENCASILLADA  \\\n",
      "0  2015  1013  Caida Ocupante    CR 46 CL 43    CR  046   043  000 00000   \n",
      "1  2015  1020          Choque  CR 43 A CL 29  CR  043 A   029  000 00000   \n",
      "2  2015  0205            Otro    CR 46 CL 37    CR  046   037  000 00000   \n",
      "3  2015  0101       Atropello   CR 34 CL 112    CR  034   112  000 00000   \n",
      "4  2015  1504          Choque    CR 50 CL 14    CR  050   014  000 00000   \n",
      "\n",
      "         DISEÑO  EXPEDIENTE      FECHA_ACCIDENTE          FECHA_ACCIDENTES  \\\n",
      "0  Tramo de via  A000259731  21/10/2015 05:58:00  2015-10-21T10:58:00.000Z   \n",
      "1  Tramo de via  A000261725  05/11/2015 03:00:00  2015-11-05T08:00:00.000Z   \n",
      "2  Tramo de via  A000259739  21/10/2015 07:40:00  2015-10-21T12:40:00.000Z   \n",
      "3  Tramo de via  A000259752  21/10/2015 12:00:00  2015-10-21T17:00:00.000Z   \n",
      "4  Tramo de via  A000259949  03/11/2015 06:16:00  2015-11-03T11:16:00.000Z   \n",
      "\n",
      "  GRAVEDAD_ACCIDENTE  MES NRO_RADICADO NUMCOMUNA                     BARRIO  \\\n",
      "0        Con heridos   10      1508668        10               Barrio Colón   \n",
      "1         Solo daños   11      1510621        10                  San Diego   \n",
      "2        Con heridos   10      1508691        02                 La Francia   \n",
      "3        Con heridos   10      1508694        01  Santo Domingo Savio No. 1   \n",
      "4         Solo daños   11      1510634        15                   Santa Fé   \n",
      "\n",
      "          COMUNA                         LOCATION          X           Y  \n",
      "0  La Candelaria  [-75.5688011014, 6.24312304123]  834949.69  1182357.34  \n",
      "1  La Candelaria  [-75.5693883283, 6.22870030622]  834880.17  1180762.02  \n",
      "2     Santa Cruz  [-75.5503911403, 6.29869502502]  837004.94  1188499.17  \n",
      "3        Popular  [-75.5442195069, 6.30019383306]  837688.53  1188663.05  \n",
      "4       Guayabal   [-75.578180998, 6.21699243701]  833903.11  1179469.60  \n"
     ]
    },
    {
     "name": "stderr",
     "output_type": "stream",
     "text": [
      "C:\\Users\\johan\\anaconda3\\envs\\tensorflow_gpu\\lib\\site-packages\\IPython\\core\\interactiveshell.py:3552: DtypeWarning: Columns (0,11) have mixed types.Specify dtype option on import or set low_memory=False.\n",
      "  exec(code_obj, self.user_global_ns, self.user_ns)\n"
     ]
    }
   ],
   "source": [
    "#lectura dataframe saltando las filas malas\n",
    "df=pd.read_csv(\"incidentes_viales.csv\",on_bad_lines='skip',index_col=False,sep=\";\",encoding=\"UTF-8\")\n",
    "print(df.head())"
   ]
  },
  {
   "cell_type": "code",
   "execution_count": 3,
   "id": "e174dd0b",
   "metadata": {},
   "outputs": [
    {
     "name": "stdout",
     "output_type": "stream",
     "text": [
      "Index(['AÑO', 'CBML', 'CLASE_ACCIDENTE', 'DIRECCION', 'DIRECCION ENCASILLADA',\n",
      "       'DISEÑO', 'EXPEDIENTE', 'FECHA_ACCIDENTE', 'FECHA_ACCIDENTES',\n",
      "       'GRAVEDAD_ACCIDENTE', 'MES', 'NRO_RADICADO', 'NUMCOMUNA', 'BARRIO',\n",
      "       'COMUNA', 'LOCATION', 'X', 'Y'],\n",
      "      dtype='object')\n",
      "numero de columnas iniciales  18\n",
      "numero de filas iniciales  270765\n"
     ]
    }
   ],
   "source": [
    "#revisamos las columnas\n",
    "print(df.columns)\n",
    "print(\"numero de columnas iniciales \",len(df.columns))\n",
    "print(\"numero de filas iniciales \",df.shape[0])\n"
   ]
  },
  {
   "cell_type": "markdown",
   "id": "97b29654",
   "metadata": {},
   "source": [
    "## limpieza de datos"
   ]
  },
  {
   "cell_type": "code",
   "execution_count": 4,
   "id": "9dd5ad6b",
   "metadata": {},
   "outputs": [
    {
     "name": "stdout",
     "output_type": "stream",
     "text": [
      "250686\n"
     ]
    }
   ],
   "source": [
    "#eliminacion de datos con nulos\n",
    "df.dropna(inplace=True)\n",
    "#eliminar datos duplicados\n",
    "df.drop_duplicates(inplace=True)\n",
    "print(df.shape[0])"
   ]
  },
  {
   "cell_type": "code",
   "execution_count": 5,
   "id": "0c4dbcbc",
   "metadata": {},
   "outputs": [
    {
     "name": "stdout",
     "output_type": "stream",
     "text": [
      "['2015' '2014' '2016' '2017' '2018' '2019' '2020']\n"
     ]
    }
   ],
   "source": [
    "#AÑO-Año de ocurrencia del incidente\n",
    "df[\"AÑO\"]=df[\"AÑO\"].apply(lambda x : re.findall(r\"[0-9]{4}\",str(x))[0])\n",
    "print(df[\"AÑO\"].unique())"
   ]
  },
  {
   "cell_type": "code",
   "execution_count": 6,
   "id": "90e158ff",
   "metadata": {},
   "outputs": [
    {
     "name": "stdout",
     "output_type": "stream",
     "text": [
      "521\n"
     ]
    }
   ],
   "source": [
    "#CBML-Codigo catastral que corresponde al codigo comuna, barrio, manzana, lote catastral de un predio.\n",
    "print(len(df[\"CBML\"].unique()))"
   ]
  },
  {
   "cell_type": "code",
   "execution_count": 7,
   "id": "07fc0e9b",
   "metadata": {},
   "outputs": [
    {
     "name": "stdout",
     "output_type": "stream",
     "text": [
      "['caida ocupante' 'choque' 'otro' 'atropello' 'volcamiento' 'incendio']\n"
     ]
    }
   ],
   "source": [
    "#CLASE_ACCIDENTE-Clasificación del IPAT sobre la clase de accidente de transito: choque, atropello, volcamiento,\n",
    "#caida de ocupante, incendio, u otro (que no corresponde a las anteriores 5 clasificaciones, p. ej: sumersión)\n",
    "df[\"CLASE_ACCIDENTE\"]=df[\"CLASE_ACCIDENTE\"].apply(lambda x : str(x).replace(\"Caída de Ocupante\",\"Caida Ocupante\").lower())\n",
    "print((df[\"CLASE_ACCIDENTE\"].unique()))"
   ]
  },
  {
   "cell_type": "code",
   "execution_count": 8,
   "id": "3340b229",
   "metadata": {},
   "outputs": [
    {
     "name": "stdout",
     "output_type": "stream",
     "text": [
      "154359     CL 43 CR 115 A\n",
      "249636     CR 64 A CL 111\n",
      "46120         CL 58 CR 45\n",
      "147366     CL 65 CR 105 A\n",
      "69594     CR 48 CL 12 Sur\n",
      "36049         CL 45 CR 34\n",
      "36137         CR 65 CL 45\n",
      "223042      CL 64 C CR 94\n",
      "77826        CR 78 CL 102\n",
      "225509        CR 57 CL 46\n",
      "Name: DIRECCION, dtype: object\n"
     ]
    }
   ],
   "source": [
    "#DIRECCION-Dirección donde ocurrió el incidente\n",
    "##aparentemente se encuentra ya formateada\n",
    "print((df[\"DIRECCION\"].sample(10)))"
   ]
  },
  {
   "cell_type": "code",
   "execution_count": 9,
   "id": "03b23aa3",
   "metadata": {},
   "outputs": [
    {
     "name": "stdout",
     "output_type": "stream",
     "text": [
      "63458         CR  050   014  000 00000\n",
      "203644        CR  049   030  000 00000\n",
      "21558         CR  062   044  000 00000\n",
      "137289      CR  093 A   078  000 00000\n",
      "61126       CR  064 C   104  000 00000\n",
      "94827         CR  066   043  000 00000\n",
      "210523    CL  101 C   033 E  000 00000\n",
      "165685        CR  063   049  000 00000\n",
      "263035        CL  050   032  000 00000\n",
      "205071        CL  010   041  000 00000\n",
      "Name: DIRECCION ENCASILLADA, dtype: object\n"
     ]
    }
   ],
   "source": [
    "#DIRECCION ENCASILLADA-\tDirección encasillada que entrega el geocodificador\n",
    "##aparentemente se encuentra ya formateada\n",
    "##variable con poca informacion util dada la variable anterior--escoger una de las 2\n",
    "print((df[\"DIRECCION ENCASILLADA\"].sample(10)))"
   ]
  },
  {
   "cell_type": "code",
   "execution_count": 10,
   "id": "7ce8f619",
   "metadata": {},
   "outputs": [
    {
     "name": "stdout",
     "output_type": "stream",
     "text": [
      "['tramo de via' 'interseccion' 'glorieta' 'lote o predio' 'paso a nivel'\n",
      " 'puente' 'paso elevado' 'ciclo ruta' 'paso inferior' 'via peatonal'\n",
      " 'pontón' 'tunel']\n"
     ]
    }
   ],
   "source": [
    "#DISENO-Sitio de la vía donde ocurrió el accidente: Cicloruta, Glorieta, Interseccion, Lote o Predio, Paso a Nivel, Paso Elevado,\n",
    "#Paso Inferior, Pontón, Puente, Tramo de via, Tunel, Via peatonal\n",
    "df[\"DISEÑO\"]=df[\"DISEÑO\"].apply(lambda x : str(x).replace(\"Pont\\\\xF3n\",\"Pontón\").lower())\n",
    "print((df[\"DISEÑO\"].unique()))"
   ]
  },
  {
   "cell_type": "code",
   "execution_count": 11,
   "id": "819129be",
   "metadata": {},
   "outputs": [
    {
     "name": "stdout",
     "output_type": "stream",
     "text": [
      "200418    A000773221\n",
      "189367    A000853402\n",
      "202604    A000111975\n",
      "95139     A000183991\n",
      "256172    A001002877\n",
      "263021    A001075549\n",
      "45902     A000183778\n",
      "171821    A001073315\n",
      "225723    A000488476\n",
      "46938     A000092320\n",
      "Name: EXPEDIENTE, dtype: object\n"
     ]
    }
   ],
   "source": [
    "#EXPEDIENTE\n",
    "#Consecutivo que asigna UNE, según el orden de llegada de los expedientes para su diligenciamiento\n",
    "##variable  aprarentemente con poco valor\n",
    "print((df[\"EXPEDIENTE\"].sample(10)))"
   ]
  },
  {
   "cell_type": "code",
   "execution_count": 12,
   "id": "c391cd5b",
   "metadata": {},
   "outputs": [
    {
     "name": "stdout",
     "output_type": "stream",
     "text": [
      "81924    2016-09-10 12:39:00\n",
      "22625    2018-12-02 12:00:00\n",
      "133677   2018-03-29 08:20:00\n",
      "266773   2020-02-27 23:40:00\n",
      "37831    2019-09-05 05:50:00\n",
      "172939   2019-12-10 14:30:00\n",
      "17157    2018-09-06 08:00:00\n",
      "141747   2018-04-24 21:20:00\n",
      "164905   2019-06-18 11:15:00\n",
      "200019   2018-03-27 17:20:00\n",
      "Name: FECHA_ACCIDENTE, dtype: datetime64[ns]\n"
     ]
    }
   ],
   "source": [
    "#FECHA_ACCIDENTE\n",
    "#Fecha del accidente, proviene del IPAT - Informe Policial de accidente de Tránsito\n",
    "df[\"FECHA_ACCIDENTE\"] = pd.to_datetime(df[\"FECHA_ACCIDENTE\"],dayfirst=True)\n",
    "print((df[\"FECHA_ACCIDENTE\"].sample(10)))"
   ]
  },
  {
   "cell_type": "code",
   "execution_count": 13,
   "id": "24aaea57",
   "metadata": {},
   "outputs": [
    {
     "name": "stdout",
     "output_type": "stream",
     "text": [
      "0    2015-10-21T10:58:00.000Z\n",
      "1    2015-11-05T08:00:00.000Z\n",
      "2    2015-10-21T12:40:00.000Z\n",
      "3    2015-10-21T17:00:00.000Z\n",
      "4    2015-11-03T11:16:00.000Z\n",
      "5    2015-11-05T09:30:00.000Z\n",
      "6    2015-10-18T09:40:00.000Z\n",
      "7    2015-11-04T09:46:00.000Z\n",
      "8    2015-10-21T12:00:00.000Z\n",
      "9    2015-11-05T12:00:00.000Z\n",
      "Name: FECHA_ACCIDENTES, dtype: object\n"
     ]
    }
   ],
   "source": [
    "#FECHA_ACCIDENTES\n",
    "#Fecha de los accidente (formato YYYY-MM-DD hh:mi:ss), proviene del IPAT - Informe Policial de accidentes de Tránsito\n",
    "##veriable redundante con la anterior\n",
    "print((df[\"FECHA_ACCIDENTES\"].head(10)))"
   ]
  },
  {
   "cell_type": "code",
   "execution_count": 14,
   "id": "3f0c26b6",
   "metadata": {},
   "outputs": [
    {
     "name": "stdout",
     "output_type": "stream",
     "text": [
      "['con heridos' 'solo daños' 'con muertos']\n"
     ]
    }
   ],
   "source": [
    "#GRAVEDAD_ACCIDENTE\n",
    "#Clasificación del IPAT - Informe Policial de Accidentes de Tránsito, sobre la gravedad del accidente, corresponde al resultado \n",
    "#más grave presentado en el accidente. Daños materiales \"Sólo daños\", accidente con heridos \"Herido\", accidente con muertos \n",
    "#\"Muerto\". No indica cantidad\n",
    "df[\"GRAVEDAD_ACCIDENTE\"]=df[\"GRAVEDAD_ACCIDENTE\"].apply(lambda x : str(x).replace(\"Solo da\\\\xF1os\",\"Solo daños\").lower())\n",
    "print((df[\"GRAVEDAD_ACCIDENTE\"].unique()))"
   ]
  },
  {
   "cell_type": "code",
   "execution_count": 15,
   "id": "b9e23da5",
   "metadata": {},
   "outputs": [
    {
     "name": "stdout",
     "output_type": "stream",
     "text": [
      "[10 11 12  9  4  3  5  6  7  8  1  2]\n"
     ]
    }
   ],
   "source": [
    "#MES\n",
    "#Mes de ocurrencia del incidente vial\n",
    "print((df[\"MES\"].unique()))"
   ]
  },
  {
   "cell_type": "code",
   "execution_count": 16,
   "id": "9b295969",
   "metadata": {},
   "outputs": [
    {
     "name": "stdout",
     "output_type": "stream",
     "text": [
      "0    1508668\n",
      "1    1510621\n",
      "2    1508691\n",
      "3    1508694\n",
      "4    1510634\n",
      "Name: NRO_RADICADO, dtype: object\n"
     ]
    }
   ],
   "source": [
    "#NRO_RADICADO\n",
    "#Consecutivo que asigna UNE, según el orden de llegada de los expedientes para su diligenciamiento\n",
    "#no tiene mucho valor aparentemente para nuestros fines\n",
    "print((df[\"NRO_RADICADO\"].head()))"
   ]
  },
  {
   "cell_type": "code",
   "execution_count": 17,
   "id": "1f702a6c",
   "metadata": {},
   "outputs": [
    {
     "name": "stdout",
     "output_type": "stream",
     "text": [
      "['1', '10', '11', '12', '13', '14', '15', '16', '2', '3', '4', '5', '6', '7', '8', '9']\n"
     ]
    }
   ],
   "source": [
    "#NUMCOMUNA\n",
    "#Numero de la comununa en la que ocurrio incidente vial\n",
    "#se eliminan las filas con valores que no corespondan con \n",
    "df=df[df[\"NUMCOMUNA\"]!=\"AU\"]\n",
    "df=df[df[\"NUMCOMUNA\"]!=\"Sin Inf\"]\n",
    "df=df[df[\"NUMCOMUNA\"]!=\"In\"]\n",
    "df=df[df[\"NUMCOMUNA\"]!=\"SN\"]\n",
    "df=df[df[\"NUMCOMUNA\"]!=\"0\"]\n",
    "#asuminos que las comunas 60,70,80,90 son las comunas 6,7,8,9 respectivamente\n",
    "df[\"NUMCOMUNA\"]=df[\"NUMCOMUNA\"].apply(lambda x : (int(x)))\n",
    "df[\"NUMCOMUNA\"]=df[\"NUMCOMUNA\"].apply(lambda x : x/10 if x >20 else x)\n",
    "df[\"NUMCOMUNA\"]=df[\"NUMCOMUNA\"].apply(lambda x : str(int(x)))\n",
    "print(sorted(df[\"NUMCOMUNA\"].unique()))"
   ]
  },
  {
   "cell_type": "code",
   "execution_count": 18,
   "id": "56a0d5c8",
   "metadata": {},
   "outputs": [
    {
     "name": "stdout",
     "output_type": "stream",
     "text": [
      "488\n",
      "['barrio colon' 'san diego' 'la francia' 'santo domingo savio no. 1'\n",
      " 'santa fe' 'la florida' 'los conquistadores' 'la alpujarra' 'villa nueva'\n",
      " 'facultad de minas u. nacional' 'la esperanza' 'perpetuo socorro'\n",
      " 'campo valdes no. 1' 'miraflores' 'oleoducto' 'terminal de transporte'\n",
      " 'gerona' 'u.d. atanasio girardot' 'alejandro echavarria'\n",
      " 'cabecera san antonio de prado' 'manila' 'los balsos no.2' 'moravia'\n",
      " 'tenche' 'universidad nacional' 'los colores' 'caribe'\n",
      " 'juan xxiii la quiebra' 'belalcazar' 'santa cruz' 'sucre' 'la candelaria'\n",
      " 'el estadio' 'suramericana' 'la gloria' 'centro administrativo'\n",
      " 'las estancias' 'aures no. 2' 'los angeles' 'castilla' 'la salle'\n",
      " 'la america' 'picacho' 'bosques de san pablo' 'la aguacatala'\n",
      " 'playon de los comuneros' 'estacion villa' 'la colina' 'popular'\n",
      " 'villa del socorro' 'cucaracho' 'santa maria de los angeles'\n",
      " 'el chagualo' 'la mansion' 'san benito' 'la castellana' 'jesus nazareno'\n",
      " 'loreto' 'asomadera no. 1' 'el salvador' 'cristo rey' 'moscu no. 2'\n",
      " 'la mota' 'villa hermosa' 'cordoba' 'campo amor' 'naranjal' 'san isidro'\n",
      " 'boyaca' 'belen' 'miranda' 'las palmas' 'patio bonito' 'el castillo'\n",
      " 'guayabal' 'girardot' 'campo valdes no. 2' 'doce de octubre no.1'\n",
      " 'el raizal' 'rosales' 'san martin de porres' 'berlin' 'kennedy'\n",
      " 'el rincon' 'carlos e. restrepo' 'moscu no. 1' 'altavista sector central'\n",
      " 'san javier no.1' 'bolivariana' 'prado' 'boston' 'veinte de julio'\n",
      " 'alfonso lopez' 'hector abad gomez' 'parque juan pablo ii' 'lorena'\n",
      " 'los alpes' 'parque norte' 'la ladera' 'trinidad' 'castropol' 'laureles'\n",
      " 'la piñuela' 'aranjuez' 'robledo' 'buenos aires' 'san german'\n",
      " 'bombona no. 1' 'area de expansion pajarito' 'santander' 'simon bolivar'\n",
      " 'corazon de jesus' 'francisco antonio zea' 'cuarta brigada' 'los mangos'\n",
      " 'versalles no. 2' 'calle nueva' 'fatima' 'asomadera no. 2' 'guayaquil'\n",
      " 'villa carlota' 'la pilarica' 'los balsos no.1' 'la esperanza no. 2'\n",
      " 'san pedro' 'manrique oriental' 'cerro nutibara'\n",
      " 'nueva villa de la iguana' 'sevilla' 'manrique central no. 1'\n",
      " 'tricentenario' 'el progreso' 'campo alegre' 'el pomar' 'florida nueva'\n",
      " 'barrio caicedo' 'barrio colombia' 'cabecera urbana san cristobal'\n",
      " 'los cerros el vergel' 'astorga' 'santa monica' 'la isla' 'san bernardo'\n",
      " 'altamira' 'san javier no.2' 'la floresta' 'aures no.1' 'cataluña'\n",
      " 'antonio nariño' 'lopez de mesa' 'granizal' 'las lomas no.1'\n",
      " 'los alcazares' 'el velodromo' 'nueva villa de aburra' 'villa flora'\n",
      " 'las acacias' 'llanaditas' 'florencia' 'las esmeraldas' 'los pinos'\n",
      " 'el danubio' 'las granjas' 'el diamante' 'lalinde' 'el diamante no. 2'\n",
      " 'ferrini' 'santa ines' 'palermo' 'la cruz' 'olaya herrera' 'belencito'\n",
      " 'los naranjos' 'altavista' 'manrique central no. 2'\n",
      " 'universidad de antioquia' 'pedregal' 'las brisas' 'el salado' 'toscana'\n",
      " 'calasanz' 'el tesoro' 'brasilia' 'bermejal-los alamos' 'el poblado'\n",
      " 'villa guadalupe' 'la frontera' 'enciso' 'villatina' 'aguas frias'\n",
      " 'monteclaro' 'maria cano carambolas' 'cementerio universal'\n",
      " 'campo valdes no.2' 'metropolitano' 'versalles no. 1' 'la libertad'\n",
      " 'la rosa' 'san miguel' 'suburbano mirador del poblado' 'granada'\n",
      " 'alejandria' 'loma de los bernal' 'doce de octubre no.2' 'la hondonada'\n",
      " 'santa margarita' 'san joaquin' 'tejelo' 'san lucas' 'miravalle'\n",
      " 'altos del poblado' 'manrique central no.2' 'el corazon'\n",
      " 'bello horizonte' 'la palma' 'barrio de jesus' 'diego echavarria'\n",
      " 'el pinal' 'las playas' 'la oculta' 'la pradera' 'el triunfo'\n",
      " 'las violetas' 'mirador del doce' 'san pablo' 'las lomas no.2'\n",
      " 'santa lucia' 'suburbano pedregal alto' 'asomadera no. 3' 'bombona no.1'\n",
      " 'betania' 'facultad veterinaria y zootecnia u.de.a.' 'andalucia'\n",
      " 'villa niza' 'carpinelo' 'el progreso no.2' 'santa teresita'\n",
      " 'suburbano altavista' 'suburbano la loma' 'b. cerro  el volador'\n",
      " 'aldea pablo vi' 'bombona no. 2' 'barrio cristobal' 'la loma oriental'\n",
      " 'villa liliam' 'villa turbay' 'calasanz parte alta'\n",
      " 'el nogal-los almendros' 'u.p.b.' 'oriente' 'santa rosa de lima'\n",
      " 'santo domingo savio no. 2' 'la milagrosa' 'blanquizal' 'plaza de ferias'\n",
      " 'area de expansion san antonio de prado' 'buga patio bonito' 'pajarito'\n",
      " 'hospital san vicente de paul' 'fuente clara' 'jardin botanico'\n",
      " 'la verde' 'el pesebre' 'el compromiso' 'el rodeo'\n",
      " 'nuevos conquistadores' 'suburbano travesias' 'palenque'\n",
      " 'trece de noviembre' 'san antonio' 'manrique central no.1'\n",
      " 'juan pablo ii' 'area de expansion altos de calasanz' 'las mercedes'\n",
      " 'el socorro' 'pedregal bajo' 'eduardo santos' 'pedregal alto' 'picachito'\n",
      " 'la avanzada' 'inst' 'suburbano palmitas' 'ocho de marzo'\n",
      " 'las independencias' 'pablo vi' 'area de expansion altavista'\n",
      " 'suburbano el plan' 'versalles no.1' 'piedras blancas' 'el picacho'\n",
      " 'san jose la cima no. 1' '6001' 'suburbano el tesoro'\n",
      " 'la loma de los bernal' 'la sierra' 'suburbano el llano'\n",
      " 'santo domingo savio no.1' 'volcana guayabal' 'el corazon el morro'\n",
      " '7001' 'san jose la cima no.2' 'yolombo' 'aures no.2' 'barrios de jesus'\n",
      " 'batallon girardot' 'palmitas sector central' '0'\n",
      " 'area de expansion belen rincon' 'el vergel' 'suburbano palma patio'\n",
      " 'san jose de la montaña' 'suburb el plan' 'asomadera no.1'\n",
      " 'piedras blancas represa' 'la loma' 'potrerito' 'moscu no.2'\n",
      " 'suburbano la cuchilla' '1018' '1507' '1504' '1408' '1011' '1419' '1503'\n",
      " '0907' 'sin inf' '1422' '1020' '0408' '1510' 'santa elena sector central'\n",
      " '1114' '0205' '1423' '0402' '0103' '0717' '0505' '1019' '1001' '0509'\n",
      " '0301' '1101' '0303' '0409' '0811' '0712' '1603' '1003' '0307' '1204'\n",
      " '0208' '0809' '0306' '0906' '1007' '0413' 'suburbano aguas frias' '1103'\n",
      " '1108' '1511' '0109' '1206' '0914' '0711' 'san jose del manzanillo'\n",
      " '1613' '0813' '0514' '1611' '1306' '0819' '7002'\n",
      " 'suburbano la palma-el patio' '1012' 'versalles no.2' 'media luna'\n",
      " 'piedras blancas - matasano' 'suburbano potrerito' 'villa lilliam' 'auc1'\n",
      " '9004' 'el plan' 'el uvito' '9086' 'el llano se' 'yarumalito' '0312'\n",
      " '1102' '1202' '0302' '1105' '1205' 'el astillero' '0310' '0309' '1211'\n",
      " '0803' '0105' '0606' '0716' '1605' '0211' '5002' 'suburbano piedra gorda'\n",
      " '0912' 'sin nombre' 'travesias' 'moscu no.1' '0903' '1004' '1015' '1620'\n",
      " '1612' '1008' '0815' '0304' '0202' 'boqueron']\n"
     ]
    }
   ],
   "source": [
    "#BARRIO\n",
    "print(len(df[\"BARRIO\"].unique()))\n",
    "#Barrio de ocurrencia del incidente vial\n",
    "#ó por o\n",
    "df[\"BARRIO\"]=df[\"BARRIO\"].apply(lambda x : str(x).lower().replace(\"\\\\xf3\",\"o\").replace(\"ó\",\"o\"))\n",
    "#é por e \n",
    "df[\"BARRIO\"]=df[\"BARRIO\"].apply(lambda x : str(x).replace(\"\\\\xe9\",\"e\").replace(\"é\",\"e\"))\n",
    "#á por a \n",
    "df[\"BARRIO\"]=df[\"BARRIO\"].apply(lambda x : str(x).replace(\"\\\\xc1\",\"a\").replace(\"\\\\xe1\",\"a\").replace(\"á\",\"a\"))\n",
    "#ñ\n",
    "df[\"BARRIO\"]=df[\"BARRIO\"].apply(lambda x : str(x).replace(\"\\\\xf1\",\"ñ\"))\n",
    "#\\\\xed í por i\n",
    "df[\"BARRIO\"]=df[\"BARRIO\"].apply(lambda x : str(x).replace(\"\\\\xed\",\"i\").replace(\"í\",\"i\"))\n",
    "#\\\\xfa ú por u\n",
    "df[\"BARRIO\"]=df[\"BARRIO\"].apply(lambda x : str(x).replace(\"\\\\xfa\",\"u\").replace(\"ú\",\"u\"))\n",
    "print((df[\"BARRIO\"].unique()))"
   ]
  },
  {
   "cell_type": "code",
   "execution_count": 19,
   "id": "eb1b0bc4",
   "metadata": {},
   "outputs": [
    {
     "name": "stdout",
     "output_type": "stream",
     "text": [
      "['la candelaria' 'santa cruz' 'popular' 'guayabal' 'el poblado'\n",
      " 'laureles estadio' 'robledo' 'doce de octubre' 'aranjuez' 'buenos aires'\n",
      " 'castilla' 'corregimiento de san antonio de prado' 'san javier'\n",
      " 'villa hermosa' 'belen' 'manrique' 'la america'\n",
      " 'corregimiento de altavista' 'corregimiento de san cristobal'\n",
      " 'corregimiento de santa elena' 'in'\n",
      " 'corregimiento de san sebastian de palmitas' 'au']\n"
     ]
    }
   ],
   "source": [
    "#COMUNA\n",
    "#Denominación con la cual se identifica cada Comuna o Corregimiento. 01:Popular 02:Santa Cruz 03:Manrique 04:Aranjuez 05:Castilla 06:Doce de Octubre 07:Robledo 08:Villa Hermosa 09:Buenos Aires 10:La Candelaria 11:Laureles - Estadio 12:La América 13:San Javier 14:El Poblado 15:Guayabal 16:Belén 50:San Sebastián de Palmitas 60:San Cristobal 70:Altavista 80:San Antonio de Prado 90:Santa Elena 99:Toda la Ciudad\n",
    "##variable redundante\n",
    "#ó por o\n",
    "df[\"COMUNA\"]=df[\"COMUNA\"].apply(lambda x : str(x).lower().replace(\"\\\\xf3\",\"o\").replace(\"ó\",\"o\"))\n",
    "#á por a \n",
    "df[\"COMUNA\"]=df[\"COMUNA\"].apply(lambda x : str(x).replace(\"\\\\xc1\",\"a\").replace(\"\\\\xe1\",\"a\").replace(\"á\",\"a\"))\n",
    "#é por e \n",
    "df[\"COMUNA\"]=df[\"COMUNA\"].apply(lambda x : str(x).replace(\"\\\\xe9\",\"e\").replace(\"é\",\"e\"))\n",
    "print((df[\"COMUNA\"].unique()))"
   ]
  },
  {
   "cell_type": "code",
   "execution_count": 20,
   "id": "435e3572",
   "metadata": {},
   "outputs": [
    {
     "name": "stdout",
     "output_type": "stream",
     "text": [
      "0    [-75.5688011014, 6.24312304123]\n",
      "1    [-75.5693883283, 6.22870030622]\n",
      "2    [-75.5503911403, 6.29869502502]\n",
      "3    [-75.5442195069, 6.30019383306]\n",
      "4     [-75.578180998, 6.21699243701]\n",
      "5      [-75.561118009, 6.2047775959]\n",
      "6    [-75.5810144962, 6.24576066323]\n",
      "7    [-75.5752597216, 6.24685341912]\n",
      "8    [-75.5624178534, 6.25341454089]\n",
      "9    [-75.5931430393, 6.27330476643]\n",
      "Name: LOCATION, dtype: object\n"
     ]
    }
   ],
   "source": [
    "#LOCATION\n",
    "#Fuente de información con la cual se realizó la geocodificación\n",
    "print((df[\"LOCATION\"].head(10)))"
   ]
  },
  {
   "cell_type": "code",
   "execution_count": 21,
   "id": "42181bd5",
   "metadata": {},
   "outputs": [
    {
     "name": "stdout",
     "output_type": "stream",
     "text": [
      "0    834949.69\n",
      "1    834880.17\n",
      "2    837004.94\n",
      "3    837688.53\n",
      "4    833903.11\n",
      "5    835788.30\n",
      "6    833598.49\n",
      "7    834235.89\n",
      "8    835659.53\n",
      "9    832264.64\n",
      "Name: X, dtype: float64\n"
     ]
    }
   ],
   "source": [
    "#X\n",
    "#Coordenada X en metros del accidente, en sistema de coordenadas MAGNA Medellin Local\n",
    "print(df[\"X\"].head(10))"
   ]
  },
  {
   "cell_type": "code",
   "execution_count": 22,
   "id": "d6db175a",
   "metadata": {},
   "outputs": [
    {
     "name": "stdout",
     "output_type": "stream",
     "text": [
      "0    1182357.34\n",
      "1    1180762.02\n",
      "2    1188499.17\n",
      "3    1188663.05\n",
      "4    1179469.60\n",
      "5    1178113.02\n",
      "6    1182652.97\n",
      "7    1182772.04\n",
      "8    1183493.83\n",
      "9    1185703.90\n",
      "Name: Y, dtype: float64\n"
     ]
    }
   ],
   "source": [
    "#Y\n",
    "#Coordenada Y en metros del accidente, en sistema de coordenadas MAGNA Medellin Local\n",
    "print(df[\"Y\"].head(10))"
   ]
  },
  {
   "cell_type": "code",
   "execution_count": 23,
   "id": "510e71f0",
   "metadata": {},
   "outputs": [],
   "source": [
    "#Eliminar duplicados\n",
    "df.drop_duplicates(inplace=True)\n",
    "#borrar columnas con datos redudantes o poco aportantes\n",
    "df.drop(labels=[\"DIRECCION ENCASILLADA\",\"EXPEDIENTE\",\"FECHA_ACCIDENTES\",\"NRO_RADICADO\",\"COMUNA\"],axis=1,inplace=True)"
   ]
  },
  {
   "cell_type": "code",
   "execution_count": 24,
   "id": "0daf8130",
   "metadata": {},
   "outputs": [
    {
     "data": {
      "text/html": [
       "<div>\n",
       "<style scoped>\n",
       "    .dataframe tbody tr th:only-of-type {\n",
       "        vertical-align: middle;\n",
       "    }\n",
       "\n",
       "    .dataframe tbody tr th {\n",
       "        vertical-align: top;\n",
       "    }\n",
       "\n",
       "    .dataframe thead th {\n",
       "        text-align: right;\n",
       "    }\n",
       "</style>\n",
       "<table border=\"1\" class=\"dataframe\">\n",
       "  <thead>\n",
       "    <tr style=\"text-align: right;\">\n",
       "      <th></th>\n",
       "      <th>AÑO</th>\n",
       "      <th>CBML</th>\n",
       "      <th>CLASE_ACCIDENTE</th>\n",
       "      <th>DIRECCION</th>\n",
       "      <th>DISEÑO</th>\n",
       "      <th>FECHA_ACCIDENTE</th>\n",
       "      <th>GRAVEDAD_ACCIDENTE</th>\n",
       "      <th>MES</th>\n",
       "      <th>NUMCOMUNA</th>\n",
       "      <th>BARRIO</th>\n",
       "      <th>LOCATION</th>\n",
       "      <th>X</th>\n",
       "      <th>Y</th>\n",
       "    </tr>\n",
       "  </thead>\n",
       "  <tbody>\n",
       "    <tr>\n",
       "      <th>0</th>\n",
       "      <td>2015</td>\n",
       "      <td>1013</td>\n",
       "      <td>caida ocupante</td>\n",
       "      <td>CR 46 CL 43</td>\n",
       "      <td>tramo de via</td>\n",
       "      <td>2015-10-21 05:58:00</td>\n",
       "      <td>con heridos</td>\n",
       "      <td>10</td>\n",
       "      <td>10</td>\n",
       "      <td>barrio colon</td>\n",
       "      <td>[-75.5688011014, 6.24312304123]</td>\n",
       "      <td>834949.69</td>\n",
       "      <td>1182357.34</td>\n",
       "    </tr>\n",
       "    <tr>\n",
       "      <th>1</th>\n",
       "      <td>2015</td>\n",
       "      <td>1020</td>\n",
       "      <td>choque</td>\n",
       "      <td>CR 43 A CL 29</td>\n",
       "      <td>tramo de via</td>\n",
       "      <td>2015-11-05 03:00:00</td>\n",
       "      <td>solo daños</td>\n",
       "      <td>11</td>\n",
       "      <td>10</td>\n",
       "      <td>san diego</td>\n",
       "      <td>[-75.5693883283, 6.22870030622]</td>\n",
       "      <td>834880.17</td>\n",
       "      <td>1180762.02</td>\n",
       "    </tr>\n",
       "    <tr>\n",
       "      <th>2</th>\n",
       "      <td>2015</td>\n",
       "      <td>0205</td>\n",
       "      <td>otro</td>\n",
       "      <td>CR 46 CL 37</td>\n",
       "      <td>tramo de via</td>\n",
       "      <td>2015-10-21 07:40:00</td>\n",
       "      <td>con heridos</td>\n",
       "      <td>10</td>\n",
       "      <td>2</td>\n",
       "      <td>la francia</td>\n",
       "      <td>[-75.5503911403, 6.29869502502]</td>\n",
       "      <td>837004.94</td>\n",
       "      <td>1188499.17</td>\n",
       "    </tr>\n",
       "    <tr>\n",
       "      <th>3</th>\n",
       "      <td>2015</td>\n",
       "      <td>0101</td>\n",
       "      <td>atropello</td>\n",
       "      <td>CR 34 CL 112</td>\n",
       "      <td>tramo de via</td>\n",
       "      <td>2015-10-21 12:00:00</td>\n",
       "      <td>con heridos</td>\n",
       "      <td>10</td>\n",
       "      <td>1</td>\n",
       "      <td>santo domingo savio no. 1</td>\n",
       "      <td>[-75.5442195069, 6.30019383306]</td>\n",
       "      <td>837688.53</td>\n",
       "      <td>1188663.05</td>\n",
       "    </tr>\n",
       "    <tr>\n",
       "      <th>4</th>\n",
       "      <td>2015</td>\n",
       "      <td>1504</td>\n",
       "      <td>choque</td>\n",
       "      <td>CR 50 CL 14</td>\n",
       "      <td>tramo de via</td>\n",
       "      <td>2015-11-03 06:16:00</td>\n",
       "      <td>solo daños</td>\n",
       "      <td>11</td>\n",
       "      <td>15</td>\n",
       "      <td>santa fe</td>\n",
       "      <td>[-75.578180998, 6.21699243701]</td>\n",
       "      <td>833903.11</td>\n",
       "      <td>1179469.60</td>\n",
       "    </tr>\n",
       "    <tr>\n",
       "      <th>...</th>\n",
       "      <td>...</td>\n",
       "      <td>...</td>\n",
       "      <td>...</td>\n",
       "      <td>...</td>\n",
       "      <td>...</td>\n",
       "      <td>...</td>\n",
       "      <td>...</td>\n",
       "      <td>...</td>\n",
       "      <td>...</td>\n",
       "      <td>...</td>\n",
       "      <td>...</td>\n",
       "      <td>...</td>\n",
       "      <td>...</td>\n",
       "    </tr>\n",
       "    <tr>\n",
       "      <th>270760</th>\n",
       "      <td>2020</td>\n",
       "      <td>1004</td>\n",
       "      <td>caida ocupante</td>\n",
       "      <td>CR 62 CL 59</td>\n",
       "      <td>tramo de via</td>\n",
       "      <td>2020-08-31 18:50:00</td>\n",
       "      <td>con heridos</td>\n",
       "      <td>8</td>\n",
       "      <td>10</td>\n",
       "      <td>el chagualo</td>\n",
       "      <td>[-75.5731343044, 6.26063534822]</td>\n",
       "      <td>834475.51</td>\n",
       "      <td>1184295.99</td>\n",
       "    </tr>\n",
       "    <tr>\n",
       "      <th>270761</th>\n",
       "      <td>2020</td>\n",
       "      <td>1115</td>\n",
       "      <td>otro</td>\n",
       "      <td>CL 50 CR 74</td>\n",
       "      <td>tramo de via</td>\n",
       "      <td>2020-08-31 18:50:00</td>\n",
       "      <td>con heridos</td>\n",
       "      <td>8</td>\n",
       "      <td>11</td>\n",
       "      <td>cuarta brigada</td>\n",
       "      <td>[-75.5902062951, 6.26040455473]</td>\n",
       "      <td>832585.61</td>\n",
       "      <td>1184275.87</td>\n",
       "    </tr>\n",
       "    <tr>\n",
       "      <th>270762</th>\n",
       "      <td>2020</td>\n",
       "      <td>515</td>\n",
       "      <td>choque</td>\n",
       "      <td>CL 80 CR 65</td>\n",
       "      <td>tramo de via</td>\n",
       "      <td>2020-08-31 19:05:00</td>\n",
       "      <td>solo daños</td>\n",
       "      <td>8</td>\n",
       "      <td>5</td>\n",
       "      <td>cementerio universal</td>\n",
       "      <td>[-75.5735398111, 6.27625838886]</td>\n",
       "      <td>834435.55</td>\n",
       "      <td>1186024.41</td>\n",
       "    </tr>\n",
       "    <tr>\n",
       "      <th>270763</th>\n",
       "      <td>2020</td>\n",
       "      <td>207</td>\n",
       "      <td>atropello</td>\n",
       "      <td>CL 104 CR 45</td>\n",
       "      <td>tramo de via</td>\n",
       "      <td>2020-08-31 19:30:00</td>\n",
       "      <td>con heridos</td>\n",
       "      <td>8</td>\n",
       "      <td>2</td>\n",
       "      <td>villa del socorro</td>\n",
       "      <td>[-75.5515085985, 6.29359892373]</td>\n",
       "      <td>836879.66</td>\n",
       "      <td>1187935.77</td>\n",
       "    </tr>\n",
       "    <tr>\n",
       "      <th>270764</th>\n",
       "      <td>2020</td>\n",
       "      <td>303</td>\n",
       "      <td>atropello</td>\n",
       "      <td>CR 44 CL 79</td>\n",
       "      <td>lote o predio</td>\n",
       "      <td>2020-08-31 21:45:00</td>\n",
       "      <td>con heridos</td>\n",
       "      <td>8</td>\n",
       "      <td>3</td>\n",
       "      <td>campo valdes no. 2</td>\n",
       "      <td>[-75.5533856947, 6.2717784831]</td>\n",
       "      <td>836665.08</td>\n",
       "      <td>1185522.50</td>\n",
       "    </tr>\n",
       "  </tbody>\n",
       "</table>\n",
       "<p>249552 rows × 13 columns</p>\n",
       "</div>"
      ],
      "text/plain": [
       "         AÑO  CBML CLASE_ACCIDENTE      DIRECCION         DISEÑO  \\\n",
       "0       2015  1013  caida ocupante    CR 46 CL 43   tramo de via   \n",
       "1       2015  1020          choque  CR 43 A CL 29   tramo de via   \n",
       "2       2015  0205            otro    CR 46 CL 37   tramo de via   \n",
       "3       2015  0101       atropello   CR 34 CL 112   tramo de via   \n",
       "4       2015  1504          choque    CR 50 CL 14   tramo de via   \n",
       "...      ...   ...             ...            ...            ...   \n",
       "270760  2020  1004  caida ocupante    CR 62 CL 59   tramo de via   \n",
       "270761  2020  1115            otro    CL 50 CR 74   tramo de via   \n",
       "270762  2020   515          choque    CL 80 CR 65   tramo de via   \n",
       "270763  2020   207       atropello   CL 104 CR 45   tramo de via   \n",
       "270764  2020   303       atropello    CR 44 CL 79  lote o predio   \n",
       "\n",
       "           FECHA_ACCIDENTE GRAVEDAD_ACCIDENTE  MES NUMCOMUNA  \\\n",
       "0      2015-10-21 05:58:00        con heridos   10        10   \n",
       "1      2015-11-05 03:00:00         solo daños   11        10   \n",
       "2      2015-10-21 07:40:00        con heridos   10         2   \n",
       "3      2015-10-21 12:00:00        con heridos   10         1   \n",
       "4      2015-11-03 06:16:00         solo daños   11        15   \n",
       "...                    ...                ...  ...       ...   \n",
       "270760 2020-08-31 18:50:00        con heridos    8        10   \n",
       "270761 2020-08-31 18:50:00        con heridos    8        11   \n",
       "270762 2020-08-31 19:05:00         solo daños    8         5   \n",
       "270763 2020-08-31 19:30:00        con heridos    8         2   \n",
       "270764 2020-08-31 21:45:00        con heridos    8         3   \n",
       "\n",
       "                           BARRIO                         LOCATION          X  \\\n",
       "0                    barrio colon  [-75.5688011014, 6.24312304123]  834949.69   \n",
       "1                       san diego  [-75.5693883283, 6.22870030622]  834880.17   \n",
       "2                      la francia  [-75.5503911403, 6.29869502502]  837004.94   \n",
       "3       santo domingo savio no. 1  [-75.5442195069, 6.30019383306]  837688.53   \n",
       "4                        santa fe   [-75.578180998, 6.21699243701]  833903.11   \n",
       "...                           ...                              ...        ...   \n",
       "270760                el chagualo  [-75.5731343044, 6.26063534822]  834475.51   \n",
       "270761             cuarta brigada  [-75.5902062951, 6.26040455473]  832585.61   \n",
       "270762       cementerio universal  [-75.5735398111, 6.27625838886]  834435.55   \n",
       "270763          villa del socorro  [-75.5515085985, 6.29359892373]  836879.66   \n",
       "270764         campo valdes no. 2   [-75.5533856947, 6.2717784831]  836665.08   \n",
       "\n",
       "                 Y  \n",
       "0       1182357.34  \n",
       "1       1180762.02  \n",
       "2       1188499.17  \n",
       "3       1188663.05  \n",
       "4       1179469.60  \n",
       "...            ...  \n",
       "270760  1184295.99  \n",
       "270761  1184275.87  \n",
       "270762  1186024.41  \n",
       "270763  1187935.77  \n",
       "270764  1185522.50  \n",
       "\n",
       "[249552 rows x 13 columns]"
      ]
     },
     "execution_count": 24,
     "metadata": {},
     "output_type": "execute_result"
    }
   ],
   "source": [
    "df.to_csv(\"datosLimpios.csv\")\n",
    "#guardamos los datos en una nueva varible\n",
    "data=df.copy()\n",
    "df"
   ]
  },
  {
   "cell_type": "code",
   "execution_count": 25,
   "id": "833e965e",
   "metadata": {},
   "outputs": [],
   "source": [
    "#df=pd.read_csv(\"datosLimpios.csv\")"
   ]
  },
  {
   "cell_type": "markdown",
   "id": "b59eac73",
   "metadata": {},
   "source": [
    "## 1 - Entrenamiento de un modelo predictivo\n",
    "Se deberá construir un modelo que permita predecir la accidentalidad por tipo de accidente a nivel semanal, mensual y diario. Para esto se deberán considerar fechas especiales."
   ]
  },
  {
   "cell_type": "code",
   "execution_count": 26,
   "id": "806f34aa",
   "metadata": {},
   "outputs": [
    {
     "data": {
      "text/html": [
       "<div>\n",
       "<style scoped>\n",
       "    .dataframe tbody tr th:only-of-type {\n",
       "        vertical-align: middle;\n",
       "    }\n",
       "\n",
       "    .dataframe tbody tr th {\n",
       "        vertical-align: top;\n",
       "    }\n",
       "\n",
       "    .dataframe thead th {\n",
       "        text-align: right;\n",
       "    }\n",
       "</style>\n",
       "<table border=\"1\" class=\"dataframe\">\n",
       "  <thead>\n",
       "    <tr style=\"text-align: right;\">\n",
       "      <th></th>\n",
       "      <th>DIA</th>\n",
       "      <th>CLASE_ACCIDENTE</th>\n",
       "      <th>CANTIDAD</th>\n",
       "      <th>NUMCOMUNA</th>\n",
       "    </tr>\n",
       "  </thead>\n",
       "  <tbody>\n",
       "    <tr>\n",
       "      <th>0</th>\n",
       "      <td>2014-07-04</td>\n",
       "      <td>choque</td>\n",
       "      <td>8</td>\n",
       "      <td>10</td>\n",
       "    </tr>\n",
       "    <tr>\n",
       "      <th>1</th>\n",
       "      <td>2014-07-04</td>\n",
       "      <td>choque</td>\n",
       "      <td>4</td>\n",
       "      <td>11</td>\n",
       "    </tr>\n",
       "    <tr>\n",
       "      <th>2</th>\n",
       "      <td>2014-07-04</td>\n",
       "      <td>choque</td>\n",
       "      <td>1</td>\n",
       "      <td>12</td>\n",
       "    </tr>\n",
       "    <tr>\n",
       "      <th>3</th>\n",
       "      <td>2014-07-04</td>\n",
       "      <td>choque</td>\n",
       "      <td>2</td>\n",
       "      <td>14</td>\n",
       "    </tr>\n",
       "    <tr>\n",
       "      <th>4</th>\n",
       "      <td>2014-07-04</td>\n",
       "      <td>choque</td>\n",
       "      <td>2</td>\n",
       "      <td>15</td>\n",
       "    </tr>\n",
       "    <tr>\n",
       "      <th>...</th>\n",
       "      <td>...</td>\n",
       "      <td>...</td>\n",
       "      <td>...</td>\n",
       "      <td>...</td>\n",
       "    </tr>\n",
       "    <tr>\n",
       "      <th>85313</th>\n",
       "      <td>2020-08-31</td>\n",
       "      <td>volcamiento</td>\n",
       "      <td>2</td>\n",
       "      <td>14</td>\n",
       "    </tr>\n",
       "    <tr>\n",
       "      <th>85314</th>\n",
       "      <td>2020-08-31</td>\n",
       "      <td>volcamiento</td>\n",
       "      <td>1</td>\n",
       "      <td>15</td>\n",
       "    </tr>\n",
       "    <tr>\n",
       "      <th>85315</th>\n",
       "      <td>2020-08-31</td>\n",
       "      <td>volcamiento</td>\n",
       "      <td>1</td>\n",
       "      <td>16</td>\n",
       "    </tr>\n",
       "    <tr>\n",
       "      <th>85316</th>\n",
       "      <td>2020-08-31</td>\n",
       "      <td>volcamiento</td>\n",
       "      <td>1</td>\n",
       "      <td>2</td>\n",
       "    </tr>\n",
       "    <tr>\n",
       "      <th>85317</th>\n",
       "      <td>2020-08-31</td>\n",
       "      <td>volcamiento</td>\n",
       "      <td>1</td>\n",
       "      <td>9</td>\n",
       "    </tr>\n",
       "  </tbody>\n",
       "</table>\n",
       "<p>85318 rows × 4 columns</p>\n",
       "</div>"
      ],
      "text/plain": [
       "              DIA CLASE_ACCIDENTE  CANTIDAD NUMCOMUNA\n",
       "0      2014-07-04          choque         8        10\n",
       "1      2014-07-04          choque         4        11\n",
       "2      2014-07-04          choque         1        12\n",
       "3      2014-07-04          choque         2        14\n",
       "4      2014-07-04          choque         2        15\n",
       "...           ...             ...       ...       ...\n",
       "85313  2020-08-31     volcamiento         2        14\n",
       "85314  2020-08-31     volcamiento         1        15\n",
       "85315  2020-08-31     volcamiento         1        16\n",
       "85316  2020-08-31     volcamiento         1         2\n",
       "85317  2020-08-31     volcamiento         1         9\n",
       "\n",
       "[85318 rows x 4 columns]"
      ]
     },
     "execution_count": 26,
     "metadata": {},
     "output_type": "execute_result"
    }
   ],
   "source": [
    "df=data\n",
    "df[\"DIA\"]=df[\"FECHA_ACCIDENTE\"].apply(lambda x: x.date())\n",
    "df=df.groupby([\"DIA\",\"CLASE_ACCIDENTE\",\"NUMCOMUNA\"]).count()\n",
    "df.reset_index(inplace=True)\n",
    "df[\"CANTIDAD\"]=df[\"AÑO\"]\n",
    "df=df[[\"DIA\",\"CLASE_ACCIDENTE\",\"CANTIDAD\",\"NUMCOMUNA\"]]\n",
    "df"
   ]
  },
  {
   "cell_type": "code",
   "execution_count": 27,
   "id": "322565f8",
   "metadata": {},
   "outputs": [
    {
     "data": {
      "text/html": [
       "<div>\n",
       "<style scoped>\n",
       "    .dataframe tbody tr th:only-of-type {\n",
       "        vertical-align: middle;\n",
       "    }\n",
       "\n",
       "    .dataframe tbody tr th {\n",
       "        vertical-align: top;\n",
       "    }\n",
       "\n",
       "    .dataframe thead th {\n",
       "        text-align: right;\n",
       "    }\n",
       "</style>\n",
       "<table border=\"1\" class=\"dataframe\">\n",
       "  <thead>\n",
       "    <tr style=\"text-align: right;\">\n",
       "      <th></th>\n",
       "      <th>DIA</th>\n",
       "      <th>CLASE_ACCIDENTE</th>\n",
       "      <th>CANTIDAD</th>\n",
       "      <th>NUMCOMUNA</th>\n",
       "      <th>DIA_FESTIVO</th>\n",
       "      <th>AÑO</th>\n",
       "      <th>t</th>\n",
       "      <th>DIA_DE_LA_SEMANA</th>\n",
       "      <th>MES</th>\n",
       "      <th>DIA_DEL_MES</th>\n",
       "    </tr>\n",
       "  </thead>\n",
       "  <tbody>\n",
       "    <tr>\n",
       "      <th>0</th>\n",
       "      <td>2014-07-04</td>\n",
       "      <td>choque</td>\n",
       "      <td>8</td>\n",
       "      <td>10</td>\n",
       "      <td>False</td>\n",
       "      <td>0</td>\n",
       "      <td>7</td>\n",
       "      <td>4</td>\n",
       "      <td>7</td>\n",
       "      <td>4</td>\n",
       "    </tr>\n",
       "    <tr>\n",
       "      <th>1</th>\n",
       "      <td>2014-07-04</td>\n",
       "      <td>choque</td>\n",
       "      <td>4</td>\n",
       "      <td>11</td>\n",
       "      <td>False</td>\n",
       "      <td>0</td>\n",
       "      <td>7</td>\n",
       "      <td>4</td>\n",
       "      <td>7</td>\n",
       "      <td>4</td>\n",
       "    </tr>\n",
       "    <tr>\n",
       "      <th>2</th>\n",
       "      <td>2014-07-04</td>\n",
       "      <td>choque</td>\n",
       "      <td>1</td>\n",
       "      <td>12</td>\n",
       "      <td>False</td>\n",
       "      <td>0</td>\n",
       "      <td>7</td>\n",
       "      <td>4</td>\n",
       "      <td>7</td>\n",
       "      <td>4</td>\n",
       "    </tr>\n",
       "    <tr>\n",
       "      <th>3</th>\n",
       "      <td>2014-07-04</td>\n",
       "      <td>choque</td>\n",
       "      <td>2</td>\n",
       "      <td>14</td>\n",
       "      <td>False</td>\n",
       "      <td>0</td>\n",
       "      <td>7</td>\n",
       "      <td>4</td>\n",
       "      <td>7</td>\n",
       "      <td>4</td>\n",
       "    </tr>\n",
       "    <tr>\n",
       "      <th>4</th>\n",
       "      <td>2014-07-04</td>\n",
       "      <td>choque</td>\n",
       "      <td>2</td>\n",
       "      <td>15</td>\n",
       "      <td>False</td>\n",
       "      <td>0</td>\n",
       "      <td>7</td>\n",
       "      <td>4</td>\n",
       "      <td>7</td>\n",
       "      <td>4</td>\n",
       "    </tr>\n",
       "    <tr>\n",
       "      <th>5</th>\n",
       "      <td>2014-07-04</td>\n",
       "      <td>choque</td>\n",
       "      <td>2</td>\n",
       "      <td>16</td>\n",
       "      <td>False</td>\n",
       "      <td>0</td>\n",
       "      <td>7</td>\n",
       "      <td>4</td>\n",
       "      <td>7</td>\n",
       "      <td>4</td>\n",
       "    </tr>\n",
       "    <tr>\n",
       "      <th>6</th>\n",
       "      <td>2014-07-04</td>\n",
       "      <td>choque</td>\n",
       "      <td>3</td>\n",
       "      <td>7</td>\n",
       "      <td>False</td>\n",
       "      <td>0</td>\n",
       "      <td>7</td>\n",
       "      <td>4</td>\n",
       "      <td>7</td>\n",
       "      <td>4</td>\n",
       "    </tr>\n",
       "    <tr>\n",
       "      <th>7</th>\n",
       "      <td>2014-07-05</td>\n",
       "      <td>atropello</td>\n",
       "      <td>2</td>\n",
       "      <td>1</td>\n",
       "      <td>False</td>\n",
       "      <td>0</td>\n",
       "      <td>7</td>\n",
       "      <td>5</td>\n",
       "      <td>7</td>\n",
       "      <td>5</td>\n",
       "    </tr>\n",
       "    <tr>\n",
       "      <th>8</th>\n",
       "      <td>2014-07-05</td>\n",
       "      <td>atropello</td>\n",
       "      <td>3</td>\n",
       "      <td>10</td>\n",
       "      <td>False</td>\n",
       "      <td>0</td>\n",
       "      <td>7</td>\n",
       "      <td>5</td>\n",
       "      <td>7</td>\n",
       "      <td>5</td>\n",
       "    </tr>\n",
       "    <tr>\n",
       "      <th>9</th>\n",
       "      <td>2014-07-05</td>\n",
       "      <td>atropello</td>\n",
       "      <td>2</td>\n",
       "      <td>12</td>\n",
       "      <td>False</td>\n",
       "      <td>0</td>\n",
       "      <td>7</td>\n",
       "      <td>5</td>\n",
       "      <td>7</td>\n",
       "      <td>5</td>\n",
       "    </tr>\n",
       "  </tbody>\n",
       "</table>\n",
       "</div>"
      ],
      "text/plain": [
       "          DIA CLASE_ACCIDENTE  CANTIDAD NUMCOMUNA DIA_FESTIVO  AÑO  t  \\\n",
       "0  2014-07-04          choque         8        10       False    0  7   \n",
       "1  2014-07-04          choque         4        11       False    0  7   \n",
       "2  2014-07-04          choque         1        12       False    0  7   \n",
       "3  2014-07-04          choque         2        14       False    0  7   \n",
       "4  2014-07-04          choque         2        15       False    0  7   \n",
       "5  2014-07-04          choque         2        16       False    0  7   \n",
       "6  2014-07-04          choque         3         7       False    0  7   \n",
       "7  2014-07-05       atropello         2         1       False    0  7   \n",
       "8  2014-07-05       atropello         3        10       False    0  7   \n",
       "9  2014-07-05       atropello         2        12       False    0  7   \n",
       "\n",
       "  DIA_DE_LA_SEMANA MES DIA_DEL_MES  \n",
       "0                4   7           4  \n",
       "1                4   7           4  \n",
       "2                4   7           4  \n",
       "3                4   7           4  \n",
       "4                4   7           4  \n",
       "5                4   7           4  \n",
       "6                4   7           4  \n",
       "7                5   7           5  \n",
       "8                5   7           5  \n",
       "9                5   7           5  "
      ]
     },
     "execution_count": 27,
     "metadata": {},
     "output_type": "execute_result"
    }
   ],
   "source": [
    "import holidays_co as co\n",
    "from datetime import timedelta\n",
    "#dia_festivo 1 si 0 no\n",
    "df[\"dia_festivo\".upper()]=df[\"DIA\"].apply(lambda x : str(co.is_holiday_date(x)))\n",
    "#sigiente_dia_festivo\n",
    "#df[\"sigiente_dia_festivo\".upper()]=df[\"DIA\"].apply(lambda x : int(co.is_holiday_date(x+timedelta(days=1))))\n",
    "#anterior_dia_festivo\n",
    "#df[\"anterior_dia_festivo\".upper()]=df[\"DIA\"].apply(lambda x : int(co.is_holiday_date(x-timedelta(days=1))))\n",
    "df[\"AÑO\"]=df[\"DIA\"].apply(lambda x : pd.Timestamp(x).year-2014)\n",
    "df[\"t\"]=df[\"DIA\"].apply(lambda x : (pd.Timestamp(x).year-2014)*12+pd.Timestamp(x).month)\n",
    "df[\"dia_de_la_semana\".upper()]=df[\"dia\".upper()].apply(lambda x : str(pd.Timestamp(x).day_of_week))\n",
    "min=df[\"DIA\"].min()\n",
    "#df[\"dia_total\".upper()]=df[\"dia\".upper()].apply(lambda x : (x-min).days+1)\n",
    "df[\"MES\"]=df[\"DIA\"].apply(lambda x : str(pd.Timestamp(x).month))\n",
    "df[\"dia_del_mes\".upper()]=df[\"dia\".upper()].apply(lambda x :str( pd.Timestamp(x).day))\n",
    "\n",
    "dfaux=df.copy()\n",
    "df.head(10)"
   ]
  },
  {
   "cell_type": "markdown",
   "id": "aa3ea682",
   "metadata": {},
   "source": [
    "Sea X el con junto de parametros "
   ]
  },
  {
   "cell_type": "markdown",
   "id": "c7c46d3a",
   "metadata": {},
   "source": [
    "### Entrenamiento y validación\n",
    "Los modelos predictivos se deberán construir con los datos de los años 2014, 2015, 2016, 2018. Se usan los accidentes del año 2019 y 2020 (¡alerta!) para validar los modelos.\n",
    "Se deberá analizar el comportamiento del modelo predictivo en los años 2021 y 2022 y explicar las posibles desviaciones."
   ]
  },
  {
   "cell_type": "code",
   "execution_count": 28,
   "id": "e6e7f997",
   "metadata": {},
   "outputs": [
    {
     "name": "stdout",
     "output_type": "stream",
     "text": [
      "['1', '10', '11', '12', '13', '14', '15', '16', '2', '3', '4', '5', '6', '7', '8', '9']\n",
      "['1', '10', '11', '12', '13', '14', '15', '16', '2', '3', '4', '5', '6', '7', '8', '9']\n"
     ]
    }
   ],
   "source": [
    "dfaux=df.copy()\n",
    "#dfaux=pd.concat([dfaux,pd.get_dummies(dfaux.pop(\"NUMCOMUNA\"),drop_first=True)], axis=1)\n",
    "train=dfaux[(dfaux[\"AÑO\"]) <5].drop([\"DIA\"],axis=1).drop([\"AÑO\"],axis=1)\n",
    "test=dfaux.drop(train.index).drop([\"DIA\"],axis=1).drop([\"AÑO\"],axis=1)\n",
    "X_train=train.copy()\n",
    "Y_train=X_train.pop(\"CANTIDAD\")\n",
    "X_test=test.copy()\n",
    "Y_test=X_test.pop(\"CANTIDAD\")\n",
    "print(sorted(X_train.NUMCOMUNA.unique()))\n",
    "print(sorted(X_test.NUMCOMUNA.unique()))"
   ]
  },
  {
   "cell_type": "code",
   "execution_count": 29,
   "id": "053cb6f7",
   "metadata": {},
   "outputs": [],
   "source": [
    "X_train=pd.get_dummies(X_train,drop_first=True)\n",
    "X_test=pd.get_dummies(X_test,drop_first=True)"
   ]
  },
  {
   "cell_type": "code",
   "execution_count": 30,
   "id": "fb46bb94",
   "metadata": {},
   "outputs": [
    {
     "data": {
      "text/html": [
       "<div>\n",
       "<style scoped>\n",
       "    .dataframe tbody tr th:only-of-type {\n",
       "        vertical-align: middle;\n",
       "    }\n",
       "\n",
       "    .dataframe tbody tr th {\n",
       "        vertical-align: top;\n",
       "    }\n",
       "\n",
       "    .dataframe thead th {\n",
       "        text-align: right;\n",
       "    }\n",
       "</style>\n",
       "<table border=\"1\" class=\"dataframe\">\n",
       "  <thead>\n",
       "    <tr style=\"text-align: right;\">\n",
       "      <th></th>\n",
       "      <th>count</th>\n",
       "      <th>mean</th>\n",
       "      <th>std</th>\n",
       "      <th>min</th>\n",
       "      <th>25%</th>\n",
       "      <th>50%</th>\n",
       "      <th>75%</th>\n",
       "      <th>max</th>\n",
       "    </tr>\n",
       "  </thead>\n",
       "  <tbody>\n",
       "    <tr>\n",
       "      <th>t</th>\n",
       "      <td>63232.0</td>\n",
       "      <td>33.177584</td>\n",
       "      <td>15.472609</td>\n",
       "      <td>7.0</td>\n",
       "      <td>20.0</td>\n",
       "      <td>33.0</td>\n",
       "      <td>46.0</td>\n",
       "      <td>60.0</td>\n",
       "    </tr>\n",
       "  </tbody>\n",
       "</table>\n",
       "</div>"
      ],
      "text/plain": [
       "     count       mean        std  min   25%   50%   75%   max\n",
       "t  63232.0  33.177584  15.472609  7.0  20.0  33.0  46.0  60.0"
      ]
     },
     "execution_count": 30,
     "metadata": {},
     "output_type": "execute_result"
    }
   ],
   "source": [
    "train_stats = train.describe()\n",
    "train_stats.pop(\"CANTIDAD\")\n",
    "train_stats = train_stats.transpose()\n",
    "train_stats"
   ]
  },
  {
   "cell_type": "code",
   "execution_count": 31,
   "id": "118a97a5",
   "metadata": {},
   "outputs": [],
   "source": [
    "def norm(x):\n",
    "  return (x - train_stats['mean']) / train_stats['std']\n",
    "normed_train_data = (X_train)\n",
    "normed_test_data = (Y_test)"
   ]
  },
  {
   "cell_type": "code",
   "execution_count": 32,
   "id": "4da0dabe",
   "metadata": {},
   "outputs": [],
   "source": [
    "def build_model():\n",
    "    model = keras.Sequential([\n",
    "    layers.Dense(64, activation='relu', input_shape=[len(X_train.keys())]),\n",
    "    layers.Dropout(0.2),\n",
    "    layers.Dense(64, activation='relu'),\n",
    "    layers.Dense(1)\n",
    "    ])\n",
    "    optimizer = tf.keras.optimizers.RMSprop(0.001)\n",
    "    optimizer2 = tf.keras.optimizers.Adam(learning_rate=0.001)\n",
    "    model.compile(loss='mean_absolute_percentage_error',\n",
    "                optimizer=optimizer2,\n",
    "                metrics=['mae', 'mse',\"mean_absolute_percentage_error\"])\n",
    "    return model"
   ]
  },
  {
   "cell_type": "code",
   "execution_count": 33,
   "id": "3a7be2c7",
   "metadata": {},
   "outputs": [
    {
     "name": "stdout",
     "output_type": "stream",
     "text": [
      "Model: \"sequential\"\n",
      "_________________________________________________________________\n",
      " Layer (type)                Output Shape              Param #   \n",
      "=================================================================\n",
      " dense (Dense)               (None, 64)                4480      \n",
      "                                                                 \n",
      " dropout (Dropout)           (None, 64)                0         \n",
      "                                                                 \n",
      " dense_1 (Dense)             (None, 64)                4160      \n",
      "                                                                 \n",
      " dense_2 (Dense)             (None, 1)                 65        \n",
      "                                                                 \n",
      "=================================================================\n",
      "Total params: 8,705\n",
      "Trainable params: 8,705\n",
      "Non-trainable params: 0\n",
      "_________________________________________________________________\n"
     ]
    }
   ],
   "source": [
    "model = build_model()\n",
    "model.summary()"
   ]
  },
  {
   "cell_type": "code",
   "execution_count": 34,
   "id": "d40c70ac",
   "metadata": {},
   "outputs": [
    {
     "data": {
      "text/plain": [
       "array([[-0.07980476],\n",
       "       [-0.01916621],\n",
       "       [-0.03540402],\n",
       "       [ 0.03455703],\n",
       "       [ 0.01341221],\n",
       "       [-0.03307261],\n",
       "       [-0.07627783],\n",
       "       [-0.06333352],\n",
       "       [-0.13561878],\n",
       "       [-0.07888088]], dtype=float32)"
      ]
     },
     "execution_count": 34,
     "metadata": {},
     "output_type": "execute_result"
    }
   ],
   "source": [
    "example_batch = normed_train_data[:10]\n",
    "example_result = model.predict(example_batch)\n",
    "example_result"
   ]
  },
  {
   "cell_type": "code",
   "execution_count": 35,
   "id": "bd296328",
   "metadata": {},
   "outputs": [
    {
     "name": "stdout",
     "output_type": "stream",
     "text": [
      "Epoch 1/250\n",
      "1976/1976 [==============================] - 8s 4ms/step - loss: 37.5779 - mae: 1.8747 - mse: 16.4408 - mean_absolute_percentage_error: 37.5779 - val_loss: 30.7828 - val_mae: 1.5226 - val_mse: 12.5123 - val_mean_absolute_percentage_error: 30.7828\n",
      "Epoch 2/250\n",
      "1976/1976 [==============================] - 7s 4ms/step - loss: 31.2139 - mae: 1.5805 - mse: 12.3802 - mean_absolute_percentage_error: 31.2139 - val_loss: 32.1722 - val_mae: 1.6795 - val_mse: 13.6843 - val_mean_absolute_percentage_error: 32.1722\n",
      "Epoch 3/250\n",
      "1976/1976 [==============================] - 7s 4ms/step - loss: 29.1559 - mae: 1.3560 - mse: 8.4464 - mean_absolute_percentage_error: 29.1559 - val_loss: 29.5613 - val_mae: 1.2466 - val_mse: 7.4074 - val_mean_absolute_percentage_error: 29.5613\n",
      "Epoch 4/250\n",
      "1976/1976 [==============================] - 7s 3ms/step - loss: 28.3966 - mae: 1.2903 - mse: 7.3186 - mean_absolute_percentage_error: 28.3966 - val_loss: 30.7608 - val_mae: 1.1374 - val_mse: 5.5502 - val_mean_absolute_percentage_error: 30.7608\n",
      "Epoch 5/250\n",
      "1976/1976 [==============================] - 7s 4ms/step - loss: 27.9770 - mae: 1.2362 - mse: 6.4386 - mean_absolute_percentage_error: 27.9770 - val_loss: 39.9504 - val_mae: 1.1116 - val_mse: 4.6780 - val_mean_absolute_percentage_error: 39.9504\n",
      "Epoch 6/250\n",
      "1976/1976 [==============================] - 7s 3ms/step - loss: 27.6386 - mae: 1.2089 - mse: 6.0273 - mean_absolute_percentage_error: 27.6386 - val_loss: 29.0485 - val_mae: 1.1587 - val_mse: 5.9161 - val_mean_absolute_percentage_error: 29.0485\n",
      "Epoch 7/250\n",
      "1976/1976 [==============================] - 7s 4ms/step - loss: 27.3922 - mae: 1.1790 - mse: 5.5262 - mean_absolute_percentage_error: 27.3922 - val_loss: 34.8222 - val_mae: 1.0791 - val_mse: 4.6786 - val_mean_absolute_percentage_error: 34.8222\n",
      "Epoch 8/250\n",
      "1976/1976 [==============================] - 7s 3ms/step - loss: 27.3374 - mae: 1.1687 - mse: 5.3573 - mean_absolute_percentage_error: 27.3374 - val_loss: 29.7355 - val_mae: 1.1272 - val_mse: 4.9396 - val_mean_absolute_percentage_error: 29.7355\n",
      "Epoch 9/250\n",
      "1976/1976 [==============================] - 6s 3ms/step - loss: 27.1372 - mae: 1.1495 - mse: 5.0716 - mean_absolute_percentage_error: 27.1372 - val_loss: 29.0217 - val_mae: 1.1797 - val_mse: 5.9134 - val_mean_absolute_percentage_error: 29.0217\n",
      "Epoch 10/250\n",
      "1976/1976 [==============================] - 6s 3ms/step - loss: 26.9957 - mae: 1.1380 - mse: 4.9847 - mean_absolute_percentage_error: 26.9957 - val_loss: 28.8332 - val_mae: 1.2414 - val_mse: 6.2642 - val_mean_absolute_percentage_error: 28.8332\n",
      "Epoch 11/250\n",
      "1976/1976 [==============================] - 7s 4ms/step - loss: 26.8892 - mae: 1.1297 - mse: 4.8822 - mean_absolute_percentage_error: 26.8892 - val_loss: 32.4996 - val_mae: 1.0694 - val_mse: 4.3681 - val_mean_absolute_percentage_error: 32.4996\n",
      "Epoch 12/250\n",
      "1976/1976 [==============================] - 7s 3ms/step - loss: 26.8432 - mae: 1.1255 - mse: 4.8168 - mean_absolute_percentage_error: 26.8432 - val_loss: 29.3836 - val_mae: 1.1257 - val_mse: 5.0440 - val_mean_absolute_percentage_error: 29.3836\n",
      "Epoch 13/250\n",
      "1976/1976 [==============================] - 7s 3ms/step - loss: 26.7617 - mae: 1.1183 - mse: 4.6901 - mean_absolute_percentage_error: 26.7617 - val_loss: 31.9657 - val_mae: 1.0661 - val_mse: 4.2699 - val_mean_absolute_percentage_error: 31.9657\n",
      "Epoch 14/250\n",
      "1976/1976 [==============================] - 7s 3ms/step - loss: 26.6808 - mae: 1.1128 - mse: 4.6906 - mean_absolute_percentage_error: 26.6808 - val_loss: 29.3591 - val_mae: 1.1871 - val_mse: 5.8815 - val_mean_absolute_percentage_error: 29.3591\n",
      "Epoch 15/250\n",
      "1976/1976 [==============================] - 7s 4ms/step - loss: 26.6837 - mae: 1.1148 - mse: 4.6569 - mean_absolute_percentage_error: 26.6837 - val_loss: 29.6676 - val_mae: 1.1866 - val_mse: 5.5712 - val_mean_absolute_percentage_error: 29.6676\n",
      "Epoch 16/250\n",
      "1976/1976 [==============================] - 7s 4ms/step - loss: 26.6159 - mae: 1.1046 - mse: 4.5355 - mean_absolute_percentage_error: 26.6159 - val_loss: 28.8149 - val_mae: 1.2577 - val_mse: 6.7279 - val_mean_absolute_percentage_error: 28.8149\n",
      "Epoch 17/250\n",
      "1976/1976 [==============================] - 7s 4ms/step - loss: 26.6863 - mae: 1.1107 - mse: 4.5729 - mean_absolute_percentage_error: 26.6863 - val_loss: 29.8382 - val_mae: 1.1960 - val_mse: 5.6516 - val_mean_absolute_percentage_error: 29.8382\n",
      "Epoch 18/250\n",
      "1976/1976 [==============================] - 7s 4ms/step - loss: 26.5588 - mae: 1.0970 - mse: 4.4512 - mean_absolute_percentage_error: 26.5588 - val_loss: 29.1709 - val_mae: 1.2003 - val_mse: 6.0703 - val_mean_absolute_percentage_error: 29.1709\n",
      "Epoch 19/250\n",
      "1976/1976 [==============================] - 7s 3ms/step - loss: 26.6092 - mae: 1.1065 - mse: 4.5635 - mean_absolute_percentage_error: 26.6092 - val_loss: 30.9926 - val_mae: 1.0835 - val_mse: 4.6866 - val_mean_absolute_percentage_error: 30.9926\n",
      "Epoch 20/250\n",
      "1976/1976 [==============================] - 7s 3ms/step - loss: 26.4779 - mae: 1.0986 - mse: 4.5128 - mean_absolute_percentage_error: 26.4779 - val_loss: 29.5367 - val_mae: 1.1049 - val_mse: 4.7780 - val_mean_absolute_percentage_error: 29.5367\n",
      "Epoch 21/250\n",
      "1976/1976 [==============================] - 7s 4ms/step - loss: 26.5050 - mae: 1.0965 - mse: 4.4511 - mean_absolute_percentage_error: 26.5050 - val_loss: 29.4592 - val_mae: 1.1341 - val_mse: 5.1700 - val_mean_absolute_percentage_error: 29.4592\n",
      "Epoch 22/250\n",
      "1976/1976 [==============================] - 7s 4ms/step - loss: 26.4682 - mae: 1.0923 - mse: 4.3927 - mean_absolute_percentage_error: 26.4682 - val_loss: 33.4905 - val_mae: 1.0594 - val_mse: 4.2171 - val_mean_absolute_percentage_error: 33.4905\n",
      "Epoch 23/250\n",
      "1976/1976 [==============================] - 7s 4ms/step - loss: 26.4157 - mae: 1.0863 - mse: 4.3234 - mean_absolute_percentage_error: 26.4157 - val_loss: 30.1173 - val_mae: 1.1289 - val_mse: 4.8100 - val_mean_absolute_percentage_error: 30.1173\n",
      "Epoch 24/250\n",
      "1976/1976 [==============================] - 6s 3ms/step - loss: 26.4052 - mae: 1.0885 - mse: 4.3466 - mean_absolute_percentage_error: 26.4052 - val_loss: 30.2715 - val_mae: 1.0878 - val_mse: 4.5703 - val_mean_absolute_percentage_error: 30.2715\n",
      "Epoch 25/250\n",
      "1976/1976 [==============================] - 7s 3ms/step - loss: 26.3975 - mae: 1.0882 - mse: 4.3328 - mean_absolute_percentage_error: 26.3975 - val_loss: 29.4470 - val_mae: 1.1439 - val_mse: 5.3906 - val_mean_absolute_percentage_error: 29.4470\n",
      "Epoch 26/250\n",
      "1976/1976 [==============================] - 7s 4ms/step - loss: 26.3861 - mae: 1.0892 - mse: 4.3603 - mean_absolute_percentage_error: 26.3861 - val_loss: 28.9819 - val_mae: 1.1518 - val_mse: 5.4143 - val_mean_absolute_percentage_error: 28.9819\n",
      "Epoch 27/250\n",
      "1976/1976 [==============================] - 7s 4ms/step - loss: 26.2976 - mae: 1.0871 - mse: 4.3672 - mean_absolute_percentage_error: 26.2976 - val_loss: 32.0211 - val_mae: 1.0822 - val_mse: 4.4000 - val_mean_absolute_percentage_error: 32.0211\n",
      "Epoch 28/250\n",
      "1976/1976 [==============================] - 7s 3ms/step - loss: 26.2795 - mae: 1.0795 - mse: 4.2814 - mean_absolute_percentage_error: 26.2795 - val_loss: 29.3966 - val_mae: 1.1201 - val_mse: 4.9198 - val_mean_absolute_percentage_error: 29.3966\n",
      "Epoch 29/250\n",
      "1976/1976 [==============================] - 6s 3ms/step - loss: 26.3026 - mae: 1.0793 - mse: 4.2274 - mean_absolute_percentage_error: 26.3026 - val_loss: 29.5504 - val_mae: 1.1328 - val_mse: 5.3324 - val_mean_absolute_percentage_error: 29.5504\n",
      "Epoch 30/250\n",
      "1976/1976 [==============================] - 7s 3ms/step - loss: 26.3089 - mae: 1.0822 - mse: 4.2848 - mean_absolute_percentage_error: 26.3089 - val_loss: 28.9031 - val_mae: 1.1875 - val_mse: 5.7344 - val_mean_absolute_percentage_error: 28.9031\n",
      "Epoch 31/250\n",
      "1976/1976 [==============================] - 7s 3ms/step - loss: 26.2205 - mae: 1.0775 - mse: 4.2388 - mean_absolute_percentage_error: 26.2205 - val_loss: 28.6909 - val_mae: 1.2412 - val_mse: 6.6421 - val_mean_absolute_percentage_error: 28.6909\n",
      "Epoch 32/250\n",
      "1976/1976 [==============================] - 7s 3ms/step - loss: 26.1704 - mae: 1.0774 - mse: 4.2299 - mean_absolute_percentage_error: 26.1704 - val_loss: 29.3353 - val_mae: 1.1158 - val_mse: 4.9402 - val_mean_absolute_percentage_error: 29.3353\n"
     ]
    },
    {
     "name": "stdout",
     "output_type": "stream",
     "text": [
      "Epoch 33/250\n",
      "1976/1976 [==============================] - 7s 3ms/step - loss: 26.1730 - mae: 1.0714 - mse: 4.1752 - mean_absolute_percentage_error: 26.1730 - val_loss: 29.0150 - val_mae: 1.1544 - val_mse: 5.3527 - val_mean_absolute_percentage_error: 29.0150\n",
      "Epoch 34/250\n",
      "1976/1976 [==============================] - 6s 3ms/step - loss: 26.1678 - mae: 1.0782 - mse: 4.2682 - mean_absolute_percentage_error: 26.1678 - val_loss: 31.4225 - val_mae: 1.0831 - val_mse: 4.4157 - val_mean_absolute_percentage_error: 31.4225\n",
      "Epoch 35/250\n",
      "1976/1976 [==============================] - 6s 3ms/step - loss: 26.2133 - mae: 1.0764 - mse: 4.2117 - mean_absolute_percentage_error: 26.2133 - val_loss: 29.4298 - val_mae: 1.1290 - val_mse: 4.9673 - val_mean_absolute_percentage_error: 29.4298\n",
      "Epoch 36/250\n",
      "1976/1976 [==============================] - 6s 3ms/step - loss: 26.1912 - mae: 1.0731 - mse: 4.1825 - mean_absolute_percentage_error: 26.1912 - val_loss: 32.4042 - val_mae: 1.0858 - val_mse: 4.6559 - val_mean_absolute_percentage_error: 32.4042\n",
      "Epoch 37/250\n",
      "1976/1976 [==============================] - 6s 3ms/step - loss: 26.0503 - mae: 1.0645 - mse: 4.1023 - mean_absolute_percentage_error: 26.0503 - val_loss: 34.5551 - val_mae: 1.0894 - val_mse: 4.4209 - val_mean_absolute_percentage_error: 34.5551\n",
      "Epoch 38/250\n",
      "  36/1976 [..............................] - ETA: 5s - loss: 26.7911 - mae: 1.1032 - mse: 4.1867 - mean_absolute_percentage_error: 26.7911"
     ]
    },
    {
     "ename": "KeyboardInterrupt",
     "evalue": "",
     "output_type": "error",
     "traceback": [
      "\u001b[1;31m---------------------------------------------------------------------------\u001b[0m",
      "\u001b[1;31mKeyboardInterrupt\u001b[0m                         Traceback (most recent call last)",
      "\u001b[1;32m~\\AppData\\Local\\Temp\\ipykernel_124036\\583842279.py\u001b[0m in \u001b[0;36m<module>\u001b[1;34m\u001b[0m\n\u001b[0;32m      8\u001b[0m history = model.fit(\n\u001b[0;32m      9\u001b[0m   \u001b[0mnormed_train_data\u001b[0m\u001b[1;33m,\u001b[0m \u001b[0mY_train\u001b[0m\u001b[1;33m,\u001b[0m\u001b[1;33m\u001b[0m\u001b[1;33m\u001b[0m\u001b[0m\n\u001b[1;32m---> 10\u001b[1;33m   epochs=EPOCHS, validation_data=(X_test,Y_test))\n\u001b[0m",
      "\u001b[1;32m~\\anaconda3\\envs\\tensorflow_gpu\\lib\\site-packages\\keras\\utils\\traceback_utils.py\u001b[0m in \u001b[0;36merror_handler\u001b[1;34m(*args, **kwargs)\u001b[0m\n\u001b[0;32m     62\u001b[0m     \u001b[0mfiltered_tb\u001b[0m \u001b[1;33m=\u001b[0m \u001b[1;32mNone\u001b[0m\u001b[1;33m\u001b[0m\u001b[1;33m\u001b[0m\u001b[0m\n\u001b[0;32m     63\u001b[0m     \u001b[1;32mtry\u001b[0m\u001b[1;33m:\u001b[0m\u001b[1;33m\u001b[0m\u001b[1;33m\u001b[0m\u001b[0m\n\u001b[1;32m---> 64\u001b[1;33m       \u001b[1;32mreturn\u001b[0m \u001b[0mfn\u001b[0m\u001b[1;33m(\u001b[0m\u001b[1;33m*\u001b[0m\u001b[0margs\u001b[0m\u001b[1;33m,\u001b[0m \u001b[1;33m**\u001b[0m\u001b[0mkwargs\u001b[0m\u001b[1;33m)\u001b[0m\u001b[1;33m\u001b[0m\u001b[1;33m\u001b[0m\u001b[0m\n\u001b[0m\u001b[0;32m     65\u001b[0m     \u001b[1;32mexcept\u001b[0m \u001b[0mException\u001b[0m \u001b[1;32mas\u001b[0m \u001b[0me\u001b[0m\u001b[1;33m:\u001b[0m  \u001b[1;31m# pylint: disable=broad-except\u001b[0m\u001b[1;33m\u001b[0m\u001b[1;33m\u001b[0m\u001b[0m\n\u001b[0;32m     66\u001b[0m       \u001b[0mfiltered_tb\u001b[0m \u001b[1;33m=\u001b[0m \u001b[0m_process_traceback_frames\u001b[0m\u001b[1;33m(\u001b[0m\u001b[0me\u001b[0m\u001b[1;33m.\u001b[0m\u001b[0m__traceback__\u001b[0m\u001b[1;33m)\u001b[0m\u001b[1;33m\u001b[0m\u001b[1;33m\u001b[0m\u001b[0m\n",
      "\u001b[1;32m~\\anaconda3\\envs\\tensorflow_gpu\\lib\\site-packages\\keras\\engine\\training.py\u001b[0m in \u001b[0;36mfit\u001b[1;34m(self, x, y, batch_size, epochs, verbose, callbacks, validation_split, validation_data, shuffle, class_weight, sample_weight, initial_epoch, steps_per_epoch, validation_steps, validation_batch_size, validation_freq, max_queue_size, workers, use_multiprocessing)\u001b[0m\n\u001b[0;32m   1386\u001b[0m                 \u001b[0mcontext\u001b[0m\u001b[1;33m.\u001b[0m\u001b[0masync_wait\u001b[0m\u001b[1;33m(\u001b[0m\u001b[1;33m)\u001b[0m\u001b[1;33m\u001b[0m\u001b[1;33m\u001b[0m\u001b[0m\n\u001b[0;32m   1387\u001b[0m               \u001b[0mlogs\u001b[0m \u001b[1;33m=\u001b[0m \u001b[0mtmp_logs\u001b[0m  \u001b[1;31m# No error, now safe to assign to logs.\u001b[0m\u001b[1;33m\u001b[0m\u001b[1;33m\u001b[0m\u001b[0m\n\u001b[1;32m-> 1388\u001b[1;33m               \u001b[0mend_step\u001b[0m \u001b[1;33m=\u001b[0m \u001b[0mstep\u001b[0m \u001b[1;33m+\u001b[0m \u001b[0mdata_handler\u001b[0m\u001b[1;33m.\u001b[0m\u001b[0mstep_increment\u001b[0m\u001b[1;33m\u001b[0m\u001b[1;33m\u001b[0m\u001b[0m\n\u001b[0m\u001b[0;32m   1389\u001b[0m               \u001b[0mcallbacks\u001b[0m\u001b[1;33m.\u001b[0m\u001b[0mon_train_batch_end\u001b[0m\u001b[1;33m(\u001b[0m\u001b[0mend_step\u001b[0m\u001b[1;33m,\u001b[0m \u001b[0mlogs\u001b[0m\u001b[1;33m)\u001b[0m\u001b[1;33m\u001b[0m\u001b[1;33m\u001b[0m\u001b[0m\n\u001b[0;32m   1390\u001b[0m               \u001b[1;32mif\u001b[0m \u001b[0mself\u001b[0m\u001b[1;33m.\u001b[0m\u001b[0mstop_training\u001b[0m\u001b[1;33m:\u001b[0m\u001b[1;33m\u001b[0m\u001b[1;33m\u001b[0m\u001b[0m\n",
      "\u001b[1;32m~\\anaconda3\\envs\\tensorflow_gpu\\lib\\site-packages\\keras\\engine\\data_adapter.py\u001b[0m in \u001b[0;36mstep_increment\u001b[1;34m(self)\u001b[0m\n\u001b[0;32m   1264\u001b[0m         \u001b[0mself\u001b[0m\u001b[1;33m.\u001b[0m\u001b[0m_steps_per_execution\u001b[0m\u001b[1;33m.\u001b[0m\u001b[0massign\u001b[0m\u001b[1;33m(\u001b[0m\u001b[0moriginal_spe\u001b[0m\u001b[1;33m)\u001b[0m\u001b[1;33m\u001b[0m\u001b[1;33m\u001b[0m\u001b[0m\n\u001b[0;32m   1265\u001b[0m \u001b[1;33m\u001b[0m\u001b[0m\n\u001b[1;32m-> 1266\u001b[1;33m   \u001b[1;33m@\u001b[0m\u001b[0mproperty\u001b[0m\u001b[1;33m\u001b[0m\u001b[1;33m\u001b[0m\u001b[0m\n\u001b[0m\u001b[0;32m   1267\u001b[0m   \u001b[1;32mdef\u001b[0m \u001b[0mstep_increment\u001b[0m\u001b[1;33m(\u001b[0m\u001b[0mself\u001b[0m\u001b[1;33m)\u001b[0m\u001b[1;33m:\u001b[0m\u001b[1;33m\u001b[0m\u001b[1;33m\u001b[0m\u001b[0m\n\u001b[0;32m   1268\u001b[0m     \u001b[1;34m\"\"\"The number to increment the step for `on_batch_end` methods.\"\"\"\u001b[0m\u001b[1;33m\u001b[0m\u001b[1;33m\u001b[0m\u001b[0m\n",
      "\u001b[1;31mKeyboardInterrupt\u001b[0m: "
     ]
    }
   ],
   "source": [
    "class PrintDot(keras.callbacks.Callback):\n",
    "  def on_epoch_end(self, epoch, logs):\n",
    "    if epoch % 50 == 0: print(\"\\n\",\"epoca\",epoch,logs)\n",
    "    print('.', end='')\n",
    "\n",
    "EPOCHS = 250\n",
    "\n",
    "history = model.fit(\n",
    "  normed_train_data, Y_train,\n",
    "  epochs=EPOCHS, validation_data=(X_test,Y_test))"
   ]
  },
  {
   "cell_type": "code",
   "execution_count": null,
   "id": "ffb3ea72",
   "metadata": {},
   "outputs": [],
   "source": [
    "hist = pd.DataFrame(history.history)\n",
    "hist['epoch'] = history.epoch\n",
    "hist.tail()\n",
    "hist.sort_values(by=['mean_absolute_percentage_error', 'val_mean_absolute_percentage_error']).head()"
   ]
  },
  {
   "cell_type": "code",
   "execution_count": null,
   "id": "bf85d5a3",
   "metadata": {},
   "outputs": [],
   "source": [
    "from sklearn.metrics import mean_squared_error\n",
    "from sklearn.metrics import r2_score\n",
    "# Evalúe el modelo con los conjuntos de entrenamiento y prueba.\n",
    "Y_train_pred = model.predict(X_train)\n",
    "Y_test_pred = model.predict(X_test)\n",
    "\n",
    "    # Compute el error cuadratico medio de entrenamiento y prueba. Redondee los\n",
    "    # valores a dos decimales.\n",
    "\n",
    "mse_train = r2_score(\n",
    "        Y_train,\n",
    "        Y_train_pred,\n",
    "    ).round(2)\n",
    "\n",
    "mse_test = r2_score(\n",
    "        Y_test,\n",
    "        Y_test_pred,\n",
    "    ).round(2)"
   ]
  },
  {
   "cell_type": "code",
   "execution_count": null,
   "id": "5ea959ab",
   "metadata": {},
   "outputs": [],
   "source": [
    "print(mse_test,mse_train)"
   ]
  },
  {
   "cell_type": "code",
   "execution_count": null,
   "id": "af2c35bf",
   "metadata": {},
   "outputs": [],
   "source": [
    "def plot_history(history):\n",
    "  hist = pd.DataFrame(history.history)\n",
    "  hist['epoch'] = history.epoch\n",
    "\n",
    "  plt.figure()\n",
    "  plt.xlabel('Epoch')\n",
    "  plt.ylabel('Mean Abs Error [MPG]')\n",
    "  plt.plot(hist['epoch'], hist['mae'],\n",
    "           label='Train Error')\n",
    "  plt.plot(hist['epoch'], hist['val_mae'],\n",
    "           label = 'Val Error')\n",
    "  #plt.ylim([0,5])\n",
    "  plt.legend()\n",
    "\n",
    "  plt.figure()\n",
    "  plt.xlabel('Epoch')\n",
    "  plt.ylabel('Mean Square Error [$MPG^2$]')\n",
    "  plt.plot(hist['epoch'], hist['mse'],\n",
    "           label='Train Error')\n",
    "  plt.plot(hist['epoch'], hist['val_mse'],\n",
    "           label = 'Val Error')\n",
    "  #plt.ylim([0,20])\n",
    "  plt.legend()\n",
    "  plt.figure()\n",
    "  plt.xlabel('Epoch')\n",
    "  plt.ylabel('mean_absolute_percentage_error')\n",
    "  plt.plot(hist['epoch'], hist['mean_absolute_percentage_error'],\n",
    "           label='Train Error')\n",
    "  plt.plot(hist['epoch'], hist['val_mean_absolute_percentage_error'],\n",
    "           label = 'Val Error')\n",
    "  #plt.ylim([0,20])\n",
    "  plt.legend()\n",
    "  plt.show()\n",
    "\n",
    "\n",
    "plot_history(history)"
   ]
  },
  {
   "cell_type": "code",
   "execution_count": null,
   "id": "19120a29",
   "metadata": {},
   "outputs": [],
   "source": [
    "from sklearn.metrics import mean_absolute_percentage_error,median_absolute_error\n",
    "mae_train = median_absolute_error(\n",
    "        Y_train,\n",
    "        Y_train_pred,\n",
    "    ).round(2)\n",
    "\n",
    "mae_test = median_absolute_error(\n",
    "        Y_test,\n",
    "        Y_test_pred,\n",
    "    ).round(2)"
   ]
  },
  {
   "cell_type": "code",
   "execution_count": null,
   "id": "a5710f29",
   "metadata": {},
   "outputs": [],
   "source": [
    "print(\"entrenamiento:\",mae_train,\"validacion:\",mae_test)"
   ]
  },
  {
   "cell_type": "code",
   "execution_count": null,
   "id": "1ad0c2f1",
   "metadata": {},
   "outputs": [],
   "source": [
    "from sklearn.metrics import mean_absolute_percentage_error,median_absolute_error\n",
    "mape_train = mean_absolute_percentage_error(\n",
    "        Y_train,\n",
    "        Y_train_pred,\n",
    "    ).round(2)\n",
    "\n",
    "mape_test = mean_absolute_percentage_error(\n",
    "        Y_test,\n",
    "        Y_test_pred,\n",
    "    ).round(2)"
   ]
  },
  {
   "cell_type": "code",
   "execution_count": null,
   "id": "583d8366",
   "metadata": {},
   "outputs": [],
   "source": [
    "print(\"entrenamiento:\",mape_train,\"validacion:\",mape_test)"
   ]
  },
  {
   "cell_type": "code",
   "execution_count": null,
   "id": "ca8a5da6",
   "metadata": {},
   "outputs": [],
   "source": [
    "resultTest=pd.DataFrame()\n",
    "resultTest[\"esperado\"]=Y_train\n",
    "resultTest[\"predicho\"]=Y_train_pred"
   ]
  },
  {
   "cell_type": "code",
   "execution_count": null,
   "id": "a90b71d7",
   "metadata": {},
   "outputs": [],
   "source": [
    "resultTest.sample(10)"
   ]
  },
  {
   "cell_type": "code",
   "execution_count": null,
   "id": "edfb51ff",
   "metadata": {},
   "outputs": [],
   "source": [
    "#model.save('modelo-V1.h5')\n",
    "#optimarzer sin tener en cuenta el año"
   ]
  },
  {
   "cell_type": "code",
   "execution_count": null,
   "id": "a46ae413",
   "metadata": {},
   "outputs": [],
   "source": [
    "#t=year\n",
    "#model.save('modelo-V2.h5')\n",
    "#optimarzer teniendo en cuenta el año 250 epocas\n",
    "#entrenamiento: 0.19 validacion: 0.26\n",
    "#model.save('modelo-V2_1.h5')\n",
    "#entrenamiento: 0.17 validacion: 0.28\n",
    "# 500 epocas"
   ]
  },
  {
   "cell_type": "code",
   "execution_count": null,
   "id": "f28ac62f",
   "metadata": {},
   "outputs": [],
   "source": [
    "from tensorflow.keras.models import load_model\n",
    "#t=mounths\n",
    "#250\n",
    "#entrenamiento: 0.19 validacion: 0.15\n",
    "#model.save('modelo-V3.h5')\n",
    "#500\n",
    "#entrenamiento: 0.17 validacion: 0.18\n",
    "#model.save('modelo-V3_1.h5')\n",
    "#model=load_model('modelo-V3.h5')"
   ]
  },
  {
   "cell_type": "code",
   "execution_count": null,
   "id": "0f47b0b4",
   "metadata": {},
   "outputs": [],
   "source": []
  }
 ],
 "metadata": {
  "kernelspec": {
   "display_name": "Python 3 (ipykernel)",
   "language": "python",
   "name": "python3"
  },
  "language_info": {
   "codemirror_mode": {
    "name": "ipython",
    "version": 3
   },
   "file_extension": ".py",
   "mimetype": "text/x-python",
   "name": "python",
   "nbconvert_exporter": "python",
   "pygments_lexer": "ipython3",
   "version": "3.7.13"
  }
 },
 "nbformat": 4,
 "nbformat_minor": 5
}
