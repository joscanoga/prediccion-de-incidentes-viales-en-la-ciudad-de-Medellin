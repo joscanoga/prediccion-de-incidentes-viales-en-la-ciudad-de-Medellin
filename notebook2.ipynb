{
 "cells": [
  {
   "cell_type": "markdown",
   "id": "e31f22a6",
   "metadata": {},
   "source": [
    "\n",
    "# prediccion de incidentes viales en la ciudad de Medellin"
   ]
  },
  {
   "cell_type": "markdown",
   "id": "6ebed440",
   "metadata": {},
   "source": [
    "## importacion librerias necesarias"
   ]
  },
  {
   "cell_type": "code",
   "execution_count": 1,
   "id": "9a0ff55a",
   "metadata": {},
   "outputs": [],
   "source": [
    "import pandas as pd\n",
    "import re\n",
    "import matplotlib.pyplot as plt\n",
    "import seaborn as sns\n",
    "import numpy as np\n",
    "import tensorflow as tf\n",
    "\n",
    "from tensorflow import keras\n",
    "from tensorflow.keras import layers\n"
   ]
  },
  {
   "cell_type": "markdown",
   "id": "0fd8d3cc",
   "metadata": {},
   "source": [
    "## lectura y exploracion de los datos"
   ]
  },
  {
   "cell_type": "code",
   "execution_count": 2,
   "id": "d3bdd6c7",
   "metadata": {},
   "outputs": [
    {
     "name": "stdout",
     "output_type": "stream",
     "text": [
      "    AÑO  CBML CLASE_ACCIDENTE      DIRECCION       DIRECCION ENCASILLADA  \\\n",
      "0  2015  1013  Caida Ocupante    CR 46 CL 43    CR  046   043  000 00000   \n",
      "1  2015  1020          Choque  CR 43 A CL 29  CR  043 A   029  000 00000   \n",
      "2  2015  0205            Otro    CR 46 CL 37    CR  046   037  000 00000   \n",
      "3  2015  0101       Atropello   CR 34 CL 112    CR  034   112  000 00000   \n",
      "4  2015  1504          Choque    CR 50 CL 14    CR  050   014  000 00000   \n",
      "\n",
      "         DISEÑO  EXPEDIENTE      FECHA_ACCIDENTE          FECHA_ACCIDENTES  \\\n",
      "0  Tramo de via  A000259731  21/10/2015 05:58:00  2015-10-21T10:58:00.000Z   \n",
      "1  Tramo de via  A000261725  05/11/2015 03:00:00  2015-11-05T08:00:00.000Z   \n",
      "2  Tramo de via  A000259739  21/10/2015 07:40:00  2015-10-21T12:40:00.000Z   \n",
      "3  Tramo de via  A000259752  21/10/2015 12:00:00  2015-10-21T17:00:00.000Z   \n",
      "4  Tramo de via  A000259949  03/11/2015 06:16:00  2015-11-03T11:16:00.000Z   \n",
      "\n",
      "  GRAVEDAD_ACCIDENTE  MES NRO_RADICADO NUMCOMUNA                     BARRIO  \\\n",
      "0        Con heridos   10      1508668        10               Barrio Colón   \n",
      "1         Solo daños   11      1510621        10                  San Diego   \n",
      "2        Con heridos   10      1508691        02                 La Francia   \n",
      "3        Con heridos   10      1508694        01  Santo Domingo Savio No. 1   \n",
      "4         Solo daños   11      1510634        15                   Santa Fé   \n",
      "\n",
      "          COMUNA                         LOCATION          X           Y  \n",
      "0  La Candelaria  [-75.5688011014, 6.24312304123]  834949.69  1182357.34  \n",
      "1  La Candelaria  [-75.5693883283, 6.22870030622]  834880.17  1180762.02  \n",
      "2     Santa Cruz  [-75.5503911403, 6.29869502502]  837004.94  1188499.17  \n",
      "3        Popular  [-75.5442195069, 6.30019383306]  837688.53  1188663.05  \n",
      "4       Guayabal   [-75.578180998, 6.21699243701]  833903.11  1179469.60  \n"
     ]
    },
    {
     "name": "stderr",
     "output_type": "stream",
     "text": [
      "C:\\Users\\johan\\anaconda3\\envs\\tensorflow_gpu\\lib\\site-packages\\IPython\\core\\interactiveshell.py:3552: DtypeWarning: Columns (0,11) have mixed types.Specify dtype option on import or set low_memory=False.\n",
      "  exec(code_obj, self.user_global_ns, self.user_ns)\n"
     ]
    }
   ],
   "source": [
    "#lectura dataframe saltando las filas malas\n",
    "df=pd.read_csv(\"incidentes_viales.csv\",on_bad_lines='skip',index_col=False,sep=\";\",encoding=\"UTF-8\")\n",
    "print(df.head())"
   ]
  },
  {
   "cell_type": "code",
   "execution_count": 3,
   "id": "e174dd0b",
   "metadata": {},
   "outputs": [
    {
     "name": "stdout",
     "output_type": "stream",
     "text": [
      "Index(['AÑO', 'CBML', 'CLASE_ACCIDENTE', 'DIRECCION', 'DIRECCION ENCASILLADA',\n",
      "       'DISEÑO', 'EXPEDIENTE', 'FECHA_ACCIDENTE', 'FECHA_ACCIDENTES',\n",
      "       'GRAVEDAD_ACCIDENTE', 'MES', 'NRO_RADICADO', 'NUMCOMUNA', 'BARRIO',\n",
      "       'COMUNA', 'LOCATION', 'X', 'Y'],\n",
      "      dtype='object')\n",
      "numero de columnas iniciales  18\n",
      "numero de filas iniciales  270765\n"
     ]
    }
   ],
   "source": [
    "#revisamos las columnas\n",
    "print(df.columns)\n",
    "print(\"numero de columnas iniciales \",len(df.columns))\n",
    "print(\"numero de filas iniciales \",df.shape[0])\n"
   ]
  },
  {
   "cell_type": "markdown",
   "id": "97b29654",
   "metadata": {},
   "source": [
    "## limpieza de datos"
   ]
  },
  {
   "cell_type": "code",
   "execution_count": 4,
   "id": "9dd5ad6b",
   "metadata": {},
   "outputs": [
    {
     "name": "stdout",
     "output_type": "stream",
     "text": [
      "250686\n"
     ]
    }
   ],
   "source": [
    "#eliminacion de datos con nulos\n",
    "df.dropna(inplace=True)\n",
    "#eliminar datos duplicados\n",
    "df.drop_duplicates(inplace=True)\n",
    "print(df.shape[0])"
   ]
  },
  {
   "cell_type": "code",
   "execution_count": 5,
   "id": "0c4dbcbc",
   "metadata": {},
   "outputs": [
    {
     "name": "stdout",
     "output_type": "stream",
     "text": [
      "['2015' '2014' '2016' '2017' '2018' '2019' '2020']\n"
     ]
    }
   ],
   "source": [
    "#AÑO-Año de ocurrencia del incidente\n",
    "df[\"AÑO\"]=df[\"AÑO\"].apply(lambda x : re.findall(r\"[0-9]{4}\",str(x))[0])\n",
    "print(df[\"AÑO\"].unique())"
   ]
  },
  {
   "cell_type": "code",
   "execution_count": 6,
   "id": "90e158ff",
   "metadata": {},
   "outputs": [
    {
     "name": "stdout",
     "output_type": "stream",
     "text": [
      "521\n"
     ]
    }
   ],
   "source": [
    "#CBML-Codigo catastral que corresponde al codigo comuna, barrio, manzana, lote catastral de un predio.\n",
    "print(len(df[\"CBML\"].unique()))"
   ]
  },
  {
   "cell_type": "code",
   "execution_count": 7,
   "id": "07fc0e9b",
   "metadata": {},
   "outputs": [
    {
     "name": "stdout",
     "output_type": "stream",
     "text": [
      "['caida ocupante' 'choque' 'otro' 'atropello' 'volcamiento' 'incendio']\n"
     ]
    }
   ],
   "source": [
    "#CLASE_ACCIDENTE-Clasificación del IPAT sobre la clase de accidente de transito: choque, atropello, volcamiento,\n",
    "#caida de ocupante, incendio, u otro (que no corresponde a las anteriores 5 clasificaciones, p. ej: sumersión)\n",
    "df[\"CLASE_ACCIDENTE\"]=df[\"CLASE_ACCIDENTE\"].apply(lambda x : str(x).replace(\"Caída de Ocupante\",\"Caida Ocupante\").lower())\n",
    "print((df[\"CLASE_ACCIDENTE\"].unique()))"
   ]
  },
  {
   "cell_type": "code",
   "execution_count": 8,
   "id": "3340b229",
   "metadata": {},
   "outputs": [
    {
     "name": "stdout",
     "output_type": "stream",
     "text": [
      "49712        CL 60 CR 74 B\n",
      "211433         CR 52 CL 94\n",
      "10819          CL 57 CR 41\n",
      "62825          CL 50 CR 54\n",
      "204802         CR 65 TV 22\n",
      "218623         CR 80 CL 57\n",
      "241993       CL 86 CR 90 B\n",
      "98758     CR 80 CL 2 A Sur\n",
      "4526           CR 54 CL 34\n",
      "170400         CL 80 CR 76\n",
      "Name: DIRECCION, dtype: object\n"
     ]
    }
   ],
   "source": [
    "#DIRECCION-Dirección donde ocurrió el incidente\n",
    "##aparentemente se encuentra ya formateada\n",
    "print((df[\"DIRECCION\"].sample(10)))"
   ]
  },
  {
   "cell_type": "code",
   "execution_count": 9,
   "id": "03b23aa3",
   "metadata": {},
   "outputs": [
    {
     "name": "stdout",
     "output_type": "stream",
     "text": [
      "60742       CR  046   085  000 00000\n",
      "83266     CL  025   065 B  000 00000\n",
      "108100      CR  063   038  000 00000\n",
      "5289        CL  067   055  000 00000\n",
      "223590      CL  067   065  000 00000\n",
      "79692     CL  050   081 B  000 00000\n",
      "233209      CR  043   033  000 00000\n",
      "136374      CR  049   043  000 00000\n",
      "20241       CL  073   069  000 00000\n",
      "99145       CR  064   074  000 00000\n",
      "Name: DIRECCION ENCASILLADA, dtype: object\n"
     ]
    }
   ],
   "source": [
    "#DIRECCION ENCASILLADA-\tDirección encasillada que entrega el geocodificador\n",
    "##aparentemente se encuentra ya formateada\n",
    "##variable con poca informacion util dada la variable anterior--escoger una de las 2\n",
    "print((df[\"DIRECCION ENCASILLADA\"].sample(10)))"
   ]
  },
  {
   "cell_type": "code",
   "execution_count": 10,
   "id": "7ce8f619",
   "metadata": {},
   "outputs": [
    {
     "name": "stdout",
     "output_type": "stream",
     "text": [
      "['tramo de via' 'interseccion' 'glorieta' 'lote o predio' 'paso a nivel'\n",
      " 'puente' 'paso elevado' 'ciclo ruta' 'paso inferior' 'via peatonal'\n",
      " 'pontón' 'tunel']\n"
     ]
    }
   ],
   "source": [
    "#DISENO-Sitio de la vía donde ocurrió el accidente: Cicloruta, Glorieta, Interseccion, Lote o Predio, Paso a Nivel, Paso Elevado,\n",
    "#Paso Inferior, Pontón, Puente, Tramo de via, Tunel, Via peatonal\n",
    "df[\"DISEÑO\"]=df[\"DISEÑO\"].apply(lambda x : str(x).replace(\"Pont\\\\xF3n\",\"Pontón\").lower())\n",
    "print((df[\"DISEÑO\"].unique()))"
   ]
  },
  {
   "cell_type": "code",
   "execution_count": 11,
   "id": "819129be",
   "metadata": {},
   "outputs": [
    {
     "name": "stdout",
     "output_type": "stream",
     "text": [
      "266884    A001152838\n",
      "218901    A000178446\n",
      "10008     A000380454\n",
      "106466    A000108077\n",
      "263501    A001077144\n",
      "194097    A000098573\n",
      "222803    A000483043\n",
      "48993     A000173773\n",
      "224977    A000481890\n",
      "69970     A001163623\n",
      "Name: EXPEDIENTE, dtype: object\n"
     ]
    }
   ],
   "source": [
    "#EXPEDIENTE\n",
    "#Consecutivo que asigna UNE, según el orden de llegada de los expedientes para su diligenciamiento\n",
    "##variable  aprarentemente con poco valor\n",
    "print((df[\"EXPEDIENTE\"].sample(10)))"
   ]
  },
  {
   "cell_type": "code",
   "execution_count": 12,
   "id": "c391cd5b",
   "metadata": {},
   "outputs": [
    {
     "name": "stdout",
     "output_type": "stream",
     "text": [
      "81175    2016-08-10 08:00:00\n",
      "17333    2018-09-28 06:00:00\n",
      "23033    2018-12-27 22:10:00\n",
      "185281   2018-04-13 15:00:00\n",
      "243184   2016-07-23 06:20:00\n",
      "88326    2016-02-03 16:30:00\n",
      "253588   2019-05-02 14:11:00\n",
      "154570   2016-12-06 09:50:00\n",
      "4535     2015-10-29 07:30:00\n",
      "209724   2015-04-22 10:50:00\n",
      "Name: FECHA_ACCIDENTE, dtype: datetime64[ns]\n"
     ]
    }
   ],
   "source": [
    "#FECHA_ACCIDENTE\n",
    "#Fecha del accidente, proviene del IPAT - Informe Policial de accidente de Tránsito\n",
    "df[\"FECHA_ACCIDENTE\"] = pd.to_datetime(df[\"FECHA_ACCIDENTE\"],dayfirst=True)\n",
    "print((df[\"FECHA_ACCIDENTE\"].sample(10)))"
   ]
  },
  {
   "cell_type": "code",
   "execution_count": 13,
   "id": "24aaea57",
   "metadata": {},
   "outputs": [
    {
     "name": "stdout",
     "output_type": "stream",
     "text": [
      "0    2015-10-21T10:58:00.000Z\n",
      "1    2015-11-05T08:00:00.000Z\n",
      "2    2015-10-21T12:40:00.000Z\n",
      "3    2015-10-21T17:00:00.000Z\n",
      "4    2015-11-03T11:16:00.000Z\n",
      "5    2015-11-05T09:30:00.000Z\n",
      "6    2015-10-18T09:40:00.000Z\n",
      "7    2015-11-04T09:46:00.000Z\n",
      "8    2015-10-21T12:00:00.000Z\n",
      "9    2015-11-05T12:00:00.000Z\n",
      "Name: FECHA_ACCIDENTES, dtype: object\n"
     ]
    }
   ],
   "source": [
    "#FECHA_ACCIDENTES\n",
    "#Fecha de los accidente (formato YYYY-MM-DD hh:mi:ss), proviene del IPAT - Informe Policial de accidentes de Tránsito\n",
    "##veriable redundante con la anterior\n",
    "print((df[\"FECHA_ACCIDENTES\"].head(10)))"
   ]
  },
  {
   "cell_type": "code",
   "execution_count": 14,
   "id": "3f0c26b6",
   "metadata": {},
   "outputs": [
    {
     "name": "stdout",
     "output_type": "stream",
     "text": [
      "['con heridos' 'solo daños' 'con muertos']\n"
     ]
    }
   ],
   "source": [
    "#GRAVEDAD_ACCIDENTE\n",
    "#Clasificación del IPAT - Informe Policial de Accidentes de Tránsito, sobre la gravedad del accidente, corresponde al resultado \n",
    "#más grave presentado en el accidente. Daños materiales \"Sólo daños\", accidente con heridos \"Herido\", accidente con muertos \n",
    "#\"Muerto\". No indica cantidad\n",
    "df[\"GRAVEDAD_ACCIDENTE\"]=df[\"GRAVEDAD_ACCIDENTE\"].apply(lambda x : str(x).replace(\"Solo da\\\\xF1os\",\"Solo daños\").lower())\n",
    "print((df[\"GRAVEDAD_ACCIDENTE\"].unique()))"
   ]
  },
  {
   "cell_type": "code",
   "execution_count": 15,
   "id": "b9e23da5",
   "metadata": {},
   "outputs": [
    {
     "name": "stdout",
     "output_type": "stream",
     "text": [
      "[10 11 12  9  4  3  5  6  7  8  1  2]\n"
     ]
    }
   ],
   "source": [
    "#MES\n",
    "#Mes de ocurrencia del incidente vial\n",
    "print((df[\"MES\"].unique()))"
   ]
  },
  {
   "cell_type": "code",
   "execution_count": 16,
   "id": "9b295969",
   "metadata": {},
   "outputs": [
    {
     "name": "stdout",
     "output_type": "stream",
     "text": [
      "0    1508668\n",
      "1    1510621\n",
      "2    1508691\n",
      "3    1508694\n",
      "4    1510634\n",
      "Name: NRO_RADICADO, dtype: object\n"
     ]
    }
   ],
   "source": [
    "#NRO_RADICADO\n",
    "#Consecutivo que asigna UNE, según el orden de llegada de los expedientes para su diligenciamiento\n",
    "#no tiene mucho valor aparentemente para nuestros fines\n",
    "print((df[\"NRO_RADICADO\"].head()))"
   ]
  },
  {
   "cell_type": "code",
   "execution_count": 17,
   "id": "1f702a6c",
   "metadata": {},
   "outputs": [
    {
     "name": "stdout",
     "output_type": "stream",
     "text": [
      "['10' '02' '01' '15' '14' '11' '07' '06' '04' '09' '05' '80' '13' '08'\n",
      " '16' '03' '12' '70' '60' '90' 'In' 'SN' '0' '50' 'AU' '5' '7' '9' '4' '3'\n",
      " '1' '2' '8' '6' 'Sin Inf']\n"
     ]
    }
   ],
   "source": [
    "#NUMCOMUNA\n",
    "#Numero de la comununa en la que ocurrio incidente vial\n",
    "print(df[\"NUMCOMUNA\"].unique())"
   ]
  },
  {
   "cell_type": "code",
   "execution_count": 18,
   "id": "56a0d5c8",
   "metadata": {},
   "outputs": [
    {
     "name": "stdout",
     "output_type": "stream",
     "text": [
      "489\n",
      "['barrio colon' 'san diego' 'la francia' 'santo domingo savio no. 1'\n",
      " 'santa fe' 'la florida' 'los conquistadores' 'la alpujarra' 'villa nueva'\n",
      " 'facultad de minas u. nacional' 'la esperanza' 'perpetuo socorro'\n",
      " 'campo valdes no. 1' 'miraflores' 'oleoducto' 'terminal de transporte'\n",
      " 'gerona' 'u.d. atanasio girardot' 'alejandro echavarria'\n",
      " 'cabecera san antonio de prado' 'manila' 'los balsos no.2' 'moravia'\n",
      " 'tenche' 'universidad nacional' 'los colores' 'caribe'\n",
      " 'juan xxiii la quiebra' 'belalcazar' 'santa cruz' 'sucre' 'la candelaria'\n",
      " 'el estadio' 'suramericana' 'la gloria' 'centro administrativo'\n",
      " 'las estancias' 'aures no. 2' 'los angeles' 'castilla' 'la salle'\n",
      " 'la america' 'picacho' 'bosques de san pablo' 'la aguacatala'\n",
      " 'playon de los comuneros' 'estacion villa' 'la colina' 'popular'\n",
      " 'villa del socorro' 'cucaracho' 'santa maria de los angeles'\n",
      " 'el chagualo' 'la mansion' 'san benito' 'la castellana' 'jesus nazareno'\n",
      " 'loreto' 'asomadera no. 1' 'el salvador' 'cristo rey' 'moscu no. 2'\n",
      " 'la mota' 'villa hermosa' 'cordoba' 'campo amor' 'naranjal' 'san isidro'\n",
      " 'boyaca' 'belen' 'miranda' 'las palmas' 'patio bonito' 'el castillo'\n",
      " 'guayabal' 'girardot' 'campo valdes no. 2' 'doce de octubre no.1'\n",
      " 'el raizal' 'rosales' 'san martin de porres' 'berlin' 'kennedy'\n",
      " 'el rincon' 'carlos e. restrepo' 'moscu no. 1' 'altavista sector central'\n",
      " 'san javier no.1' 'bolivariana' 'prado' 'boston' 'veinte de julio'\n",
      " 'alfonso lopez' 'hector abad gomez' 'parque juan pablo ii' 'lorena'\n",
      " 'los alpes' 'parque norte' 'la ladera' 'trinidad' 'castropol' 'laureles'\n",
      " 'la piñuela' 'aranjuez' 'robledo' 'buenos aires' 'san german'\n",
      " 'bombona no. 1' 'area de expansion pajarito' 'santander' 'simon bolivar'\n",
      " 'corazon de jesus' 'francisco antonio zea' 'cuarta brigada' 'los mangos'\n",
      " 'versalles no. 2' 'calle nueva' 'fatima' 'asomadera no. 2' 'guayaquil'\n",
      " 'villa carlota' 'la pilarica' 'los balsos no.1' 'la esperanza no. 2'\n",
      " 'san pedro' 'manrique oriental' 'cerro nutibara'\n",
      " 'nueva villa de la iguana' 'sevilla' 'manrique central no. 1'\n",
      " 'tricentenario' 'el progreso' 'campo alegre' 'el pomar' 'florida nueva'\n",
      " 'barrio caicedo' 'barrio colombia' 'cabecera urbana san cristobal'\n",
      " 'los cerros el vergel' 'astorga' 'santa monica' 'la isla' 'san bernardo'\n",
      " 'altamira' 'san javier no.2' 'la floresta' 'aures no.1' 'cataluña'\n",
      " 'antonio nariño' 'lopez de mesa' 'granizal' 'las lomas no.1'\n",
      " 'los alcazares' 'el velodromo' 'nueva villa de aburra' 'villa flora'\n",
      " 'las acacias' 'llanaditas' 'florencia' 'las esmeraldas' 'los pinos'\n",
      " 'el danubio' 'las granjas' 'el diamante' 'lalinde' 'el diamante no. 2'\n",
      " 'ferrini' 'santa ines' 'palermo' 'la cruz' 'olaya herrera' 'belencito'\n",
      " 'los naranjos' 'altavista' 'manrique central no. 2'\n",
      " 'universidad de antioquia' 'pedregal' 'las brisas' 'el salado' 'toscana'\n",
      " 'calasanz' 'el tesoro' 'brasilia' 'bermejal-los alamos' 'el poblado'\n",
      " 'villa guadalupe' 'la frontera' 'enciso' 'villatina' 'aguas frias'\n",
      " 'monteclaro' 'maria cano carambolas' 'cementerio universal'\n",
      " 'campo valdes no.2' 'metropolitano' 'versalles no. 1' 'la libertad'\n",
      " 'la rosa' 'san miguel' 'inst' 'suburbano mirador del poblado' 'granada'\n",
      " 'alejandria' 'loma de los bernal' 'doce de octubre no.2' 'la hondonada'\n",
      " 'santa margarita' 'san joaquin' 'tejelo' 'san lucas' 'miravalle'\n",
      " 'altos del poblado' 'manrique central no.2' 'el corazon'\n",
      " 'bello horizonte' 'la palma' 'barrio de jesus' 'diego echavarria'\n",
      " 'el pinal' 'las playas' 'sin nombre' 'la oculta' 'la pradera'\n",
      " 'el triunfo' 'las violetas' 'mirador del doce' 'san pablo'\n",
      " 'las lomas no.2' 'santa lucia' 'suburbano pedregal alto'\n",
      " 'asomadera no. 3' 'bombona no.1' 'betania'\n",
      " 'facultad veterinaria y zootecnia u.de.a.' '0' 'andalucia' 'villa niza'\n",
      " 'carpinelo' 'el progreso no.2' 'santa teresita' 'suburbano altavista'\n",
      " 'suburbano la loma' 'b. cerro  el volador' 'aldea pablo vi'\n",
      " 'bombona no. 2' 'barrio cristobal' 'la loma oriental' 'villa liliam'\n",
      " 'villa turbay' 'calasanz parte alta' 'el nogal-los almendros' 'u.p.b.'\n",
      " 'oriente' 'santa rosa de lima' 'santo domingo savio no. 2' 'la milagrosa'\n",
      " 'blanquizal' 'plaza de ferias' 'area de expansion san antonio de prado'\n",
      " 'buga patio bonito' 'pajarito' 'hospital san vicente de paul'\n",
      " 'fuente clara' 'jardin botanico' 'la verde' 'el pesebre' 'el compromiso'\n",
      " 'el rodeo' 'nuevos conquistadores' 'suburbano travesias' 'palenque'\n",
      " 'trece de noviembre' 'san antonio' 'manrique central no.1'\n",
      " 'juan pablo ii' 'area de expansion altos de calasanz' 'las mercedes'\n",
      " 'el socorro' 'pedregal bajo' 'eduardo santos' 'pedregal alto' 'picachito'\n",
      " 'la avanzada' 'suburbano palmitas' 'ocho de marzo' 'las independencias'\n",
      " 'pablo vi' 'area de expansion altavista' 'suburbano el plan'\n",
      " 'versalles no.1' 'piedras blancas' 'el picacho' 'san jose la cima no. 1'\n",
      " '6001' 'auc1' 'suburbano el tesoro' 'la loma de los bernal' 'la sierra'\n",
      " 'suburbano el llano' 'santo domingo savio no.1' 'volcana guayabal'\n",
      " 'el corazon el morro' '7001' 'san jose la cima no.2' 'yolombo'\n",
      " 'aures no.2' 'barrios de jesus' 'batallon girardot'\n",
      " 'palmitas sector central' 'area de expansion belen rincon' 'el vergel'\n",
      " 'suburbano palma patio' 'san jose de la montaña' 'suburb el plan'\n",
      " 'asomadera no.1' 'piedras blancas represa' 'la loma' 'potrerito'\n",
      " 'moscu no.2' 'suburbano la cuchilla' '1018' '1507' '1504' '1408' '1011'\n",
      " '1419' '1503' '0907' 'sin inf' '1422' '1020' '0408' '1510'\n",
      " 'santa elena sector central' '1114' '0205' '1423' '0402' '0103' '0717'\n",
      " '0505' '1019' '1001' '0509' '0301' '1101' '0303' '0409' '0811' '0712'\n",
      " '1603' '1003' '0307' '1204' '0208' '0809' '0306' '0906' '1007' '0413'\n",
      " 'suburbano aguas frias' '1103' '1108' '1511' '0109' '1206' '0914' '0711'\n",
      " 'san jose del manzanillo' '1613' '0813' '0514' '1611' '1306' '0819'\n",
      " '7002' 'suburbano la palma-el patio' '1012' 'versalles no.2' 'media luna'\n",
      " 'piedras blancas - matasano' 'suburbano potrerito' 'villa lilliam' '9004'\n",
      " 'el plan' 'el uvito' '9086' 'el llano se' 'yarumalito' '0312' '1102'\n",
      " '1202' '0302' '1105' '1205' 'el astillero' '0310' '0309' '1211' '0803'\n",
      " '0105' '0606' '0716' '1605' '0211' '5002' 'suburbano piedra gorda' '0912'\n",
      " 'travesias' 'moscu no.1' 'auc2' '0903' '1004' '1015' '1620' '1612' '1008'\n",
      " '0815' '0304' '0202' 'boqueron']\n"
     ]
    }
   ],
   "source": [
    "#BARRIO\n",
    "print(len(df[\"BARRIO\"].unique()))\n",
    "#Barrio de ocurrencia del incidente vial\n",
    "#ó por o\n",
    "df[\"BARRIO\"]=df[\"BARRIO\"].apply(lambda x : str(x).lower().replace(\"\\\\xf3\",\"o\").replace(\"ó\",\"o\"))\n",
    "#é por e \n",
    "df[\"BARRIO\"]=df[\"BARRIO\"].apply(lambda x : str(x).replace(\"\\\\xe9\",\"e\").replace(\"é\",\"e\"))\n",
    "#á por a \n",
    "df[\"BARRIO\"]=df[\"BARRIO\"].apply(lambda x : str(x).replace(\"\\\\xc1\",\"a\").replace(\"\\\\xe1\",\"a\").replace(\"á\",\"a\"))\n",
    "#ñ\n",
    "df[\"BARRIO\"]=df[\"BARRIO\"].apply(lambda x : str(x).replace(\"\\\\xf1\",\"ñ\"))\n",
    "#\\\\xed í por i\n",
    "df[\"BARRIO\"]=df[\"BARRIO\"].apply(lambda x : str(x).replace(\"\\\\xed\",\"i\").replace(\"í\",\"i\"))\n",
    "#\\\\xfa ú por u\n",
    "df[\"BARRIO\"]=df[\"BARRIO\"].apply(lambda x : str(x).replace(\"\\\\xfa\",\"u\").replace(\"ú\",\"u\"))\n",
    "print((df[\"BARRIO\"].unique()))"
   ]
  },
  {
   "cell_type": "code",
   "execution_count": 19,
   "id": "eb1b0bc4",
   "metadata": {},
   "outputs": [
    {
     "name": "stdout",
     "output_type": "stream",
     "text": [
      "['la candelaria' 'santa cruz' 'popular' 'guayabal' 'el poblado'\n",
      " 'laureles estadio' 'robledo' 'doce de octubre' 'aranjuez' 'buenos aires'\n",
      " 'castilla' 'corregimiento de san antonio de prado' 'san javier'\n",
      " 'villa hermosa' 'belen' 'manrique' 'la america'\n",
      " 'corregimiento de altavista' 'corregimiento de san cristobal'\n",
      " 'corregimiento de santa elena' 'in' 'sn'\n",
      " 'corregimiento de san sebastian de palmitas' '0' 'au']\n"
     ]
    }
   ],
   "source": [
    "#COMUNA\n",
    "#Denominación con la cual se identifica cada Comuna o Corregimiento. 01:Popular 02:Santa Cruz 03:Manrique 04:Aranjuez 05:Castilla 06:Doce de Octubre 07:Robledo 08:Villa Hermosa 09:Buenos Aires 10:La Candelaria 11:Laureles - Estadio 12:La América 13:San Javier 14:El Poblado 15:Guayabal 16:Belén 50:San Sebastián de Palmitas 60:San Cristobal 70:Altavista 80:San Antonio de Prado 90:Santa Elena 99:Toda la Ciudad\n",
    "##variable redundante\n",
    "#ó por o\n",
    "df[\"COMUNA\"]=df[\"COMUNA\"].apply(lambda x : str(x).lower().replace(\"\\\\xf3\",\"o\").replace(\"ó\",\"o\"))\n",
    "#á por a \n",
    "df[\"COMUNA\"]=df[\"COMUNA\"].apply(lambda x : str(x).replace(\"\\\\xc1\",\"a\").replace(\"\\\\xe1\",\"a\").replace(\"á\",\"a\"))\n",
    "#é por e \n",
    "df[\"COMUNA\"]=df[\"COMUNA\"].apply(lambda x : str(x).replace(\"\\\\xe9\",\"e\").replace(\"é\",\"e\"))\n",
    "print((df[\"COMUNA\"].unique()))"
   ]
  },
  {
   "cell_type": "code",
   "execution_count": 20,
   "id": "435e3572",
   "metadata": {},
   "outputs": [
    {
     "name": "stdout",
     "output_type": "stream",
     "text": [
      "0    [-75.5688011014, 6.24312304123]\n",
      "1    [-75.5693883283, 6.22870030622]\n",
      "2    [-75.5503911403, 6.29869502502]\n",
      "3    [-75.5442195069, 6.30019383306]\n",
      "4     [-75.578180998, 6.21699243701]\n",
      "5      [-75.561118009, 6.2047775959]\n",
      "6    [-75.5810144962, 6.24576066323]\n",
      "7    [-75.5752597216, 6.24685341912]\n",
      "8    [-75.5624178534, 6.25341454089]\n",
      "9    [-75.5931430393, 6.27330476643]\n",
      "Name: LOCATION, dtype: object\n"
     ]
    }
   ],
   "source": [
    "#LOCATION\n",
    "#Fuente de información con la cual se realizó la geocodificación\n",
    "print((df[\"LOCATION\"].head(10)))"
   ]
  },
  {
   "cell_type": "code",
   "execution_count": 21,
   "id": "42181bd5",
   "metadata": {},
   "outputs": [
    {
     "name": "stdout",
     "output_type": "stream",
     "text": [
      "0    834949.69\n",
      "1    834880.17\n",
      "2    837004.94\n",
      "3    837688.53\n",
      "4    833903.11\n",
      "5    835788.30\n",
      "6    833598.49\n",
      "7    834235.89\n",
      "8    835659.53\n",
      "9    832264.64\n",
      "Name: X, dtype: float64\n"
     ]
    }
   ],
   "source": [
    "#X\n",
    "#Coordenada X en metros del accidente, en sistema de coordenadas MAGNA Medellin Local\n",
    "print(df[\"X\"].head(10))"
   ]
  },
  {
   "cell_type": "code",
   "execution_count": 22,
   "id": "d6db175a",
   "metadata": {},
   "outputs": [
    {
     "name": "stdout",
     "output_type": "stream",
     "text": [
      "0    1182357.34\n",
      "1    1180762.02\n",
      "2    1188499.17\n",
      "3    1188663.05\n",
      "4    1179469.60\n",
      "5    1178113.02\n",
      "6    1182652.97\n",
      "7    1182772.04\n",
      "8    1183493.83\n",
      "9    1185703.90\n",
      "Name: Y, dtype: float64\n"
     ]
    }
   ],
   "source": [
    "#Y\n",
    "#Coordenada Y en metros del accidente, en sistema de coordenadas MAGNA Medellin Local\n",
    "print(df[\"Y\"].head(10))"
   ]
  },
  {
   "cell_type": "code",
   "execution_count": 23,
   "id": "510e71f0",
   "metadata": {},
   "outputs": [],
   "source": [
    "#Eliminar duplicados\n",
    "df.drop_duplicates(inplace=True)\n",
    "#borrar columnas con datos redudantes o poco aportantes\n",
    "df.drop(labels=[\"DIRECCION ENCASILLADA\",\"EXPEDIENTE\",\"FECHA_ACCIDENTES\",\"NRO_RADICADO\",\"COMUNA\"],axis=1,inplace=True)"
   ]
  },
  {
   "cell_type": "code",
   "execution_count": 24,
   "id": "0daf8130",
   "metadata": {},
   "outputs": [
    {
     "data": {
      "text/html": [
       "<div>\n",
       "<style scoped>\n",
       "    .dataframe tbody tr th:only-of-type {\n",
       "        vertical-align: middle;\n",
       "    }\n",
       "\n",
       "    .dataframe tbody tr th {\n",
       "        vertical-align: top;\n",
       "    }\n",
       "\n",
       "    .dataframe thead th {\n",
       "        text-align: right;\n",
       "    }\n",
       "</style>\n",
       "<table border=\"1\" class=\"dataframe\">\n",
       "  <thead>\n",
       "    <tr style=\"text-align: right;\">\n",
       "      <th></th>\n",
       "      <th>AÑO</th>\n",
       "      <th>CBML</th>\n",
       "      <th>CLASE_ACCIDENTE</th>\n",
       "      <th>DIRECCION</th>\n",
       "      <th>DISEÑO</th>\n",
       "      <th>FECHA_ACCIDENTE</th>\n",
       "      <th>GRAVEDAD_ACCIDENTE</th>\n",
       "      <th>MES</th>\n",
       "      <th>NUMCOMUNA</th>\n",
       "      <th>BARRIO</th>\n",
       "      <th>LOCATION</th>\n",
       "      <th>X</th>\n",
       "      <th>Y</th>\n",
       "    </tr>\n",
       "  </thead>\n",
       "  <tbody>\n",
       "    <tr>\n",
       "      <th>0</th>\n",
       "      <td>2015</td>\n",
       "      <td>1013</td>\n",
       "      <td>caida ocupante</td>\n",
       "      <td>CR 46 CL 43</td>\n",
       "      <td>tramo de via</td>\n",
       "      <td>2015-10-21 05:58:00</td>\n",
       "      <td>con heridos</td>\n",
       "      <td>10</td>\n",
       "      <td>10</td>\n",
       "      <td>barrio colon</td>\n",
       "      <td>[-75.5688011014, 6.24312304123]</td>\n",
       "      <td>834949.69</td>\n",
       "      <td>1182357.34</td>\n",
       "    </tr>\n",
       "    <tr>\n",
       "      <th>1</th>\n",
       "      <td>2015</td>\n",
       "      <td>1020</td>\n",
       "      <td>choque</td>\n",
       "      <td>CR 43 A CL 29</td>\n",
       "      <td>tramo de via</td>\n",
       "      <td>2015-11-05 03:00:00</td>\n",
       "      <td>solo daños</td>\n",
       "      <td>11</td>\n",
       "      <td>10</td>\n",
       "      <td>san diego</td>\n",
       "      <td>[-75.5693883283, 6.22870030622]</td>\n",
       "      <td>834880.17</td>\n",
       "      <td>1180762.02</td>\n",
       "    </tr>\n",
       "    <tr>\n",
       "      <th>2</th>\n",
       "      <td>2015</td>\n",
       "      <td>0205</td>\n",
       "      <td>otro</td>\n",
       "      <td>CR 46 CL 37</td>\n",
       "      <td>tramo de via</td>\n",
       "      <td>2015-10-21 07:40:00</td>\n",
       "      <td>con heridos</td>\n",
       "      <td>10</td>\n",
       "      <td>02</td>\n",
       "      <td>la francia</td>\n",
       "      <td>[-75.5503911403, 6.29869502502]</td>\n",
       "      <td>837004.94</td>\n",
       "      <td>1188499.17</td>\n",
       "    </tr>\n",
       "    <tr>\n",
       "      <th>3</th>\n",
       "      <td>2015</td>\n",
       "      <td>0101</td>\n",
       "      <td>atropello</td>\n",
       "      <td>CR 34 CL 112</td>\n",
       "      <td>tramo de via</td>\n",
       "      <td>2015-10-21 12:00:00</td>\n",
       "      <td>con heridos</td>\n",
       "      <td>10</td>\n",
       "      <td>01</td>\n",
       "      <td>santo domingo savio no. 1</td>\n",
       "      <td>[-75.5442195069, 6.30019383306]</td>\n",
       "      <td>837688.53</td>\n",
       "      <td>1188663.05</td>\n",
       "    </tr>\n",
       "    <tr>\n",
       "      <th>4</th>\n",
       "      <td>2015</td>\n",
       "      <td>1504</td>\n",
       "      <td>choque</td>\n",
       "      <td>CR 50 CL 14</td>\n",
       "      <td>tramo de via</td>\n",
       "      <td>2015-11-03 06:16:00</td>\n",
       "      <td>solo daños</td>\n",
       "      <td>11</td>\n",
       "      <td>15</td>\n",
       "      <td>santa fe</td>\n",
       "      <td>[-75.578180998, 6.21699243701]</td>\n",
       "      <td>833903.11</td>\n",
       "      <td>1179469.60</td>\n",
       "    </tr>\n",
       "    <tr>\n",
       "      <th>...</th>\n",
       "      <td>...</td>\n",
       "      <td>...</td>\n",
       "      <td>...</td>\n",
       "      <td>...</td>\n",
       "      <td>...</td>\n",
       "      <td>...</td>\n",
       "      <td>...</td>\n",
       "      <td>...</td>\n",
       "      <td>...</td>\n",
       "      <td>...</td>\n",
       "      <td>...</td>\n",
       "      <td>...</td>\n",
       "      <td>...</td>\n",
       "    </tr>\n",
       "    <tr>\n",
       "      <th>270760</th>\n",
       "      <td>2020</td>\n",
       "      <td>1004</td>\n",
       "      <td>caida ocupante</td>\n",
       "      <td>CR 62 CL 59</td>\n",
       "      <td>tramo de via</td>\n",
       "      <td>2020-08-31 18:50:00</td>\n",
       "      <td>con heridos</td>\n",
       "      <td>8</td>\n",
       "      <td>10</td>\n",
       "      <td>el chagualo</td>\n",
       "      <td>[-75.5731343044, 6.26063534822]</td>\n",
       "      <td>834475.51</td>\n",
       "      <td>1184295.99</td>\n",
       "    </tr>\n",
       "    <tr>\n",
       "      <th>270761</th>\n",
       "      <td>2020</td>\n",
       "      <td>1115</td>\n",
       "      <td>otro</td>\n",
       "      <td>CL 50 CR 74</td>\n",
       "      <td>tramo de via</td>\n",
       "      <td>2020-08-31 18:50:00</td>\n",
       "      <td>con heridos</td>\n",
       "      <td>8</td>\n",
       "      <td>11</td>\n",
       "      <td>cuarta brigada</td>\n",
       "      <td>[-75.5902062951, 6.26040455473]</td>\n",
       "      <td>832585.61</td>\n",
       "      <td>1184275.87</td>\n",
       "    </tr>\n",
       "    <tr>\n",
       "      <th>270762</th>\n",
       "      <td>2020</td>\n",
       "      <td>515</td>\n",
       "      <td>choque</td>\n",
       "      <td>CL 80 CR 65</td>\n",
       "      <td>tramo de via</td>\n",
       "      <td>2020-08-31 19:05:00</td>\n",
       "      <td>solo daños</td>\n",
       "      <td>8</td>\n",
       "      <td>5</td>\n",
       "      <td>cementerio universal</td>\n",
       "      <td>[-75.5735398111, 6.27625838886]</td>\n",
       "      <td>834435.55</td>\n",
       "      <td>1186024.41</td>\n",
       "    </tr>\n",
       "    <tr>\n",
       "      <th>270763</th>\n",
       "      <td>2020</td>\n",
       "      <td>207</td>\n",
       "      <td>atropello</td>\n",
       "      <td>CL 104 CR 45</td>\n",
       "      <td>tramo de via</td>\n",
       "      <td>2020-08-31 19:30:00</td>\n",
       "      <td>con heridos</td>\n",
       "      <td>8</td>\n",
       "      <td>2</td>\n",
       "      <td>villa del socorro</td>\n",
       "      <td>[-75.5515085985, 6.29359892373]</td>\n",
       "      <td>836879.66</td>\n",
       "      <td>1187935.77</td>\n",
       "    </tr>\n",
       "    <tr>\n",
       "      <th>270764</th>\n",
       "      <td>2020</td>\n",
       "      <td>303</td>\n",
       "      <td>atropello</td>\n",
       "      <td>CR 44 CL 79</td>\n",
       "      <td>lote o predio</td>\n",
       "      <td>2020-08-31 21:45:00</td>\n",
       "      <td>con heridos</td>\n",
       "      <td>8</td>\n",
       "      <td>3</td>\n",
       "      <td>campo valdes no. 2</td>\n",
       "      <td>[-75.5533856947, 6.2717784831]</td>\n",
       "      <td>836665.08</td>\n",
       "      <td>1185522.50</td>\n",
       "    </tr>\n",
       "  </tbody>\n",
       "</table>\n",
       "<p>250686 rows × 13 columns</p>\n",
       "</div>"
      ],
      "text/plain": [
       "         AÑO  CBML CLASE_ACCIDENTE      DIRECCION         DISEÑO  \\\n",
       "0       2015  1013  caida ocupante    CR 46 CL 43   tramo de via   \n",
       "1       2015  1020          choque  CR 43 A CL 29   tramo de via   \n",
       "2       2015  0205            otro    CR 46 CL 37   tramo de via   \n",
       "3       2015  0101       atropello   CR 34 CL 112   tramo de via   \n",
       "4       2015  1504          choque    CR 50 CL 14   tramo de via   \n",
       "...      ...   ...             ...            ...            ...   \n",
       "270760  2020  1004  caida ocupante    CR 62 CL 59   tramo de via   \n",
       "270761  2020  1115            otro    CL 50 CR 74   tramo de via   \n",
       "270762  2020   515          choque    CL 80 CR 65   tramo de via   \n",
       "270763  2020   207       atropello   CL 104 CR 45   tramo de via   \n",
       "270764  2020   303       atropello    CR 44 CL 79  lote o predio   \n",
       "\n",
       "           FECHA_ACCIDENTE GRAVEDAD_ACCIDENTE  MES NUMCOMUNA  \\\n",
       "0      2015-10-21 05:58:00        con heridos   10        10   \n",
       "1      2015-11-05 03:00:00         solo daños   11        10   \n",
       "2      2015-10-21 07:40:00        con heridos   10        02   \n",
       "3      2015-10-21 12:00:00        con heridos   10        01   \n",
       "4      2015-11-03 06:16:00         solo daños   11        15   \n",
       "...                    ...                ...  ...       ...   \n",
       "270760 2020-08-31 18:50:00        con heridos    8        10   \n",
       "270761 2020-08-31 18:50:00        con heridos    8        11   \n",
       "270762 2020-08-31 19:05:00         solo daños    8         5   \n",
       "270763 2020-08-31 19:30:00        con heridos    8         2   \n",
       "270764 2020-08-31 21:45:00        con heridos    8         3   \n",
       "\n",
       "                           BARRIO                         LOCATION          X  \\\n",
       "0                    barrio colon  [-75.5688011014, 6.24312304123]  834949.69   \n",
       "1                       san diego  [-75.5693883283, 6.22870030622]  834880.17   \n",
       "2                      la francia  [-75.5503911403, 6.29869502502]  837004.94   \n",
       "3       santo domingo savio no. 1  [-75.5442195069, 6.30019383306]  837688.53   \n",
       "4                        santa fe   [-75.578180998, 6.21699243701]  833903.11   \n",
       "...                           ...                              ...        ...   \n",
       "270760                el chagualo  [-75.5731343044, 6.26063534822]  834475.51   \n",
       "270761             cuarta brigada  [-75.5902062951, 6.26040455473]  832585.61   \n",
       "270762       cementerio universal  [-75.5735398111, 6.27625838886]  834435.55   \n",
       "270763          villa del socorro  [-75.5515085985, 6.29359892373]  836879.66   \n",
       "270764         campo valdes no. 2   [-75.5533856947, 6.2717784831]  836665.08   \n",
       "\n",
       "                 Y  \n",
       "0       1182357.34  \n",
       "1       1180762.02  \n",
       "2       1188499.17  \n",
       "3       1188663.05  \n",
       "4       1179469.60  \n",
       "...            ...  \n",
       "270760  1184295.99  \n",
       "270761  1184275.87  \n",
       "270762  1186024.41  \n",
       "270763  1187935.77  \n",
       "270764  1185522.50  \n",
       "\n",
       "[250686 rows x 13 columns]"
      ]
     },
     "execution_count": 24,
     "metadata": {},
     "output_type": "execute_result"
    }
   ],
   "source": [
    "df.to_csv(\"datosLimpios.csv\")\n",
    "#guardamos los datos en una nueva varible\n",
    "data=df.copy()\n",
    "df"
   ]
  },
  {
   "cell_type": "code",
   "execution_count": 25,
   "id": "833e965e",
   "metadata": {},
   "outputs": [],
   "source": [
    "#df=pd.read_csv(\"datosLimpios.csv\")"
   ]
  },
  {
   "cell_type": "markdown",
   "id": "b59eac73",
   "metadata": {},
   "source": [
    "## 1 - Entrenamiento de un modelo predictivo\n",
    "Se deberá construir un modelo que permita predecir la accidentalidad por tipo de accidente a nivel semanal, mensual y diario. Para esto se deberán considerar fechas especiales."
   ]
  },
  {
   "cell_type": "code",
   "execution_count": 26,
   "id": "130405ce",
   "metadata": {},
   "outputs": [
    {
     "data": {
      "text/html": [
       "<div>\n",
       "<style scoped>\n",
       "    .dataframe tbody tr th:only-of-type {\n",
       "        vertical-align: middle;\n",
       "    }\n",
       "\n",
       "    .dataframe tbody tr th {\n",
       "        vertical-align: top;\n",
       "    }\n",
       "\n",
       "    .dataframe thead th {\n",
       "        text-align: right;\n",
       "    }\n",
       "</style>\n",
       "<table border=\"1\" class=\"dataframe\">\n",
       "  <thead>\n",
       "    <tr style=\"text-align: right;\">\n",
       "      <th></th>\n",
       "      <th>DIA</th>\n",
       "      <th>CLASE_ACCIDENTE</th>\n",
       "      <th>CANTIDAD</th>\n",
       "    </tr>\n",
       "  </thead>\n",
       "  <tbody>\n",
       "    <tr>\n",
       "      <th>0</th>\n",
       "      <td>2014-07-04</td>\n",
       "      <td>choque</td>\n",
       "      <td>22</td>\n",
       "    </tr>\n",
       "    <tr>\n",
       "      <th>1</th>\n",
       "      <td>2014-07-05</td>\n",
       "      <td>atropello</td>\n",
       "      <td>25</td>\n",
       "    </tr>\n",
       "    <tr>\n",
       "      <th>2</th>\n",
       "      <td>2014-07-05</td>\n",
       "      <td>caida ocupante</td>\n",
       "      <td>18</td>\n",
       "    </tr>\n",
       "    <tr>\n",
       "      <th>3</th>\n",
       "      <td>2014-07-05</td>\n",
       "      <td>choque</td>\n",
       "      <td>63</td>\n",
       "    </tr>\n",
       "    <tr>\n",
       "      <th>4</th>\n",
       "      <td>2014-07-05</td>\n",
       "      <td>otro</td>\n",
       "      <td>7</td>\n",
       "    </tr>\n",
       "    <tr>\n",
       "      <th>...</th>\n",
       "      <td>...</td>\n",
       "      <td>...</td>\n",
       "      <td>...</td>\n",
       "    </tr>\n",
       "    <tr>\n",
       "      <th>11155</th>\n",
       "      <td>2020-08-31</td>\n",
       "      <td>atropello</td>\n",
       "      <td>10</td>\n",
       "    </tr>\n",
       "    <tr>\n",
       "      <th>11156</th>\n",
       "      <td>2020-08-31</td>\n",
       "      <td>caida ocupante</td>\n",
       "      <td>5</td>\n",
       "    </tr>\n",
       "    <tr>\n",
       "      <th>11157</th>\n",
       "      <td>2020-08-31</td>\n",
       "      <td>choque</td>\n",
       "      <td>62</td>\n",
       "    </tr>\n",
       "    <tr>\n",
       "      <th>11158</th>\n",
       "      <td>2020-08-31</td>\n",
       "      <td>otro</td>\n",
       "      <td>8</td>\n",
       "    </tr>\n",
       "    <tr>\n",
       "      <th>11159</th>\n",
       "      <td>2020-08-31</td>\n",
       "      <td>volcamiento</td>\n",
       "      <td>6</td>\n",
       "    </tr>\n",
       "  </tbody>\n",
       "</table>\n",
       "<p>11160 rows × 3 columns</p>\n",
       "</div>"
      ],
      "text/plain": [
       "              DIA CLASE_ACCIDENTE  CANTIDAD\n",
       "0      2014-07-04          choque        22\n",
       "1      2014-07-05       atropello        25\n",
       "2      2014-07-05  caida ocupante        18\n",
       "3      2014-07-05          choque        63\n",
       "4      2014-07-05            otro         7\n",
       "...           ...             ...       ...\n",
       "11155  2020-08-31       atropello        10\n",
       "11156  2020-08-31  caida ocupante         5\n",
       "11157  2020-08-31          choque        62\n",
       "11158  2020-08-31            otro         8\n",
       "11159  2020-08-31     volcamiento         6\n",
       "\n",
       "[11160 rows x 3 columns]"
      ]
     },
     "execution_count": 26,
     "metadata": {},
     "output_type": "execute_result"
    }
   ],
   "source": [
    "df=data\n",
    "df[\"DIA\"]=df[\"FECHA_ACCIDENTE\"].apply(lambda x: x.date())\n",
    "df=df.groupby([\"DIA\",\"CLASE_ACCIDENTE\"]).count()\n",
    "df.reset_index(inplace=True)\n",
    "df[\"CANTIDAD\"]=df[\"AÑO\"]\n",
    "df=df[[\"DIA\",\"CLASE_ACCIDENTE\",\"CANTIDAD\"]]\n",
    "df"
   ]
  },
  {
   "cell_type": "code",
   "execution_count": 27,
   "id": "8e668eeb",
   "metadata": {},
   "outputs": [
    {
     "data": {
      "text/html": [
       "<div>\n",
       "<style scoped>\n",
       "    .dataframe tbody tr th:only-of-type {\n",
       "        vertical-align: middle;\n",
       "    }\n",
       "\n",
       "    .dataframe tbody tr th {\n",
       "        vertical-align: top;\n",
       "    }\n",
       "\n",
       "    .dataframe thead th {\n",
       "        text-align: right;\n",
       "    }\n",
       "</style>\n",
       "<table border=\"1\" class=\"dataframe\">\n",
       "  <thead>\n",
       "    <tr style=\"text-align: right;\">\n",
       "      <th></th>\n",
       "      <th>DIA</th>\n",
       "      <th>CLASE_ACCIDENTE</th>\n",
       "      <th>CANTIDAD</th>\n",
       "      <th>DIA_FESTIVO</th>\n",
       "      <th>SIGIENTE_DIA_FESTIVO</th>\n",
       "      <th>ANTERIOR_DIA_FESTIVO</th>\n",
       "      <th>AÑO</th>\n",
       "      <th>DIA_DE_LA_SEMANA</th>\n",
       "      <th>DIA_TOTAL</th>\n",
       "    </tr>\n",
       "  </thead>\n",
       "  <tbody>\n",
       "    <tr>\n",
       "      <th>0</th>\n",
       "      <td>2014-07-04</td>\n",
       "      <td>choque</td>\n",
       "      <td>22</td>\n",
       "      <td>0</td>\n",
       "      <td>0</td>\n",
       "      <td>0</td>\n",
       "      <td>2014</td>\n",
       "      <td>4</td>\n",
       "      <td>1</td>\n",
       "    </tr>\n",
       "    <tr>\n",
       "      <th>1</th>\n",
       "      <td>2014-07-05</td>\n",
       "      <td>atropello</td>\n",
       "      <td>25</td>\n",
       "      <td>0</td>\n",
       "      <td>0</td>\n",
       "      <td>0</td>\n",
       "      <td>2014</td>\n",
       "      <td>5</td>\n",
       "      <td>2</td>\n",
       "    </tr>\n",
       "    <tr>\n",
       "      <th>2</th>\n",
       "      <td>2014-07-05</td>\n",
       "      <td>caida ocupante</td>\n",
       "      <td>18</td>\n",
       "      <td>0</td>\n",
       "      <td>0</td>\n",
       "      <td>0</td>\n",
       "      <td>2014</td>\n",
       "      <td>5</td>\n",
       "      <td>2</td>\n",
       "    </tr>\n",
       "    <tr>\n",
       "      <th>3</th>\n",
       "      <td>2014-07-05</td>\n",
       "      <td>choque</td>\n",
       "      <td>63</td>\n",
       "      <td>0</td>\n",
       "      <td>0</td>\n",
       "      <td>0</td>\n",
       "      <td>2014</td>\n",
       "      <td>5</td>\n",
       "      <td>2</td>\n",
       "    </tr>\n",
       "    <tr>\n",
       "      <th>4</th>\n",
       "      <td>2014-07-05</td>\n",
       "      <td>otro</td>\n",
       "      <td>7</td>\n",
       "      <td>0</td>\n",
       "      <td>0</td>\n",
       "      <td>0</td>\n",
       "      <td>2014</td>\n",
       "      <td>5</td>\n",
       "      <td>2</td>\n",
       "    </tr>\n",
       "    <tr>\n",
       "      <th>5</th>\n",
       "      <td>2014-07-05</td>\n",
       "      <td>volcamiento</td>\n",
       "      <td>3</td>\n",
       "      <td>0</td>\n",
       "      <td>0</td>\n",
       "      <td>0</td>\n",
       "      <td>2014</td>\n",
       "      <td>5</td>\n",
       "      <td>2</td>\n",
       "    </tr>\n",
       "    <tr>\n",
       "      <th>6</th>\n",
       "      <td>2014-07-06</td>\n",
       "      <td>atropello</td>\n",
       "      <td>14</td>\n",
       "      <td>0</td>\n",
       "      <td>0</td>\n",
       "      <td>0</td>\n",
       "      <td>2014</td>\n",
       "      <td>6</td>\n",
       "      <td>3</td>\n",
       "    </tr>\n",
       "    <tr>\n",
       "      <th>7</th>\n",
       "      <td>2014-07-06</td>\n",
       "      <td>caida ocupante</td>\n",
       "      <td>10</td>\n",
       "      <td>0</td>\n",
       "      <td>0</td>\n",
       "      <td>0</td>\n",
       "      <td>2014</td>\n",
       "      <td>6</td>\n",
       "      <td>3</td>\n",
       "    </tr>\n",
       "    <tr>\n",
       "      <th>8</th>\n",
       "      <td>2014-07-06</td>\n",
       "      <td>choque</td>\n",
       "      <td>40</td>\n",
       "      <td>0</td>\n",
       "      <td>0</td>\n",
       "      <td>0</td>\n",
       "      <td>2014</td>\n",
       "      <td>6</td>\n",
       "      <td>3</td>\n",
       "    </tr>\n",
       "    <tr>\n",
       "      <th>9</th>\n",
       "      <td>2014-07-06</td>\n",
       "      <td>otro</td>\n",
       "      <td>12</td>\n",
       "      <td>0</td>\n",
       "      <td>0</td>\n",
       "      <td>0</td>\n",
       "      <td>2014</td>\n",
       "      <td>6</td>\n",
       "      <td>3</td>\n",
       "    </tr>\n",
       "  </tbody>\n",
       "</table>\n",
       "</div>"
      ],
      "text/plain": [
       "          DIA CLASE_ACCIDENTE  CANTIDAD  DIA_FESTIVO  SIGIENTE_DIA_FESTIVO  \\\n",
       "0  2014-07-04          choque        22            0                     0   \n",
       "1  2014-07-05       atropello        25            0                     0   \n",
       "2  2014-07-05  caida ocupante        18            0                     0   \n",
       "3  2014-07-05          choque        63            0                     0   \n",
       "4  2014-07-05            otro         7            0                     0   \n",
       "5  2014-07-05     volcamiento         3            0                     0   \n",
       "6  2014-07-06       atropello        14            0                     0   \n",
       "7  2014-07-06  caida ocupante        10            0                     0   \n",
       "8  2014-07-06          choque        40            0                     0   \n",
       "9  2014-07-06            otro        12            0                     0   \n",
       "\n",
       "   ANTERIOR_DIA_FESTIVO   AÑO  DIA_DE_LA_SEMANA  DIA_TOTAL  \n",
       "0                     0  2014                 4          1  \n",
       "1                     0  2014                 5          2  \n",
       "2                     0  2014                 5          2  \n",
       "3                     0  2014                 5          2  \n",
       "4                     0  2014                 5          2  \n",
       "5                     0  2014                 5          2  \n",
       "6                     0  2014                 6          3  \n",
       "7                     0  2014                 6          3  \n",
       "8                     0  2014                 6          3  \n",
       "9                     0  2014                 6          3  "
      ]
     },
     "execution_count": 27,
     "metadata": {},
     "output_type": "execute_result"
    }
   ],
   "source": [
    "import holidays_co as co\n",
    "from datetime import timedelta\n",
    "#dia_festivo 1 si 0 no\n",
    "df[\"dia_festivo\".upper()]=df[\"DIA\"].apply(lambda x : int(co.is_holiday_date(x)))\n",
    "#sigiente_dia_festivo\n",
    "df[\"sigiente_dia_festivo\".upper()]=df[\"DIA\"].apply(lambda x : int(co.is_holiday_date(x+timedelta(days=1))))\n",
    "#anterior_dia_festivo\n",
    "df[\"anterior_dia_festivo\".upper()]=df[\"DIA\"].apply(lambda x : int(co.is_holiday_date(x-timedelta(days=1))))\n",
    "df[\"AÑO\"]=df[\"DIA\"].apply(lambda x : pd.Timestamp(x).year)\n",
    "df[\"dia_de_la_semana\".upper()]=df[\"dia\".upper()].apply(lambda x : pd.Timestamp(x).day_of_week)\n",
    "min=df[\"DIA\"].min()\n",
    "df[\"dia_total\".upper()]=df[\"dia\".upper()].apply(lambda x : (x-min).days+1)\n",
    "df.head(10)"
   ]
  },
  {
   "cell_type": "markdown",
   "id": "aa3ea682",
   "metadata": {},
   "source": [
    "Sea X el con junto de parametros "
   ]
  },
  {
   "cell_type": "markdown",
   "id": "c7c46d3a",
   "metadata": {},
   "source": [
    "### Entrenamiento y validación\n",
    "Los modelos predictivos se deberán construir con los datos de los años 2014, 2015, 2016, 2018. Se usan los accidentes del año 2019 y 2020 (¡alerta!) para validar los modelos.\n",
    "Se deberá analizar el comportamiento del modelo predictivo en los años 2021 y 2022 y explicar las posibles desviaciones."
   ]
  },
  {
   "cell_type": "code",
   "execution_count": 28,
   "id": "3af2f0c3",
   "metadata": {},
   "outputs": [],
   "source": [
    "\n",
    "train=df[(df[\"AÑO\"]) <2019]\n",
    "train=pd.concat([train,pd.get_dummies(train[[\"CLASE_ACCIDENTE\"]],drop_first=True)], axis=1)\n",
    "test=df.drop(train.index)\n",
    "X_train=train[[\"CLASE_ACCIDENTE\",\"DIA_FESTIVO\",\"SIGIENTE_DIA_FESTIVO\",\"ANTERIOR_DIA_FESTIVO\",\"DIA_DE_LA_SEMANA\",\"DIA_TOTAL\"]]\n",
    "X_train=pd.concat([X_train,pd.get_dummies(X_train[[\"CLASE_ACCIDENTE\"]],drop_first=True)], axis=1)\n",
    "X_train.drop([\"CLASE_ACCIDENTE\"],axis=1,inplace=True)\n",
    "Y_train=train[[\"CANTIDAD\"]]\n",
    "X_test=test[[\"CLASE_ACCIDENTE\",\"DIA_FESTIVO\",\"SIGIENTE_DIA_FESTIVO\",\"ANTERIOR_DIA_FESTIVO\",\"DIA_DE_LA_SEMANA\",\"DIA_TOTAL\"]]\n",
    "X_test=pd.concat([X_test,pd.get_dummies(X_test[[\"CLASE_ACCIDENTE\"]],drop_first=True)], axis=1)\n",
    "X_test.drop([\"CLASE_ACCIDENTE\"],axis=1,inplace=True)\n",
    "Y_test=test[[\"CANTIDAD\"]]"
   ]
  },
  {
   "cell_type": "code",
   "execution_count": 29,
   "id": "8453de55",
   "metadata": {},
   "outputs": [],
   "source": [
    "from sklearn.compose import make_column_selector\n",
    "    # Importe make_column_transformer\n",
    "from sklearn.compose import make_column_transformer\n",
    "    # Importe SelectKBest\n",
    "from sklearn.feature_selection import SelectKBest\n",
    "    # Importe f_regression\n",
    "from sklearn.feature_selection import f_regression\n",
    "    # Importe LinearRegression\n",
    "from sklearn.linear_model import LinearRegression\n",
    "    # Importe GridSearchCV\n",
    "from sklearn.model_selection import GridSearchCV\n",
    "    # Importe Pipeline\n",
    "from sklearn.pipeline import Pipeline\n",
    "    # Importe OneHotEncoder\n",
    "from sklearn.preprocessing import OneHotEncoder\n",
    "\n",
    "\n",
    "pipeline = Pipeline(\n",
    "        steps=[\n",
    "            # Paso 1: Construya un column_transformer que aplica OneHotEncoder a las\n",
    "            # variables categóricas, y no aplica ninguna transformación al resto de\n",
    "            # las variables.\n",
    "            (\n",
    "                \"column_transfomer\",\n",
    "                make_column_transformer(\n",
    "                    (\n",
    "                        OneHotEncoder(),\n",
    "                        make_column_selector(dtype_include=object),\n",
    "                    ),\n",
    "                    remainder='passthrough',\n",
    "                ),\n",
    "            ),\n",
    "            # Paso 2: Construya un selector de características que seleccione las K\n",
    "            # características más importantes. Utilice la función f_regression.\n",
    "            (\n",
    "                \"selectKBest\",\n",
    "                SelectKBest(score_func=f_regression),\n",
    "            ),\n",
    "            # Paso 3: Construya un modelo de regresión lineal.\n",
    "            (\n",
    "                \"linearRegression\",\n",
    "                LinearRegression(),\n",
    "            ),\n",
    "        ],\n",
    "    )"
   ]
  },
  {
   "cell_type": "code",
   "execution_count": 30,
   "id": "07ec7376",
   "metadata": {},
   "outputs": [],
   "source": [
    " param_grid = {\n",
    "        \"selectKBest__k\": (1, 9),\n",
    "    }"
   ]
  },
  {
   "cell_type": "code",
   "execution_count": 31,
   "id": "65b7224e",
   "metadata": {},
   "outputs": [],
   "source": [
    "gridSearchCV = GridSearchCV(\n",
    "        estimator=pipeline,\n",
    "        param_grid=param_grid,\n",
    "        cv=5,\n",
    "        scoring=\"neg_mean_squared_error\",\n",
    "        refit=True,\n",
    "        return_train_score=True,\n",
    "    )"
   ]
  },
  {
   "cell_type": "code",
   "execution_count": 32,
   "id": "8a915cc9",
   "metadata": {},
   "outputs": [
    {
     "data": {
      "text/plain": [
       "GridSearchCV(cv=5,\n",
       "             estimator=Pipeline(steps=[('column_transfomer',\n",
       "                                        ColumnTransformer(remainder='passthrough',\n",
       "                                                          transformers=[('onehotencoder',\n",
       "                                                                         OneHotEncoder(),\n",
       "                                                                         <sklearn.compose._column_transformer.make_column_selector object at 0x00000246B8A57B88>)])),\n",
       "                                       ('selectKBest',\n",
       "                                        SelectKBest(score_func=<function f_regression at 0x00000246BF0009D8>)),\n",
       "                                       ('linearRegression',\n",
       "                                        LinearRegression())]),\n",
       "             param_grid={'selectKBest__k': (1, 9)}, return_train_score=True,\n",
       "             scoring='neg_mean_squared_error')"
      ]
     },
     "execution_count": 32,
     "metadata": {},
     "output_type": "execute_result"
    }
   ],
   "source": [
    "gridSearchCV.fit(X_train, Y_train.values.ravel())"
   ]
  },
  {
   "cell_type": "code",
   "execution_count": 33,
   "id": "640ea028",
   "metadata": {},
   "outputs": [],
   "source": [
    "from sklearn.metrics import mean_squared_error\n",
    "from sklearn.metrics import r2_score\n",
    "# Evalúe el modelo con los conjuntos de entrenamiento y prueba.\n",
    "Y_train_pred = gridSearchCV.predict(X_train)\n",
    "Y_test_pred = gridSearchCV.predict(X_test)\n",
    "\n",
    "    # Compute el error cuadratico medio de entrenamiento y prueba. Redondee los\n",
    "    # valores a dos decimales.\n",
    "\n",
    "mse_train = r2_score(\n",
    "        Y_train,\n",
    "        Y_train_pred,\n",
    "    ).round(2)\n",
    "\n",
    "mse_test = r2_score(\n",
    "        Y_test,\n",
    "        Y_test_pred,\n",
    "    ).round(2)"
   ]
  },
  {
   "cell_type": "code",
   "execution_count": 34,
   "id": "eaf0b364",
   "metadata": {},
   "outputs": [
    {
     "name": "stdout",
     "output_type": "stream",
     "text": [
      "0.74 0.89\n"
     ]
    }
   ],
   "source": [
    "print(mse_test,mse_train)"
   ]
  },
  {
   "cell_type": "code",
   "execution_count": null,
   "id": "b53675fd",
   "metadata": {},
   "outputs": [],
   "source": []
  },
  {
   "cell_type": "code",
   "execution_count": null,
   "id": "8f94228f",
   "metadata": {},
   "outputs": [],
   "source": []
  },
  {
   "cell_type": "code",
   "execution_count": 35,
   "id": "d31d0936",
   "metadata": {},
   "outputs": [
    {
     "data": {
      "text/html": [
       "<div>\n",
       "<style scoped>\n",
       "    .dataframe tbody tr th:only-of-type {\n",
       "        vertical-align: middle;\n",
       "    }\n",
       "\n",
       "    .dataframe tbody tr th {\n",
       "        vertical-align: top;\n",
       "    }\n",
       "\n",
       "    .dataframe thead th {\n",
       "        text-align: right;\n",
       "    }\n",
       "</style>\n",
       "<table border=\"1\" class=\"dataframe\">\n",
       "  <thead>\n",
       "    <tr style=\"text-align: right;\">\n",
       "      <th></th>\n",
       "      <th>DIA_FESTIVO</th>\n",
       "      <th>SIGIENTE_DIA_FESTIVO</th>\n",
       "      <th>ANTERIOR_DIA_FESTIVO</th>\n",
       "      <th>DIA_DE_LA_SEMANA</th>\n",
       "      <th>DIA_TOTAL</th>\n",
       "      <th>CLASE_ACCIDENTE_caida ocupante</th>\n",
       "      <th>CLASE_ACCIDENTE_choque</th>\n",
       "      <th>CLASE_ACCIDENTE_incendio</th>\n",
       "      <th>CLASE_ACCIDENTE_otro</th>\n",
       "      <th>CLASE_ACCIDENTE_volcamiento</th>\n",
       "    </tr>\n",
       "  </thead>\n",
       "  <tbody>\n",
       "    <tr>\n",
       "      <th>0</th>\n",
       "      <td>0</td>\n",
       "      <td>0</td>\n",
       "      <td>0</td>\n",
       "      <td>4</td>\n",
       "      <td>1</td>\n",
       "      <td>0</td>\n",
       "      <td>1</td>\n",
       "      <td>0</td>\n",
       "      <td>0</td>\n",
       "      <td>0</td>\n",
       "    </tr>\n",
       "    <tr>\n",
       "      <th>1</th>\n",
       "      <td>0</td>\n",
       "      <td>0</td>\n",
       "      <td>0</td>\n",
       "      <td>5</td>\n",
       "      <td>2</td>\n",
       "      <td>0</td>\n",
       "      <td>0</td>\n",
       "      <td>0</td>\n",
       "      <td>0</td>\n",
       "      <td>0</td>\n",
       "    </tr>\n",
       "    <tr>\n",
       "      <th>2</th>\n",
       "      <td>0</td>\n",
       "      <td>0</td>\n",
       "      <td>0</td>\n",
       "      <td>5</td>\n",
       "      <td>2</td>\n",
       "      <td>1</td>\n",
       "      <td>0</td>\n",
       "      <td>0</td>\n",
       "      <td>0</td>\n",
       "      <td>0</td>\n",
       "    </tr>\n",
       "    <tr>\n",
       "      <th>3</th>\n",
       "      <td>0</td>\n",
       "      <td>0</td>\n",
       "      <td>0</td>\n",
       "      <td>5</td>\n",
       "      <td>2</td>\n",
       "      <td>0</td>\n",
       "      <td>1</td>\n",
       "      <td>0</td>\n",
       "      <td>0</td>\n",
       "      <td>0</td>\n",
       "    </tr>\n",
       "    <tr>\n",
       "      <th>4</th>\n",
       "      <td>0</td>\n",
       "      <td>0</td>\n",
       "      <td>0</td>\n",
       "      <td>5</td>\n",
       "      <td>2</td>\n",
       "      <td>0</td>\n",
       "      <td>0</td>\n",
       "      <td>0</td>\n",
       "      <td>1</td>\n",
       "      <td>0</td>\n",
       "    </tr>\n",
       "    <tr>\n",
       "      <th>...</th>\n",
       "      <td>...</td>\n",
       "      <td>...</td>\n",
       "      <td>...</td>\n",
       "      <td>...</td>\n",
       "      <td>...</td>\n",
       "      <td>...</td>\n",
       "      <td>...</td>\n",
       "      <td>...</td>\n",
       "      <td>...</td>\n",
       "      <td>...</td>\n",
       "    </tr>\n",
       "    <tr>\n",
       "      <th>8134</th>\n",
       "      <td>0</td>\n",
       "      <td>1</td>\n",
       "      <td>0</td>\n",
       "      <td>0</td>\n",
       "      <td>1642</td>\n",
       "      <td>0</td>\n",
       "      <td>0</td>\n",
       "      <td>0</td>\n",
       "      <td>0</td>\n",
       "      <td>0</td>\n",
       "    </tr>\n",
       "    <tr>\n",
       "      <th>8135</th>\n",
       "      <td>0</td>\n",
       "      <td>1</td>\n",
       "      <td>0</td>\n",
       "      <td>0</td>\n",
       "      <td>1642</td>\n",
       "      <td>1</td>\n",
       "      <td>0</td>\n",
       "      <td>0</td>\n",
       "      <td>0</td>\n",
       "      <td>0</td>\n",
       "    </tr>\n",
       "    <tr>\n",
       "      <th>8136</th>\n",
       "      <td>0</td>\n",
       "      <td>1</td>\n",
       "      <td>0</td>\n",
       "      <td>0</td>\n",
       "      <td>1642</td>\n",
       "      <td>0</td>\n",
       "      <td>1</td>\n",
       "      <td>0</td>\n",
       "      <td>0</td>\n",
       "      <td>0</td>\n",
       "    </tr>\n",
       "    <tr>\n",
       "      <th>8137</th>\n",
       "      <td>0</td>\n",
       "      <td>1</td>\n",
       "      <td>0</td>\n",
       "      <td>0</td>\n",
       "      <td>1642</td>\n",
       "      <td>0</td>\n",
       "      <td>0</td>\n",
       "      <td>0</td>\n",
       "      <td>1</td>\n",
       "      <td>0</td>\n",
       "    </tr>\n",
       "    <tr>\n",
       "      <th>8138</th>\n",
       "      <td>0</td>\n",
       "      <td>1</td>\n",
       "      <td>0</td>\n",
       "      <td>0</td>\n",
       "      <td>1642</td>\n",
       "      <td>0</td>\n",
       "      <td>0</td>\n",
       "      <td>0</td>\n",
       "      <td>0</td>\n",
       "      <td>1</td>\n",
       "    </tr>\n",
       "  </tbody>\n",
       "</table>\n",
       "<p>8139 rows × 10 columns</p>\n",
       "</div>"
      ],
      "text/plain": [
       "      DIA_FESTIVO  SIGIENTE_DIA_FESTIVO  ANTERIOR_DIA_FESTIVO  \\\n",
       "0               0                     0                     0   \n",
       "1               0                     0                     0   \n",
       "2               0                     0                     0   \n",
       "3               0                     0                     0   \n",
       "4               0                     0                     0   \n",
       "...           ...                   ...                   ...   \n",
       "8134            0                     1                     0   \n",
       "8135            0                     1                     0   \n",
       "8136            0                     1                     0   \n",
       "8137            0                     1                     0   \n",
       "8138            0                     1                     0   \n",
       "\n",
       "      DIA_DE_LA_SEMANA  DIA_TOTAL  CLASE_ACCIDENTE_caida ocupante  \\\n",
       "0                    4          1                               0   \n",
       "1                    5          2                               0   \n",
       "2                    5          2                               1   \n",
       "3                    5          2                               0   \n",
       "4                    5          2                               0   \n",
       "...                ...        ...                             ...   \n",
       "8134                 0       1642                               0   \n",
       "8135                 0       1642                               1   \n",
       "8136                 0       1642                               0   \n",
       "8137                 0       1642                               0   \n",
       "8138                 0       1642                               0   \n",
       "\n",
       "      CLASE_ACCIDENTE_choque  CLASE_ACCIDENTE_incendio  CLASE_ACCIDENTE_otro  \\\n",
       "0                          1                         0                     0   \n",
       "1                          0                         0                     0   \n",
       "2                          0                         0                     0   \n",
       "3                          1                         0                     0   \n",
       "4                          0                         0                     1   \n",
       "...                      ...                       ...                   ...   \n",
       "8134                       0                         0                     0   \n",
       "8135                       0                         0                     0   \n",
       "8136                       1                         0                     0   \n",
       "8137                       0                         0                     1   \n",
       "8138                       0                         0                     0   \n",
       "\n",
       "      CLASE_ACCIDENTE_volcamiento  \n",
       "0                               0  \n",
       "1                               0  \n",
       "2                               0  \n",
       "3                               0  \n",
       "4                               0  \n",
       "...                           ...  \n",
       "8134                            0  \n",
       "8135                            0  \n",
       "8136                            0  \n",
       "8137                            0  \n",
       "8138                            1  \n",
       "\n",
       "[8139 rows x 10 columns]"
      ]
     },
     "execution_count": 35,
     "metadata": {},
     "output_type": "execute_result"
    }
   ],
   "source": [
    "X_train"
   ]
  },
  {
   "cell_type": "code",
   "execution_count": 36,
   "id": "4f2a0911",
   "metadata": {},
   "outputs": [
    {
     "data": {
      "text/html": [
       "<div>\n",
       "<style scoped>\n",
       "    .dataframe tbody tr th:only-of-type {\n",
       "        vertical-align: middle;\n",
       "    }\n",
       "\n",
       "    .dataframe tbody tr th {\n",
       "        vertical-align: top;\n",
       "    }\n",
       "\n",
       "    .dataframe thead th {\n",
       "        text-align: right;\n",
       "    }\n",
       "</style>\n",
       "<table border=\"1\" class=\"dataframe\">\n",
       "  <thead>\n",
       "    <tr style=\"text-align: right;\">\n",
       "      <th></th>\n",
       "      <th>count</th>\n",
       "      <th>mean</th>\n",
       "      <th>std</th>\n",
       "      <th>min</th>\n",
       "      <th>25%</th>\n",
       "      <th>50%</th>\n",
       "      <th>75%</th>\n",
       "      <th>max</th>\n",
       "    </tr>\n",
       "  </thead>\n",
       "  <tbody>\n",
       "    <tr>\n",
       "      <th>DIA_FESTIVO</th>\n",
       "      <td>8139.0</td>\n",
       "      <td>0.048777</td>\n",
       "      <td>0.215416</td>\n",
       "      <td>0.0</td>\n",
       "      <td>0.0</td>\n",
       "      <td>0.0</td>\n",
       "      <td>0.0</td>\n",
       "      <td>1.0</td>\n",
       "    </tr>\n",
       "    <tr>\n",
       "      <th>SIGIENTE_DIA_FESTIVO</th>\n",
       "      <td>8139.0</td>\n",
       "      <td>0.048286</td>\n",
       "      <td>0.214383</td>\n",
       "      <td>0.0</td>\n",
       "      <td>0.0</td>\n",
       "      <td>0.0</td>\n",
       "      <td>0.0</td>\n",
       "      <td>1.0</td>\n",
       "    </tr>\n",
       "    <tr>\n",
       "      <th>ANTERIOR_DIA_FESTIVO</th>\n",
       "      <td>8139.0</td>\n",
       "      <td>0.048777</td>\n",
       "      <td>0.215416</td>\n",
       "      <td>0.0</td>\n",
       "      <td>0.0</td>\n",
       "      <td>0.0</td>\n",
       "      <td>0.0</td>\n",
       "      <td>1.0</td>\n",
       "    </tr>\n",
       "    <tr>\n",
       "      <th>AÑO</th>\n",
       "      <td>8139.0</td>\n",
       "      <td>2016.226809</td>\n",
       "      <td>1.309704</td>\n",
       "      <td>2014.0</td>\n",
       "      <td>2015.0</td>\n",
       "      <td>2016.0</td>\n",
       "      <td>2017.0</td>\n",
       "      <td>2018.0</td>\n",
       "    </tr>\n",
       "    <tr>\n",
       "      <th>DIA_DE_LA_SEMANA</th>\n",
       "      <td>8139.0</td>\n",
       "      <td>2.996560</td>\n",
       "      <td>1.999751</td>\n",
       "      <td>0.0</td>\n",
       "      <td>1.0</td>\n",
       "      <td>3.0</td>\n",
       "      <td>5.0</td>\n",
       "      <td>6.0</td>\n",
       "    </tr>\n",
       "    <tr>\n",
       "      <th>DIA_TOTAL</th>\n",
       "      <td>8139.0</td>\n",
       "      <td>822.537412</td>\n",
       "      <td>473.192550</td>\n",
       "      <td>1.0</td>\n",
       "      <td>414.0</td>\n",
       "      <td>822.0</td>\n",
       "      <td>1231.0</td>\n",
       "      <td>1642.0</td>\n",
       "    </tr>\n",
       "    <tr>\n",
       "      <th>CLASE_ACCIDENTE_caida ocupante</th>\n",
       "      <td>8139.0</td>\n",
       "      <td>0.201499</td>\n",
       "      <td>0.401144</td>\n",
       "      <td>0.0</td>\n",
       "      <td>0.0</td>\n",
       "      <td>0.0</td>\n",
       "      <td>0.0</td>\n",
       "      <td>1.0</td>\n",
       "    </tr>\n",
       "    <tr>\n",
       "      <th>CLASE_ACCIDENTE_choque</th>\n",
       "      <td>8139.0</td>\n",
       "      <td>0.201745</td>\n",
       "      <td>0.401327</td>\n",
       "      <td>0.0</td>\n",
       "      <td>0.0</td>\n",
       "      <td>0.0</td>\n",
       "      <td>0.0</td>\n",
       "      <td>1.0</td>\n",
       "    </tr>\n",
       "    <tr>\n",
       "      <th>CLASE_ACCIDENTE_incendio</th>\n",
       "      <td>8139.0</td>\n",
       "      <td>0.002457</td>\n",
       "      <td>0.049513</td>\n",
       "      <td>0.0</td>\n",
       "      <td>0.0</td>\n",
       "      <td>0.0</td>\n",
       "      <td>0.0</td>\n",
       "      <td>1.0</td>\n",
       "    </tr>\n",
       "    <tr>\n",
       "      <th>CLASE_ACCIDENTE_otro</th>\n",
       "      <td>8139.0</td>\n",
       "      <td>0.201622</td>\n",
       "      <td>0.401236</td>\n",
       "      <td>0.0</td>\n",
       "      <td>0.0</td>\n",
       "      <td>0.0</td>\n",
       "      <td>0.0</td>\n",
       "      <td>1.0</td>\n",
       "    </tr>\n",
       "    <tr>\n",
       "      <th>CLASE_ACCIDENTE_volcamiento</th>\n",
       "      <td>8139.0</td>\n",
       "      <td>0.191178</td>\n",
       "      <td>0.393253</td>\n",
       "      <td>0.0</td>\n",
       "      <td>0.0</td>\n",
       "      <td>0.0</td>\n",
       "      <td>0.0</td>\n",
       "      <td>1.0</td>\n",
       "    </tr>\n",
       "  </tbody>\n",
       "</table>\n",
       "</div>"
      ],
      "text/plain": [
       "                                 count         mean         std     min  \\\n",
       "DIA_FESTIVO                     8139.0     0.048777    0.215416     0.0   \n",
       "SIGIENTE_DIA_FESTIVO            8139.0     0.048286    0.214383     0.0   \n",
       "ANTERIOR_DIA_FESTIVO            8139.0     0.048777    0.215416     0.0   \n",
       "AÑO                             8139.0  2016.226809    1.309704  2014.0   \n",
       "DIA_DE_LA_SEMANA                8139.0     2.996560    1.999751     0.0   \n",
       "DIA_TOTAL                       8139.0   822.537412  473.192550     1.0   \n",
       "CLASE_ACCIDENTE_caida ocupante  8139.0     0.201499    0.401144     0.0   \n",
       "CLASE_ACCIDENTE_choque          8139.0     0.201745    0.401327     0.0   \n",
       "CLASE_ACCIDENTE_incendio        8139.0     0.002457    0.049513     0.0   \n",
       "CLASE_ACCIDENTE_otro            8139.0     0.201622    0.401236     0.0   \n",
       "CLASE_ACCIDENTE_volcamiento     8139.0     0.191178    0.393253     0.0   \n",
       "\n",
       "                                   25%     50%     75%     max  \n",
       "DIA_FESTIVO                        0.0     0.0     0.0     1.0  \n",
       "SIGIENTE_DIA_FESTIVO               0.0     0.0     0.0     1.0  \n",
       "ANTERIOR_DIA_FESTIVO               0.0     0.0     0.0     1.0  \n",
       "AÑO                             2015.0  2016.0  2017.0  2018.0  \n",
       "DIA_DE_LA_SEMANA                   1.0     3.0     5.0     6.0  \n",
       "DIA_TOTAL                        414.0   822.0  1231.0  1642.0  \n",
       "CLASE_ACCIDENTE_caida ocupante     0.0     0.0     0.0     1.0  \n",
       "CLASE_ACCIDENTE_choque             0.0     0.0     0.0     1.0  \n",
       "CLASE_ACCIDENTE_incendio           0.0     0.0     0.0     1.0  \n",
       "CLASE_ACCIDENTE_otro               0.0     0.0     0.0     1.0  \n",
       "CLASE_ACCIDENTE_volcamiento        0.0     0.0     0.0     1.0  "
      ]
     },
     "execution_count": 36,
     "metadata": {},
     "output_type": "execute_result"
    }
   ],
   "source": [
    "train_stats = train.describe()\n",
    "train_stats.pop(\"CANTIDAD\")\n",
    "train_stats = train_stats.transpose()\n",
    "train_stats"
   ]
  },
  {
   "cell_type": "code",
   "execution_count": 37,
   "id": "25fdddde",
   "metadata": {},
   "outputs": [],
   "source": [
    "def norm(x):\n",
    "  return (x - train_stats['mean']) / train_stats['std']\n",
    "normed_train_data = norm(X_train)\n",
    "normed_test_data = norm(Y_test)"
   ]
  },
  {
   "cell_type": "code",
   "execution_count": 1,
   "id": "8cf11f80",
   "metadata": {},
   "outputs": [],
   "source": [
    "def build_model():\n",
    "  model = keras.Sequential([\n",
    "    layers.Dense(64, activation='relu', input_shape=[len(X_train.keys())]),\n",
    "    \n",
    "    \n",
    "    layers.Dense(1)\n",
    "  ])\n",
    "\n",
    "  optimizer = tf.keras.optimizers.RMSprop(0.001)\n",
    "\n",
    "  model.compile(loss='mean_absolute_percentage_error',\n",
    "                optimizer=\"adam\",\n",
    "                metrics=['mae', 'mse',\"mean_absolute_percentage_error\"])\n",
    "  return model"
   ]
  },
  {
   "cell_type": "code",
   "execution_count": 2,
   "id": "512dfa69",
   "metadata": {},
   "outputs": [
    {
     "ename": "NameError",
     "evalue": "name 'keras' is not defined",
     "output_type": "error",
     "traceback": [
      "\u001b[1;31m---------------------------------------------------------------------------\u001b[0m",
      "\u001b[1;31mNameError\u001b[0m                                 Traceback (most recent call last)",
      "\u001b[1;32m~\\AppData\\Local\\Temp\\ipykernel_20040\\1343410466.py\u001b[0m in \u001b[0;36m<module>\u001b[1;34m\u001b[0m\n\u001b[1;32m----> 1\u001b[1;33m \u001b[0mmodel\u001b[0m \u001b[1;33m=\u001b[0m \u001b[0mbuild_model\u001b[0m\u001b[1;33m(\u001b[0m\u001b[1;33m)\u001b[0m\u001b[1;33m\u001b[0m\u001b[1;33m\u001b[0m\u001b[0m\n\u001b[0m\u001b[0;32m      2\u001b[0m \u001b[0mmodel\u001b[0m\u001b[1;33m.\u001b[0m\u001b[0msummary\u001b[0m\u001b[1;33m(\u001b[0m\u001b[1;33m)\u001b[0m\u001b[1;33m\u001b[0m\u001b[1;33m\u001b[0m\u001b[0m\n",
      "\u001b[1;32m~\\AppData\\Local\\Temp\\ipykernel_20040\\1383062802.py\u001b[0m in \u001b[0;36mbuild_model\u001b[1;34m()\u001b[0m\n\u001b[0;32m      1\u001b[0m \u001b[1;32mdef\u001b[0m \u001b[0mbuild_model\u001b[0m\u001b[1;33m(\u001b[0m\u001b[1;33m)\u001b[0m\u001b[1;33m:\u001b[0m\u001b[1;33m\u001b[0m\u001b[1;33m\u001b[0m\u001b[0m\n\u001b[1;32m----> 2\u001b[1;33m   model = keras.Sequential([\n\u001b[0m\u001b[0;32m      3\u001b[0m     \u001b[0mlayers\u001b[0m\u001b[1;33m.\u001b[0m\u001b[0mDense\u001b[0m\u001b[1;33m(\u001b[0m\u001b[1;36m64\u001b[0m\u001b[1;33m,\u001b[0m \u001b[0mactivation\u001b[0m\u001b[1;33m=\u001b[0m\u001b[1;34m'relu'\u001b[0m\u001b[1;33m,\u001b[0m \u001b[0minput_shape\u001b[0m\u001b[1;33m=\u001b[0m\u001b[1;33m[\u001b[0m\u001b[0mlen\u001b[0m\u001b[1;33m(\u001b[0m\u001b[0mX_train\u001b[0m\u001b[1;33m.\u001b[0m\u001b[0mkeys\u001b[0m\u001b[1;33m(\u001b[0m\u001b[1;33m)\u001b[0m\u001b[1;33m)\u001b[0m\u001b[1;33m]\u001b[0m\u001b[1;33m)\u001b[0m\u001b[1;33m,\u001b[0m\u001b[1;33m\u001b[0m\u001b[1;33m\u001b[0m\u001b[0m\n\u001b[0;32m      4\u001b[0m \u001b[1;33m\u001b[0m\u001b[0m\n\u001b[0;32m      5\u001b[0m \u001b[1;33m\u001b[0m\u001b[0m\n",
      "\u001b[1;31mNameError\u001b[0m: name 'keras' is not defined"
     ]
    }
   ],
   "source": [
    "model = build_model()\n",
    "model.summary()"
   ]
  },
  {
   "cell_type": "code",
   "execution_count": 40,
   "id": "138cb98e",
   "metadata": {},
   "outputs": [
    {
     "data": {
      "text/plain": [
       "array([[-0.2502415 ],\n",
       "       [-0.46379146],\n",
       "       [-0.64627963],\n",
       "       [-0.4520113 ],\n",
       "       [-0.53508127],\n",
       "       [-0.6522737 ],\n",
       "       [-0.6356083 ],\n",
       "       [-0.80965346],\n",
       "       [-0.65405226],\n",
       "       [-0.680505  ]], dtype=float32)"
      ]
     },
     "execution_count": 40,
     "metadata": {},
     "output_type": "execute_result"
    }
   ],
   "source": [
    "example_batch = normed_train_data[:10]\n",
    "example_result = model.predict(example_batch)\n",
    "example_result"
   ]
  },
  {
   "cell_type": "code",
   "execution_count": 53,
   "id": "faec9a67",
   "metadata": {},
   "outputs": [
    {
     "name": "stdout",
     "output_type": "stream",
     "text": [
      "\n",
      " 0 {'loss': 34.23952865600586, 'mae': 5.044826984405518, 'mse': 65.584716796875, 'mean_absolute_percentage_error': 34.23952865600586}\n",
      "....................................................................................................\n",
      " 100 {'loss': 34.078548431396484, 'mae': 5.051471710205078, 'mse': 65.79812622070312, 'mean_absolute_percentage_error': 34.078548431396484}\n",
      "....................................................................................................\n",
      " 200 {'loss': 34.1243782043457, 'mae': 5.064464569091797, 'mse': 66.24626922607422, 'mean_absolute_percentage_error': 34.1243782043457}\n",
      "....................................................................................................\n",
      " 300 {'loss': 34.0118293762207, 'mae': 5.008752822875977, 'mse': 64.0704345703125, 'mean_absolute_percentage_error': 34.0118293762207}\n",
      "....................................................................................................\n",
      " 400 {'loss': 34.176700592041016, 'mae': 5.003462791442871, 'mse': 64.50847625732422, 'mean_absolute_percentage_error': 34.176700592041016}\n",
      "....................................................................................................\n",
      " 500 {'loss': 33.94302749633789, 'mae': 4.981774806976318, 'mse': 63.77432632446289, 'mean_absolute_percentage_error': 33.94302749633789}\n",
      "....................................................................................................\n",
      " 600 {'loss': 33.97727584838867, 'mae': 4.902822017669678, 'mse': 60.51179885864258, 'mean_absolute_percentage_error': 33.97727584838867}\n",
      "....................................................................................................\n",
      " 700 {'loss': 34.044132232666016, 'mae': 4.995543003082275, 'mse': 64.09358215332031, 'mean_absolute_percentage_error': 34.044132232666016}\n",
      "....................................................................................................\n",
      " 800 {'loss': 33.7602653503418, 'mae': 5.01718282699585, 'mse': 64.24919891357422, 'mean_absolute_percentage_error': 33.7602653503418}\n",
      "....................................................................................................\n",
      " 900 {'loss': 33.796363830566406, 'mae': 4.962739944458008, 'mse': 62.82389831542969, 'mean_absolute_percentage_error': 33.796363830566406}\n",
      "...................................................................................................."
     ]
    }
   ],
   "source": [
    "class PrintDot(keras.callbacks.Callback):\n",
    "  def on_epoch_end(self, epoch, logs):\n",
    "    if epoch % 100 == 0: print(\"\\n\",epoch,logs)\n",
    "    print('.', end='')\n",
    "\n",
    "EPOCHS = 1000\n",
    "\n",
    "history = model.fit(\n",
    "  normed_train_data, Y_train,\n",
    "  epochs=EPOCHS, validation_split = 0, verbose=0,\n",
    "  callbacks=[PrintDot()])"
   ]
  },
  {
   "cell_type": "code",
   "execution_count": 42,
   "id": "2d63a149",
   "metadata": {},
   "outputs": [
    {
     "data": {
      "text/html": [
       "<div>\n",
       "<style scoped>\n",
       "    .dataframe tbody tr th:only-of-type {\n",
       "        vertical-align: middle;\n",
       "    }\n",
       "\n",
       "    .dataframe tbody tr th {\n",
       "        vertical-align: top;\n",
       "    }\n",
       "\n",
       "    .dataframe thead th {\n",
       "        text-align: right;\n",
       "    }\n",
       "</style>\n",
       "<table border=\"1\" class=\"dataframe\">\n",
       "  <thead>\n",
       "    <tr style=\"text-align: right;\">\n",
       "      <th></th>\n",
       "      <th>loss</th>\n",
       "      <th>mae</th>\n",
       "      <th>mse</th>\n",
       "      <th>mean_absolute_percentage_error</th>\n",
       "      <th>epoch</th>\n",
       "    </tr>\n",
       "  </thead>\n",
       "  <tbody>\n",
       "    <tr>\n",
       "      <th>995</th>\n",
       "      <td>34.132874</td>\n",
       "      <td>5.024364</td>\n",
       "      <td>64.046349</td>\n",
       "      <td>34.132874</td>\n",
       "      <td>995</td>\n",
       "    </tr>\n",
       "    <tr>\n",
       "      <th>996</th>\n",
       "      <td>34.272755</td>\n",
       "      <td>5.037130</td>\n",
       "      <td>66.535622</td>\n",
       "      <td>34.272755</td>\n",
       "      <td>996</td>\n",
       "    </tr>\n",
       "    <tr>\n",
       "      <th>997</th>\n",
       "      <td>34.180283</td>\n",
       "      <td>5.066350</td>\n",
       "      <td>65.243805</td>\n",
       "      <td>34.180283</td>\n",
       "      <td>997</td>\n",
       "    </tr>\n",
       "    <tr>\n",
       "      <th>998</th>\n",
       "      <td>34.118473</td>\n",
       "      <td>5.064072</td>\n",
       "      <td>65.990898</td>\n",
       "      <td>34.118473</td>\n",
       "      <td>998</td>\n",
       "    </tr>\n",
       "    <tr>\n",
       "      <th>999</th>\n",
       "      <td>34.232449</td>\n",
       "      <td>5.044401</td>\n",
       "      <td>65.252777</td>\n",
       "      <td>34.232449</td>\n",
       "      <td>999</td>\n",
       "    </tr>\n",
       "  </tbody>\n",
       "</table>\n",
       "</div>"
      ],
      "text/plain": [
       "          loss       mae        mse  mean_absolute_percentage_error  epoch\n",
       "995  34.132874  5.024364  64.046349                       34.132874    995\n",
       "996  34.272755  5.037130  66.535622                       34.272755    996\n",
       "997  34.180283  5.066350  65.243805                       34.180283    997\n",
       "998  34.118473  5.064072  65.990898                       34.118473    998\n",
       "999  34.232449  5.044401  65.252777                       34.232449    999"
      ]
     },
     "execution_count": 42,
     "metadata": {},
     "output_type": "execute_result"
    }
   ],
   "source": [
    "hist = pd.DataFrame(history.history)\n",
    "hist['epoch'] = history.epoch\n",
    "hist.tail()"
   ]
  },
  {
   "cell_type": "code",
   "execution_count": 43,
   "id": "2fbeccf0",
   "metadata": {},
   "outputs": [],
   "source": [
    "\n",
    "from sklearn.metrics import r2_score\n",
    "# Evalúe el modelo con los conjuntos de entrenamiento y prueba.\n",
    "Y_train_pred = model.predict(X_train)\n",
    "Y_test_pred = model.predict(X_test)\n",
    "\n",
    "    # Compute el error cuadratico medio de entrenamiento y prueba. Redondee los\n",
    "    # valores a dos decimales.\n",
    "\n",
    "mse_train = r2_score(\n",
    "        Y_train,\n",
    "        Y_train_pred,\n",
    "    ).round(2)\n",
    "\n",
    "mse_test = r2_score(\n",
    "        Y_test,\n",
    "        Y_test_pred,\n",
    "    ).round(2)"
   ]
  },
  {
   "cell_type": "code",
   "execution_count": 44,
   "id": "a9d3eb3b",
   "metadata": {},
   "outputs": [
    {
     "name": "stdout",
     "output_type": "stream",
     "text": [
      "0.8 0.92\n"
     ]
    }
   ],
   "source": [
    "print(mse_test,mse_train)"
   ]
  },
  {
   "cell_type": "code",
   "execution_count": 45,
   "id": "b4b89287",
   "metadata": {},
   "outputs": [
    {
     "name": "stdout",
     "output_type": "stream",
     "text": [
      "255/255 [==============================] - 1s 2ms/step - loss: 33.2500 - mae: 5.0421 - mse: 65.9206 - mean_absolute_percentage_error: 33.2500\n"
     ]
    },
    {
     "data": {
      "text/plain": [
       "[33.25001907348633, 5.042057037353516, 65.9205551147461, 33.25001907348633]"
      ]
     },
     "execution_count": 45,
     "metadata": {},
     "output_type": "execute_result"
    }
   ],
   "source": [
    "error=tf.keras.metrics.mean_absolute_percentage_error(\n",
    "    Y_train, Y_train_pred)\n",
    "model.evaluate(X_train,Y_train)"
   ]
  },
  {
   "cell_type": "code",
   "execution_count": 46,
   "id": "19e7638f",
   "metadata": {},
   "outputs": [
    {
     "data": {
      "image/png": "[encoded data removed]",
      "text/plain": [
       "<Figure size 640x480 with 1 Axes>"
      ]
     },
     "metadata": {},
     "output_type": "display_data"
    },
    {
     "data": {
      "image/png": "[encoded data removed]",
      "text/plain": [
       "<Figure size 640x480 with 1 Axes>"
      ]
     },
     "metadata": {},
     "output_type": "display_data"
    },
    {
     "data": {
      "image/png": "[encoded data removed]",
      "text/plain": [
       "<Figure size 640x480 with 1 Axes>"
      ]
     },
     "metadata": {},
     "output_type": "display_data"
    }
   ],
   "source": [
    "def plot_history(history):\n",
    "  hist = pd.DataFrame(history.history)\n",
    "  hist['epoch'] = history.epoch\n",
    "\n",
    "  plt.figure()\n",
    "  plt.xlabel('Epoch')\n",
    "  plt.ylabel('Mean Abs Error [MPG]')\n",
    "  plt.plot(hist['epoch'], hist['mae'],\n",
    "           label='Train Error')\n",
    "  #plt.plot(hist['epoch'], hist['val_mae'],\n",
    "  #         label = 'Val Error')\n",
    "  #plt.ylim([0,5])\n",
    "  plt.legend()\n",
    "\n",
    "  plt.figure()\n",
    "  plt.xlabel('Epoch')\n",
    "  plt.ylabel('Mean Square Error [$MPG^2$]')\n",
    "  plt.plot(hist['epoch'], hist['mse'],\n",
    "           label='Train Error')\n",
    "  #plt.plot(hist['epoch'], hist['val_mse'],\n",
    "  #         label = 'Val Error')\n",
    "  #plt.ylim([0,20])\n",
    "  plt.legend()\n",
    "  plt.figure()\n",
    "  plt.xlabel('Epoch')\n",
    "  plt.ylabel('accuracy')\n",
    "  plt.plot(hist['epoch'], hist['mean_absolute_percentage_error'],\n",
    "           label='Train Error')\n",
    "  #plt.plot(hist['epoch'], hist['val_mse'],\n",
    "  #         label = 'Val Error')\n",
    "  #plt.ylim([0,20])\n",
    "  plt.legend()\n",
    "  plt.show()\n",
    "\n",
    "\n",
    "plot_history(history)\n"
   ]
  },
  {
   "cell_type": "code",
   "execution_count": 47,
   "id": "4bd45545",
   "metadata": {},
   "outputs": [
    {
     "name": "stdout",
     "output_type": "stream",
     "text": [
      "\n",
      " 0 {'loss': 33.56283187866211, 'mae': 5.098353385925293, 'mse': 66.74028015136719, 'mean_absolute_percentage_error': 33.56283187866211, 'val_loss': 36.4306755065918, 'val_mae': 4.662623882293701, 'val_mse': 58.64480972290039, 'val_mean_absolute_percentage_error': 36.4306755065918}\n",
      "..........."
     ]
    },
    {
     "data": {
      "image/png": "[encoded data removed]",
      "text/plain": [
       "<Figure size 640x480 with 1 Axes>"
      ]
     },
     "metadata": {},
     "output_type": "display_data"
    },
    {
     "data": {
      "image/png": "[encoded data removed]",
      "text/plain": [
       "<Figure size 640x480 with 1 Axes>"
      ]
     },
     "metadata": {},
     "output_type": "display_data"
    },
    {
     "data": {
      "image/png": "[encoded data removed]",
      "text/plain": [
       "<Figure size 640x480 with 1 Axes>"
      ]
     },
     "metadata": {},
     "output_type": "display_data"
    }
   ],
   "source": [
    "early_stop = keras.callbacks.EarlyStopping(monitor='val_loss', patience=10)\n",
    "\n",
    "history = model.fit(normed_train_data, Y_train, epochs=EPOCHS,\n",
    "                    validation_split = 0.2, verbose=0, callbacks=[early_stop, PrintDot()])\n",
    "\n",
    "plot_history(history)"
   ]
  },
  {
   "cell_type": "code",
   "execution_count": 48,
   "id": "b6deb473",
   "metadata": {},
   "outputs": [],
   "source": [
    "#model.save('modelodias.h5')"
   ]
  },
  {
   "cell_type": "code",
   "execution_count": 49,
   "id": "7c7e6698",
   "metadata": {},
   "outputs": [],
   "source": [
    "from sklearn.metrics import mean_absolute_error\n",
    "\n",
    "mae_train = mean_absolute_error(\n",
    "        Y_train,\n",
    "        Y_train_pred,\n",
    "    ).round(2)\n",
    "\n",
    "mae_test = mean_absolute_error(\n",
    "        Y_test,\n",
    "        Y_test_pred,\n",
    "    ).round(2)"
   ]
  },
  {
   "cell_type": "code",
   "execution_count": 50,
   "id": "68f096b0",
   "metadata": {},
   "outputs": [
    {
     "name": "stdout",
     "output_type": "stream",
     "text": [
      "5.04 7.12\n"
     ]
    }
   ],
   "source": [
    "print(mae_train,mae_test)"
   ]
  },
  {
   "cell_type": "code",
   "execution_count": 51,
   "id": "49dc6939",
   "metadata": {},
   "outputs": [],
   "source": [
    "from sklearn.metrics import mean_absolute_percentage_error\n",
    "mape_train = mean_absolute_percentage_error(\n",
    "        Y_train,\n",
    "        Y_train_pred,\n",
    "    ).round(2)\n",
    "\n",
    "mape_test = mean_absolute_percentage_error(\n",
    "        Y_test,\n",
    "        Y_test_pred,\n",
    "    ).round(2)"
   ]
  },
  {
   "cell_type": "code",
   "execution_count": 52,
   "id": "4275d95a",
   "metadata": {},
   "outputs": [
    {
     "name": "stdout",
     "output_type": "stream",
     "text": [
      "0.33 0.56\n"
     ]
    }
   ],
   "source": [
    "print(mape_train,mape_test)"
   ]
  },
  {
   "cell_type": "code",
   "execution_count": null,
   "id": "7ed128ac",
   "metadata": {},
   "outputs": [],
   "source": []
  }
 ],
 "metadata": {
  "kernelspec": {
   "display_name": "Python 3 (ipykernel)",
   "language": "python",
   "name": "python3"
  },
  "language_info": {
   "codemirror_mode": {
    "name": "ipython",
    "version": 3
   },
   "file_extension": ".py",
   "mimetype": "text/x-python",
   "name": "python",
   "nbconvert_exporter": "python",
   "pygments_lexer": "ipython3",
   "version": "3.7.13"
  }
 },
 "nbformat": 4,
 "nbformat_minor": 5
}
